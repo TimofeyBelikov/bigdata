{
 "cells": [
  {
   "cell_type": "code",
   "execution_count": 1,
   "metadata": {},
   "outputs": [],
   "source": [
    "import matplotlib\n",
    "import matplotlib.pyplot as plt\n",
    "import numpy as np"
   ]
  },
  {
   "cell_type": "code",
   "execution_count": 2,
   "metadata": {},
   "outputs": [],
   "source": [
    "a = np.array([0, 1, 2, 3, 4, 5, 6])\n",
    "b = np.array([2, 4, 4, 3, 0, -3, 0])"
   ]
  },
  {
   "cell_type": "code",
   "execution_count": 3,
   "metadata": {},
   "outputs": [
    {
     "data": {
      "image/png": "[encoded data removed]",
      "text/plain": [
       "<Figure size 432x288 with 1 Axes>"
      ]
     },
     "metadata": {
      "needs_background": "light"
     },
     "output_type": "display_data"
    }
   ],
   "source": [
    "plt.figure() # Создание объекта Figure\n",
    "plt.plot(a, b)\n",
    "plt.show()"
   ]
  },
  {
   "cell_type": "markdown",
   "metadata": {},
   "source": [
    "# Plotly"
   ]
  },
  {
   "cell_type": "code",
   "execution_count": 4,
   "metadata": {},
   "outputs": [],
   "source": [
    "import plotly.graph_objects as go\n",
    "import plotly.express as px"
   ]
  },
  {
   "cell_type": "code",
   "execution_count": 20,
   "metadata": {},
   "outputs": [
    {
     "data": {
      "text/html": [
       "<div>\n",
       "<style scoped>\n",
       "    .dataframe tbody tr th:only-of-type {\n",
       "        vertical-align: middle;\n",
       "    }\n",
       "\n",
       "    .dataframe tbody tr th {\n",
       "        vertical-align: top;\n",
       "    }\n",
       "\n",
       "    .dataframe thead th {\n",
       "        text-align: right;\n",
       "    }\n",
       "</style>\n",
       "<table border=\"1\" class=\"dataframe\">\n",
       "  <thead>\n",
       "    <tr style=\"text-align: right;\">\n",
       "      <th></th>\n",
       "      <th>Date</th>\n",
       "      <th>GLD</th>\n",
       "    </tr>\n",
       "  </thead>\n",
       "  <tbody>\n",
       "    <tr>\n",
       "      <th>0</th>\n",
       "      <td>1/2/2008</td>\n",
       "      <td>84.860001</td>\n",
       "    </tr>\n",
       "    <tr>\n",
       "      <th>1</th>\n",
       "      <td>1/3/2008</td>\n",
       "      <td>85.570000</td>\n",
       "    </tr>\n",
       "    <tr>\n",
       "      <th>2</th>\n",
       "      <td>1/4/2008</td>\n",
       "      <td>85.129997</td>\n",
       "    </tr>\n",
       "    <tr>\n",
       "      <th>3</th>\n",
       "      <td>1/7/2008</td>\n",
       "      <td>84.769997</td>\n",
       "    </tr>\n",
       "    <tr>\n",
       "      <th>4</th>\n",
       "      <td>1/8/2008</td>\n",
       "      <td>86.779999</td>\n",
       "    </tr>\n",
       "  </tbody>\n",
       "</table>\n",
       "</div>"
      ],
      "text/plain": [
       "       Date        GLD\n",
       "0  1/2/2008  84.860001\n",
       "1  1/3/2008  85.570000\n",
       "2  1/4/2008  85.129997\n",
       "3  1/7/2008  84.769997\n",
       "4  1/8/2008  86.779999"
      ]
     },
     "execution_count": 20,
     "metadata": {},
     "output_type": "execute_result"
    }
   ],
   "source": [
    "import pandas as pd\n",
    "data = pd.read_csv('goldprices.csv')[['Date', 'GLD']]\n",
    "data.head()"
   ]
  },
  {
   "cell_type": "code",
   "execution_count": 23,
   "metadata": {},
   "outputs": [
    {
     "data": {
      "application/vnd.plotly.v1+json": {
       "config": {
        "plotlyServerURL": "https://plot.ly"
       },
       "data": [
        {
         "hovertemplate": "Date=%{x}<br>GLD=%{y}<extra></extra>",
         "legendgroup": "",
         "line": {
          "color": "#636efa",
          "dash": "solid"
         },
         "marker": {
          "symbol": "circle"
         },
         "mode": "lines",
         "name": "",
         "showlegend": false,
         "type": "scattergl",
         "x": [
          "1/2/2008",
          "1/3/2008",
          "1/4/2008",
          "1/7/2008",
          "1/8/2008",
          "1/9/2008",
          "1/10/2008",
          "1/11/2008",
          "1/14/2008",
          "1/15/2008",
          "1/16/2008",
          "1/17/2008",
          "1/18/2008",
          "1/22/2008",
          "1/23/2008",
          "1/24/2008",
          "1/25/2008",
          "1/28/2008",
          "1/29/2008",
          "1/30/2008",
          "1/31/2008",
          "2/1/2008",
          "2/4/2008",
          "2/5/2008",
          "2/6/2008",
          "2/7/2008",
          "2/8/2008",
          "2/11/2008",
          "2/12/2008",
          "2/13/2008",
          "2/14/2008",
          "2/15/2008",
          "2/19/2008",
          "2/20/2008",
          "2/21/2008",
          "2/22/2008",
          "2/25/2008",
          "2/26/2008",
          "2/27/2008",
          "2/28/2008",
          "2/29/2008",
          "3/3/2008",
          "3/4/2008",
          "3/5/2008",
          "3/6/2008",
          "3/7/2008",
          "3/10/2008",
          "3/11/2008",
          "3/12/2008",
          "3/13/2008",
          "3/14/2008",
          "3/17/2008",
          "3/18/2008",
          "3/19/2008",
          "3/20/2008",
          "3/24/2008",
          "3/25/2008",
          "3/26/2008",
          "3/27/2008",
          "3/28/2008",
          "4/1/2008",
          "4/2/2008",
          "4/3/2008",
          "4/7/2008",
          "4/8/2008",
          "4/9/2008",
          "4/10/2008",
          "4/14/2008",
          "4/15/2008",
          "4/16/2008",
          "4/17/2008",
          "4/21/2008",
          "4/22/2008",
          "4/23/2008",
          "4/24/2008",
          "4/28/2008",
          "4/29/2008",
          "5/1/2008",
          "5/5/2008",
          "5/6/2008",
          "5/7/2008",
          "5/8/2008",
          "5/12/2008",
          "5/13/2008",
          "5/14/2008",
          "5/15/2008",
          "5/19/2008",
          "5/20/2008",
          "5/21/2008",
          "5/22/2008",
          "5/27/2008",
          "5/28/2008",
          "5/29/2008",
          "6/2/2008",
          "6/3/2008",
          "6/4/2008",
          "6/5/2008",
          "6/9/2008",
          "6/10/2008",
          "6/11/2008",
          "6/12/2008",
          "6/16/2008",
          "6/17/2008",
          "6/18/2008",
          "6/19/2008",
          "6/23/2008",
          "6/24/2008",
          "6/25/2008",
          "6/26/2008",
          "7/1/2008",
          "7/2/2008",
          "7/3/2008",
          "7/7/2008",
          "7/8/2008",
          "7/9/2008",
          "7/10/2008",
          "7/14/2008",
          "7/15/2008",
          "7/16/2008",
          "7/17/2008",
          "7/21/2008",
          "7/22/2008",
          "7/23/2008",
          "7/24/2008",
          "7/28/2008",
          "7/29/2008",
          "7/30/2008",
          "8/7/2008",
          "8/25/2008",
          "8/26/2008",
          "8/27/2008",
          "8/28/2008",
          "9/2/2008",
          "9/3/2008",
          "9/4/2008",
          "9/8/2008",
          "9/9/2008",
          "9/10/2008",
          "9/11/2008",
          "9/15/2008",
          "9/16/2008",
          "9/17/2008",
          "9/18/2008",
          "9/22/2008",
          "9/23/2008",
          "9/24/2008",
          "9/25/2008",
          "9/29/2008",
          "9/30/2008",
          "10/1/2008",
          "10/2/2008",
          "10/6/2008",
          "10/7/2008",
          "10/8/2008",
          "10/9/2008",
          "10/13/2008",
          "10/14/2008",
          "10/15/2008",
          "10/16/2008",
          "10/20/2008",
          "10/21/2008",
          "10/22/2008",
          "10/23/2008",
          "10/27/2008",
          "10/28/2008",
          "10/29/2008",
          "10/30/2008",
          "10/31/2008",
          "11/3/2008",
          "11/4/2008",
          "11/5/2008",
          "11/6/2008",
          "11/7/2008",
          "11/10/2008",
          "11/11/2008",
          "11/12/2008",
          "11/13/2008",
          "11/14/2008",
          "11/17/2008",
          "11/18/2008",
          "11/19/2008",
          "11/20/2008",
          "11/21/2008",
          "11/24/2008",
          "11/25/2008",
          "11/26/2008",
          "11/28/2008",
          "12/1/2008",
          "12/2/2008",
          "12/3/2008",
          "12/4/2008",
          "12/5/2008",
          "12/8/2008",
          "12/9/2008",
          "12/10/2008",
          "12/11/2008",
          "12/12/2008",
          "12/15/2008",
          "12/16/2008",
          "12/17/2008",
          "12/18/2008",
          "12/19/2008",
          "12/22/2008",
          "12/23/2008",
          "12/24/2008",
          "12/26/2008",
          "12/29/2008",
          "12/30/2008",
          "12/31/2008",
          "1/2/2009",
          "1/5/2009",
          "1/6/2009",
          "1/7/2009",
          "1/8/2009",
          "1/9/2009",
          "1/12/2009",
          "1/13/2009",
          "1/14/2009",
          "1/15/2009",
          "1/16/2009",
          "1/20/2009",
          "1/21/2009",
          "1/22/2009",
          "1/23/2009",
          "1/26/2009",
          "1/27/2009",
          "1/28/2009",
          "1/29/2009",
          "1/30/2009",
          "2/2/2009",
          "2/3/2009",
          "2/4/2009",
          "2/5/2009",
          "2/6/2009",
          "2/9/2009",
          "2/10/2009",
          "2/11/2009",
          "2/12/2009",
          "2/13/2009",
          "2/17/2009",
          "2/18/2009",
          "2/19/2009",
          "2/20/2009",
          "2/23/2009",
          "2/24/2009",
          "2/25/2009",
          "2/26/2009",
          "2/27/2009",
          "3/2/2009",
          "3/3/2009",
          "3/4/2009",
          "3/5/2009",
          "3/6/2009",
          "3/9/2009",
          "3/10/2009",
          "3/11/2009",
          "3/12/2009",
          "3/13/2009",
          "3/16/2009",
          "3/17/2009",
          "3/18/2009",
          "3/19/2009",
          "3/20/2009",
          "3/23/2009",
          "3/24/2009",
          "3/25/2009",
          "3/26/2009",
          "3/27/2009",
          "3/30/2009",
          "3/31/2009",
          "4/1/2009",
          "4/2/2009",
          "4/6/2009",
          "4/7/2009",
          "4/8/2009",
          "4/9/2009",
          "4/13/2009",
          "4/14/2009",
          "4/15/2009",
          "4/16/2009",
          "4/20/2009",
          "4/21/2009",
          "4/22/2009",
          "4/23/2009",
          "4/27/2009",
          "4/28/2009",
          "4/29/2009",
          "4/30/2009",
          "5/4/2009",
          "5/5/2009",
          "5/6/2009",
          "5/7/2009",
          "5/11/2009",
          "5/12/2009",
          "5/13/2009",
          "5/14/2009",
          "5/18/2009",
          "5/19/2009",
          "5/20/2009",
          "5/21/2009",
          "5/26/2009",
          "5/27/2009",
          "5/28/2009",
          "6/1/2009",
          "6/2/2009",
          "6/3/2009",
          "6/4/2009",
          "6/8/2009",
          "6/9/2009",
          "6/10/2009",
          "6/11/2009",
          "6/15/2009",
          "6/16/2009",
          "6/17/2009",
          "6/18/2009",
          "6/22/2009",
          "6/23/2009",
          "6/24/2009",
          "6/25/2009",
          "6/29/2009",
          "6/30/2009",
          "7/1/2009",
          "7/2/2009",
          "7/6/2009",
          "7/7/2009",
          "7/8/2009",
          "7/9/2009",
          "7/13/2009",
          "7/14/2009",
          "7/15/2009",
          "7/16/2009",
          "7/20/2009",
          "7/21/2009",
          "7/22/2009",
          "7/23/2009",
          "7/27/2009",
          "7/28/2009",
          "7/29/2009",
          "7/30/2009",
          "8/3/2009",
          "8/4/2009",
          "8/5/2009",
          "8/6/2009",
          "8/10/2009",
          "8/11/2009",
          "8/12/2009",
          "8/13/2009",
          "8/17/2009",
          "8/18/2009",
          "8/19/2009",
          "8/20/2009",
          "8/24/2009",
          "8/25/2009",
          "8/26/2009",
          "8/27/2009",
          "8/31/2009",
          "9/1/2009",
          "9/2/2009",
          "9/3/2009",
          "9/8/2009",
          "9/9/2009",
          "9/10/2009",
          "9/14/2009",
          "9/15/2009",
          "9/16/2009",
          "9/17/2009",
          "9/21/2009",
          "9/22/2009",
          "9/23/2009",
          "9/24/2009",
          "9/28/2009",
          "9/29/2009",
          "9/30/2009",
          "10/1/2009",
          "10/5/2009",
          "10/6/2009",
          "10/7/2009",
          "10/8/2009",
          "10/12/2009",
          "10/13/2009",
          "10/14/2009",
          "10/15/2009",
          "10/19/2009",
          "10/20/2009",
          "10/21/2009",
          "10/22/2009",
          "10/26/2009",
          "10/27/2009",
          "10/28/2009",
          "10/29/2009",
          "10/30/2009",
          "11/2/2009",
          "11/3/2009",
          "11/4/2009",
          "11/5/2009",
          "11/6/2009",
          "11/9/2009",
          "11/10/2009",
          "11/11/2009",
          "11/12/2009",
          "11/13/2009",
          "11/16/2009",
          "11/17/2009",
          "11/18/2009",
          "11/19/2009",
          "11/20/2009",
          "11/23/2009",
          "11/24/2009",
          "11/25/2009",
          "11/27/2009",
          "11/30/2009",
          "12/1/2009",
          "12/2/2009",
          "12/3/2009",
          "12/4/2009",
          "12/7/2009",
          "12/8/2009",
          "12/9/2009",
          "12/10/2009",
          "12/11/2009",
          "12/14/2009",
          "12/15/2009",
          "12/16/2009",
          "12/17/2009",
          "12/18/2009",
          "12/21/2009",
          "12/22/2009",
          "12/23/2009",
          "12/24/2009",
          "12/28/2009",
          "12/29/2009",
          "12/30/2009",
          "12/31/2009",
          "1/4/2010",
          "1/5/2010",
          "1/6/2010",
          "1/7/2010",
          "1/8/2010",
          "1/11/2010",
          "1/12/2010",
          "1/13/2010",
          "1/14/2010",
          "1/15/2010",
          "1/19/2010",
          "1/20/2010",
          "1/21/2010",
          "1/22/2010",
          "1/25/2010",
          "1/26/2010",
          "1/27/2010",
          "1/28/2010",
          "1/29/2010",
          "2/1/2010",
          "2/2/2010",
          "2/3/2010",
          "2/4/2010",
          "2/5/2010",
          "2/8/2010",
          "2/9/2010",
          "2/10/2010",
          "2/11/2010",
          "2/12/2010",
          "2/16/2010",
          "2/17/2010",
          "2/18/2010",
          "2/19/2010",
          "2/22/2010",
          "2/23/2010",
          "2/24/2010",
          "2/25/2010",
          "2/26/2010",
          "3/1/2010",
          "3/2/2010",
          "3/3/2010",
          "3/4/2010",
          "3/5/2010",
          "3/8/2010",
          "3/9/2010",
          "3/10/2010",
          "3/11/2010",
          "3/12/2010",
          "3/15/2010",
          "3/16/2010",
          "3/17/2010",
          "3/18/2010",
          "3/19/2010",
          "3/22/2010",
          "3/23/2010",
          "3/24/2010",
          "3/25/2010",
          "3/26/2010",
          "3/29/2010",
          "3/30/2010",
          "3/31/2010",
          "4/1/2010",
          "4/5/2010",
          "4/6/2010",
          "4/7/2010",
          "4/8/2010",
          "4/12/2010",
          "4/13/2010",
          "4/14/2010",
          "4/15/2010",
          "4/19/2010",
          "4/20/2010",
          "4/21/2010",
          "4/22/2010",
          "4/26/2010",
          "4/27/2010",
          "4/28/2010",
          "4/29/2010",
          "5/3/2010",
          "5/4/2010",
          "5/5/2010",
          "5/6/2010",
          "5/10/2010",
          "5/11/2010",
          "5/12/2010",
          "5/13/2010",
          "5/17/2010",
          "5/18/2010",
          "5/19/2010",
          "5/20/2010",
          "5/24/2010",
          "5/25/2010",
          "5/26/2010",
          "5/27/2010",
          "6/1/2010",
          "6/2/2010",
          "6/3/2010",
          "6/7/2010",
          "6/8/2010",
          "6/9/2010",
          "6/10/2010",
          "6/14/2010",
          "6/15/2010",
          "6/16/2010",
          "6/17/2010",
          "6/21/2010",
          "6/22/2010",
          "6/23/2010",
          "6/24/2010",
          "6/28/2010",
          "6/29/2010",
          "6/30/2010",
          "7/1/2010",
          "7/6/2010",
          "7/7/2010",
          "7/8/2010",
          "7/12/2010",
          "7/13/2010",
          "7/14/2010",
          "7/15/2010",
          "7/19/2010",
          "7/20/2010",
          "7/21/2010",
          "7/22/2010",
          "7/26/2010",
          "7/27/2010",
          "7/28/2010",
          "7/29/2010",
          "8/2/2010",
          "8/3/2010",
          "8/4/2010",
          "8/5/2010",
          "8/9/2010",
          "8/10/2010",
          "8/11/2010",
          "8/12/2010",
          "8/16/2010",
          "8/17/2010",
          "8/18/2010",
          "8/19/2010",
          "8/23/2010",
          "8/24/2010",
          "8/25/2010",
          "8/26/2010",
          "8/30/2010",
          "8/31/2010",
          "9/1/2010",
          "9/2/2010",
          "9/7/2010",
          "9/8/2010",
          "9/9/2010",
          "9/13/2010",
          "9/14/2010",
          "9/15/2010",
          "9/16/2010",
          "9/20/2010",
          "9/21/2010",
          "9/22/2010",
          "9/23/2010",
          "9/27/2010",
          "9/28/2010",
          "9/29/2010",
          "9/30/2010",
          "10/4/2010",
          "10/5/2010",
          "10/6/2010",
          "10/7/2010",
          "10/11/2010",
          "10/12/2010",
          "10/13/2010",
          "10/14/2010",
          "10/18/2010",
          "10/19/2010",
          "10/20/2010",
          "10/21/2010",
          "10/25/2010",
          "10/26/2010",
          "10/27/2010",
          "10/28/2010",
          "11/1/2010",
          "11/2/2010",
          "11/3/2010",
          "11/4/2010",
          "11/5/2010",
          "11/8/2010",
          "11/9/2010",
          "11/10/2010",
          "11/11/2010",
          "11/12/2010",
          "11/15/2010",
          "11/16/2010",
          "11/17/2010",
          "11/18/2010",
          "11/19/2010",
          "11/22/2010",
          "11/23/2010",
          "11/24/2010",
          "11/26/2010",
          "11/29/2010",
          "11/30/2010",
          "12/1/2010",
          "12/2/2010",
          "12/3/2010",
          "12/6/2010",
          "12/7/2010",
          "12/8/2010",
          "12/9/2010",
          "12/10/2010",
          "12/13/2010",
          "12/14/2010",
          "12/15/2010",
          "12/16/2010",
          "12/17/2010",
          "12/20/2010",
          "12/21/2010",
          "12/22/2010",
          "12/23/2010",
          "12/27/2010",
          "12/28/2010",
          "12/29/2010",
          "12/30/2010",
          "12/31/2010",
          "1/3/2011",
          "1/4/2011",
          "1/5/2011",
          "1/6/2011",
          "1/7/2011",
          "1/10/2011",
          "1/11/2011",
          "1/12/2011",
          "1/13/2011",
          "1/14/2011",
          "1/18/2011",
          "1/19/2011",
          "1/20/2011",
          "1/21/2011",
          "1/24/2011",
          "1/25/2011",
          "1/26/2011",
          "1/27/2011",
          "1/28/2011",
          "1/31/2011",
          "2/1/2011",
          "2/2/2011",
          "2/3/2011",
          "2/4/2011",
          "2/7/2011",
          "2/8/2011",
          "2/9/2011",
          "2/10/2011",
          "2/11/2011",
          "2/14/2011",
          "2/15/2011",
          "2/16/2011",
          "2/17/2011",
          "2/18/2011",
          "2/22/2011",
          "2/23/2011",
          "2/24/2011",
          "2/25/2011",
          "2/28/2011",
          "3/1/2011",
          "3/2/2011",
          "3/3/2011",
          "3/4/2011",
          "3/7/2011",
          "3/8/2011",
          "3/9/2011",
          "3/10/2011",
          "3/11/2011",
          "3/14/2011",
          "3/15/2011",
          "3/16/2011",
          "3/17/2011",
          "3/18/2011",
          "3/21/2011",
          "3/22/2011",
          "3/23/2011",
          "3/24/2011",
          "3/25/2011",
          "3/28/2011",
          "3/29/2011",
          "3/30/2011",
          "3/31/2011",
          "4/4/2011",
          "4/5/2011",
          "4/6/2011",
          "4/7/2011",
          "4/11/2011",
          "4/12/2011",
          "4/13/2011",
          "4/14/2011",
          "4/18/2011",
          "4/19/2011",
          "4/20/2011",
          "4/21/2011",
          "4/25/2011",
          "4/26/2011",
          "4/27/2011",
          "4/28/2011",
          "5/2/2011",
          "5/3/2011",
          "5/4/2011",
          "5/5/2011",
          "5/9/2011",
          "5/10/2011",
          "5/11/2011",
          "5/12/2011",
          "5/16/2011",
          "5/17/2011",
          "5/18/2011",
          "5/19/2011",
          "5/23/2011",
          "5/24/2011",
          "5/25/2011",
          "5/26/2011",
          "5/31/2011",
          "6/1/2011",
          "6/2/2011",
          "6/6/2011",
          "6/7/2011",
          "6/8/2011",
          "6/9/2011",
          "6/13/2011",
          "6/14/2011",
          "6/15/2011",
          "6/16/2011",
          "6/20/2011",
          "6/21/2011",
          "6/22/2011",
          "6/23/2011",
          "6/27/2011",
          "6/28/2011",
          "6/29/2011",
          "6/30/2011",
          "7/5/2011",
          "7/6/2011",
          "7/7/2011",
          "7/11/2011",
          "7/12/2011",
          "7/13/2011",
          "7/14/2011",
          "7/18/2011",
          "7/19/2011",
          "7/20/2011",
          "7/21/2011",
          "7/25/2011",
          "7/26/2011",
          "7/27/2011",
          "7/28/2011",
          "8/1/2011",
          "8/2/2011",
          "8/3/2011",
          "8/4/2011",
          "8/8/2011",
          "8/9/2011",
          "8/10/2011",
          "8/11/2011",
          "8/15/2011",
          "8/16/2011",
          "8/17/2011",
          "8/18/2011",
          "8/22/2011",
          "8/23/2011",
          "8/24/2011",
          "8/25/2011",
          "8/29/2011",
          "8/30/2011",
          "8/31/2011",
          "9/1/2011",
          "9/6/2011",
          "9/7/2011",
          "9/8/2011",
          "9/12/2011",
          "9/13/2011",
          "9/14/2011",
          "9/15/2011",
          "9/19/2011",
          "9/20/2011",
          "9/21/2011",
          "9/22/2011",
          "9/26/2011",
          "9/27/2011",
          "9/28/2011",
          "9/29/2011",
          "10/3/2011",
          "10/4/2011",
          "10/5/2011",
          "10/6/2011",
          "10/10/2011",
          "10/11/2011",
          "10/12/2011",
          "10/13/2011",
          "10/17/2011",
          "10/18/2011",
          "10/19/2011",
          "10/20/2011",
          "10/24/2011",
          "10/25/2011",
          "10/26/2011",
          "10/27/2011",
          "10/31/2011",
          "11/1/2011",
          "11/2/2011",
          "11/3/2011",
          "11/4/2011",
          "11/7/2011",
          "11/8/2011",
          "11/9/2011",
          "11/10/2011",
          "11/11/2011",
          "11/14/2011",
          "11/15/2011",
          "11/16/2011",
          "11/17/2011",
          "11/18/2011",
          "11/21/2011",
          "11/22/2011",
          "11/23/2011",
          "11/25/2011",
          "11/28/2011",
          "11/29/2011",
          "11/30/2011",
          "12/1/2011",
          "12/2/2011",
          "12/5/2011",
          "12/6/2011",
          "12/7/2011",
          "12/8/2011",
          "12/9/2011",
          "12/12/2011",
          "12/13/2011",
          "12/14/2011",
          "12/15/2011",
          "12/16/2011",
          "12/19/2011",
          "12/20/2011",
          "12/21/2011",
          "12/22/2011",
          "12/23/2011",
          "12/27/2011",
          "12/28/2011",
          "12/29/2011",
          "12/30/2011",
          "1/3/2012",
          "1/4/2012",
          "1/5/2012",
          "1/6/2012",
          "1/9/2012",
          "1/10/2012",
          "1/11/2012",
          "1/12/2012",
          "1/13/2012",
          "1/17/2012",
          "1/18/2012",
          "1/19/2012",
          "1/20/2012",
          "1/23/2012",
          "1/24/2012",
          "1/25/2012",
          "1/26/2012",
          "1/27/2012",
          "1/30/2012",
          "1/31/2012",
          "2/1/2012",
          "2/2/2012",
          "2/3/2012",
          "2/6/2012",
          "2/7/2012",
          "2/8/2012",
          "2/9/2012",
          "2/10/2012",
          "2/13/2012",
          "2/14/2012",
          "2/15/2012",
          "2/16/2012",
          "2/17/2012",
          "2/21/2012",
          "2/22/2012",
          "2/23/2012",
          "2/24/2012",
          "2/27/2012",
          "2/28/2012",
          "2/29/2012",
          "3/1/2012",
          "3/2/2012",
          "3/5/2012",
          "3/6/2012",
          "3/7/2012",
          "3/8/2012",
          "3/9/2012",
          "3/12/2012",
          "3/13/2012",
          "3/14/2012",
          "3/15/2012",
          "3/16/2012",
          "3/19/2012",
          "3/20/2012",
          "3/21/2012",
          "3/22/2012",
          "3/23/2012",
          "3/26/2012",
          "3/27/2012",
          "3/28/2012",
          "3/29/2012",
          "4/2/2012",
          "4/3/2012",
          "4/4/2012",
          "4/5/2012",
          "4/9/2012",
          "4/10/2012",
          "4/11/2012",
          "4/12/2012",
          "4/16/2012",
          "4/17/2012",
          "4/18/2012",
          "4/19/2012",
          "4/23/2012",
          "4/24/2012",
          "4/25/2012",
          "4/26/2012",
          "4/30/2012",
          "5/1/2012",
          "5/2/2012",
          "5/3/2012",
          "5/7/2012",
          "5/8/2012",
          "5/9/2012",
          "5/10/2012",
          "5/14/2012",
          "5/15/2012",
          "5/16/2012",
          "5/17/2012",
          "5/21/2012",
          "5/22/2012",
          "5/23/2012",
          "5/24/2012",
          "5/29/2012",
          "5/30/2012",
          "5/31/2012",
          "6/4/2012",
          "6/5/2012",
          "6/6/2012",
          "6/7/2012",
          "6/11/2012",
          "6/12/2012",
          "6/13/2012",
          "6/14/2012",
          "6/18/2012",
          "6/19/2012",
          "6/20/2012",
          "6/21/2012",
          "6/25/2012",
          "6/26/2012",
          "6/27/2012",
          "6/28/2012",
          "7/2/2012",
          "7/3/2012",
          "7/5/2012",
          "7/9/2012",
          "7/10/2012",
          "7/11/2012",
          "7/12/2012",
          "7/16/2012",
          "7/17/2012",
          "7/18/2012",
          "7/19/2012",
          "7/23/2012",
          "7/24/2012",
          "7/25/2012",
          "7/26/2012",
          "7/30/2012",
          "7/31/2012",
          "8/1/2012",
          "8/2/2012",
          "8/6/2012",
          "8/7/2012",
          "8/8/2012",
          "8/9/2012",
          "8/13/2012",
          "8/14/2012",
          "8/15/2012",
          "8/16/2012",
          "8/20/2012",
          "8/21/2012",
          "8/22/2012",
          "8/23/2012",
          "8/27/2012",
          "8/28/2012",
          "8/29/2012",
          "8/30/2012",
          "9/4/2012",
          "9/5/2012",
          "9/6/2012",
          "9/10/2012",
          "9/11/2012",
          "9/12/2012",
          "9/13/2012",
          "9/17/2012",
          "9/18/2012",
          "9/19/2012",
          "9/20/2012",
          "9/24/2012",
          "9/25/2012",
          "9/26/2012",
          "9/27/2012",
          "10/1/2012",
          "10/2/2012",
          "10/3/2012",
          "10/4/2012",
          "10/8/2012",
          "10/9/2012",
          "10/10/2012",
          "10/11/2012",
          "10/15/2012",
          "10/16/2012",
          "10/17/2012",
          "10/18/2012",
          "10/22/2012",
          "10/23/2012",
          "10/24/2012",
          "10/25/2012",
          "10/31/2012",
          "11/1/2012",
          "11/2/2012",
          "11/5/2012",
          "11/6/2012",
          "11/7/2012",
          "11/8/2012",
          "11/9/2012",
          "11/12/2012",
          "11/13/2012",
          "11/14/2012",
          "11/15/2012",
          "11/16/2012",
          "11/19/2012",
          "11/20/2012",
          "11/21/2012",
          "11/23/2012",
          "11/26/2012",
          "11/27/2012",
          "11/28/2012",
          "11/29/2012",
          "11/30/2012",
          "12/3/2012",
          "12/5/2012",
          "12/6/2012",
          "12/7/2012",
          "12/10/2012",
          "12/11/2012",
          "12/12/2012",
          "12/13/2012",
          "12/14/2012",
          "12/17/2012",
          "12/18/2012",
          "12/19/2012",
          "12/20/2012",
          "12/21/2012",
          "12/24/2012",
          "12/26/2012",
          "12/27/2012",
          "12/28/2012",
          "12/31/2012",
          "1/2/2013",
          "1/3/2013",
          "1/4/2013",
          "1/7/2013",
          "1/8/2013",
          "1/9/2013",
          "1/10/2013",
          "1/11/2013",
          "1/14/2013",
          "1/15/2013",
          "1/16/2013",
          "1/17/2013",
          "1/18/2013",
          "1/22/2013",
          "1/23/2013",
          "1/24/2013",
          "1/25/2013",
          "1/28/2013",
          "1/29/2013",
          "1/30/2013",
          "1/31/2013",
          "2/1/2013",
          "2/4/2013",
          "2/5/2013",
          "2/6/2013",
          "2/7/2013",
          "2/8/2013",
          "2/11/2013",
          "2/12/2013",
          "2/13/2013",
          "2/14/2013",
          "2/15/2013",
          "2/19/2013",
          "2/20/2013",
          "2/21/2013",
          "2/22/2013",
          "2/25/2013",
          "2/26/2013",
          "2/27/2013",
          "2/28/2013",
          "3/1/2013",
          "3/4/2013",
          "3/5/2013",
          "3/6/2013",
          "3/7/2013",
          "3/8/2013",
          "3/11/2013",
          "3/12/2013",
          "3/13/2013",
          "3/14/2013",
          "3/15/2013",
          "3/18/2013",
          "3/19/2013",
          "3/20/2013",
          "3/21/2013",
          "3/22/2013",
          "3/25/2013",
          "3/26/2013",
          "3/27/2013",
          "3/28/2013",
          "4/1/2013",
          "4/2/2013",
          "4/3/2013",
          "4/4/2013",
          "4/8/2013",
          "4/9/2013",
          "4/10/2013",
          "4/11/2013",
          "4/15/2013",
          "4/16/2013",
          "4/17/2013",
          "4/18/2013",
          "4/22/2013",
          "4/23/2013",
          "4/24/2013",
          "4/25/2013",
          "4/29/2013",
          "4/30/2013",
          "5/1/2013",
          "5/2/2013",
          "5/6/2013",
          "5/7/2013",
          "5/8/2013",
          "5/9/2013",
          "5/13/2013",
          "5/14/2013",
          "5/15/2013",
          "5/16/2013",
          "5/20/2013",
          "5/21/2013",
          "5/22/2013",
          "5/23/2013",
          "5/28/2013",
          "5/29/2013",
          "5/30/2013",
          "6/3/2013",
          "6/4/2013",
          "6/5/2013",
          "6/6/2013",
          "6/10/2013",
          "6/11/2013",
          "6/12/2013",
          "6/13/2013",
          "6/17/2013",
          "6/18/2013",
          "6/19/2013",
          "6/20/2013",
          "6/24/2013",
          "6/25/2013",
          "6/26/2013",
          "6/27/2013",
          "7/1/2013",
          "7/2/2013",
          "7/3/2013",
          "7/8/2013",
          "7/9/2013",
          "7/10/2013",
          "7/11/2013",
          "7/15/2013",
          "7/16/2013",
          "7/17/2013",
          "7/18/2013",
          "7/22/2013",
          "7/23/2013",
          "7/24/2013",
          "7/25/2013",
          "7/29/2013",
          "7/30/2013",
          "7/31/2013",
          "8/1/2013",
          "8/5/2013",
          "8/6/2013",
          "8/7/2013",
          "8/8/2013",
          "8/12/2013",
          "8/13/2013",
          "8/14/2013",
          "8/15/2013",
          "8/19/2013",
          "8/20/2013",
          "8/21/2013",
          "8/22/2013",
          "8/26/2013",
          "8/27/2013",
          "8/28/2013",
          "8/29/2013",
          "9/3/2013",
          "9/4/2013",
          "9/5/2013",
          "9/9/2013",
          "9/10/2013",
          "9/11/2013",
          "9/12/2013",
          "9/16/2013",
          "9/17/2013",
          "9/18/2013",
          "9/19/2013",
          "9/23/2013",
          "9/24/2013",
          "9/25/2013",
          "9/26/2013",
          "9/30/2013",
          "10/1/2013",
          "10/2/2013",
          "10/3/2013",
          "10/8/2013",
          "10/9/2013",
          "10/10/2013",
          "10/14/2013",
          "10/15/2013",
          "10/16/2013",
          "10/17/2013",
          "10/21/2013",
          "10/22/2013",
          "10/23/2013",
          "10/24/2013",
          "10/28/2013",
          "10/29/2013",
          "10/30/2013",
          "10/31/2013",
          "11/1/2013",
          "11/4/2013",
          "11/5/2013",
          "11/6/2013",
          "11/7/2013",
          "11/8/2013",
          "11/11/2013",
          "11/12/2013",
          "11/13/2013",
          "11/14/2013",
          "11/15/2013",
          "11/18/2013",
          "11/19/2013",
          "11/20/2013",
          "11/21/2013",
          "11/22/2013",
          "11/25/2013",
          "11/26/2013",
          "11/27/2013",
          "11/29/2013",
          "12/2/2013",
          "12/3/2013",
          "12/4/2013",
          "12/5/2013",
          "12/6/2013",
          "12/9/2013",
          "12/10/2013",
          "12/11/2013",
          "12/12/2013",
          "12/13/2013",
          "12/16/2013",
          "12/17/2013",
          "12/18/2013",
          "12/19/2013",
          "12/20/2013",
          "12/23/2013",
          "12/24/2013",
          "12/26/2013",
          "12/27/2013",
          "12/30/2013",
          "12/31/2013",
          "1/2/2014",
          "1/3/2014",
          "1/6/2014",
          "1/7/2014",
          "1/8/2014",
          "1/9/2014",
          "1/10/2014",
          "1/13/2014",
          "1/14/2014",
          "1/15/2014",
          "1/16/2014",
          "1/17/2014",
          "1/21/2014",
          "1/22/2014",
          "1/23/2014",
          "1/24/2014",
          "1/27/2014",
          "1/28/2014",
          "1/29/2014",
          "1/30/2014",
          "1/31/2014",
          "2/3/2014",
          "2/4/2014",
          "2/5/2014",
          "2/6/2014",
          "2/7/2014",
          "2/10/2014",
          "2/11/2014",
          "2/12/2014",
          "2/13/2014",
          "2/14/2014",
          "2/18/2014",
          "2/19/2014",
          "2/20/2014",
          "2/21/2014",
          "2/24/2014",
          "2/25/2014",
          "2/26/2014",
          "2/27/2014",
          "2/28/2014",
          "3/3/2014",
          "3/4/2014",
          "3/5/2014",
          "3/6/2014",
          "3/7/2014",
          "3/10/2014",
          "3/11/2014",
          "3/12/2014",
          "3/13/2014",
          "3/14/2014",
          "3/17/2014",
          "3/18/2014",
          "3/19/2014",
          "3/20/2014",
          "3/21/2014",
          "3/24/2014",
          "3/25/2014",
          "3/26/2014",
          "3/27/2014",
          "3/28/2014",
          "3/31/2014",
          "4/1/2014",
          "4/2/2014",
          "4/3/2014",
          "4/7/2014",
          "4/8/2014",
          "4/9/2014",
          "4/10/2014",
          "4/14/2014",
          "4/15/2014",
          "4/16/2014",
          "4/17/2014",
          "4/21/2014",
          "4/22/2014",
          "4/23/2014",
          "4/24/2014",
          "4/28/2014",
          "4/29/2014",
          "4/30/2014",
          "5/1/2014",
          "5/5/2014",
          "5/6/2014",
          "5/7/2014",
          "5/8/2014",
          "5/12/2014",
          "5/13/2014",
          "5/14/2014",
          "5/15/2014",
          "5/19/2014",
          "5/20/2014",
          "5/21/2014",
          "5/22/2014",
          "5/27/2014",
          "5/28/2014",
          "5/29/2014",
          "6/2/2014",
          "6/3/2014",
          "6/4/2014",
          "6/5/2014",
          "6/9/2014",
          "6/10/2014",
          "6/11/2014",
          "6/12/2014",
          "6/16/2014",
          "6/17/2014",
          "6/18/2014",
          "6/19/2014",
          "6/23/2014",
          "6/24/2014",
          "6/25/2014",
          "6/26/2014",
          "6/30/2014",
          "7/1/2014",
          "7/2/2014",
          "7/3/2014",
          "7/7/2014",
          "7/8/2014",
          "7/9/2014",
          "7/10/2014",
          "7/14/2014",
          "7/15/2014",
          "7/16/2014",
          "7/17/2014",
          "7/21/2014",
          "7/22/2014",
          "7/23/2014",
          "7/24/2014",
          "7/28/2014",
          "7/29/2014",
          "7/30/2014",
          "7/31/2014",
          "8/4/2014",
          "8/5/2014",
          "8/6/2014",
          "8/7/2014",
          "8/11/2014",
          "8/12/2014",
          "8/13/2014",
          "8/14/2014",
          "8/18/2014",
          "8/19/2014",
          "8/20/2014",
          "8/21/2014",
          "8/25/2014",
          "8/26/2014",
          "8/27/2014",
          "8/28/2014",
          "9/2/2014",
          "9/3/2014",
          "9/4/2014",
          "9/8/2014",
          "9/9/2014",
          "9/10/2014",
          "9/11/2014",
          "9/15/2014",
          "9/16/2014",
          "9/17/2014",
          "9/18/2014",
          "9/22/2014",
          "9/23/2014",
          "9/24/2014",
          "9/25/2014",
          "9/29/2014",
          "9/30/2014",
          "10/1/2014",
          "10/2/2014",
          "10/6/2014",
          "10/7/2014",
          "10/8/2014",
          "10/9/2014",
          "10/13/2014",
          "10/14/2014",
          "10/15/2014",
          "10/16/2014",
          "10/20/2014",
          "10/21/2014",
          "10/22/2014",
          "10/23/2014",
          "10/27/2014",
          "10/28/2014",
          "10/29/2014",
          "10/30/2014",
          "10/31/2014",
          "11/3/2014",
          "11/4/2014",
          "11/5/2014",
          "11/6/2014",
          "11/7/2014",
          "11/10/2014",
          "11/11/2014",
          "11/12/2014",
          "11/13/2014",
          "11/14/2014",
          "11/17/2014",
          "11/18/2014",
          "11/19/2014",
          "11/20/2014",
          "11/21/2014",
          "11/24/2014",
          "11/25/2014",
          "11/26/2014",
          "11/28/2014",
          "12/1/2014",
          "12/2/2014",
          "12/3/2014",
          "12/4/2014",
          "12/5/2014",
          "12/8/2014",
          "12/9/2014",
          "12/10/2014",
          "12/11/2014",
          "12/12/2014",
          "12/15/2014",
          "12/16/2014",
          "12/17/2014",
          "12/18/2014",
          "12/19/2014",
          "12/22/2014",
          "12/23/2014",
          "12/24/2014",
          "12/26/2014",
          "12/29/2014",
          "12/30/2014",
          "12/31/2014",
          "1/2/2015",
          "1/5/2015",
          "1/6/2015",
          "1/7/2015",
          "1/8/2015",
          "1/9/2015",
          "1/12/2015",
          "1/13/2015",
          "1/14/2015",
          "1/15/2015",
          "1/16/2015",
          "1/20/2015",
          "1/21/2015",
          "1/22/2015",
          "1/23/2015",
          "1/26/2015",
          "1/27/2015",
          "1/28/2015",
          "1/29/2015",
          "1/30/2015",
          "2/2/2015",
          "2/3/2015",
          "2/4/2015",
          "2/5/2015",
          "2/6/2015",
          "2/9/2015",
          "2/10/2015",
          "2/11/2015",
          "2/12/2015",
          "2/13/2015",
          "2/17/2015",
          "2/18/2015",
          "2/19/2015",
          "2/20/2015",
          "2/23/2015",
          "2/24/2015",
          "2/25/2015",
          "2/26/2015",
          "2/27/2015",
          "3/2/2015",
          "3/3/2015",
          "3/4/2015",
          "3/5/2015",
          "3/6/2015",
          "3/9/2015",
          "3/10/2015",
          "3/11/2015",
          "3/12/2015",
          "3/13/2015",
          "3/16/2015",
          "3/17/2015",
          "3/18/2015",
          "3/19/2015",
          "3/20/2015",
          "3/23/2015",
          "3/24/2015",
          "3/25/2015",
          "3/26/2015",
          "3/27/2015",
          "3/30/2015",
          "3/31/2015",
          "4/1/2015",
          "4/2/2015",
          "4/6/2015",
          "4/7/2015",
          "4/8/2015",
          "4/9/2015",
          "4/13/2015",
          "4/14/2015",
          "4/15/2015",
          "4/16/2015",
          "4/20/2015",
          "4/21/2015",
          "4/22/2015",
          "4/23/2015",
          "4/27/2015",
          "4/28/2015",
          "4/29/2015",
          "4/30/2015",
          "5/4/2015",
          "5/5/2015",
          "5/6/2015",
          "5/7/2015",
          "5/11/2015",
          "5/12/2015",
          "5/13/2015",
          "5/14/2015",
          "5/18/2015",
          "5/19/2015",
          "5/20/2015",
          "5/21/2015",
          "5/26/2015",
          "5/27/2015",
          "5/28/2015",
          "6/1/2015",
          "6/2/2015",
          "6/3/2015",
          "6/4/2015",
          "6/8/2015",
          "6/9/2015",
          "6/10/2015",
          "6/11/2015",
          "6/15/2015",
          "6/16/2015",
          "6/17/2015",
          "6/18/2015",
          "6/22/2015",
          "6/23/2015",
          "6/24/2015",
          "6/25/2015",
          "6/29/2015",
          "6/30/2015",
          "7/1/2015",
          "7/2/2015",
          "7/6/2015",
          "7/7/2015",
          "7/8/2015",
          "7/9/2015",
          "7/13/2015",
          "7/14/2015",
          "7/15/2015",
          "7/16/2015",
          "7/20/2015",
          "7/21/2015",
          "7/22/2015",
          "7/23/2015",
          "7/27/2015",
          "7/28/2015",
          "7/29/2015",
          "7/30/2015",
          "8/3/2015",
          "8/4/2015",
          "8/5/2015",
          "8/6/2015",
          "8/10/2015",
          "8/11/2015",
          "8/12/2015",
          "8/13/2015",
          "8/17/2015",
          "8/18/2015",
          "8/19/2015",
          "8/20/2015",
          "8/24/2015",
          "8/25/2015",
          "8/26/2015",
          "8/27/2015",
          "8/31/2015",
          "9/1/2015",
          "9/2/2015",
          "9/3/2015",
          "9/8/2015",
          "9/9/2015",
          "9/10/2015",
          "9/14/2015",
          "9/15/2015",
          "9/16/2015",
          "9/17/2015",
          "9/22/2015",
          "9/23/2015",
          "9/24/2015",
          "9/28/2015",
          "9/29/2015",
          "9/30/2015",
          "10/1/2015",
          "10/5/2015",
          "10/6/2015",
          "10/7/2015",
          "10/8/2015",
          "10/12/2015",
          "10/13/2015",
          "10/14/2015",
          "10/15/2015",
          "10/19/2015",
          "10/20/2015",
          "10/21/2015",
          "10/22/2015",
          "10/26/2015",
          "10/27/2015",
          "10/28/2015",
          "10/29/2015",
          "10/30/2015",
          "11/2/2015",
          "11/3/2015",
          "11/4/2015",
          "11/5/2015",
          "11/6/2015",
          "11/9/2015",
          "11/10/2015",
          "11/11/2015",
          "11/12/2015",
          "11/13/2015",
          "11/16/2015",
          "11/17/2015",
          "11/18/2015",
          "11/19/2015",
          "11/20/2015",
          "11/23/2015",
          "11/24/2015",
          "11/25/2015",
          "11/27/2015",
          "11/30/2015",
          "12/1/2015",
          "12/2/2015",
          "12/3/2015",
          "12/4/2015",
          "12/7/2015",
          "12/8/2015",
          "12/9/2015",
          "12/10/2015",
          "12/11/2015",
          "12/14/2015",
          "12/15/2015",
          "12/16/2015",
          "12/17/2015",
          "12/18/2015",
          "12/21/2015",
          "12/22/2015",
          "12/23/2015",
          "12/24/2015",
          "12/28/2015",
          "12/29/2015",
          "12/30/2015",
          "12/31/2015",
          "1/4/2016",
          "1/5/2016",
          "1/6/2016",
          "1/7/2016",
          "1/8/2016",
          "1/11/2016",
          "1/12/2016",
          "1/13/2016",
          "1/14/2016",
          "1/15/2016",
          "1/19/2016",
          "1/20/2016",
          "1/21/2016",
          "1/22/2016",
          "1/25/2016",
          "1/26/2016",
          "1/27/2016",
          "1/28/2016",
          "1/29/2016",
          "2/1/2016",
          "2/2/2016",
          "2/3/2016",
          "2/4/2016",
          "2/5/2016",
          "2/8/2016",
          "2/9/2016",
          "2/10/2016",
          "2/11/2016",
          "2/12/2016",
          "2/16/2016",
          "2/17/2016",
          "2/18/2016",
          "2/19/2016",
          "2/22/2016",
          "2/23/2016",
          "2/24/2016",
          "2/25/2016",
          "2/26/2016",
          "2/29/2016",
          "3/1/2016",
          "3/2/2016",
          "3/3/2016",
          "3/4/2016",
          "3/7/2016",
          "3/8/2016",
          "3/9/2016",
          "3/10/2016",
          "3/11/2016",
          "3/14/2016",
          "3/15/2016",
          "3/16/2016",
          "3/17/2016",
          "3/18/2016",
          "3/21/2016",
          "3/22/2016",
          "3/23/2016",
          "3/24/2016",
          "3/28/2016",
          "3/29/2016",
          "3/30/2016",
          "3/31/2016",
          "4/4/2016",
          "4/5/2016",
          "4/6/2016",
          "4/7/2016",
          "4/11/2016",
          "4/12/2016",
          "4/13/2016",
          "4/14/2016",
          "4/18/2016",
          "4/19/2016",
          "4/20/2016",
          "4/21/2016",
          "4/25/2016",
          "4/26/2016",
          "4/27/2016",
          "4/28/2016",
          "5/2/2016",
          "5/3/2016",
          "5/4/2016",
          "5/5/2016",
          "5/9/2016",
          "5/10/2016",
          "5/11/2016",
          "5/12/2016",
          "5/16/2016",
          "5/17/2016",
          "5/18/2016",
          "5/19/2016",
          "5/23/2016",
          "5/24/2016",
          "5/25/2016",
          "5/26/2016",
          "5/31/2016",
          "6/1/2016",
          "6/2/2016",
          "6/6/2016",
          "6/7/2016",
          "6/8/2016",
          "6/9/2016",
          "6/13/2016",
          "6/14/2016",
          "6/15/2016",
          "6/16/2016",
          "6/20/2016",
          "6/21/2016",
          "6/22/2016",
          "6/23/2016",
          "6/27/2016",
          "6/28/2016",
          "6/29/2016",
          "6/30/2016",
          "7/5/2016",
          "7/6/2016",
          "7/7/2016",
          "7/11/2016",
          "7/12/2016",
          "7/13/2016",
          "7/14/2016",
          "7/18/2016",
          "7/19/2016",
          "7/20/2016",
          "7/21/2016",
          "7/25/2016",
          "7/26/2016",
          "7/27/2016",
          "7/28/2016",
          "8/1/2016",
          "8/2/2016",
          "8/3/2016",
          "8/4/2016",
          "8/8/2016",
          "8/9/2016",
          "8/10/2016",
          "8/11/2016",
          "8/15/2016",
          "8/16/2016",
          "8/17/2016",
          "8/18/2016",
          "8/22/2016",
          "8/23/2016",
          "8/24/2016",
          "8/25/2016",
          "8/29/2016",
          "8/30/2016",
          "8/31/2016",
          "9/1/2016",
          "9/6/2016",
          "9/7/2016",
          "9/8/2016",
          "9/12/2016",
          "9/13/2016",
          "9/14/2016",
          "9/15/2016",
          "9/19/2016",
          "9/20/2016",
          "9/21/2016",
          "9/22/2016",
          "9/26/2016",
          "9/27/2016",
          "9/28/2016",
          "9/29/2016",
          "10/3/2016",
          "10/4/2016",
          "10/5/2016",
          "10/6/2016",
          "10/10/2016",
          "10/11/2016",
          "10/12/2016",
          "10/13/2016",
          "10/17/2016",
          "10/18/2016",
          "10/19/2016",
          "10/20/2016",
          "10/24/2016",
          "10/25/2016",
          "10/26/2016",
          "10/27/2016",
          "10/31/2016",
          "11/1/2016",
          "11/2/2016",
          "11/3/2016",
          "11/4/2016",
          "11/7/2016",
          "11/8/2016",
          "11/9/2016",
          "11/10/2016",
          "11/11/2016",
          "11/14/2016",
          "11/15/2016",
          "11/16/2016",
          "11/17/2016",
          "11/18/2016",
          "11/21/2016",
          "11/22/2016",
          "11/23/2016",
          "11/25/2016",
          "11/28/2016",
          "11/29/2016",
          "11/30/2016",
          "12/1/2016",
          "12/2/2016",
          "12/5/2016",
          "12/6/2016",
          "12/7/2016",
          "12/8/2016",
          "12/9/2016",
          "12/12/2016",
          "12/13/2016",
          "12/14/2016",
          "12/15/2016",
          "12/16/2016",
          "12/19/2016",
          "12/20/2016",
          "12/21/2016",
          "12/22/2016",
          "12/23/2016",
          "12/27/2016",
          "12/28/2016",
          "12/29/2016",
          "12/30/2016",
          "1/3/2017",
          "1/4/2017",
          "1/5/2017",
          "1/6/2017",
          "1/9/2017",
          "1/10/2017",
          "1/11/2017",
          "1/12/2017",
          "1/13/2017",
          "1/17/2017",
          "1/18/2017",
          "1/19/2017",
          "1/20/2017",
          "1/23/2017",
          "1/24/2017",
          "1/25/2017",
          "1/26/2017",
          "1/27/2017",
          "1/30/2017",
          "1/31/2017",
          "2/1/2017",
          "2/2/2017",
          "2/3/2017",
          "2/6/2017",
          "2/7/2017",
          "2/8/2017",
          "2/9/2017",
          "2/10/2017",
          "2/13/2017",
          "2/14/2017",
          "2/15/2017",
          "2/16/2017",
          "2/17/2017",
          "2/21/2017",
          "2/22/2017",
          "2/23/2017",
          "2/24/2017",
          "2/27/2017",
          "2/28/2017",
          "3/1/2017",
          "3/2/2017",
          "3/3/2017",
          "3/6/2017",
          "3/7/2017",
          "3/8/2017",
          "3/9/2017",
          "3/10/2017",
          "3/13/2017",
          "3/14/2017",
          "3/15/2017",
          "3/16/2017",
          "3/17/2017",
          "3/20/2017",
          "3/21/2017",
          "3/22/2017",
          "3/23/2017",
          "3/24/2017",
          "3/27/2017",
          "3/28/2017",
          "3/29/2017",
          "3/30/2017",
          "4/3/2017",
          "4/4/2017",
          "4/5/2017",
          "4/6/2017",
          "4/10/2017",
          "4/11/2017",
          "4/12/2017",
          "4/13/2017",
          "4/17/2017",
          "4/18/2017",
          "4/19/2017",
          "4/20/2017",
          "4/24/2017",
          "4/25/2017",
          "4/26/2017",
          "4/27/2017",
          "5/1/2017",
          "5/2/2017",
          "5/3/2017",
          "5/4/2017",
          "5/8/2017",
          "5/9/2017",
          "5/10/2017",
          "5/11/2017",
          "5/15/2017",
          "5/16/2017",
          "5/17/2017",
          "5/18/2017",
          "5/22/2017",
          "5/23/2017",
          "5/24/2017",
          "5/25/2017",
          "5/30/2017",
          "5/31/2017",
          "6/1/2017",
          "6/5/2017",
          "6/6/2017",
          "6/7/2017",
          "6/8/2017",
          "6/12/2017",
          "6/13/2017",
          "6/14/2017",
          "6/15/2017",
          "6/19/2017",
          "6/20/2017",
          "6/21/2017",
          "6/22/2017",
          "6/26/2017",
          "6/27/2017",
          "6/28/2017",
          "6/29/2017",
          "7/3/2017",
          "7/5/2017",
          "7/6/2017",
          "7/11/2017",
          "7/12/2017",
          "7/13/2017",
          "7/17/2017",
          "7/18/2017",
          "7/19/2017",
          "7/20/2017",
          "7/24/2017",
          "7/25/2017",
          "7/26/2017",
          "7/27/2017",
          "7/31/2017",
          "8/1/2017",
          "8/2/2017",
          "8/3/2017",
          "8/7/2017",
          "8/8/2017",
          "8/9/2017",
          "8/10/2017",
          "8/14/2017",
          "8/15/2017",
          "8/16/2017",
          "8/17/2017",
          "8/21/2017",
          "8/22/2017",
          "8/23/2017",
          "8/24/2017",
          "8/28/2017",
          "8/29/2017",
          "8/30/2017",
          "8/31/2017",
          "9/5/2017",
          "9/6/2017",
          "9/7/2017",
          "9/11/2017",
          "9/12/2017",
          "9/13/2017",
          "9/14/2017",
          "9/18/2017",
          "9/19/2017",
          "9/20/2017",
          "9/21/2017",
          "9/25/2017",
          "9/26/2017",
          "9/27/2017",
          "9/28/2017",
          "10/2/2017",
          "10/3/2017",
          "10/4/2017",
          "10/5/2017",
          "10/9/2017",
          "10/10/2017",
          "10/11/2017",
          "10/12/2017",
          "10/16/2017",
          "10/17/2017",
          "10/18/2017",
          "10/19/2017",
          "10/23/2017",
          "10/24/2017",
          "10/25/2017",
          "10/26/2017",
          "10/30/2017",
          "10/31/2017",
          "11/1/2017",
          "11/2/2017",
          "11/3/2017",
          "11/6/2017",
          "11/7/2017",
          "11/8/2017",
          "11/9/2017",
          "11/10/2017",
          "11/13/2017",
          "11/14/2017",
          "11/15/2017",
          "11/20/2017",
          "11/21/2017",
          "11/22/2017",
          "11/24/2017",
          "11/27/2017",
          "11/28/2017",
          "11/29/2017",
          "11/30/2017",
          "12/1/2017",
          "12/4/2017",
          "12/5/2017",
          "12/6/2017",
          "12/7/2017",
          "12/8/2017",
          "12/11/2017",
          "12/12/2017",
          "12/13/2017",
          "12/14/2017",
          "12/15/2017",
          "12/18/2017",
          "12/19/2017",
          "12/20/2017",
          "12/21/2017",
          "12/22/2017",
          "12/26/2017",
          "12/27/2017",
          "12/28/2017",
          "12/29/2017",
          "1/2/2018",
          "1/3/2018",
          "1/4/2018",
          "1/5/2018",
          "1/8/2018",
          "1/9/2018",
          "1/10/2018",
          "1/11/2018",
          "1/12/2018",
          "1/16/2018",
          "1/17/2018",
          "1/18/2018",
          "1/19/2018",
          "1/22/2018",
          "1/23/2018",
          "1/24/2018",
          "1/25/2018",
          "1/26/2018",
          "1/29/2018",
          "1/30/2018",
          "1/31/2018",
          "2/1/2018",
          "2/2/2018",
          "2/5/2018",
          "2/6/2018",
          "2/7/2018",
          "2/8/2018",
          "2/9/2018",
          "2/12/2018",
          "2/13/2018",
          "2/14/2018",
          "2/15/2018",
          "2/16/2018",
          "2/20/2018",
          "2/21/2018",
          "2/22/2018",
          "2/23/2018",
          "2/26/2018",
          "2/27/2018",
          "2/28/2018",
          "3/1/2018",
          "3/2/2018",
          "3/5/2018",
          "3/6/2018",
          "3/7/2018",
          "3/8/2018",
          "3/9/2018",
          "3/12/2018",
          "3/13/2018",
          "3/14/2018",
          "3/15/2018",
          "3/16/2018",
          "3/19/2018",
          "3/20/2018",
          "3/21/2018",
          "3/22/2018",
          "3/23/2018",
          "3/26/2018",
          "3/27/2018",
          "3/28/2018",
          "3/29/2018",
          "4/2/2018",
          "4/3/2018",
          "4/4/2018",
          "4/5/2018",
          "4/9/2018",
          "4/10/2018",
          "4/11/2018",
          "4/12/2018",
          "4/16/2018",
          "4/17/2018",
          "4/18/2018",
          "4/19/2018",
          "4/23/2018",
          "4/24/2018",
          "4/25/2018",
          "4/26/2018",
          "4/30/2018",
          "5/1/2018",
          "5/2/2018",
          "5/3/2018",
          "5/7/2018",
          "5/8/2018",
          "5/9/2018",
          "5/10/2018",
          "5/14/2018",
          "5/16/2018"
         ],
         "xaxis": "x",
         "y": [
          84.860001,
          85.57,
          85.129997,
          84.769997,
          86.779999,
          86.550003,
          88.25,
          88.580002,
          89.540001,
          87.989998,
          86.699997,
          86.5,
          87.419998,
          88.169998,
          87.889999,
          90.080002,
          90.300003,
          91.75,
          91.150002,
          92.059998,
          91.400002,
          89.349998,
          89.099998,
          87.68,
          88.949997,
          89.849998,
          91,
          91.330002,
          89.330002,
          89.440002,
          89.709999,
          89.150002,
          91.580002,
          93.239998,
          93.25,
          93.389999,
          92.739998,
          93.709999,
          94.779999,
          95.989998,
          96.18,
          97.239998,
          95.18,
          97.720001,
          96.5,
          96.089996,
          95.870003,
          95.989998,
          97.010002,
          98.339996,
          98.709999,
          99.169998,
          96.5,
          93.040001,
          89.910004,
          90.099998,
          92.730003,
          93.800003,
          93.459999,
          91.879997,
          86.860001,
          89.269997,
          89.419998,
          91.169998,
          90.349998,
          92.290001,
          91.769997,
          91.110001,
          91.660004,
          93.269997,
          92.559998,
          90.25,
          90.269997,
          89.220001,
          87.220001,
          87.690002,
          85.809998,
          83.989998,
          86.269997,
          86.629997,
          85.82,
          87.239998,
          86.989998,
          85.389999,
          85.199997,
          87,
          89.389999,
          90.900002,
          91.959999,
          90.980003,
          89.360001,
          89.139999,
          86.510002,
          87.959999,
          86.879997,
          86.650002,
          86.449997,
          87.989998,
          85.550003,
          87.019997,
          85.599998,
          87.010002,
          87.25,
          88.279999,
          88.419998,
          87.089996,
          87.470001,
          87.419998,
          90.610001,
          92.660004,
          93.169998,
          92.059998,
          91.230003,
          90.860001,
          91.5,
          93.529999,
          95.910004,
          96.169998,
          94.440002,
          94.220001,
          95.120003,
          93.059998,
          90.57,
          91.330002,
          91.730003,
          90.589996,
          89.519997,
          86.089996,
          80.93,
          81.230003,
          81.360001,
          82.18,
          79.199997,
          78.889999,
          78.389999,
          78.860001,
          76.489998,
          74.220001,
          73.080002,
          77.559998,
          76.790001,
          85.459999,
          82.800003,
          89.18,
          88.32,
          86.709999,
          86.449997,
          89.57,
          85.07,
          85.970001,
          82.330002,
          84.279999,
          87.269997,
          89.419998,
          89.900002,
          81.989998,
          82.199997,
          83.309998,
          79.290001,
          78.5,
          76.029999,
          71.709999,
          70.650002,
          72.18,
          73.790001,
          74,
          72.709999,
          71.339996,
          71.099998,
          75.480003,
          72.800003,
          72.220001,
          72.5,
          73.580002,
          72.050003,
          70,
          72.150002,
          73.300003,
          72.650002,
          72.510002,
          72.260002,
          73.449997,
          78.849998,
          80.910004,
          80.870003,
          80.379997,
          80.309998,
          75.650002,
          76.949997,
          76.18,
          75.5,
          74.519997,
          76.199997,
          76.330002,
          79.75,
          80.650002,
          80.809998,
          82.599998,
          84.459999,
          85.43,
          83.870003,
          82.629997,
          83.459999,
          82.629997,
          83.459999,
          85.599998,
          86.349998,
          85.900002,
          86.519997,
          86.230003,
          84.480003,
          85.129997,
          82.75,
          84.459999,
          83.919998,
          80.760002,
          80.879997,
          79.790001,
          80.389999,
          82.709999,
          84.519997,
          84.150002,
          84.580002,
          88.529999,
          88.949997,
          88.379997,
          87.419998,
          89.5,
          91.309998,
          88.839996,
          88.470001,
          89.18,
          90.120003,
          89.589996,
          88.32,
          90.209999,
          92.290001,
          93.169998,
          92.550003,
          95.449997,
          96.910004,
          95.769997,
          97.800003,
          97.730003,
          94.730003,
          93.150002,
          93.059998,
          92.629997,
          90.93,
          90.040001,
          88.989998,
          91.989998,
          92.290001,
          90.57,
          88.139999,
          89.220001,
          91.099998,
          91.300003,
          90.800003,
          90.040001,
          93.089996,
          94.349998,
          93.589996,
          92.080002,
          90.949997,
          91.980003,
          91.93,
          90.690002,
          89.980003,
          90.279999,
          91.029999,
          88.800003,
          85.269997,
          86.739998,
          86.610001,
          86.309998,
          87.879997,
          87.370003,
          87.5,
          85.809998,
          86.949997,
          86.889999,
          87.379997,
          88.800003,
          89.010002,
          87.75,
          88.330002,
          87.269997,
          88.639999,
          88.25,
          89.540001,
          89.440002,
          89.690002,
          90.699997,
          91.089996,
          91.029999,
          90.360001,
          90.959999,
          92.25,
          93.849998,
          93.760002,
          93.449997,
          94.239998,
          95.730003,
          96.360001,
          94.410004,
          96.230003,
          93.559998,
          93.830002,
          93.860001,
          93.699997,
          91.099998,
          91.93,
          92.349998,
          91.610001,
          90.540001,
          90.919998,
          91.449997,
          92.309998,
          92.040001,
          91.18,
          92.389999,
          91.25,
          90.760002,
          90.709999,
          89.269997,
          89.510002,
          90.190002,
          90.809998,
          92.239998,
          91.980003,
          93.279999,
          93.129997,
          93.440002,
          93.260002,
          93.709999,
          92.110001,
          91.199997,
          91.620003,
          93.870003,
          94.68,
          94.779999,
          94.599998,
          92.93,
          92.790001,
          92.949997,
          93.720001,
          91.610001,
          92.059998,
          92.529999,
          92.269997,
          92.339996,
          92.760002,
          92.790001,
          93.190002,
          93.400002,
          93.900002,
          96.190002,
          97.459999,
          97.43,
          97.080002,
          97.699997,
          97.959999,
          98.900002,
          99.910004,
          99.339996,
          98.360001,
          99.669998,
          98.830002,
          97.550003,
          97.050003,
          97.43,
          98.849998,
          97.889999,
          99.82,
          102.279999,
          102.360001,
          103.639999,
          103.559998,
          104.260002,
          104.18,
          102.860001,
          104.230003,
          103.419998,
          103.75,
          103.919998,
          101.860001,
          101.849998,
          100.730003,
          102.690002,
          102.529999,
          103.949997,
          106.459999,
          107.099998,
          106.980003,
          107.43,
          108.190002,
          108.389999,
          109.599998,
          108.209999,
          109.739998,
          111.629997,
          111.970001,
          112.25,
          112.300003,
          112.940002,
          114.290001,
          114.730003,
          116.620003,
          115.059998,
          115.639999,
          117.379997,
          119.18,
          118.699997,
          113.75,
          113.110001,
          110.949997,
          110.839996,
          110.82,
          109.32,
          110.239998,
          110.209999,
          111.589996,
          107.339996,
          108.949997,
          106.949997,
          106.169998,
          106.550003,
          108.360001,
          108.550003,
          107.470001,
          106.93,
          107.309998,
          109.800003,
          109.699997,
          111.510002,
          110.82,
          111.370003,
          112.849998,
          110.489998,
          111.540001,
          112.029999,
          110.860001,
          111.519997,
          108.940002,
          107.370003,
          107.169998,
          107.480003,
          107.559998,
          106.529999,
          106.480003,
          105.959999,
          108.349998,
          109.129997,
          108.699997,
          104.370003,
          104.68,
          104.040001,
          105.410004,
          105.120003,
          107.129997,
          107.040001,
          109.620003,
          109.25,
          109.980003,
          109.470001,
          109.07,
          107.889999,
          107.360001,
          108.309998,
          109.43,
          109.43,
          111.019997,
          111.629997,
          110.830002,
          110.809998,
          109.879997,
          109.720001,
          108.470001,
          108.599998,
          107.949997,
          108.360001,
          110.400002,
          109.589996,
          110.339996,
          108.279999,
          107.75,
          108.32,
          106.300003,
          106.779999,
          108.589996,
          108.75,
          107.970001,
          108.949997,
          110.260002,
          110.889999,
          111.029999,
          112.489998,
          112.650002,
          113.010002,
          112.690002,
          113.029999,
          113.650002,
          111.150002,
          111.459999,
          112.309998,
          111.839996,
          112.75,
          114.629997,
          114.309998,
          114.279999,
          115.730003,
          114.870003,
          115.089996,
          118.489998,
          117.57,
          120.660004,
          121.400002,
          120.559998,
          119.360001,
          119.489998,
          116.629997,
          115.839996,
          116.839996,
          117.360001,
          118.470001,
          118.690002,
          119.910004,
          119.779999,
          117.959999,
          121.489998,
          121,
          120.559998,
          118.970001,
          119.599998,
          120.989998,
          120.330002,
          121.900002,
          120.389999,
          121.449997,
          120.949997,
          121.300003,
          121.089996,
          121.269997,
          121.68,
          117.040001,
          116.510002,
          117.730003,
          117.209999,
          117.339996,
          118.360001,
          118.300003,
          118.230003,
          115.730003,
          116.650002,
          115.849998,
          116.860001,
          115.519997,
          113.510002,
          113.779999,
          114.290001,
          115.540001,
          115.989998,
          116.720001,
          116.980003,
          117.400002,
          117.730003,
          117.339996,
          118.769997,
          119.730003,
          119.75,
          120.220001,
          120.389999,
          119.779999,
          120.360001,
          121.360001,
          120.959999,
          120.910004,
          122.080002,
          121.690002,
          122.290001,
          122.699997,
          122.709999,
          121.559998,
          121.620003,
          124.019997,
          123.940002,
          124.629997,
          124.870003,
          126.010002,
          126.199997,
          126.300003,
          126.720001,
          127.849998,
          127.949997,
          127.910004,
          128.460007,
          130.990005,
          131.809998,
          130.369995,
          132.289993,
          131.960007,
          134.070007,
          134.75,
          134.279999,
          130.110001,
          131.320007,
          129.470001,
          130.850006,
          130.880005,
          129.520004,
          131.240005,
          131.919998,
          132.490005,
          131.570007,
          136.029999,
          136.380005,
          137.779999,
          135.589996,
          137.240005,
          137.660004,
          133.690002,
          132.419998,
          130.970001,
          130.380005,
          132.089996,
          132.199997,
          133.479996,
          134.410004,
          134.179993,
          133.110001,
          133.509995,
          135.419998,
          135.380005,
          135.199997,
          138.070007,
          139.110001,
          136.5,
          134.789993,
          135.369995,
          135.410004,
          136.050003,
          136.179993,
          134.699997,
          133.809998,
          134.199997,
          135.110001,
          135.320007,
          135.050003,
          134.660004,
          135.020004,
          137.220001,
          137.710007,
          137.029999,
          138.720001,
          138,
          134.75,
          134.369995,
          133.830002,
          133.580002,
          134.119995,
          134.910004,
          135.460007,
          134.050003,
          132.690002,
          133.429993,
          133.720001,
          131.199997,
          131.029999,
          130.360001,
          130.100006,
          131.160004,
          127.93,
          130.279999,
          129.869995,
          130.800003,
          130.449997,
          132.199997,
          131.660004,
          131.679993,
          133.139999,
          133.070007,
          132.850006,
          132.320007,
          132.949997,
          133.970001,
          134.100006,
          135.039993,
          135.410004,
          136.289993,
          137.509995,
          136.479996,
          137.380005,
          137.660004,
          140.029999,
          139.919998,
          138.089996,
          139.350006,
          139.720001,
          139.360001,
          139.410004,
          137.770004,
          138.220001,
          138.860001,
          136.270004,
          136.240005,
          136.970001,
          138.369995,
          139.139999,
          139.050003,
          140.339996,
          139.220001,
          139.259995,
          138.539993,
          138.210007,
          138.669998,
          139.860001,
          139.839996,
          142.050003,
          142.380005,
          142.509995,
          142.639999,
          141.610001,
          141.899994,
          143.809998,
          145.929993,
          145.929993,
          146.5,
          146.740005,
          146.869995,
          146.380005,
          149.199997,
          149.820007,
          150.410004,
          149.880005,
          147.729996,
          143.470001,
          147.380005,
          147.899994,
          146.539993,
          146.589996,
          145.369995,
          144.740005,
          145.600006,
          145.649994,
          147.830002,
          148.589996,
          148.580002,
          148.220001,
          149.639999,
          149.910004,
          149.5,
          150.479996,
          150.419998,
          149.809998,
          150.559998,
          147.770004,
          148.669998,
          149.119995,
          148.970001,
          150.029999,
          150.759995,
          150.990005,
          148.339996,
          145.729996,
          146.240005,
          147.179993,
          146,
          147.630005,
          148.910004,
          149.149994,
          151.589996,
          152.770004,
          154.139999,
          154.539993,
          156.570007,
          154.660004,
          156.020004,
          154.830002,
          157.339996,
          157.770004,
          157.190002,
          157.320007,
          157.720001,
          161.520004,
          161.490005,
          160.639999,
          167.119995,
          168.610001,
          174.580002,
          170.75,
          171.800003,
          173.919998,
          174.419998,
          177.720001,
          184.589996,
          177.669998,
          171.649994,
          172.360001,
          173.889999,
          179.100006,
          177.720001,
          177.869995,
          182.899994,
          177.080002,
          181.809998,
          176.669998,
          178.539993,
          177.210007,
          174.399994,
          173.309998,
          175.779999,
          173.589996,
          169.050003,
          157.580002,
          160.630005,
          156.220001,
          157.699997,
          160.960007,
          157.639999,
          159.460007,
          160.490005,
          163.270004,
          162.100006,
          163.259995,
          162.300003,
          162.619995,
          161.839996,
          159.869995,
          157.770004,
          161.020004,
          165.589996,
          167.399994,
          169.550003,
          167.339996,
          167.380005,
          169.059998,
          171.720001,
          170.850006,
          174.979996,
          173.529999,
          172.070007,
          171.139999,
          173.960007,
          173.199997,
          173.360001,
          171.509995,
          167.100006,
          167.619995,
          163.5,
          165.309998,
          164.830002,
          163.399994,
          166.630005,
          166.880005,
          170.130005,
          169.630005,
          169.820007,
          167.320007,
          168.179993,
          169.399994,
          165.979996,
          166.399994,
          161.990005,
          158.449997,
          152.889999,
          152.330002,
          155.229996,
          154.869995,
          156.979996,
          157.160004,
          156.039993,
          156.309998,
          154.910004,
          151.029999,
          150.339996,
          151.990005,
          155.919998,
          156.710007,
          157.779999,
          157.199997,
          156.5,
          158.639999,
          159.669998,
          160.380005,
          159.259995,
          160.5,
          161.600006,
          161.220001,
          162.070007,
          163.160004,
          162.009995,
          166.419998,
          167.270004,
          168.970001,
          168.029999,
          169.309998,
          169.559998,
          171.050003,
          167.639999,
          167.179993,
          169.699997,
          168.5,
          168.020004,
          167.139999,
          167.509995,
          167.119995,
          168.110001,
          168,
          167.350006,
          171.020004,
          172.940002,
          173.020004,
          172.229996,
          171.699997,
          173.490005,
          164.289993,
          166.610001,
          166.339996,
          165.649994,
          162.699997,
          163.630005,
          165.279999,
          166.380005,
          165.070007,
          162.300003,
          159.570007,
          161.080002,
          161.300003,
          161.589996,
          160.130005,
          160.210007,
          159.570007,
          161.529999,
          164.399994,
          163.240005,
          161.509995,
          161.279999,
          162.940002,
          159.889999,
          157.210007,
          158.309998,
          159.369995,
          161.100006,
          161.070007,
          162.699997,
          160.460007,
          160.25,
          159.309998,
          159.429993,
          159.070007,
          159.300003,
          159.619995,
          161.029999,
          161.880005,
          161.320007,
          160.589996,
          158.970001,
          159.080002,
          156,
          154.470001,
          154.770004,
          151.330002,
          149.740005,
          149.460007,
          152.800003,
          154.649994,
          152.080002,
          151.619995,
          151.410004,
          151.020004,
          151.910004,
          151.619995,
          157.320007,
          157.139999,
          157.210007,
          154.5,
          155.360001,
          156.460007,
          157.119995,
          157.75,
          157.929993,
          157.160004,
          155.970001,
          152.020004,
          153.759995,
          152.619995,
          152.830002,
          151.050003,
          155.089996,
          157.460007,
          155.679993,
          154.039993,
          152.149994,
          152.990005,
          152.589996,
          154.210007,
          153.470001,
          153.050003,
          153.380005,
          153.029999,
          153.520004,
          155.669998,
          156.770004,
          157.429993,
          156.490005,
          155.139999,
          154.130005,
          156.300003,
          156.279999,
          156.479996,
          156.990005,
          155.990005,
          155.130005,
          155.630005,
          156.559998,
          157.259995,
          158.830002,
          160.539993,
          161.889999,
          161.360001,
          161.639999,
          160.589996,
          160.520004,
          164.479996,
          164.309998,
          164.889999,
          167.289993,
          167.899994,
          167.919998,
          171.309998,
          170.399994,
          171.720001,
          171.740005,
          171.470001,
          171.050003,
          170.770004,
          169.809998,
          172.339996,
          172.289993,
          172.100006,
          172.410004,
          173.610001,
          172.050003,
          170.990005,
          170.839996,
          171.320007,
          168.350006,
          169.419998,
          169.539993,
          168.789993,
          167.580002,
          165.429993,
          164.860001,
          166.020004,
          166.830002,
          166.070007,
          162.600006,
          163.229996,
          166.300003,
          166.490005,
          167.990005,
          167.820007,
          167.449997,
          167.100006,
          167.139999,
          166.089996,
          165.880005,
          167.869995,
          167.389999,
          167.559998,
          169.610001,
          169.429993,
          168.710007,
          166.550003,
          167.179993,
          166.050003,
          166.130005,
          164.119995,
          164.5,
          165.160004,
          165.800003,
          165.649994,
          165.770004,
          164.369995,
          164.130005,
          164.440002,
          162.080002,
          161.690002,
          159.729996,
          160.330002,
          160.619995,
          160.779999,
          161.160004,
          160.539993,
          162.020004,
          163.169998,
          161.199997,
          160.440002,
          159.429993,
          160.559998,
          160.490005,
          161.979996,
          161.059998,
          161.539993,
          162.559998,
          162.649994,
          163.350006,
          163.089996,
          163.669998,
          163.210007,
          161.419998,
          160.649994,
          160.289993,
          160.990005,
          162.190002,
          161.199997,
          161.449997,
          162,
          161.960007,
          162.389999,
          161.839996,
          161.570007,
          159.699997,
          159.889999,
          159.050003,
          158.350006,
          155.759995,
          155.330002,
          151.440002,
          152.619995,
          152.970001,
          154.339996,
          156.220001,
          154.570007,
          153,
          152.440002,
          152.300003,
          152.380005,
          153.229996,
          152.690002,
          152.710007,
          152.990005,
          154.190002,
          153.660004,
          153.679993,
          154,
          155.380005,
          156.080002,
          155.369995,
          156.25,
          155.550003,
          155.240005,
          154.720001,
          155.360001,
          154.449997,
          154.669998,
          152.429993,
          150.729996,
          150.289993,
          152.160004,
          153.339996,
          150.75,
          151.050003,
          131.309998,
          132.800003,
          132.869995,
          134.300003,
          137.899994,
          136.880005,
          138.369995,
          141.630005,
          142.300003,
          142.770004,
          141.110001,
          141.919998,
          142.149994,
          140.380005,
          142.460007,
          140.809998,
          138.429993,
          137.809998,
          134.630005,
          134.089996,
          135.119995,
          132.880005,
          131.940002,
          134.610001,
          133.490005,
          134.830002,
          136.699997,
          136.509995,
          135.229996,
          135.520004,
          136.529999,
          133.940002,
          133.25,
          134.25,
          133.740005,
          133.770004,
          132.130005,
          130.589996,
          123.599998,
          123.93,
          123.470001,
          118.279999,
          115.940002,
          121.129997,
          120.050003,
          120.739998,
          119.510002,
          120.620003,
          120.949997,
          124.239998,
          124.18,
          124.889999,
          123.32,
          124.010002,
          128.839996,
          129.710007,
          127.480003,
          128.669998,
          128.470001,
          128.119995,
          127.959999,
          126.610001,
          125.699997,
          123.970001,
          124.150002,
          126.860001,
          129.130005,
          127.739998,
          129,
          131.690002,
          132.009995,
          132.449997,
          132.070007,
          132.809998,
          135.449997,
          136.75,
          136.710007,
          135.869995,
          136.419998,
          134.660004,
          132.199997,
          133.910004,
          131.740005,
          131.699997,
          127.669998,
          126.449997,
          126.5,
          132.009995,
          131.75,
          127.550003,
          127.660004,
          128.789993,
          127.790001,
          128.179993,
          124.589996,
          127.059998,
          127.18,
          127.400002,
          126.110001,
          124.269997,
          122.830002,
          123.730003,
          123.540001,
          127.419998,
          126.980003,
          129.339996,
          128.690002,
          129.899994,
          130.559998,
          129.770004,
          129.600006,
          127.739998,
          126.949997,
          126.809998,
          126.559998,
          127.199997,
          126.160004,
          124.279999,
          123.870003,
          122.449997,
          122.849998,
          124.269997,
          124.32,
          122.900002,
          122.949997,
          120.120003,
          119.940002,
          119.919998,
          120.459999,
          119.82,
          119.459999,
          120.699997,
          117.580002,
          117.959999,
          119.959999,
          118.300003,
          118.550003,
          119.720001,
          121.82,
          120.860001,
          118.290001,
          119.379997,
          119.690002,
          118.650002,
          117.610001,
          114.82,
          115.940002,
          115.57,
          116.099998,
          116.739998,
          117.120003,
          115.389999,
          116.120003,
          118,
          119.290001,
          119.5,
          118.82,
          118.120003,
          118.459999,
          120.260002,
          121.019997,
          119.889999,
          119.660004,
          119.790001,
          120.93,
          119.699997,
          119.190002,
          121.790001,
          122.290001,
          120.959999,
          120.949997,
          122.470001,
          119.769997,
          120.089996,
          121.32,
          120.989998,
          121.290001,
          121.239998,
          122.169998,
          122.919998,
          124.360001,
          124.43,
          125.489998,
          127.150002,
          127.400002,
          126.269997,
          127.599998,
          127.580002,
          128.990005,
          129.210007,
          128.110001,
          128.199997,
          127.620003,
          130.289993,
          128.679993,
          128.889999,
          130.169998,
          129.089996,
          129.130005,
          129.860001,
          131.759995,
          132.210007,
          133.100006,
          131.639999,
          130.619995,
          128.089996,
          127.860001,
          128.470001,
          126.18,
          126.410004,
          125.410004,
          124.589996,
          124.559998,
          123.610001,
          123.389999,
          124.32,
          123.919998,
          124.910004,
          126.089996,
          126.32,
          127.010002,
          127.849998,
          125.489998,
          125.540001,
          124.75,
          124.239998,
          123.779999,
          123.760002,
          124.559998,
          124.879997,
          124.860001,
          124.220001,
          123.800003,
          126.220001,
          125.980003,
          124.169998,
          124.169998,
          124.940002,
          124.599998,
          125.809998,
          124.769997,
          124.580002,
          124.690002,
          124.389999,
          124.669998,
          121.849998,
          121.199997,
          120.940002,
          119.699997,
          120.010002,
          119.760002,
          120.660004,
          120.650002,
          121.389999,
          121.410004,
          122.639999,
          122.419998,
          122.279999,
          122.669998,
          126.940002,
          126.849998,
          126.980003,
          126.989998,
          126.730003,
          128.039993,
          127.699997,
          127.699997,
          127.160004,
          127.019997,
          127.07,
          127.839996,
          128.539993,
          125.720001,
          124.529999,
          124.970001,
          127.089996,
          126.339996,
          125.739998,
          125.620003,
          124.349998,
          125.580002,
          125.199997,
          124.830002,
          123.389999,
          123.989998,
          123.870003,
          125.669998,
          126.18,
          125.959999,
          125.989998,
          126.199997,
          126.309998,
          124.959999,
          124.68,
          124.220001,
          122.879997,
          122.739998,
          123.349998,
          123.32,
          124,
          121.650002,
          122.150002,
          121.480003,
          120.730003,
          120.870003,
          120.260002,
          119.470001,
          118.639999,
          118.830002,
          117.540001,
          117.779999,
          116.849998,
          117.599998,
          117.050003,
          117.389999,
          117.029999,
          116.209999,
          116.769997,
          116.739998,
          116.029999,
          116.360001,
          117.470001,
          117.639999,
          118.519997,
          118.589996,
          118.989998,
          119.220001,
          119.800003,
          120.019997,
          119.339996,
          118.519997,
          118.059998,
          118.099998,
          116.410004,
          115.190002,
          112.660004,
          112.150002,
          112.220001,
          109.790001,
          109.879997,
          112.970001,
          110.459999,
          112.040001,
          111.5,
          111.669998,
          114.470001,
          114.050003,
          115.050003,
          113.68,
          114.860001,
          115.389999,
          115.110001,
          115.379997,
          115.160004,
          112.110001,
          116.580002,
          115.139999,
          116.330002,
          115.879997,
          114.43,
          115.779999,
          118.190002,
          117.959999,
          117.690002,
          117.410004,
          114.389999,
          114.949997,
          114.269997,
          115.150002,
          114.769997,
          112.550003,
          112.739998,
          112.769997,
          114.830002,
          113.669998,
          115.199997,
          113.580002,
          114.080002,
          115.800003,
          117.120003,
          116.43,
          115.940002,
          117.260002,
          118.559998,
          118.160004,
          117.970001,
          120.940002,
          122.519997,
          124.199997,
          124.230003,
          125.230003,
          124.230003,
          122.989998,
          124.400002,
          123.419998,
          120.760002,
          123.449997,
          122.419998,
          121.050003,
          121.580002,
          121.790001,
          118.639999,
          119.169998,
          118.470001,
          117.07,
          117.339996,
          117.980003,
          116.010002,
          116.339996,
          115.940002,
          115.279999,
          115.43,
          115.260002,
          115.699997,
          116.07,
          116.160004,
          115.68,
          115.470001,
          115.110001,
          115,
          111.860001,
          111.970001,
          111.419998,
          110.75,
          110.720001,
          110.879997,
          110.809998,
          110.209999,
          112.370003,
          112.290001,
          113.57,
          114.290001,
          114.57,
          114.730003,
          115.480003,
          115.059998,
          113.75,
          113.660004,
          115.599998,
          115.279999,
          116.690002,
          116.110001,
          115.470001,
          114.669998,
          115.139999,
          114.440002,
          115.43,
          115.029999,
          114.720001,
          115.379997,
          113.830002,
          114.660004,
          115.330002,
          116.330002,
          115.510002,
          113.470001,
          114.099998,
          114.419998,
          114.360001,
          113.419998,
          113.529999,
          114.5,
          116.550003,
          117.18,
          117.519997,
          115.889999,
          116.080002,
          115.690002,
          113.910004,
          113.889999,
          114.019997,
          114,
          114.459999,
          113.639999,
          112.839996,
          112.57,
          112.82,
          113.779999,
          113.260002,
          113.730003,
          113.32,
          113.849998,
          115.32,
          113.639999,
          112.889999,
          112.589996,
          112.440002,
          113.07,
          112.370003,
          111.980003,
          111.760002,
          112.059998,
          110.760002,
          111.089996,
          111.360001,
          110.989998,
          110.739998,
          110.160004,
          109.760002,
          105.699997,
          105.370003,
          104.800003,
          104.330002,
          104.860001,
          105.019997,
          105.169998,
          104.269997,
          104.099998,
          104.309998,
          103.93,
          104.389999,
          105.720001,
          106.260002,
          107.75,
          106.860001,
          107.129997,
          107.110001,
          108.550003,
          110.440002,
          110.529999,
          109.160004,
          107.669998,
          107.730003,
          108.82,
          109.199997,
          108.620003,
          107.839996,
          107.519997,
          106.129997,
          106.379997,
          106.220001,
          105.900002,
          107.309998,
          108.410004,
          107.790001,
          108.220001,
          110.489998,
          108.419998,
          107.980003,
          106.860001,
          106.730003,
          108.769997,
          109.860001,
          109.699997,
          109.139999,
          111.309998,
          111.860001,
          113.809998,
          113.290001,
          112.019997,
          112.730003,
          111.730003,
          111.690002,
          111.43,
          111.68,
          110.75,
          109.720001,
          109.300003,
          108.589996,
          106.980003,
          105.970001,
          105.639999,
          104.099998,
          104.400002,
          104.18,
          103.830002,
          103.849998,
          103.559998,
          103.709999,
          102.339996,
          102.43,
          103.559998,
          103.089996,
          102.260002,
          102.940002,
          102.459999,
          101.25,
          101.919998,
          102.279999,
          100.690002,
          101.760002,
          104.019997,
          102.669998,
          102.839996,
          102.639999,
          102.550003,
          103.110001,
          101.790001,
          101.519997,
          102.75,
          100.5,
          102.040001,
          103.150002,
          102.610001,
          102.309998,
          103.050003,
          102.269997,
          102.199997,
          101.419998,
          101.459999,
          102.889999,
          103.18,
          104.669998,
          106.150002,
          105.68,
          104.739998,
          104.209999,
          104.720001,
          103.019997,
          104.080002,
          103.980003,
          105.370003,
          105.489998,
          105,
          106.080002,
          107.290001,
          107.690002,
          106.540001,
          106.949997,
          108.050003,
          108.089996,
          109.25,
          110.57,
          112.32,
          113.830002,
          113.580002,
          114.459999,
          119.059998,
          118.360001,
          114.769997,
          115.480003,
          118.290001,
          117.580002,
          115.489998,
          117.220001,
          117.610001,
          117.919998,
          117.110001,
          118.639999,
          117.769997,
          118.68,
          120.730003,
          120.540001,
          121.139999,
          120.580002,
          119.580002,
          121.5,
          119.410004,
          117.870003,
          117.959999,
          120.589996,
          120.129997,
          119.800003,
          118.959999,
          119.309998,
          116.610001,
          116.330002,
          116.599998,
          118.760002,
          117.099998,
          117.639999,
          116.150002,
          117.660004,
          116.940002,
          118.610001,
          120.029999,
          120.050003,
          118.769997,
          117.110001,
          117.739998,
          119.580002,
          118.970001,
          119.419998,
          118.230003,
          118.699997,
          119.040001,
          121.290001,
          123.239998,
          122.959999,
          122.209999,
          122.07,
          120.650002,
          120.980003,
          122.120003,
          121.160004,
          121.800003,
          122.220001,
          120.099998,
          119.870003,
          119.370003,
          117.300003,
          116.980003,
          116.580002,
          116.059998,
          115.940002,
          115.669998,
          118.919998,
          118.82,
          120.580002,
          121.25,
          122.639999,
          122.769997,
          123.68,
          122.379997,
          123.209999,
          120.839996,
          120.900002,
          120.110001,
          126.68,
          125.32,
          125.839996,
          126.470001,
          129.470001,
          130.229996,
          129.740005,
          129.289993,
          127.150002,
          128.320007,
          127.330002,
          127.040001,
          127.209999,
          125.389999,
          127.300003,
          125.470001,
          126,
          128.029999,
          127.660004,
          129.220001,
          130.270004,
          129.649994,
          129.869995,
          127.440002,
          127.959999,
          128.559998,
          127.669998,
          127.839996,
          128.470001,
          128.5,
          129.110001,
          127.779999,
          127.760002,
          126.339996,
          126.230003,
          126.300003,
          125.029999,
          124.779999,
          125.290001,
          128.710007,
          128.270004,
          127.589996,
          126.589996,
          125.75,
          126.18,
          125.370003,
          125.32,
          125.440002,
          127.269997,
          127.57,
          127.550003,
          126.620003,
          126.220001,
          126.07,
          125.32,
          120.970001,
          120.779999,
          119.660004,
          120.160004,
          119.550003,
          119.739998,
          120.029999,
          119.68,
          120.419998,
          121.110001,
          120.739998,
          120.559998,
          121.470001,
          120.790001,
          121.010002,
          121.940002,
          122.730003,
          123.639999,
          124.300003,
          124.389999,
          122.150002,
          121.639999,
          121.559998,
          119.75,
          117.099998,
          116.110001,
          117.120003,
          116.769997,
          116.169998,
          115.150002,
          115.580002,
          115.540001,
          113.25,
          112.610001,
          113.800003,
          113.269997,
          111.75,
          111.540001,
          112.139999,
          111.540001,
          111.43,
          111.830002,
          111.57,
          110.400002,
          110.82,
          110.449997,
          108.830002,
          107.339996,
          108.050003,
          108.589996,
          107.790001,
          107.849998,
          107.589996,
          107.93,
          108.559998,
          108.860001,
          110.290001,
          109.610001,
          110.470001,
          110.860001,
          112.580002,
          111.75,
          112.669998,
          113.150002,
          113.5,
          113.910004,
          114.209999,
          115.849998,
          114.870003,
          114.769997,
          115.050003,
          115.790001,
          115.269997,
          114.32,
          113.260002,
          113.489998,
          113.970001,
          115.550003,
          115.199997,
          115.839996,
          116.129997,
          117.699997,
          117.459999,
          118.190002,
          117.290001,
          117.599998,
          116.800003,
          116.93,
          117.449997,
          118.080002,
          117.68,
          117.75,
          117.910004,
          118.940002,
          119.699997,
          119.120003,
          119.230003,
          119.059998,
          117.580002,
          117.510002,
          116.720001,
          115.779999,
          115.059998,
          114.470001,
          114.720001,
          114.739998,
          114.120003,
          116.25,
          116.730003,
          116.989998,
          117.510002,
          118.540001,
          118.830002,
          118.669998,
          118.860001,
          119.529999,
          119.040001,
          119.330002,
          118.470001,
          119.349998,
          119.620003,
          119.620003,
          119.18,
          119.459999,
          121.190002,
          122.019997,
          122.599998,
          122.239998,
          122.82,
          121.730003,
          121.959999,
          121.480003,
          120.25,
          120.839996,
          120.389999,
          119.669998,
          119.650002,
          117.980003,
          116.790001,
          116.75,
          116.050003,
          116.040001,
          116.5,
          117.139999,
          117.650002,
          119.790001,
          118.809998,
          119.900002,
          119.139999,
          119.610001,
          119.480003,
          120.139999,
          120.620003,
          120.720001,
          121.730003,
          123.099998,
          122.449997,
          121.650002,
          120.360001,
          120.480003,
          119.82,
          119.32,
          118.43,
          118.18,
          118.519997,
          118.919998,
          118.360001,
          118.809998,
          118.900002,
          118.32,
          116.089996,
          116.519997,
          116.470001,
          115.620003,
          116.029999,
          115.82,
          117.290001,
          118.110001,
          118.080002,
          118.239998,
          119.309998,
          118.919998,
          119.879997,
          119.790001,
          120.75,
          120.650002,
          120.400002,
          120.589996,
          119.510002,
          119.860001,
          121.309998,
          122.209999,
          121.919998,
          120.980003,
          121.870003,
          122.489998,
          122.760002,
          122.209999,
          122.669998,
          122.290001,
          124.690002,
          124.419998,
          124.360001,
          125.82,
          127.459999,
          126.809998,
          128.130005,
          126.190002,
          126.559998,
          125.610001,
          126.160004,
          124.360001,
          124.620003,
          123.620003,
          122.68,
          124.529999,
          123.139999,
          121.980003,
          122.209999,
          120.769997,
          120.830002,
          121.169998,
          120.519997,
          122.080002,
          122.400002,
          122.790001,
          122.889999,
          122.970001,
          122.129997,
          121.669998,
          122.389999,
          121.800003,
          121.330002,
          121.349998,
          120.330002,
          121.129997,
          120.669998,
          121.110001,
          121.190002,
          120.620003,
          121.650002,
          121.209999,
          121.629997,
          122.129997,
          121.129997,
          121.309998,
          121.559998,
          121.410004,
          121.309998,
          121.510002,
          122.629997,
          122.32,
          122.830002,
          122.809998,
          122.040001,
          121.099998,
          121.589996,
          121.18,
          120.32,
          120.07,
          118.489998,
          118.480003,
          118.010002,
          118.150002,
          119.169998,
          118.93,
          119.18,
          119.730003,
          119.82,
          120.139999,
          120.309998,
          120.940002,
          121.769997,
          122.230003,
          122.849998,
          123.650002,
          125.150002,
          124.82,
          125.459999,
          125.330002,
          125.309998,
          124.730003,
          125.029999,
          125.440002,
          126.959999,
          127.169998,
          126.139999,
          125.860001,
          126.419998,
          126.650002,
          127.279999,
          128.830002,
          127.970001,
          128.070007,
          127.349998,
          126.800003,
          127.650002,
          128.070007,
          126.389999,
          126.709999,
          125.379997,
          124.790001,
          124.980003,
          124.769997,
          125.370003,
          126.080002,
          128.229996,
          128.380005,
          127.959999,
          126.239998,
          125.660004,
          126.300003,
          126.139999,
          126.449997,
          125.129997,
          125,
          124.720001,
          125.389999,
          125.18,
          126.529999,
          125.720001,
          125.419998,
          125.540001,
          125.540001,
          125.779999,
          125.699997,
          124.900002,
          124.599998,
          124.870003,
          124.309998,
          126.480003,
          125.980003,
          127.610001,
          128.279999,
          127.489998,
          125.730003,
          125.790001,
          127.260002,
          126.300003,
          126.449997,
          125.800003,
          126.82,
          127.120003,
          128.110001,
          126.620003,
          127.629997,
          127.75,
          127.849998,
          127.599998,
          125.620003,
          126.230003,
          125.410004,
          124.970001,
          124.589996,
          123.709999,
          123.650002,
          124.279999,
          124.57,
          124.589996,
          124.330002,
          125.18,
          124.489998,
          122.5438
         ],
         "yaxis": "y"
        }
       ],
       "layout": {
        "legend": {
         "tracegroupgap": 0
        },
        "template": {
         "data": {
          "bar": [
           {
            "error_x": {
             "color": "#2a3f5f"
            },
            "error_y": {
             "color": "#2a3f5f"
            },
            "marker": {
             "line": {
              "color": "#E5ECF6",
              "width": 0.5
             },
             "pattern": {
              "fillmode": "overlay",
              "size": 10,
              "solidity": 0.2
             }
            },
            "type": "bar"
           }
          ],
          "barpolar": [
           {
            "marker": {
             "line": {
              "color": "#E5ECF6",
              "width": 0.5
             },
             "pattern": {
              "fillmode": "overlay",
              "size": 10,
              "solidity": 0.2
             }
            },
            "type": "barpolar"
           }
          ],
          "carpet": [
           {
            "aaxis": {
             "endlinecolor": "#2a3f5f",
             "gridcolor": "white",
             "linecolor": "white",
             "minorgridcolor": "white",
             "startlinecolor": "#2a3f5f"
            },
            "baxis": {
             "endlinecolor": "#2a3f5f",
             "gridcolor": "white",
             "linecolor": "white",
             "minorgridcolor": "white",
             "startlinecolor": "#2a3f5f"
            },
            "type": "carpet"
           }
          ],
          "choropleth": [
           {
            "colorbar": {
             "outlinewidth": 0,
             "ticks": ""
            },
            "type": "choropleth"
           }
          ],
          "contour": [
           {
            "colorbar": {
             "outlinewidth": 0,
             "ticks": ""
            },
            "colorscale": [
             [
              0,
              "#0d0887"
             ],
             [
              0.1111111111111111,
              "#46039f"
             ],
             [
              0.2222222222222222,
              "#7201a8"
             ],
             [
              0.3333333333333333,
              "#9c179e"
             ],
             [
              0.4444444444444444,
              "#bd3786"
             ],
             [
              0.5555555555555556,
              "#d8576b"
             ],
             [
              0.6666666666666666,
              "#ed7953"
             ],
             [
              0.7777777777777778,
              "#fb9f3a"
             ],
             [
              0.8888888888888888,
              "#fdca26"
             ],
             [
              1,
              "#f0f921"
             ]
            ],
            "type": "contour"
           }
          ],
          "contourcarpet": [
           {
            "colorbar": {
             "outlinewidth": 0,
             "ticks": ""
            },
            "type": "contourcarpet"
           }
          ],
          "heatmap": [
           {
            "colorbar": {
             "outlinewidth": 0,
             "ticks": ""
            },
            "colorscale": [
             [
              0,
              "#0d0887"
             ],
             [
              0.1111111111111111,
              "#46039f"
             ],
             [
              0.2222222222222222,
              "#7201a8"
             ],
             [
              0.3333333333333333,
              "#9c179e"
             ],
             [
              0.4444444444444444,
              "#bd3786"
             ],
             [
              0.5555555555555556,
              "#d8576b"
             ],
             [
              0.6666666666666666,
              "#ed7953"
             ],
             [
              0.7777777777777778,
              "#fb9f3a"
             ],
             [
              0.8888888888888888,
              "#fdca26"
             ],
             [
              1,
              "#f0f921"
             ]
            ],
            "type": "heatmap"
           }
          ],
          "heatmapgl": [
           {
            "colorbar": {
             "outlinewidth": 0,
             "ticks": ""
            },
            "colorscale": [
             [
              0,
              "#0d0887"
             ],
             [
              0.1111111111111111,
              "#46039f"
             ],
             [
              0.2222222222222222,
              "#7201a8"
             ],
             [
              0.3333333333333333,
              "#9c179e"
             ],
             [
              0.4444444444444444,
              "#bd3786"
             ],
             [
              0.5555555555555556,
              "#d8576b"
             ],
             [
              0.6666666666666666,
              "#ed7953"
             ],
             [
              0.7777777777777778,
              "#fb9f3a"
             ],
             [
              0.8888888888888888,
              "#fdca26"
             ],
             [
              1,
              "#f0f921"
             ]
            ],
            "type": "heatmapgl"
           }
          ],
          "histogram": [
           {
            "marker": {
             "pattern": {
              "fillmode": "overlay",
              "size": 10,
              "solidity": 0.2
             }
            },
            "type": "histogram"
           }
          ],
          "histogram2d": [
           {
            "colorbar": {
             "outlinewidth": 0,
             "ticks": ""
            },
            "colorscale": [
             [
              0,
              "#0d0887"
             ],
             [
              0.1111111111111111,
              "#46039f"
             ],
             [
              0.2222222222222222,
              "#7201a8"
             ],
             [
              0.3333333333333333,
              "#9c179e"
             ],
             [
              0.4444444444444444,
              "#bd3786"
             ],
             [
              0.5555555555555556,
              "#d8576b"
             ],
             [
              0.6666666666666666,
              "#ed7953"
             ],
             [
              0.7777777777777778,
              "#fb9f3a"
             ],
             [
              0.8888888888888888,
              "#fdca26"
             ],
             [
              1,
              "#f0f921"
             ]
            ],
            "type": "histogram2d"
           }
          ],
          "histogram2dcontour": [
           {
            "colorbar": {
             "outlinewidth": 0,
             "ticks": ""
            },
            "colorscale": [
             [
              0,
              "#0d0887"
             ],
             [
              0.1111111111111111,
              "#46039f"
             ],
             [
              0.2222222222222222,
              "#7201a8"
             ],
             [
              0.3333333333333333,
              "#9c179e"
             ],
             [
              0.4444444444444444,
              "#bd3786"
             ],
             [
              0.5555555555555556,
              "#d8576b"
             ],
             [
              0.6666666666666666,
              "#ed7953"
             ],
             [
              0.7777777777777778,
              "#fb9f3a"
             ],
             [
              0.8888888888888888,
              "#fdca26"
             ],
             [
              1,
              "#f0f921"
             ]
            ],
            "type": "histogram2dcontour"
           }
          ],
          "mesh3d": [
           {
            "colorbar": {
             "outlinewidth": 0,
             "ticks": ""
            },
            "type": "mesh3d"
           }
          ],
          "parcoords": [
           {
            "line": {
             "colorbar": {
              "outlinewidth": 0,
              "ticks": ""
             }
            },
            "type": "parcoords"
           }
          ],
          "pie": [
           {
            "automargin": true,
            "type": "pie"
           }
          ],
          "scatter": [
           {
            "fillpattern": {
             "fillmode": "overlay",
             "size": 10,
             "solidity": 0.2
            },
            "type": "scatter"
           }
          ],
          "scatter3d": [
           {
            "line": {
             "colorbar": {
              "outlinewidth": 0,
              "ticks": ""
             }
            },
            "marker": {
             "colorbar": {
              "outlinewidth": 0,
              "ticks": ""
             }
            },
            "type": "scatter3d"
           }
          ],
          "scattercarpet": [
           {
            "marker": {
             "colorbar": {
              "outlinewidth": 0,
              "ticks": ""
             }
            },
            "type": "scattercarpet"
           }
          ],
          "scattergeo": [
           {
            "marker": {
             "colorbar": {
              "outlinewidth": 0,
              "ticks": ""
             }
            },
            "type": "scattergeo"
           }
          ],
          "scattergl": [
           {
            "marker": {
             "colorbar": {
              "outlinewidth": 0,
              "ticks": ""
             }
            },
            "type": "scattergl"
           }
          ],
          "scattermapbox": [
           {
            "marker": {
             "colorbar": {
              "outlinewidth": 0,
              "ticks": ""
             }
            },
            "type": "scattermapbox"
           }
          ],
          "scatterpolar": [
           {
            "marker": {
             "colorbar": {
              "outlinewidth": 0,
              "ticks": ""
             }
            },
            "type": "scatterpolar"
           }
          ],
          "scatterpolargl": [
           {
            "marker": {
             "colorbar": {
              "outlinewidth": 0,
              "ticks": ""
             }
            },
            "type": "scatterpolargl"
           }
          ],
          "scatterternary": [
           {
            "marker": {
             "colorbar": {
              "outlinewidth": 0,
              "ticks": ""
             }
            },
            "type": "scatterternary"
           }
          ],
          "surface": [
           {
            "colorbar": {
             "outlinewidth": 0,
             "ticks": ""
            },
            "colorscale": [
             [
              0,
              "#0d0887"
             ],
             [
              0.1111111111111111,
              "#46039f"
             ],
             [
              0.2222222222222222,
              "#7201a8"
             ],
             [
              0.3333333333333333,
              "#9c179e"
             ],
             [
              0.4444444444444444,
              "#bd3786"
             ],
             [
              0.5555555555555556,
              "#d8576b"
             ],
             [
              0.6666666666666666,
              "#ed7953"
             ],
             [
              0.7777777777777778,
              "#fb9f3a"
             ],
             [
              0.8888888888888888,
              "#fdca26"
             ],
             [
              1,
              "#f0f921"
             ]
            ],
            "type": "surface"
           }
          ],
          "table": [
           {
            "cells": {
             "fill": {
              "color": "#EBF0F8"
             },
             "line": {
              "color": "white"
             }
            },
            "header": {
             "fill": {
              "color": "#C8D4E3"
             },
             "line": {
              "color": "white"
             }
            },
            "type": "table"
           }
          ]
         },
         "layout": {
          "annotationdefaults": {
           "arrowcolor": "#2a3f5f",
           "arrowhead": 0,
           "arrowwidth": 1
          },
          "autotypenumbers": "strict",
          "coloraxis": {
           "colorbar": {
            "outlinewidth": 0,
            "ticks": ""
           }
          },
          "colorscale": {
           "diverging": [
            [
             0,
             "#8e0152"
            ],
            [
             0.1,
             "#c51b7d"
            ],
            [
             0.2,
             "#de77ae"
            ],
            [
             0.3,
             "#f1b6da"
            ],
            [
             0.4,
             "#fde0ef"
            ],
            [
             0.5,
             "#f7f7f7"
            ],
            [
             0.6,
             "#e6f5d0"
            ],
            [
             0.7,
             "#b8e186"
            ],
            [
             0.8,
             "#7fbc41"
            ],
            [
             0.9,
             "#4d9221"
            ],
            [
             1,
             "#276419"
            ]
           ],
           "sequential": [
            [
             0,
             "#0d0887"
            ],
            [
             0.1111111111111111,
             "#46039f"
            ],
            [
             0.2222222222222222,
             "#7201a8"
            ],
            [
             0.3333333333333333,
             "#9c179e"
            ],
            [
             0.4444444444444444,
             "#bd3786"
            ],
            [
             0.5555555555555556,
             "#d8576b"
            ],
            [
             0.6666666666666666,
             "#ed7953"
            ],
            [
             0.7777777777777778,
             "#fb9f3a"
            ],
            [
             0.8888888888888888,
             "#fdca26"
            ],
            [
             1,
             "#f0f921"
            ]
           ],
           "sequentialminus": [
            [
             0,
             "#0d0887"
            ],
            [
             0.1111111111111111,
             "#46039f"
            ],
            [
             0.2222222222222222,
             "#7201a8"
            ],
            [
             0.3333333333333333,
             "#9c179e"
            ],
            [
             0.4444444444444444,
             "#bd3786"
            ],
            [
             0.5555555555555556,
             "#d8576b"
            ],
            [
             0.6666666666666666,
             "#ed7953"
            ],
            [
             0.7777777777777778,
             "#fb9f3a"
            ],
            [
             0.8888888888888888,
             "#fdca26"
            ],
            [
             1,
             "#f0f921"
            ]
           ]
          },
          "colorway": [
           "#636efa",
           "#EF553B",
           "#00cc96",
           "#ab63fa",
           "#FFA15A",
           "#19d3f3",
           "#FF6692",
           "#B6E880",
           "#FF97FF",
           "#FECB52"
          ],
          "font": {
           "color": "#2a3f5f"
          },
          "geo": {
           "bgcolor": "white",
           "lakecolor": "white",
           "landcolor": "#E5ECF6",
           "showlakes": true,
           "showland": true,
           "subunitcolor": "white"
          },
          "hoverlabel": {
           "align": "left"
          },
          "hovermode": "closest",
          "mapbox": {
           "style": "light"
          },
          "paper_bgcolor": "white",
          "plot_bgcolor": "#E5ECF6",
          "polar": {
           "angularaxis": {
            "gridcolor": "white",
            "linecolor": "white",
            "ticks": ""
           },
           "bgcolor": "#E5ECF6",
           "radialaxis": {
            "gridcolor": "white",
            "linecolor": "white",
            "ticks": ""
           }
          },
          "scene": {
           "xaxis": {
            "backgroundcolor": "#E5ECF6",
            "gridcolor": "white",
            "gridwidth": 2,
            "linecolor": "white",
            "showbackground": true,
            "ticks": "",
            "zerolinecolor": "white"
           },
           "yaxis": {
            "backgroundcolor": "#E5ECF6",
            "gridcolor": "white",
            "gridwidth": 2,
            "linecolor": "white",
            "showbackground": true,
            "ticks": "",
            "zerolinecolor": "white"
           },
           "zaxis": {
            "backgroundcolor": "#E5ECF6",
            "gridcolor": "white",
            "gridwidth": 2,
            "linecolor": "white",
            "showbackground": true,
            "ticks": "",
            "zerolinecolor": "white"
           }
          },
          "shapedefaults": {
           "line": {
            "color": "#2a3f5f"
           }
          },
          "ternary": {
           "aaxis": {
            "gridcolor": "white",
            "linecolor": "white",
            "ticks": ""
           },
           "baxis": {
            "gridcolor": "white",
            "linecolor": "white",
            "ticks": ""
           },
           "bgcolor": "#E5ECF6",
           "caxis": {
            "gridcolor": "white",
            "linecolor": "white",
            "ticks": ""
           }
          },
          "title": {
           "x": 0.05
          },
          "xaxis": {
           "automargin": true,
           "gridcolor": "white",
           "linecolor": "white",
           "ticks": "",
           "title": {
            "standoff": 15
           },
           "zerolinecolor": "white",
           "zerolinewidth": 2
          },
          "yaxis": {
           "automargin": true,
           "gridcolor": "white",
           "linecolor": "white",
           "ticks": "",
           "title": {
            "standoff": 15
           },
           "zerolinecolor": "white",
           "zerolinewidth": 2
          }
         }
        },
        "title": {
         "text": "Динамика цены золота на бирже"
        },
        "xaxis": {
         "anchor": "y",
         "domain": [
          0,
          1
         ],
         "title": {
          "text": "Date"
         }
        },
        "yaxis": {
         "anchor": "x",
         "domain": [
          0,
          1
         ],
         "title": {
          "text": "GLD"
         }
        }
       }
      }
     },
     "metadata": {},
     "output_type": "display_data"
    }
   ],
   "source": [
    "fig = px.line(data, x='Date', y='GLD', title=\"Динамика цены золота на бирже\")\n",
    "fig.show()"
   ]
  },
  {
   "cell_type": "markdown",
   "metadata": {},
   "source": [
    "# PRACTICE"
   ]
  },
  {
   "cell_type": "code",
   "execution_count": 24,
   "metadata": {},
   "outputs": [],
   "source": [
    "import pandas as pd"
   ]
  },
  {
   "cell_type": "code",
   "execution_count": 34,
   "metadata": {},
   "outputs": [],
   "source": [
    "data = pd.read_csv('https://raw.githubusercontent.com/allatambov/R-programming-3/master/seminars/sem8-09-02/demography.csv')"
   ]
  },
  {
   "cell_type": "code",
   "execution_count": 35,
   "metadata": {},
   "outputs": [
    {
     "data": {
      "text/html": [
       "<div>\n",
       "<style scoped>\n",
       "    .dataframe tbody tr th:only-of-type {\n",
       "        vertical-align: middle;\n",
       "    }\n",
       "\n",
       "    .dataframe tbody tr th {\n",
       "        vertical-align: top;\n",
       "    }\n",
       "\n",
       "    .dataframe thead th {\n",
       "        text-align: right;\n",
       "    }\n",
       "</style>\n",
       "<table border=\"1\" class=\"dataframe\">\n",
       "  <thead>\n",
       "    <tr style=\"text-align: right;\">\n",
       "      <th></th>\n",
       "      <th>region</th>\n",
       "      <th>district</th>\n",
       "      <th>empl_total</th>\n",
       "      <th>A_agro</th>\n",
       "      <th>B_fish</th>\n",
       "      <th>C_fossil</th>\n",
       "      <th>D_proc</th>\n",
       "      <th>E_energy</th>\n",
       "      <th>F_build</th>\n",
       "      <th>G_merc</th>\n",
       "      <th>...</th>\n",
       "      <th>25_29</th>\n",
       "      <th>30_34</th>\n",
       "      <th>35_39</th>\n",
       "      <th>40_44</th>\n",
       "      <th>45_49</th>\n",
       "      <th>50_54</th>\n",
       "      <th>55_59</th>\n",
       "      <th>60_64</th>\n",
       "      <th>65_69</th>\n",
       "      <th>70_plus</th>\n",
       "    </tr>\n",
       "  </thead>\n",
       "  <tbody>\n",
       "    <tr>\n",
       "      <th>0</th>\n",
       "      <td>Белгородская область</td>\n",
       "      <td>Алексеевский муниципальный район и город Алекс...</td>\n",
       "      <td>19027</td>\n",
       "      <td>1824.0</td>\n",
       "      <td>NaN</td>\n",
       "      <td>NaN</td>\n",
       "      <td>6194.0</td>\n",
       "      <td>474.0</td>\n",
       "      <td>242.0</td>\n",
       "      <td>1634.0</td>\n",
       "      <td>...</td>\n",
       "      <td>5380</td>\n",
       "      <td>4849</td>\n",
       "      <td>4413</td>\n",
       "      <td>4378</td>\n",
       "      <td>4047</td>\n",
       "      <td>4729</td>\n",
       "      <td>4910</td>\n",
       "      <td>3890</td>\n",
       "      <td>3026</td>\n",
       "      <td>6426</td>\n",
       "    </tr>\n",
       "    <tr>\n",
       "      <th>1</th>\n",
       "      <td>Белгородская область</td>\n",
       "      <td>Белгородский муниципальный район</td>\n",
       "      <td>19276</td>\n",
       "      <td>4807.0</td>\n",
       "      <td>NaN</td>\n",
       "      <td>NaN</td>\n",
       "      <td>2132.0</td>\n",
       "      <td>1073.0</td>\n",
       "      <td>591.0</td>\n",
       "      <td>1828.0</td>\n",
       "      <td>...</td>\n",
       "      <td>9295</td>\n",
       "      <td>9654</td>\n",
       "      <td>8848</td>\n",
       "      <td>7895</td>\n",
       "      <td>6952</td>\n",
       "      <td>8356</td>\n",
       "      <td>9776</td>\n",
       "      <td>8890</td>\n",
       "      <td>6874</td>\n",
       "      <td>10602</td>\n",
       "    </tr>\n",
       "    <tr>\n",
       "      <th>2</th>\n",
       "      <td>Белгородская область</td>\n",
       "      <td>Борисовский муниципальный район</td>\n",
       "      <td>6558</td>\n",
       "      <td>1073.0</td>\n",
       "      <td>NaN</td>\n",
       "      <td>NaN</td>\n",
       "      <td>1584.0</td>\n",
       "      <td>191.0</td>\n",
       "      <td>35.0</td>\n",
       "      <td>323.0</td>\n",
       "      <td>...</td>\n",
       "      <td>2016</td>\n",
       "      <td>1899</td>\n",
       "      <td>1743</td>\n",
       "      <td>1717</td>\n",
       "      <td>1670</td>\n",
       "      <td>1994</td>\n",
       "      <td>2164</td>\n",
       "      <td>1859</td>\n",
       "      <td>1478</td>\n",
       "      <td>3050</td>\n",
       "    </tr>\n",
       "    <tr>\n",
       "      <th>3</th>\n",
       "      <td>Белгородская область</td>\n",
       "      <td>Город Валуйки и Валуйский муниципальный район</td>\n",
       "      <td>16222</td>\n",
       "      <td>1150.0</td>\n",
       "      <td>NaN</td>\n",
       "      <td>NaN</td>\n",
       "      <td>5123.0</td>\n",
       "      <td>660.0</td>\n",
       "      <td>NaN</td>\n",
       "      <td>345.0</td>\n",
       "      <td>...</td>\n",
       "      <td>4570</td>\n",
       "      <td>5203</td>\n",
       "      <td>5038</td>\n",
       "      <td>4950</td>\n",
       "      <td>4309</td>\n",
       "      <td>4957</td>\n",
       "      <td>5474</td>\n",
       "      <td>4759</td>\n",
       "      <td>3951</td>\n",
       "      <td>7703</td>\n",
       "    </tr>\n",
       "    <tr>\n",
       "      <th>4</th>\n",
       "      <td>Белгородская область</td>\n",
       "      <td>Вейделевский муниципальный район</td>\n",
       "      <td>4030</td>\n",
       "      <td>1309.0</td>\n",
       "      <td>NaN</td>\n",
       "      <td>NaN</td>\n",
       "      <td>19.0</td>\n",
       "      <td>210.0</td>\n",
       "      <td>35.0</td>\n",
       "      <td>111.0</td>\n",
       "      <td>...</td>\n",
       "      <td>1055</td>\n",
       "      <td>1189</td>\n",
       "      <td>1191</td>\n",
       "      <td>1474</td>\n",
       "      <td>1536</td>\n",
       "      <td>1845</td>\n",
       "      <td>1823</td>\n",
       "      <td>1397</td>\n",
       "      <td>1149</td>\n",
       "      <td>2229</td>\n",
       "    </tr>\n",
       "    <tr>\n",
       "      <th>5</th>\n",
       "      <td>Белгородская область</td>\n",
       "      <td>Волоконовский муниципальный район</td>\n",
       "      <td>5450</td>\n",
       "      <td>1702.0</td>\n",
       "      <td>NaN</td>\n",
       "      <td>NaN</td>\n",
       "      <td>413.0</td>\n",
       "      <td>320.0</td>\n",
       "      <td>NaN</td>\n",
       "      <td>116.0</td>\n",
       "      <td>...</td>\n",
       "      <td>2095</td>\n",
       "      <td>2096</td>\n",
       "      <td>1994</td>\n",
       "      <td>2120</td>\n",
       "      <td>2094</td>\n",
       "      <td>2567</td>\n",
       "      <td>2629</td>\n",
       "      <td>2118</td>\n",
       "      <td>1804</td>\n",
       "      <td>4048</td>\n",
       "    </tr>\n",
       "    <tr>\n",
       "      <th>6</th>\n",
       "      <td>Белгородская область</td>\n",
       "      <td>Грайворонский муниципальный район</td>\n",
       "      <td>5532</td>\n",
       "      <td>1354.0</td>\n",
       "      <td>NaN</td>\n",
       "      <td>NaN</td>\n",
       "      <td>295.0</td>\n",
       "      <td>176.0</td>\n",
       "      <td>NaN</td>\n",
       "      <td>64.0</td>\n",
       "      <td>...</td>\n",
       "      <td>2468</td>\n",
       "      <td>2162</td>\n",
       "      <td>1961</td>\n",
       "      <td>2006</td>\n",
       "      <td>1977</td>\n",
       "      <td>2276</td>\n",
       "      <td>2459</td>\n",
       "      <td>1915</td>\n",
       "      <td>1581</td>\n",
       "      <td>3534</td>\n",
       "    </tr>\n",
       "    <tr>\n",
       "      <th>7</th>\n",
       "      <td>Белгородская область</td>\n",
       "      <td>Ивнянский муниципальный район</td>\n",
       "      <td>4761</td>\n",
       "      <td>1629.0</td>\n",
       "      <td>NaN</td>\n",
       "      <td>NaN</td>\n",
       "      <td>558.0</td>\n",
       "      <td>185.0</td>\n",
       "      <td>NaN</td>\n",
       "      <td>53.0</td>\n",
       "      <td>...</td>\n",
       "      <td>1511</td>\n",
       "      <td>1552</td>\n",
       "      <td>1357</td>\n",
       "      <td>1494</td>\n",
       "      <td>1607</td>\n",
       "      <td>1958</td>\n",
       "      <td>2037</td>\n",
       "      <td>1569</td>\n",
       "      <td>1206</td>\n",
       "      <td>2569</td>\n",
       "    </tr>\n",
       "    <tr>\n",
       "      <th>8</th>\n",
       "      <td>Белгородская область</td>\n",
       "      <td>Корочанский муниципальный район</td>\n",
       "      <td>9547</td>\n",
       "      <td>1568.0</td>\n",
       "      <td>NaN</td>\n",
       "      <td>NaN</td>\n",
       "      <td>3144.0</td>\n",
       "      <td>285.0</td>\n",
       "      <td>393.0</td>\n",
       "      <td>135.0</td>\n",
       "      <td>...</td>\n",
       "      <td>2894</td>\n",
       "      <td>2579</td>\n",
       "      <td>2414</td>\n",
       "      <td>2637</td>\n",
       "      <td>2622</td>\n",
       "      <td>3084</td>\n",
       "      <td>3197</td>\n",
       "      <td>2879</td>\n",
       "      <td>2278</td>\n",
       "      <td>5257</td>\n",
       "    </tr>\n",
       "    <tr>\n",
       "      <th>9</th>\n",
       "      <td>Белгородская область</td>\n",
       "      <td>Красненский муниципальный район</td>\n",
       "      <td>2395</td>\n",
       "      <td>690.0</td>\n",
       "      <td>NaN</td>\n",
       "      <td>NaN</td>\n",
       "      <td>NaN</td>\n",
       "      <td>166.0</td>\n",
       "      <td>NaN</td>\n",
       "      <td>NaN</td>\n",
       "      <td>...</td>\n",
       "      <td>813</td>\n",
       "      <td>697</td>\n",
       "      <td>719</td>\n",
       "      <td>853</td>\n",
       "      <td>888</td>\n",
       "      <td>987</td>\n",
       "      <td>996</td>\n",
       "      <td>691</td>\n",
       "      <td>570</td>\n",
       "      <td>2160</td>\n",
       "    </tr>\n",
       "    <tr>\n",
       "      <th>10</th>\n",
       "      <td>Белгородская область</td>\n",
       "      <td>Красногвардейский муниципальный район</td>\n",
       "      <td>7350</td>\n",
       "      <td>1977.0</td>\n",
       "      <td>NaN</td>\n",
       "      <td>NaN</td>\n",
       "      <td>801.0</td>\n",
       "      <td>221.0</td>\n",
       "      <td>308.0</td>\n",
       "      <td>90.0</td>\n",
       "      <td>...</td>\n",
       "      <td>2608</td>\n",
       "      <td>2451</td>\n",
       "      <td>2318</td>\n",
       "      <td>2568</td>\n",
       "      <td>2750</td>\n",
       "      <td>3065</td>\n",
       "      <td>3268</td>\n",
       "      <td>2380</td>\n",
       "      <td>1954</td>\n",
       "      <td>5193</td>\n",
       "    </tr>\n",
       "    <tr>\n",
       "      <th>11</th>\n",
       "      <td>Белгородская область</td>\n",
       "      <td>Краснояружский муниципальный район</td>\n",
       "      <td>4334</td>\n",
       "      <td>2003.0</td>\n",
       "      <td>NaN</td>\n",
       "      <td>NaN</td>\n",
       "      <td>351.0</td>\n",
       "      <td>122.0</td>\n",
       "      <td>NaN</td>\n",
       "      <td>59.0</td>\n",
       "      <td>...</td>\n",
       "      <td>1032</td>\n",
       "      <td>1014</td>\n",
       "      <td>971</td>\n",
       "      <td>1083</td>\n",
       "      <td>1034</td>\n",
       "      <td>1138</td>\n",
       "      <td>1149</td>\n",
       "      <td>882</td>\n",
       "      <td>696</td>\n",
       "      <td>1663</td>\n",
       "    </tr>\n",
       "    <tr>\n",
       "      <th>12</th>\n",
       "      <td>Белгородская область</td>\n",
       "      <td>Новооскольский муниципальный район</td>\n",
       "      <td>13647</td>\n",
       "      <td>3598.0</td>\n",
       "      <td>NaN</td>\n",
       "      <td>NaN</td>\n",
       "      <td>3938.0</td>\n",
       "      <td>509.0</td>\n",
       "      <td>193.0</td>\n",
       "      <td>276.0</td>\n",
       "      <td>...</td>\n",
       "      <td>2927</td>\n",
       "      <td>2867</td>\n",
       "      <td>2888</td>\n",
       "      <td>2802</td>\n",
       "      <td>2572</td>\n",
       "      <td>3266</td>\n",
       "      <td>3674</td>\n",
       "      <td>2964</td>\n",
       "      <td>2338</td>\n",
       "      <td>5240</td>\n",
       "    </tr>\n",
       "    <tr>\n",
       "      <th>13</th>\n",
       "      <td>Белгородская область</td>\n",
       "      <td>Прохоровский муниципальный район</td>\n",
       "      <td>6127</td>\n",
       "      <td>1857.0</td>\n",
       "      <td>NaN</td>\n",
       "      <td>NaN</td>\n",
       "      <td>663.0</td>\n",
       "      <td>249.0</td>\n",
       "      <td>NaN</td>\n",
       "      <td>270.0</td>\n",
       "      <td>...</td>\n",
       "      <td>2067</td>\n",
       "      <td>1830</td>\n",
       "      <td>1727</td>\n",
       "      <td>1685</td>\n",
       "      <td>1890</td>\n",
       "      <td>2213</td>\n",
       "      <td>2285</td>\n",
       "      <td>1753</td>\n",
       "      <td>1351</td>\n",
       "      <td>3862</td>\n",
       "    </tr>\n",
       "    <tr>\n",
       "      <th>14</th>\n",
       "      <td>Белгородская область</td>\n",
       "      <td>Ракитянский муниципальный район</td>\n",
       "      <td>8869</td>\n",
       "      <td>1890.0</td>\n",
       "      <td>NaN</td>\n",
       "      <td>NaN</td>\n",
       "      <td>2376.0</td>\n",
       "      <td>189.0</td>\n",
       "      <td>NaN</td>\n",
       "      <td>151.0</td>\n",
       "      <td>...</td>\n",
       "      <td>2598</td>\n",
       "      <td>2544</td>\n",
       "      <td>2329</td>\n",
       "      <td>2384</td>\n",
       "      <td>2233</td>\n",
       "      <td>2751</td>\n",
       "      <td>2871</td>\n",
       "      <td>2466</td>\n",
       "      <td>1693</td>\n",
       "      <td>3864</td>\n",
       "    </tr>\n",
       "    <tr>\n",
       "      <th>15</th>\n",
       "      <td>Белгородская область</td>\n",
       "      <td>Ровеньский муниципальный район</td>\n",
       "      <td>5142</td>\n",
       "      <td>1723.0</td>\n",
       "      <td>NaN</td>\n",
       "      <td>NaN</td>\n",
       "      <td>395.0</td>\n",
       "      <td>190.0</td>\n",
       "      <td>173.0</td>\n",
       "      <td>36.0</td>\n",
       "      <td>...</td>\n",
       "      <td>1709</td>\n",
       "      <td>1730</td>\n",
       "      <td>1636</td>\n",
       "      <td>1668</td>\n",
       "      <td>1635</td>\n",
       "      <td>1853</td>\n",
       "      <td>1956</td>\n",
       "      <td>1535</td>\n",
       "      <td>1192</td>\n",
       "      <td>2473</td>\n",
       "    </tr>\n",
       "    <tr>\n",
       "      <th>16</th>\n",
       "      <td>Белгородская область</td>\n",
       "      <td>Чернянский муниципальный район</td>\n",
       "      <td>5997</td>\n",
       "      <td>1520.0</td>\n",
       "      <td>NaN</td>\n",
       "      <td>NaN</td>\n",
       "      <td>611.0</td>\n",
       "      <td>272.0</td>\n",
       "      <td>NaN</td>\n",
       "      <td>123.0</td>\n",
       "      <td>...</td>\n",
       "      <td>2262</td>\n",
       "      <td>2401</td>\n",
       "      <td>2226</td>\n",
       "      <td>2209</td>\n",
       "      <td>2183</td>\n",
       "      <td>2498</td>\n",
       "      <td>2624</td>\n",
       "      <td>2023</td>\n",
       "      <td>1577</td>\n",
       "      <td>3450</td>\n",
       "    </tr>\n",
       "    <tr>\n",
       "      <th>17</th>\n",
       "      <td>Белгородская область</td>\n",
       "      <td>Шебекинский муниципальный район и город Шебекино</td>\n",
       "      <td>17482</td>\n",
       "      <td>2393.0</td>\n",
       "      <td>NaN</td>\n",
       "      <td>NaN</td>\n",
       "      <td>4811.0</td>\n",
       "      <td>769.0</td>\n",
       "      <td>332.0</td>\n",
       "      <td>637.0</td>\n",
       "      <td>...</td>\n",
       "      <td>6877</td>\n",
       "      <td>6724</td>\n",
       "      <td>6200</td>\n",
       "      <td>5940</td>\n",
       "      <td>5693</td>\n",
       "      <td>6974</td>\n",
       "      <td>7464</td>\n",
       "      <td>6589</td>\n",
       "      <td>5458</td>\n",
       "      <td>10860</td>\n",
       "    </tr>\n",
       "    <tr>\n",
       "      <th>18</th>\n",
       "      <td>Белгородская область</td>\n",
       "      <td>Яковлевский муниципальный район</td>\n",
       "      <td>14175</td>\n",
       "      <td>1504.0</td>\n",
       "      <td>NaN</td>\n",
       "      <td>NaN</td>\n",
       "      <td>3353.0</td>\n",
       "      <td>564.0</td>\n",
       "      <td>84.0</td>\n",
       "      <td>1372.0</td>\n",
       "      <td>...</td>\n",
       "      <td>4348</td>\n",
       "      <td>4622</td>\n",
       "      <td>4275</td>\n",
       "      <td>3993</td>\n",
       "      <td>3293</td>\n",
       "      <td>4099</td>\n",
       "      <td>4822</td>\n",
       "      <td>4320</td>\n",
       "      <td>3469</td>\n",
       "      <td>5665</td>\n",
       "    </tr>\n",
       "    <tr>\n",
       "      <th>19</th>\n",
       "      <td>Калужская область</td>\n",
       "      <td>Бабынинский муниципальный район</td>\n",
       "      <td>3566</td>\n",
       "      <td>NaN</td>\n",
       "      <td>NaN</td>\n",
       "      <td>NaN</td>\n",
       "      <td>1611.0</td>\n",
       "      <td>123.0</td>\n",
       "      <td>NaN</td>\n",
       "      <td>78.0</td>\n",
       "      <td>...</td>\n",
       "      <td>1498</td>\n",
       "      <td>1251</td>\n",
       "      <td>1172</td>\n",
       "      <td>1225</td>\n",
       "      <td>1370</td>\n",
       "      <td>1566</td>\n",
       "      <td>1607</td>\n",
       "      <td>1205</td>\n",
       "      <td>1024</td>\n",
       "      <td>1772</td>\n",
       "    </tr>\n",
       "    <tr>\n",
       "      <th>20</th>\n",
       "      <td>Калужская область</td>\n",
       "      <td>Барятинский муниципальный район</td>\n",
       "      <td>561</td>\n",
       "      <td>NaN</td>\n",
       "      <td>NaN</td>\n",
       "      <td>NaN</td>\n",
       "      <td>NaN</td>\n",
       "      <td>NaN</td>\n",
       "      <td>NaN</td>\n",
       "      <td>33.0</td>\n",
       "      <td>...</td>\n",
       "      <td>422</td>\n",
       "      <td>473</td>\n",
       "      <td>407</td>\n",
       "      <td>456</td>\n",
       "      <td>366</td>\n",
       "      <td>457</td>\n",
       "      <td>544</td>\n",
       "      <td>429</td>\n",
       "      <td>287</td>\n",
       "      <td>731</td>\n",
       "    </tr>\n",
       "    <tr>\n",
       "      <th>21</th>\n",
       "      <td>Калужская область</td>\n",
       "      <td>Боровский муниципальный район</td>\n",
       "      <td>15249</td>\n",
       "      <td>133.0</td>\n",
       "      <td>NaN</td>\n",
       "      <td>NaN</td>\n",
       "      <td>9442.0</td>\n",
       "      <td>255.0</td>\n",
       "      <td>NaN</td>\n",
       "      <td>825.0</td>\n",
       "      <td>...</td>\n",
       "      <td>5597</td>\n",
       "      <td>5357</td>\n",
       "      <td>4858</td>\n",
       "      <td>4587</td>\n",
       "      <td>3983</td>\n",
       "      <td>4322</td>\n",
       "      <td>4526</td>\n",
       "      <td>3880</td>\n",
       "      <td>3181</td>\n",
       "      <td>5475</td>\n",
       "    </tr>\n",
       "    <tr>\n",
       "      <th>22</th>\n",
       "      <td>Калужская область</td>\n",
       "      <td>Дзержинский муниципальный район</td>\n",
       "      <td>11619</td>\n",
       "      <td>1056.0</td>\n",
       "      <td>NaN</td>\n",
       "      <td>859.0</td>\n",
       "      <td>3821.0</td>\n",
       "      <td>595.0</td>\n",
       "      <td>NaN</td>\n",
       "      <td>313.0</td>\n",
       "      <td>...</td>\n",
       "      <td>4194</td>\n",
       "      <td>4689</td>\n",
       "      <td>4138</td>\n",
       "      <td>3599</td>\n",
       "      <td>3172</td>\n",
       "      <td>4175</td>\n",
       "      <td>4874</td>\n",
       "      <td>3832</td>\n",
       "      <td>2700</td>\n",
       "      <td>5569</td>\n",
       "    </tr>\n",
       "    <tr>\n",
       "      <th>23</th>\n",
       "      <td>Калужская область</td>\n",
       "      <td>Думиничский муниципальный район</td>\n",
       "      <td>1773</td>\n",
       "      <td>NaN</td>\n",
       "      <td>NaN</td>\n",
       "      <td>NaN</td>\n",
       "      <td>264.0</td>\n",
       "      <td>NaN</td>\n",
       "      <td>NaN</td>\n",
       "      <td>63.0</td>\n",
       "      <td>...</td>\n",
       "      <td>977</td>\n",
       "      <td>993</td>\n",
       "      <td>923</td>\n",
       "      <td>979</td>\n",
       "      <td>924</td>\n",
       "      <td>1106</td>\n",
       "      <td>1289</td>\n",
       "      <td>1123</td>\n",
       "      <td>824</td>\n",
       "      <td>1736</td>\n",
       "    </tr>\n",
       "    <tr>\n",
       "      <th>24</th>\n",
       "      <td>Калужская область</td>\n",
       "      <td>Жиздринский муниципальный район</td>\n",
       "      <td>1091</td>\n",
       "      <td>NaN</td>\n",
       "      <td>NaN</td>\n",
       "      <td>NaN</td>\n",
       "      <td>NaN</td>\n",
       "      <td>NaN</td>\n",
       "      <td>NaN</td>\n",
       "      <td>24.0</td>\n",
       "      <td>...</td>\n",
       "      <td>754</td>\n",
       "      <td>674</td>\n",
       "      <td>712</td>\n",
       "      <td>705</td>\n",
       "      <td>732</td>\n",
       "      <td>777</td>\n",
       "      <td>871</td>\n",
       "      <td>727</td>\n",
       "      <td>542</td>\n",
       "      <td>1254</td>\n",
       "    </tr>\n",
       "    <tr>\n",
       "      <th>25</th>\n",
       "      <td>Калужская область</td>\n",
       "      <td>Жуковский муниципальный район</td>\n",
       "      <td>8892</td>\n",
       "      <td>836.0</td>\n",
       "      <td>NaN</td>\n",
       "      <td>NaN</td>\n",
       "      <td>1493.0</td>\n",
       "      <td>244.0</td>\n",
       "      <td>NaN</td>\n",
       "      <td>561.0</td>\n",
       "      <td>...</td>\n",
       "      <td>4526</td>\n",
       "      <td>4658</td>\n",
       "      <td>4022</td>\n",
       "      <td>3422</td>\n",
       "      <td>3212</td>\n",
       "      <td>3922</td>\n",
       "      <td>4156</td>\n",
       "      <td>3558</td>\n",
       "      <td>2464</td>\n",
       "      <td>4395</td>\n",
       "    </tr>\n",
       "    <tr>\n",
       "      <th>26</th>\n",
       "      <td>Калужская область</td>\n",
       "      <td>Кировский муниципальный район</td>\n",
       "      <td>7622</td>\n",
       "      <td>56.0</td>\n",
       "      <td>NaN</td>\n",
       "      <td>NaN</td>\n",
       "      <td>1987.0</td>\n",
       "      <td>571.0</td>\n",
       "      <td>NaN</td>\n",
       "      <td>208.0</td>\n",
       "      <td>...</td>\n",
       "      <td>3187</td>\n",
       "      <td>3098</td>\n",
       "      <td>3037</td>\n",
       "      <td>2944</td>\n",
       "      <td>2716</td>\n",
       "      <td>3220</td>\n",
       "      <td>3753</td>\n",
       "      <td>2680</td>\n",
       "      <td>2021</td>\n",
       "      <td>4087</td>\n",
       "    </tr>\n",
       "    <tr>\n",
       "      <th>27</th>\n",
       "      <td>Калужская область</td>\n",
       "      <td>Износковский муниципальный район</td>\n",
       "      <td>567</td>\n",
       "      <td>NaN</td>\n",
       "      <td>NaN</td>\n",
       "      <td>NaN</td>\n",
       "      <td>NaN</td>\n",
       "      <td>NaN</td>\n",
       "      <td>NaN</td>\n",
       "      <td>24.0</td>\n",
       "      <td>...</td>\n",
       "      <td>505</td>\n",
       "      <td>439</td>\n",
       "      <td>399</td>\n",
       "      <td>461</td>\n",
       "      <td>476</td>\n",
       "      <td>493</td>\n",
       "      <td>521</td>\n",
       "      <td>443</td>\n",
       "      <td>361</td>\n",
       "      <td>976</td>\n",
       "    </tr>\n",
       "    <tr>\n",
       "      <th>28</th>\n",
       "      <td>Калужская область</td>\n",
       "      <td>Козельский муниципальный район</td>\n",
       "      <td>6444</td>\n",
       "      <td>183.0</td>\n",
       "      <td>NaN</td>\n",
       "      <td>NaN</td>\n",
       "      <td>2714.0</td>\n",
       "      <td>396.0</td>\n",
       "      <td>NaN</td>\n",
       "      <td>190.0</td>\n",
       "      <td>...</td>\n",
       "      <td>2991</td>\n",
       "      <td>2556</td>\n",
       "      <td>2469</td>\n",
       "      <td>2405</td>\n",
       "      <td>2213</td>\n",
       "      <td>2765</td>\n",
       "      <td>3412</td>\n",
       "      <td>2614</td>\n",
       "      <td>1986</td>\n",
       "      <td>3724</td>\n",
       "    </tr>\n",
       "    <tr>\n",
       "      <th>29</th>\n",
       "      <td>Калужская область</td>\n",
       "      <td>Куйбышевский муниципальный район</td>\n",
       "      <td>832</td>\n",
       "      <td>NaN</td>\n",
       "      <td>NaN</td>\n",
       "      <td>NaN</td>\n",
       "      <td>NaN</td>\n",
       "      <td>NaN</td>\n",
       "      <td>NaN</td>\n",
       "      <td>20.0</td>\n",
       "      <td>...</td>\n",
       "      <td>597</td>\n",
       "      <td>541</td>\n",
       "      <td>510</td>\n",
       "      <td>516</td>\n",
       "      <td>569</td>\n",
       "      <td>584</td>\n",
       "      <td>685</td>\n",
       "      <td>567</td>\n",
       "      <td>347</td>\n",
       "      <td>1056</td>\n",
       "    </tr>\n",
       "    <tr>\n",
       "      <th>30</th>\n",
       "      <td>Калужская область</td>\n",
       "      <td>Людиновский  муниципальный район</td>\n",
       "      <td>8834</td>\n",
       "      <td>NaN</td>\n",
       "      <td>NaN</td>\n",
       "      <td>NaN</td>\n",
       "      <td>3858.0</td>\n",
       "      <td>565.0</td>\n",
       "      <td>NaN</td>\n",
       "      <td>175.0</td>\n",
       "      <td>...</td>\n",
       "      <td>3223</td>\n",
       "      <td>3366</td>\n",
       "      <td>3288</td>\n",
       "      <td>3076</td>\n",
       "      <td>2785</td>\n",
       "      <td>3370</td>\n",
       "      <td>3872</td>\n",
       "      <td>3112</td>\n",
       "      <td>2205</td>\n",
       "      <td>3918</td>\n",
       "    </tr>\n",
       "    <tr>\n",
       "      <th>31</th>\n",
       "      <td>Калужская область</td>\n",
       "      <td>Малоярославецкий муниципальный район</td>\n",
       "      <td>9709</td>\n",
       "      <td>206.0</td>\n",
       "      <td>NaN</td>\n",
       "      <td>NaN</td>\n",
       "      <td>3754.0</td>\n",
       "      <td>500.0</td>\n",
       "      <td>375.0</td>\n",
       "      <td>703.0</td>\n",
       "      <td>...</td>\n",
       "      <td>3766</td>\n",
       "      <td>3867</td>\n",
       "      <td>3799</td>\n",
       "      <td>3346</td>\n",
       "      <td>3004</td>\n",
       "      <td>3454</td>\n",
       "      <td>3793</td>\n",
       "      <td>3517</td>\n",
       "      <td>2845</td>\n",
       "      <td>4999</td>\n",
       "    </tr>\n",
       "    <tr>\n",
       "      <th>32</th>\n",
       "      <td>Калужская область</td>\n",
       "      <td>Медынский  муниципальный район</td>\n",
       "      <td>2694</td>\n",
       "      <td>430.0</td>\n",
       "      <td>NaN</td>\n",
       "      <td>NaN</td>\n",
       "      <td>874.0</td>\n",
       "      <td>44.0</td>\n",
       "      <td>NaN</td>\n",
       "      <td>71.0</td>\n",
       "      <td>...</td>\n",
       "      <td>1113</td>\n",
       "      <td>1095</td>\n",
       "      <td>1020</td>\n",
       "      <td>861</td>\n",
       "      <td>829</td>\n",
       "      <td>957</td>\n",
       "      <td>1035</td>\n",
       "      <td>895</td>\n",
       "      <td>690</td>\n",
       "      <td>1438</td>\n",
       "    </tr>\n",
       "    <tr>\n",
       "      <th>33</th>\n",
       "      <td>Калужская область</td>\n",
       "      <td>Мещовский муниципальный район</td>\n",
       "      <td>1029</td>\n",
       "      <td>71.0</td>\n",
       "      <td>NaN</td>\n",
       "      <td>NaN</td>\n",
       "      <td>NaN</td>\n",
       "      <td>NaN</td>\n",
       "      <td>NaN</td>\n",
       "      <td>28.0</td>\n",
       "      <td>...</td>\n",
       "      <td>1121</td>\n",
       "      <td>1119</td>\n",
       "      <td>1076</td>\n",
       "      <td>926</td>\n",
       "      <td>875</td>\n",
       "      <td>1014</td>\n",
       "      <td>963</td>\n",
       "      <td>801</td>\n",
       "      <td>587</td>\n",
       "      <td>1447</td>\n",
       "    </tr>\n",
       "    <tr>\n",
       "      <th>34</th>\n",
       "      <td>Калужская область</td>\n",
       "      <td>Мосальский муниципальный район</td>\n",
       "      <td>934</td>\n",
       "      <td>NaN</td>\n",
       "      <td>NaN</td>\n",
       "      <td>NaN</td>\n",
       "      <td>NaN</td>\n",
       "      <td>58.0</td>\n",
       "      <td>NaN</td>\n",
       "      <td>29.0</td>\n",
       "      <td>...</td>\n",
       "      <td>522</td>\n",
       "      <td>499</td>\n",
       "      <td>468</td>\n",
       "      <td>532</td>\n",
       "      <td>612</td>\n",
       "      <td>696</td>\n",
       "      <td>771</td>\n",
       "      <td>585</td>\n",
       "      <td>467</td>\n",
       "      <td>1212</td>\n",
       "    </tr>\n",
       "    <tr>\n",
       "      <th>35</th>\n",
       "      <td>Калужская область</td>\n",
       "      <td>Перемышльский муниципальный район</td>\n",
       "      <td>1610</td>\n",
       "      <td>372.0</td>\n",
       "      <td>NaN</td>\n",
       "      <td>NaN</td>\n",
       "      <td>NaN</td>\n",
       "      <td>NaN</td>\n",
       "      <td>NaN</td>\n",
       "      <td>NaN</td>\n",
       "      <td>...</td>\n",
       "      <td>947</td>\n",
       "      <td>963</td>\n",
       "      <td>879</td>\n",
       "      <td>857</td>\n",
       "      <td>873</td>\n",
       "      <td>1050</td>\n",
       "      <td>1139</td>\n",
       "      <td>1008</td>\n",
       "      <td>787</td>\n",
       "      <td>1716</td>\n",
       "    </tr>\n",
       "    <tr>\n",
       "      <th>36</th>\n",
       "      <td>Калужская область</td>\n",
       "      <td>Спас-Деменский муниципальный район</td>\n",
       "      <td>1005</td>\n",
       "      <td>28.0</td>\n",
       "      <td>NaN</td>\n",
       "      <td>NaN</td>\n",
       "      <td>NaN</td>\n",
       "      <td>NaN</td>\n",
       "      <td>NaN</td>\n",
       "      <td>NaN</td>\n",
       "      <td>...</td>\n",
       "      <td>525</td>\n",
       "      <td>468</td>\n",
       "      <td>424</td>\n",
       "      <td>490</td>\n",
       "      <td>551</td>\n",
       "      <td>585</td>\n",
       "      <td>734</td>\n",
       "      <td>526</td>\n",
       "      <td>383</td>\n",
       "      <td>1091</td>\n",
       "    </tr>\n",
       "    <tr>\n",
       "      <th>37</th>\n",
       "      <td>Калужская область</td>\n",
       "      <td>Сухиничский  муниципальный район</td>\n",
       "      <td>4357</td>\n",
       "      <td>38.0</td>\n",
       "      <td>NaN</td>\n",
       "      <td>NaN</td>\n",
       "      <td>803.0</td>\n",
       "      <td>94.0</td>\n",
       "      <td>NaN</td>\n",
       "      <td>143.0</td>\n",
       "      <td>...</td>\n",
       "      <td>1893</td>\n",
       "      <td>1699</td>\n",
       "      <td>1694</td>\n",
       "      <td>1708</td>\n",
       "      <td>1481</td>\n",
       "      <td>1724</td>\n",
       "      <td>1981</td>\n",
       "      <td>1666</td>\n",
       "      <td>1388</td>\n",
       "      <td>2760</td>\n",
       "    </tr>\n",
       "    <tr>\n",
       "      <th>38</th>\n",
       "      <td>Калужская область</td>\n",
       "      <td>Тарусский  муниципальный район</td>\n",
       "      <td>2361</td>\n",
       "      <td>NaN</td>\n",
       "      <td>NaN</td>\n",
       "      <td>NaN</td>\n",
       "      <td>303.0</td>\n",
       "      <td>273.0</td>\n",
       "      <td>NaN</td>\n",
       "      <td>87.0</td>\n",
       "      <td>...</td>\n",
       "      <td>1086</td>\n",
       "      <td>1108</td>\n",
       "      <td>1042</td>\n",
       "      <td>869</td>\n",
       "      <td>918</td>\n",
       "      <td>1142</td>\n",
       "      <td>1285</td>\n",
       "      <td>1155</td>\n",
       "      <td>920</td>\n",
       "      <td>1938</td>\n",
       "    </tr>\n",
       "    <tr>\n",
       "      <th>39</th>\n",
       "      <td>Калужская область</td>\n",
       "      <td>Ульяновский муниципальный район</td>\n",
       "      <td>696</td>\n",
       "      <td>NaN</td>\n",
       "      <td>NaN</td>\n",
       "      <td>NaN</td>\n",
       "      <td>NaN</td>\n",
       "      <td>NaN</td>\n",
       "      <td>NaN</td>\n",
       "      <td>19.0</td>\n",
       "      <td>...</td>\n",
       "      <td>499</td>\n",
       "      <td>530</td>\n",
       "      <td>444</td>\n",
       "      <td>442</td>\n",
       "      <td>469</td>\n",
       "      <td>521</td>\n",
       "      <td>616</td>\n",
       "      <td>494</td>\n",
       "      <td>405</td>\n",
       "      <td>873</td>\n",
       "    </tr>\n",
       "    <tr>\n",
       "      <th>40</th>\n",
       "      <td>Калужская область</td>\n",
       "      <td>Ферзиковский муниципальный район</td>\n",
       "      <td>2213</td>\n",
       "      <td>380.0</td>\n",
       "      <td>NaN</td>\n",
       "      <td>NaN</td>\n",
       "      <td>406.0</td>\n",
       "      <td>29.0</td>\n",
       "      <td>NaN</td>\n",
       "      <td>31.0</td>\n",
       "      <td>...</td>\n",
       "      <td>1393</td>\n",
       "      <td>1430</td>\n",
       "      <td>1260</td>\n",
       "      <td>1195</td>\n",
       "      <td>1009</td>\n",
       "      <td>1303</td>\n",
       "      <td>1388</td>\n",
       "      <td>1141</td>\n",
       "      <td>859</td>\n",
       "      <td>1743</td>\n",
       "    </tr>\n",
       "    <tr>\n",
       "      <th>41</th>\n",
       "      <td>Калужская область</td>\n",
       "      <td>Хвастовичский муниципальный район</td>\n",
       "      <td>1301</td>\n",
       "      <td>150.0</td>\n",
       "      <td>NaN</td>\n",
       "      <td>NaN</td>\n",
       "      <td>NaN</td>\n",
       "      <td>NaN</td>\n",
       "      <td>NaN</td>\n",
       "      <td>48.0</td>\n",
       "      <td>...</td>\n",
       "      <td>776</td>\n",
       "      <td>623</td>\n",
       "      <td>640</td>\n",
       "      <td>723</td>\n",
       "      <td>782</td>\n",
       "      <td>831</td>\n",
       "      <td>920</td>\n",
       "      <td>663</td>\n",
       "      <td>466</td>\n",
       "      <td>1282</td>\n",
       "    </tr>\n",
       "    <tr>\n",
       "      <th>42</th>\n",
       "      <td>Калужская область</td>\n",
       "      <td>Юхновский  муниципальный район</td>\n",
       "      <td>1783</td>\n",
       "      <td>NaN</td>\n",
       "      <td>NaN</td>\n",
       "      <td>NaN</td>\n",
       "      <td>90.0</td>\n",
       "      <td>NaN</td>\n",
       "      <td>NaN</td>\n",
       "      <td>67.0</td>\n",
       "      <td>...</td>\n",
       "      <td>717</td>\n",
       "      <td>760</td>\n",
       "      <td>815</td>\n",
       "      <td>744</td>\n",
       "      <td>715</td>\n",
       "      <td>896</td>\n",
       "      <td>1009</td>\n",
       "      <td>812</td>\n",
       "      <td>625</td>\n",
       "      <td>1475</td>\n",
       "    </tr>\n",
       "    <tr>\n",
       "      <th>43</th>\n",
       "      <td>Калужская область</td>\n",
       "      <td>город Калуга</td>\n",
       "      <td>116345</td>\n",
       "      <td>793.0</td>\n",
       "      <td>NaN</td>\n",
       "      <td>NaN</td>\n",
       "      <td>35502.0</td>\n",
       "      <td>6226.0</td>\n",
       "      <td>3673.0</td>\n",
       "      <td>7774.0</td>\n",
       "      <td>...</td>\n",
       "      <td>30950</td>\n",
       "      <td>30912</td>\n",
       "      <td>27288</td>\n",
       "      <td>25254</td>\n",
       "      <td>22254</td>\n",
       "      <td>25731</td>\n",
       "      <td>28879</td>\n",
       "      <td>26019</td>\n",
       "      <td>20965</td>\n",
       "      <td>35176</td>\n",
       "    </tr>\n",
       "    <tr>\n",
       "      <th>44</th>\n",
       "      <td>Калужская область</td>\n",
       "      <td>город Обнинск</td>\n",
       "      <td>28909</td>\n",
       "      <td>NaN</td>\n",
       "      <td>NaN</td>\n",
       "      <td>NaN</td>\n",
       "      <td>8376.0</td>\n",
       "      <td>951.0</td>\n",
       "      <td>NaN</td>\n",
       "      <td>1423.0</td>\n",
       "      <td>...</td>\n",
       "      <td>9564</td>\n",
       "      <td>9463</td>\n",
       "      <td>8136</td>\n",
       "      <td>7539</td>\n",
       "      <td>7143</td>\n",
       "      <td>8412</td>\n",
       "      <td>8555</td>\n",
       "      <td>6935</td>\n",
       "      <td>6124</td>\n",
       "      <td>11863</td>\n",
       "    </tr>\n",
       "  </tbody>\n",
       "</table>\n",
       "<p>45 rows × 42 columns</p>\n",
       "</div>"
      ],
      "text/plain": [
       "                  region                                           district  \\\n",
       "0   Белгородская область  Алексеевский муниципальный район и город Алекс...   \n",
       "1   Белгородская область                   Белгородский муниципальный район   \n",
       "2   Белгородская область                    Борисовский муниципальный район   \n",
       "3   Белгородская область      Город Валуйки и Валуйский муниципальный район   \n",
       "4   Белгородская область                   Вейделевский муниципальный район   \n",
       "5   Белгородская область                  Волоконовский муниципальный район   \n",
       "6   Белгородская область                  Грайворонский муниципальный район   \n",
       "7   Белгородская область                      Ивнянский муниципальный район   \n",
       "8   Белгородская область                    Корочанский муниципальный район   \n",
       "9   Белгородская область                    Красненский муниципальный район   \n",
       "10  Белгородская область              Красногвардейский муниципальный район   \n",
       "11  Белгородская область                 Краснояружский муниципальный район   \n",
       "12  Белгородская область                 Новооскольский муниципальный район   \n",
       "13  Белгородская область                   Прохоровский муниципальный район   \n",
       "14  Белгородская область                    Ракитянский муниципальный район   \n",
       "15  Белгородская область                     Ровеньский муниципальный район   \n",
       "16  Белгородская область                     Чернянский муниципальный район   \n",
       "17  Белгородская область   Шебекинский муниципальный район и город Шебекино   \n",
       "18  Белгородская область                    Яковлевский муниципальный район   \n",
       "19     Калужская область                    Бабынинский муниципальный район   \n",
       "20     Калужская область                    Барятинский муниципальный район   \n",
       "21     Калужская область                      Боровский муниципальный район   \n",
       "22     Калужская область                    Дзержинский муниципальный район   \n",
       "23     Калужская область                    Думиничский муниципальный район   \n",
       "24     Калужская область                    Жиздринский муниципальный район   \n",
       "25     Калужская область                      Жуковский муниципальный район   \n",
       "26     Калужская область                      Кировский муниципальный район   \n",
       "27     Калужская область                   Износковский муниципальный район   \n",
       "28     Калужская область                     Козельский муниципальный район   \n",
       "29     Калужская область                   Куйбышевский муниципальный район   \n",
       "30     Калужская область                   Людиновский  муниципальный район   \n",
       "31     Калужская область               Малоярославецкий муниципальный район   \n",
       "32     Калужская область                     Медынский  муниципальный район   \n",
       "33     Калужская область                      Мещовский муниципальный район   \n",
       "34     Калужская область                     Мосальский муниципальный район   \n",
       "35     Калужская область                  Перемышльский муниципальный район   \n",
       "36     Калужская область                 Спас-Деменский муниципальный район   \n",
       "37     Калужская область                   Сухиничский  муниципальный район   \n",
       "38     Калужская область                     Тарусский  муниципальный район   \n",
       "39     Калужская область                    Ульяновский муниципальный район   \n",
       "40     Калужская область                   Ферзиковский муниципальный район   \n",
       "41     Калужская область                  Хвастовичский муниципальный район   \n",
       "42     Калужская область                     Юхновский  муниципальный район   \n",
       "43     Калужская область                                       город Калуга   \n",
       "44     Калужская область                                      город Обнинск   \n",
       "\n",
       "    empl_total  A_agro  B_fish  C_fossil   D_proc  E_energy  F_build  G_merc  \\\n",
       "0        19027  1824.0     NaN       NaN   6194.0     474.0    242.0  1634.0   \n",
       "1        19276  4807.0     NaN       NaN   2132.0    1073.0    591.0  1828.0   \n",
       "2         6558  1073.0     NaN       NaN   1584.0     191.0     35.0   323.0   \n",
       "3        16222  1150.0     NaN       NaN   5123.0     660.0      NaN   345.0   \n",
       "4         4030  1309.0     NaN       NaN     19.0     210.0     35.0   111.0   \n",
       "5         5450  1702.0     NaN       NaN    413.0     320.0      NaN   116.0   \n",
       "6         5532  1354.0     NaN       NaN    295.0     176.0      NaN    64.0   \n",
       "7         4761  1629.0     NaN       NaN    558.0     185.0      NaN    53.0   \n",
       "8         9547  1568.0     NaN       NaN   3144.0     285.0    393.0   135.0   \n",
       "9         2395   690.0     NaN       NaN      NaN     166.0      NaN     NaN   \n",
       "10        7350  1977.0     NaN       NaN    801.0     221.0    308.0    90.0   \n",
       "11        4334  2003.0     NaN       NaN    351.0     122.0      NaN    59.0   \n",
       "12       13647  3598.0     NaN       NaN   3938.0     509.0    193.0   276.0   \n",
       "13        6127  1857.0     NaN       NaN    663.0     249.0      NaN   270.0   \n",
       "14        8869  1890.0     NaN       NaN   2376.0     189.0      NaN   151.0   \n",
       "15        5142  1723.0     NaN       NaN    395.0     190.0    173.0    36.0   \n",
       "16        5997  1520.0     NaN       NaN    611.0     272.0      NaN   123.0   \n",
       "17       17482  2393.0     NaN       NaN   4811.0     769.0    332.0   637.0   \n",
       "18       14175  1504.0     NaN       NaN   3353.0     564.0     84.0  1372.0   \n",
       "19        3566     NaN     NaN       NaN   1611.0     123.0      NaN    78.0   \n",
       "20         561     NaN     NaN       NaN      NaN       NaN      NaN    33.0   \n",
       "21       15249   133.0     NaN       NaN   9442.0     255.0      NaN   825.0   \n",
       "22       11619  1056.0     NaN     859.0   3821.0     595.0      NaN   313.0   \n",
       "23        1773     NaN     NaN       NaN    264.0       NaN      NaN    63.0   \n",
       "24        1091     NaN     NaN       NaN      NaN       NaN      NaN    24.0   \n",
       "25        8892   836.0     NaN       NaN   1493.0     244.0      NaN   561.0   \n",
       "26        7622    56.0     NaN       NaN   1987.0     571.0      NaN   208.0   \n",
       "27         567     NaN     NaN       NaN      NaN       NaN      NaN    24.0   \n",
       "28        6444   183.0     NaN       NaN   2714.0     396.0      NaN   190.0   \n",
       "29         832     NaN     NaN       NaN      NaN       NaN      NaN    20.0   \n",
       "30        8834     NaN     NaN       NaN   3858.0     565.0      NaN   175.0   \n",
       "31        9709   206.0     NaN       NaN   3754.0     500.0    375.0   703.0   \n",
       "32        2694   430.0     NaN       NaN    874.0      44.0      NaN    71.0   \n",
       "33        1029    71.0     NaN       NaN      NaN       NaN      NaN    28.0   \n",
       "34         934     NaN     NaN       NaN      NaN      58.0      NaN    29.0   \n",
       "35        1610   372.0     NaN       NaN      NaN       NaN      NaN     NaN   \n",
       "36        1005    28.0     NaN       NaN      NaN       NaN      NaN     NaN   \n",
       "37        4357    38.0     NaN       NaN    803.0      94.0      NaN   143.0   \n",
       "38        2361     NaN     NaN       NaN    303.0     273.0      NaN    87.0   \n",
       "39         696     NaN     NaN       NaN      NaN       NaN      NaN    19.0   \n",
       "40        2213   380.0     NaN       NaN    406.0      29.0      NaN    31.0   \n",
       "41        1301   150.0     NaN       NaN      NaN       NaN      NaN    48.0   \n",
       "42        1783     NaN     NaN       NaN     90.0       NaN      NaN    67.0   \n",
       "43      116345   793.0     NaN       NaN  35502.0    6226.0   3673.0  7774.0   \n",
       "44       28909     NaN     NaN       NaN   8376.0     951.0      NaN  1423.0   \n",
       "\n",
       "    ...  25_29  30_34  35_39  40_44  45_49  50_54  55_59  60_64  65_69  \\\n",
       "0   ...   5380   4849   4413   4378   4047   4729   4910   3890   3026   \n",
       "1   ...   9295   9654   8848   7895   6952   8356   9776   8890   6874   \n",
       "2   ...   2016   1899   1743   1717   1670   1994   2164   1859   1478   \n",
       "3   ...   4570   5203   5038   4950   4309   4957   5474   4759   3951   \n",
       "4   ...   1055   1189   1191   1474   1536   1845   1823   1397   1149   \n",
       "5   ...   2095   2096   1994   2120   2094   2567   2629   2118   1804   \n",
       "6   ...   2468   2162   1961   2006   1977   2276   2459   1915   1581   \n",
       "7   ...   1511   1552   1357   1494   1607   1958   2037   1569   1206   \n",
       "8   ...   2894   2579   2414   2637   2622   3084   3197   2879   2278   \n",
       "9   ...    813    697    719    853    888    987    996    691    570   \n",
       "10  ...   2608   2451   2318   2568   2750   3065   3268   2380   1954   \n",
       "11  ...   1032   1014    971   1083   1034   1138   1149    882    696   \n",
       "12  ...   2927   2867   2888   2802   2572   3266   3674   2964   2338   \n",
       "13  ...   2067   1830   1727   1685   1890   2213   2285   1753   1351   \n",
       "14  ...   2598   2544   2329   2384   2233   2751   2871   2466   1693   \n",
       "15  ...   1709   1730   1636   1668   1635   1853   1956   1535   1192   \n",
       "16  ...   2262   2401   2226   2209   2183   2498   2624   2023   1577   \n",
       "17  ...   6877   6724   6200   5940   5693   6974   7464   6589   5458   \n",
       "18  ...   4348   4622   4275   3993   3293   4099   4822   4320   3469   \n",
       "19  ...   1498   1251   1172   1225   1370   1566   1607   1205   1024   \n",
       "20  ...    422    473    407    456    366    457    544    429    287   \n",
       "21  ...   5597   5357   4858   4587   3983   4322   4526   3880   3181   \n",
       "22  ...   4194   4689   4138   3599   3172   4175   4874   3832   2700   \n",
       "23  ...    977    993    923    979    924   1106   1289   1123    824   \n",
       "24  ...    754    674    712    705    732    777    871    727    542   \n",
       "25  ...   4526   4658   4022   3422   3212   3922   4156   3558   2464   \n",
       "26  ...   3187   3098   3037   2944   2716   3220   3753   2680   2021   \n",
       "27  ...    505    439    399    461    476    493    521    443    361   \n",
       "28  ...   2991   2556   2469   2405   2213   2765   3412   2614   1986   \n",
       "29  ...    597    541    510    516    569    584    685    567    347   \n",
       "30  ...   3223   3366   3288   3076   2785   3370   3872   3112   2205   \n",
       "31  ...   3766   3867   3799   3346   3004   3454   3793   3517   2845   \n",
       "32  ...   1113   1095   1020    861    829    957   1035    895    690   \n",
       "33  ...   1121   1119   1076    926    875   1014    963    801    587   \n",
       "34  ...    522    499    468    532    612    696    771    585    467   \n",
       "35  ...    947    963    879    857    873   1050   1139   1008    787   \n",
       "36  ...    525    468    424    490    551    585    734    526    383   \n",
       "37  ...   1893   1699   1694   1708   1481   1724   1981   1666   1388   \n",
       "38  ...   1086   1108   1042    869    918   1142   1285   1155    920   \n",
       "39  ...    499    530    444    442    469    521    616    494    405   \n",
       "40  ...   1393   1430   1260   1195   1009   1303   1388   1141    859   \n",
       "41  ...    776    623    640    723    782    831    920    663    466   \n",
       "42  ...    717    760    815    744    715    896   1009    812    625   \n",
       "43  ...  30950  30912  27288  25254  22254  25731  28879  26019  20965   \n",
       "44  ...   9564   9463   8136   7539   7143   8412   8555   6935   6124   \n",
       "\n",
       "    70_plus  \n",
       "0      6426  \n",
       "1     10602  \n",
       "2      3050  \n",
       "3      7703  \n",
       "4      2229  \n",
       "5      4048  \n",
       "6      3534  \n",
       "7      2569  \n",
       "8      5257  \n",
       "9      2160  \n",
       "10     5193  \n",
       "11     1663  \n",
       "12     5240  \n",
       "13     3862  \n",
       "14     3864  \n",
       "15     2473  \n",
       "16     3450  \n",
       "17    10860  \n",
       "18     5665  \n",
       "19     1772  \n",
       "20      731  \n",
       "21     5475  \n",
       "22     5569  \n",
       "23     1736  \n",
       "24     1254  \n",
       "25     4395  \n",
       "26     4087  \n",
       "27      976  \n",
       "28     3724  \n",
       "29     1056  \n",
       "30     3918  \n",
       "31     4999  \n",
       "32     1438  \n",
       "33     1447  \n",
       "34     1212  \n",
       "35     1716  \n",
       "36     1091  \n",
       "37     2760  \n",
       "38     1938  \n",
       "39      873  \n",
       "40     1743  \n",
       "41     1282  \n",
       "42     1475  \n",
       "43    35176  \n",
       "44    11863  \n",
       "\n",
       "[45 rows x 42 columns]"
      ]
     },
     "execution_count": 35,
     "metadata": {},
     "output_type": "execute_result"
    }
   ],
   "source": [
    "data"
   ]
  },
  {
   "cell_type": "code",
   "execution_count": 27,
   "metadata": {},
   "outputs": [
    {
     "name": "stdout",
     "output_type": "stream",
     "text": [
      "<class 'pandas.core.frame.DataFrame'>\n",
      "RangeIndex: 45 entries, 0 to 44\n",
      "Data columns (total 42 columns):\n",
      " #   Column        Non-Null Count  Dtype  \n",
      "---  ------        --------------  -----  \n",
      " 0   region        45 non-null     object \n",
      " 1   district      45 non-null     object \n",
      " 2   empl_total    45 non-null     int64  \n",
      " 3   A_agro        33 non-null     float64\n",
      " 4   B_fish        0 non-null      float64\n",
      " 5   C_fossil      1 non-null      float64\n",
      " 6   D_proc        34 non-null     float64\n",
      " 7   E_energy      34 non-null     float64\n",
      " 8   F_build       12 non-null     float64\n",
      " 9   G_merc        42 non-null     float64\n",
      " 10  H_host        24 non-null     float64\n",
      " 11  I_trans       25 non-null     float64\n",
      " 12  J_fin         21 non-null     float64\n",
      " 13  K_prop        44 non-null     float64\n",
      " 14  L_gov         45 non-null     int64  \n",
      " 15  M_educ        45 non-null     int64  \n",
      " 16  N_heal        44 non-null     float64\n",
      " 17  O_comm        45 non-null     int64  \n",
      " 18  popul_total   45 non-null     int64  \n",
      " 19  urban_total   44 non-null     float64\n",
      " 20  rural_total   45 non-null     int64  \n",
      " 21  wa_total      45 non-null     int64  \n",
      " 22  wa_female     45 non-null     int64  \n",
      " 23  wa_male       45 non-null     int64  \n",
      " 24  ret_total     45 non-null     int64  \n",
      " 25  ret_female    45 non-null     int64  \n",
      " 26  ret_male      45 non-null     int64  \n",
      " 27  young_total   45 non-null     int64  \n",
      " 28  young_female  45 non-null     int64  \n",
      " 29  young_male    45 non-null     int64  \n",
      " 30  18_19         45 non-null     int64  \n",
      " 31  20_24         45 non-null     int64  \n",
      " 32  25_29         45 non-null     int64  \n",
      " 33  30_34         45 non-null     int64  \n",
      " 34  35_39         45 non-null     int64  \n",
      " 35  40_44         45 non-null     int64  \n",
      " 36  45_49         45 non-null     int64  \n",
      " 37  50_54         45 non-null     int64  \n",
      " 38  55_59         45 non-null     int64  \n",
      " 39  60_64         45 non-null     int64  \n",
      " 40  65_69         45 non-null     int64  \n",
      " 41  70_plus       45 non-null     int64  \n",
      "dtypes: float64(13), int64(27), object(2)\n",
      "memory usage: 14.9+ KB\n"
     ]
    }
   ],
   "source": [
    "data.info()"
   ]
  },
  {
   "cell_type": "code",
   "execution_count": 28,
   "metadata": {},
   "outputs": [
    {
     "data": {
      "text/html": [
       "<div>\n",
       "<style scoped>\n",
       "    .dataframe tbody tr th:only-of-type {\n",
       "        vertical-align: middle;\n",
       "    }\n",
       "\n",
       "    .dataframe tbody tr th {\n",
       "        vertical-align: top;\n",
       "    }\n",
       "\n",
       "    .dataframe thead th {\n",
       "        text-align: right;\n",
       "    }\n",
       "</style>\n",
       "<table border=\"1\" class=\"dataframe\">\n",
       "  <thead>\n",
       "    <tr style=\"text-align: right;\">\n",
       "      <th></th>\n",
       "      <th>region</th>\n",
       "      <th>district</th>\n",
       "      <th>empl_total</th>\n",
       "      <th>A_agro</th>\n",
       "      <th>B_fish</th>\n",
       "      <th>C_fossil</th>\n",
       "      <th>D_proc</th>\n",
       "      <th>E_energy</th>\n",
       "      <th>F_build</th>\n",
       "      <th>G_merc</th>\n",
       "      <th>...</th>\n",
       "      <th>25_29</th>\n",
       "      <th>30_34</th>\n",
       "      <th>35_39</th>\n",
       "      <th>40_44</th>\n",
       "      <th>45_49</th>\n",
       "      <th>50_54</th>\n",
       "      <th>55_59</th>\n",
       "      <th>60_64</th>\n",
       "      <th>65_69</th>\n",
       "      <th>70_plus</th>\n",
       "    </tr>\n",
       "  </thead>\n",
       "  <tbody>\n",
       "    <tr>\n",
       "      <th>0</th>\n",
       "      <td>Белгородская область</td>\n",
       "      <td>Алексеевский муниципальный район и город Алекс...</td>\n",
       "      <td>19027</td>\n",
       "      <td>1824.0</td>\n",
       "      <td>NaN</td>\n",
       "      <td>NaN</td>\n",
       "      <td>6194.0</td>\n",
       "      <td>474.0</td>\n",
       "      <td>242.0</td>\n",
       "      <td>1634.0</td>\n",
       "      <td>...</td>\n",
       "      <td>5380</td>\n",
       "      <td>4849</td>\n",
       "      <td>4413</td>\n",
       "      <td>4378</td>\n",
       "      <td>4047</td>\n",
       "      <td>4729</td>\n",
       "      <td>4910</td>\n",
       "      <td>3890</td>\n",
       "      <td>3026</td>\n",
       "      <td>6426</td>\n",
       "    </tr>\n",
       "    <tr>\n",
       "      <th>1</th>\n",
       "      <td>Белгородская область</td>\n",
       "      <td>Белгородский муниципальный район</td>\n",
       "      <td>19276</td>\n",
       "      <td>4807.0</td>\n",
       "      <td>NaN</td>\n",
       "      <td>NaN</td>\n",
       "      <td>2132.0</td>\n",
       "      <td>1073.0</td>\n",
       "      <td>591.0</td>\n",
       "      <td>1828.0</td>\n",
       "      <td>...</td>\n",
       "      <td>9295</td>\n",
       "      <td>9654</td>\n",
       "      <td>8848</td>\n",
       "      <td>7895</td>\n",
       "      <td>6952</td>\n",
       "      <td>8356</td>\n",
       "      <td>9776</td>\n",
       "      <td>8890</td>\n",
       "      <td>6874</td>\n",
       "      <td>10602</td>\n",
       "    </tr>\n",
       "    <tr>\n",
       "      <th>2</th>\n",
       "      <td>Белгородская область</td>\n",
       "      <td>Борисовский муниципальный район</td>\n",
       "      <td>6558</td>\n",
       "      <td>1073.0</td>\n",
       "      <td>NaN</td>\n",
       "      <td>NaN</td>\n",
       "      <td>1584.0</td>\n",
       "      <td>191.0</td>\n",
       "      <td>35.0</td>\n",
       "      <td>323.0</td>\n",
       "      <td>...</td>\n",
       "      <td>2016</td>\n",
       "      <td>1899</td>\n",
       "      <td>1743</td>\n",
       "      <td>1717</td>\n",
       "      <td>1670</td>\n",
       "      <td>1994</td>\n",
       "      <td>2164</td>\n",
       "      <td>1859</td>\n",
       "      <td>1478</td>\n",
       "      <td>3050</td>\n",
       "    </tr>\n",
       "    <tr>\n",
       "      <th>3</th>\n",
       "      <td>Белгородская область</td>\n",
       "      <td>Город Валуйки и Валуйский муниципальный район</td>\n",
       "      <td>16222</td>\n",
       "      <td>1150.0</td>\n",
       "      <td>NaN</td>\n",
       "      <td>NaN</td>\n",
       "      <td>5123.0</td>\n",
       "      <td>660.0</td>\n",
       "      <td>NaN</td>\n",
       "      <td>345.0</td>\n",
       "      <td>...</td>\n",
       "      <td>4570</td>\n",
       "      <td>5203</td>\n",
       "      <td>5038</td>\n",
       "      <td>4950</td>\n",
       "      <td>4309</td>\n",
       "      <td>4957</td>\n",
       "      <td>5474</td>\n",
       "      <td>4759</td>\n",
       "      <td>3951</td>\n",
       "      <td>7703</td>\n",
       "    </tr>\n",
       "    <tr>\n",
       "      <th>4</th>\n",
       "      <td>Белгородская область</td>\n",
       "      <td>Вейделевский муниципальный район</td>\n",
       "      <td>4030</td>\n",
       "      <td>1309.0</td>\n",
       "      <td>NaN</td>\n",
       "      <td>NaN</td>\n",
       "      <td>19.0</td>\n",
       "      <td>210.0</td>\n",
       "      <td>35.0</td>\n",
       "      <td>111.0</td>\n",
       "      <td>...</td>\n",
       "      <td>1055</td>\n",
       "      <td>1189</td>\n",
       "      <td>1191</td>\n",
       "      <td>1474</td>\n",
       "      <td>1536</td>\n",
       "      <td>1845</td>\n",
       "      <td>1823</td>\n",
       "      <td>1397</td>\n",
       "      <td>1149</td>\n",
       "      <td>2229</td>\n",
       "    </tr>\n",
       "  </tbody>\n",
       "</table>\n",
       "<p>5 rows × 42 columns</p>\n",
       "</div>"
      ],
      "text/plain": [
       "                 region                                           district  \\\n",
       "0  Белгородская область  Алексеевский муниципальный район и город Алекс...   \n",
       "1  Белгородская область                   Белгородский муниципальный район   \n",
       "2  Белгородская область                    Борисовский муниципальный район   \n",
       "3  Белгородская область      Город Валуйки и Валуйский муниципальный район   \n",
       "4  Белгородская область                   Вейделевский муниципальный район   \n",
       "\n",
       "   empl_total  A_agro  B_fish  C_fossil  D_proc  E_energy  F_build  G_merc  \\\n",
       "0       19027  1824.0     NaN       NaN  6194.0     474.0    242.0  1634.0   \n",
       "1       19276  4807.0     NaN       NaN  2132.0    1073.0    591.0  1828.0   \n",
       "2        6558  1073.0     NaN       NaN  1584.0     191.0     35.0   323.0   \n",
       "3       16222  1150.0     NaN       NaN  5123.0     660.0      NaN   345.0   \n",
       "4        4030  1309.0     NaN       NaN    19.0     210.0     35.0   111.0   \n",
       "\n",
       "   ...  25_29  30_34  35_39  40_44  45_49  50_54  55_59  60_64  65_69  70_plus  \n",
       "0  ...   5380   4849   4413   4378   4047   4729   4910   3890   3026     6426  \n",
       "1  ...   9295   9654   8848   7895   6952   8356   9776   8890   6874    10602  \n",
       "2  ...   2016   1899   1743   1717   1670   1994   2164   1859   1478     3050  \n",
       "3  ...   4570   5203   5038   4950   4309   4957   5474   4759   3951     7703  \n",
       "4  ...   1055   1189   1191   1474   1536   1845   1823   1397   1149     2229  \n",
       "\n",
       "[5 rows x 42 columns]"
      ]
     },
     "execution_count": 28,
     "metadata": {},
     "output_type": "execute_result"
    }
   ],
   "source": [
    "data.head()"
   ]
  },
  {
   "cell_type": "code",
   "execution_count": 36,
   "metadata": {},
   "outputs": [
    {
     "data": {
      "text/html": [
       "<div>\n",
       "<style scoped>\n",
       "    .dataframe tbody tr th:only-of-type {\n",
       "        vertical-align: middle;\n",
       "    }\n",
       "\n",
       "    .dataframe tbody tr th {\n",
       "        vertical-align: top;\n",
       "    }\n",
       "\n",
       "    .dataframe thead th {\n",
       "        text-align: right;\n",
       "    }\n",
       "</style>\n",
       "<table border=\"1\" class=\"dataframe\">\n",
       "  <thead>\n",
       "    <tr style=\"text-align: right;\">\n",
       "      <th></th>\n",
       "      <th>region</th>\n",
       "      <th>district</th>\n",
       "      <th>empl_total</th>\n",
       "      <th>A_agro</th>\n",
       "      <th>D_proc</th>\n",
       "      <th>E_energy</th>\n",
       "      <th>F_build</th>\n",
       "      <th>G_merc</th>\n",
       "      <th>H_host</th>\n",
       "      <th>I_trans</th>\n",
       "      <th>...</th>\n",
       "      <th>25_29</th>\n",
       "      <th>30_34</th>\n",
       "      <th>35_39</th>\n",
       "      <th>40_44</th>\n",
       "      <th>45_49</th>\n",
       "      <th>50_54</th>\n",
       "      <th>55_59</th>\n",
       "      <th>60_64</th>\n",
       "      <th>65_69</th>\n",
       "      <th>70_plus</th>\n",
       "    </tr>\n",
       "  </thead>\n",
       "  <tbody>\n",
       "    <tr>\n",
       "      <th>0</th>\n",
       "      <td>Белгородская область</td>\n",
       "      <td>Алексеевский муниципальный район и город Алекс...</td>\n",
       "      <td>19027</td>\n",
       "      <td>1824.0</td>\n",
       "      <td>6194.0</td>\n",
       "      <td>474.0</td>\n",
       "      <td>242.0</td>\n",
       "      <td>1634.0</td>\n",
       "      <td>80.0</td>\n",
       "      <td>1809.0</td>\n",
       "      <td>...</td>\n",
       "      <td>5380</td>\n",
       "      <td>4849</td>\n",
       "      <td>4413</td>\n",
       "      <td>4378</td>\n",
       "      <td>4047</td>\n",
       "      <td>4729</td>\n",
       "      <td>4910</td>\n",
       "      <td>3890</td>\n",
       "      <td>3026</td>\n",
       "      <td>6426</td>\n",
       "    </tr>\n",
       "    <tr>\n",
       "      <th>8</th>\n",
       "      <td>Белгородская область</td>\n",
       "      <td>Корочанский муниципальный район</td>\n",
       "      <td>9547</td>\n",
       "      <td>1568.0</td>\n",
       "      <td>3144.0</td>\n",
       "      <td>285.0</td>\n",
       "      <td>393.0</td>\n",
       "      <td>135.0</td>\n",
       "      <td>21.0</td>\n",
       "      <td>404.0</td>\n",
       "      <td>...</td>\n",
       "      <td>2894</td>\n",
       "      <td>2579</td>\n",
       "      <td>2414</td>\n",
       "      <td>2637</td>\n",
       "      <td>2622</td>\n",
       "      <td>3084</td>\n",
       "      <td>3197</td>\n",
       "      <td>2879</td>\n",
       "      <td>2278</td>\n",
       "      <td>5257</td>\n",
       "    </tr>\n",
       "    <tr>\n",
       "      <th>12</th>\n",
       "      <td>Белгородская область</td>\n",
       "      <td>Новооскольский муниципальный район</td>\n",
       "      <td>13647</td>\n",
       "      <td>3598.0</td>\n",
       "      <td>3938.0</td>\n",
       "      <td>509.0</td>\n",
       "      <td>193.0</td>\n",
       "      <td>276.0</td>\n",
       "      <td>95.0</td>\n",
       "      <td>750.0</td>\n",
       "      <td>...</td>\n",
       "      <td>2927</td>\n",
       "      <td>2867</td>\n",
       "      <td>2888</td>\n",
       "      <td>2802</td>\n",
       "      <td>2572</td>\n",
       "      <td>3266</td>\n",
       "      <td>3674</td>\n",
       "      <td>2964</td>\n",
       "      <td>2338</td>\n",
       "      <td>5240</td>\n",
       "    </tr>\n",
       "    <tr>\n",
       "      <th>17</th>\n",
       "      <td>Белгородская область</td>\n",
       "      <td>Шебекинский муниципальный район и город Шебекино</td>\n",
       "      <td>17482</td>\n",
       "      <td>2393.0</td>\n",
       "      <td>4811.0</td>\n",
       "      <td>769.0</td>\n",
       "      <td>332.0</td>\n",
       "      <td>637.0</td>\n",
       "      <td>66.0</td>\n",
       "      <td>558.0</td>\n",
       "      <td>...</td>\n",
       "      <td>6877</td>\n",
       "      <td>6724</td>\n",
       "      <td>6200</td>\n",
       "      <td>5940</td>\n",
       "      <td>5693</td>\n",
       "      <td>6974</td>\n",
       "      <td>7464</td>\n",
       "      <td>6589</td>\n",
       "      <td>5458</td>\n",
       "      <td>10860</td>\n",
       "    </tr>\n",
       "    <tr>\n",
       "      <th>18</th>\n",
       "      <td>Белгородская область</td>\n",
       "      <td>Яковлевский муниципальный район</td>\n",
       "      <td>14175</td>\n",
       "      <td>1504.0</td>\n",
       "      <td>3353.0</td>\n",
       "      <td>564.0</td>\n",
       "      <td>84.0</td>\n",
       "      <td>1372.0</td>\n",
       "      <td>128.0</td>\n",
       "      <td>871.0</td>\n",
       "      <td>...</td>\n",
       "      <td>4348</td>\n",
       "      <td>4622</td>\n",
       "      <td>4275</td>\n",
       "      <td>3993</td>\n",
       "      <td>3293</td>\n",
       "      <td>4099</td>\n",
       "      <td>4822</td>\n",
       "      <td>4320</td>\n",
       "      <td>3469</td>\n",
       "      <td>5665</td>\n",
       "    </tr>\n",
       "    <tr>\n",
       "      <th>43</th>\n",
       "      <td>Калужская область</td>\n",
       "      <td>город Калуга</td>\n",
       "      <td>116345</td>\n",
       "      <td>793.0</td>\n",
       "      <td>35502.0</td>\n",
       "      <td>6226.0</td>\n",
       "      <td>3673.0</td>\n",
       "      <td>7774.0</td>\n",
       "      <td>950.0</td>\n",
       "      <td>7578.0</td>\n",
       "      <td>...</td>\n",
       "      <td>30950</td>\n",
       "      <td>30912</td>\n",
       "      <td>27288</td>\n",
       "      <td>25254</td>\n",
       "      <td>22254</td>\n",
       "      <td>25731</td>\n",
       "      <td>28879</td>\n",
       "      <td>26019</td>\n",
       "      <td>20965</td>\n",
       "      <td>35176</td>\n",
       "    </tr>\n",
       "  </tbody>\n",
       "</table>\n",
       "<p>6 rows × 40 columns</p>\n",
       "</div>"
      ],
      "text/plain": [
       "                  region                                           district  \\\n",
       "0   Белгородская область  Алексеевский муниципальный район и город Алекс...   \n",
       "8   Белгородская область                    Корочанский муниципальный район   \n",
       "12  Белгородская область                 Новооскольский муниципальный район   \n",
       "17  Белгородская область   Шебекинский муниципальный район и город Шебекино   \n",
       "18  Белгородская область                    Яковлевский муниципальный район   \n",
       "43     Калужская область                                       город Калуга   \n",
       "\n",
       "    empl_total  A_agro   D_proc  E_energy  F_build  G_merc  H_host  I_trans  \\\n",
       "0        19027  1824.0   6194.0     474.0    242.0  1634.0    80.0   1809.0   \n",
       "8         9547  1568.0   3144.0     285.0    393.0   135.0    21.0    404.0   \n",
       "12       13647  3598.0   3938.0     509.0    193.0   276.0    95.0    750.0   \n",
       "17       17482  2393.0   4811.0     769.0    332.0   637.0    66.0    558.0   \n",
       "18       14175  1504.0   3353.0     564.0     84.0  1372.0   128.0    871.0   \n",
       "43      116345   793.0  35502.0    6226.0   3673.0  7774.0   950.0   7578.0   \n",
       "\n",
       "    ...  25_29  30_34  35_39  40_44  45_49  50_54  55_59  60_64  65_69  \\\n",
       "0   ...   5380   4849   4413   4378   4047   4729   4910   3890   3026   \n",
       "8   ...   2894   2579   2414   2637   2622   3084   3197   2879   2278   \n",
       "12  ...   2927   2867   2888   2802   2572   3266   3674   2964   2338   \n",
       "17  ...   6877   6724   6200   5940   5693   6974   7464   6589   5458   \n",
       "18  ...   4348   4622   4275   3993   3293   4099   4822   4320   3469   \n",
       "43  ...  30950  30912  27288  25254  22254  25731  28879  26019  20965   \n",
       "\n",
       "    70_plus  \n",
       "0      6426  \n",
       "8      5257  \n",
       "12     5240  \n",
       "17    10860  \n",
       "18     5665  \n",
       "43    35176  \n",
       "\n",
       "[6 rows x 40 columns]"
      ]
     },
     "execution_count": 36,
     "metadata": {},
     "output_type": "execute_result"
    }
   ],
   "source": [
    "del data['B_fish']\n",
    "del data['C_fossil']\n",
    "\n",
    "data = data.dropna(axis=0)\n",
    "data"
   ]
  },
  {
   "cell_type": "markdown",
   "metadata": {},
   "source": [
    "# Пункт 3"
   ]
  },
  {
   "cell_type": "code",
   "execution_count": 37,
   "metadata": {},
   "outputs": [
    {
     "data": {
      "application/vnd.plotly.v1+json": {
       "config": {
        "plotlyServerURL": "https://plot.ly"
       },
       "data": [
        {
         "marker": {
          "color": [
           "red",
           "orange",
           "yellow",
           "green",
           "cyan",
           "blue",
           "violet"
          ],
          "coloraxis": "coloraxis",
          "line": {
           "color": "black",
           "width": 2
          }
         },
         "name": "Bar",
         "type": "bar",
         "x": [
          "Алексеевский муниципальный район и город Алексеевка",
          "Корочанский муниципальный район",
          "Новооскольский муниципальный район",
          "Шебекинский муниципальный район и город Шебекино",
          "Яковлевский муниципальный район",
          "город Калуга"
         ],
         "y": [
          19027,
          9547,
          13647,
          17482,
          14175,
          116345
         ]
        }
       ],
       "layout": {
        "height": 700,
        "template": {
         "data": {
          "bar": [
           {
            "error_x": {
             "color": "#2a3f5f"
            },
            "error_y": {
             "color": "#2a3f5f"
            },
            "marker": {
             "line": {
              "color": "#E5ECF6",
              "width": 0.5
             },
             "pattern": {
              "fillmode": "overlay",
              "size": 10,
              "solidity": 0.2
             }
            },
            "type": "bar"
           }
          ],
          "barpolar": [
           {
            "marker": {
             "line": {
              "color": "#E5ECF6",
              "width": 0.5
             },
             "pattern": {
              "fillmode": "overlay",
              "size": 10,
              "solidity": 0.2
             }
            },
            "type": "barpolar"
           }
          ],
          "carpet": [
           {
            "aaxis": {
             "endlinecolor": "#2a3f5f",
             "gridcolor": "white",
             "linecolor": "white",
             "minorgridcolor": "white",
             "startlinecolor": "#2a3f5f"
            },
            "baxis": {
             "endlinecolor": "#2a3f5f",
             "gridcolor": "white",
             "linecolor": "white",
             "minorgridcolor": "white",
             "startlinecolor": "#2a3f5f"
            },
            "type": "carpet"
           }
          ],
          "choropleth": [
           {
            "colorbar": {
             "outlinewidth": 0,
             "ticks": ""
            },
            "type": "choropleth"
           }
          ],
          "contour": [
           {
            "colorbar": {
             "outlinewidth": 0,
             "ticks": ""
            },
            "colorscale": [
             [
              0,
              "#0d0887"
             ],
             [
              0.1111111111111111,
              "#46039f"
             ],
             [
              0.2222222222222222,
              "#7201a8"
             ],
             [
              0.3333333333333333,
              "#9c179e"
             ],
             [
              0.4444444444444444,
              "#bd3786"
             ],
             [
              0.5555555555555556,
              "#d8576b"
             ],
             [
              0.6666666666666666,
              "#ed7953"
             ],
             [
              0.7777777777777778,
              "#fb9f3a"
             ],
             [
              0.8888888888888888,
              "#fdca26"
             ],
             [
              1,
              "#f0f921"
             ]
            ],
            "type": "contour"
           }
          ],
          "contourcarpet": [
           {
            "colorbar": {
             "outlinewidth": 0,
             "ticks": ""
            },
            "type": "contourcarpet"
           }
          ],
          "heatmap": [
           {
            "colorbar": {
             "outlinewidth": 0,
             "ticks": ""
            },
            "colorscale": [
             [
              0,
              "#0d0887"
             ],
             [
              0.1111111111111111,
              "#46039f"
             ],
             [
              0.2222222222222222,
              "#7201a8"
             ],
             [
              0.3333333333333333,
              "#9c179e"
             ],
             [
              0.4444444444444444,
              "#bd3786"
             ],
             [
              0.5555555555555556,
              "#d8576b"
             ],
             [
              0.6666666666666666,
              "#ed7953"
             ],
             [
              0.7777777777777778,
              "#fb9f3a"
             ],
             [
              0.8888888888888888,
              "#fdca26"
             ],
             [
              1,
              "#f0f921"
             ]
            ],
            "type": "heatmap"
           }
          ],
          "heatmapgl": [
           {
            "colorbar": {
             "outlinewidth": 0,
             "ticks": ""
            },
            "colorscale": [
             [
              0,
              "#0d0887"
             ],
             [
              0.1111111111111111,
              "#46039f"
             ],
             [
              0.2222222222222222,
              "#7201a8"
             ],
             [
              0.3333333333333333,
              "#9c179e"
             ],
             [
              0.4444444444444444,
              "#bd3786"
             ],
             [
              0.5555555555555556,
              "#d8576b"
             ],
             [
              0.6666666666666666,
              "#ed7953"
             ],
             [
              0.7777777777777778,
              "#fb9f3a"
             ],
             [
              0.8888888888888888,
              "#fdca26"
             ],
             [
              1,
              "#f0f921"
             ]
            ],
            "type": "heatmapgl"
           }
          ],
          "histogram": [
           {
            "marker": {
             "pattern": {
              "fillmode": "overlay",
              "size": 10,
              "solidity": 0.2
             }
            },
            "type": "histogram"
           }
          ],
          "histogram2d": [
           {
            "colorbar": {
             "outlinewidth": 0,
             "ticks": ""
            },
            "colorscale": [
             [
              0,
              "#0d0887"
             ],
             [
              0.1111111111111111,
              "#46039f"
             ],
             [
              0.2222222222222222,
              "#7201a8"
             ],
             [
              0.3333333333333333,
              "#9c179e"
             ],
             [
              0.4444444444444444,
              "#bd3786"
             ],
             [
              0.5555555555555556,
              "#d8576b"
             ],
             [
              0.6666666666666666,
              "#ed7953"
             ],
             [
              0.7777777777777778,
              "#fb9f3a"
             ],
             [
              0.8888888888888888,
              "#fdca26"
             ],
             [
              1,
              "#f0f921"
             ]
            ],
            "type": "histogram2d"
           }
          ],
          "histogram2dcontour": [
           {
            "colorbar": {
             "outlinewidth": 0,
             "ticks": ""
            },
            "colorscale": [
             [
              0,
              "#0d0887"
             ],
             [
              0.1111111111111111,
              "#46039f"
             ],
             [
              0.2222222222222222,
              "#7201a8"
             ],
             [
              0.3333333333333333,
              "#9c179e"
             ],
             [
              0.4444444444444444,
              "#bd3786"
             ],
             [
              0.5555555555555556,
              "#d8576b"
             ],
             [
              0.6666666666666666,
              "#ed7953"
             ],
             [
              0.7777777777777778,
              "#fb9f3a"
             ],
             [
              0.8888888888888888,
              "#fdca26"
             ],
             [
              1,
              "#f0f921"
             ]
            ],
            "type": "histogram2dcontour"
           }
          ],
          "mesh3d": [
           {
            "colorbar": {
             "outlinewidth": 0,
             "ticks": ""
            },
            "type": "mesh3d"
           }
          ],
          "parcoords": [
           {
            "line": {
             "colorbar": {
              "outlinewidth": 0,
              "ticks": ""
             }
            },
            "type": "parcoords"
           }
          ],
          "pie": [
           {
            "automargin": true,
            "type": "pie"
           }
          ],
          "scatter": [
           {
            "fillpattern": {
             "fillmode": "overlay",
             "size": 10,
             "solidity": 0.2
            },
            "type": "scatter"
           }
          ],
          "scatter3d": [
           {
            "line": {
             "colorbar": {
              "outlinewidth": 0,
              "ticks": ""
             }
            },
            "marker": {
             "colorbar": {
              "outlinewidth": 0,
              "ticks": ""
             }
            },
            "type": "scatter3d"
           }
          ],
          "scattercarpet": [
           {
            "marker": {
             "colorbar": {
              "outlinewidth": 0,
              "ticks": ""
             }
            },
            "type": "scattercarpet"
           }
          ],
          "scattergeo": [
           {
            "marker": {
             "colorbar": {
              "outlinewidth": 0,
              "ticks": ""
             }
            },
            "type": "scattergeo"
           }
          ],
          "scattergl": [
           {
            "marker": {
             "colorbar": {
              "outlinewidth": 0,
              "ticks": ""
             }
            },
            "type": "scattergl"
           }
          ],
          "scattermapbox": [
           {
            "marker": {
             "colorbar": {
              "outlinewidth": 0,
              "ticks": ""
             }
            },
            "type": "scattermapbox"
           }
          ],
          "scatterpolar": [
           {
            "marker": {
             "colorbar": {
              "outlinewidth": 0,
              "ticks": ""
             }
            },
            "type": "scatterpolar"
           }
          ],
          "scatterpolargl": [
           {
            "marker": {
             "colorbar": {
              "outlinewidth": 0,
              "ticks": ""
             }
            },
            "type": "scatterpolargl"
           }
          ],
          "scatterternary": [
           {
            "marker": {
             "colorbar": {
              "outlinewidth": 0,
              "ticks": ""
             }
            },
            "type": "scatterternary"
           }
          ],
          "surface": [
           {
            "colorbar": {
             "outlinewidth": 0,
             "ticks": ""
            },
            "colorscale": [
             [
              0,
              "#0d0887"
             ],
             [
              0.1111111111111111,
              "#46039f"
             ],
             [
              0.2222222222222222,
              "#7201a8"
             ],
             [
              0.3333333333333333,
              "#9c179e"
             ],
             [
              0.4444444444444444,
              "#bd3786"
             ],
             [
              0.5555555555555556,
              "#d8576b"
             ],
             [
              0.6666666666666666,
              "#ed7953"
             ],
             [
              0.7777777777777778,
              "#fb9f3a"
             ],
             [
              0.8888888888888888,
              "#fdca26"
             ],
             [
              1,
              "#f0f921"
             ]
            ],
            "type": "surface"
           }
          ],
          "table": [
           {
            "cells": {
             "fill": {
              "color": "#EBF0F8"
             },
             "line": {
              "color": "white"
             }
            },
            "header": {
             "fill": {
              "color": "#C8D4E3"
             },
             "line": {
              "color": "white"
             }
            },
            "type": "table"
           }
          ]
         },
         "layout": {
          "annotationdefaults": {
           "arrowcolor": "#2a3f5f",
           "arrowhead": 0,
           "arrowwidth": 1
          },
          "autotypenumbers": "strict",
          "coloraxis": {
           "colorbar": {
            "outlinewidth": 0,
            "ticks": ""
           }
          },
          "colorscale": {
           "diverging": [
            [
             0,
             "#8e0152"
            ],
            [
             0.1,
             "#c51b7d"
            ],
            [
             0.2,
             "#de77ae"
            ],
            [
             0.3,
             "#f1b6da"
            ],
            [
             0.4,
             "#fde0ef"
            ],
            [
             0.5,
             "#f7f7f7"
            ],
            [
             0.6,
             "#e6f5d0"
            ],
            [
             0.7,
             "#b8e186"
            ],
            [
             0.8,
             "#7fbc41"
            ],
            [
             0.9,
             "#4d9221"
            ],
            [
             1,
             "#276419"
            ]
           ],
           "sequential": [
            [
             0,
             "#0d0887"
            ],
            [
             0.1111111111111111,
             "#46039f"
            ],
            [
             0.2222222222222222,
             "#7201a8"
            ],
            [
             0.3333333333333333,
             "#9c179e"
            ],
            [
             0.4444444444444444,
             "#bd3786"
            ],
            [
             0.5555555555555556,
             "#d8576b"
            ],
            [
             0.6666666666666666,
             "#ed7953"
            ],
            [
             0.7777777777777778,
             "#fb9f3a"
            ],
            [
             0.8888888888888888,
             "#fdca26"
            ],
            [
             1,
             "#f0f921"
            ]
           ],
           "sequentialminus": [
            [
             0,
             "#0d0887"
            ],
            [
             0.1111111111111111,
             "#46039f"
            ],
            [
             0.2222222222222222,
             "#7201a8"
            ],
            [
             0.3333333333333333,
             "#9c179e"
            ],
            [
             0.4444444444444444,
             "#bd3786"
            ],
            [
             0.5555555555555556,
             "#d8576b"
            ],
            [
             0.6666666666666666,
             "#ed7953"
            ],
            [
             0.7777777777777778,
             "#fb9f3a"
            ],
            [
             0.8888888888888888,
             "#fdca26"
            ],
            [
             1,
             "#f0f921"
            ]
           ]
          },
          "colorway": [
           "#636efa",
           "#EF553B",
           "#00cc96",
           "#ab63fa",
           "#FFA15A",
           "#19d3f3",
           "#FF6692",
           "#B6E880",
           "#FF97FF",
           "#FECB52"
          ],
          "font": {
           "color": "#2a3f5f"
          },
          "geo": {
           "bgcolor": "white",
           "lakecolor": "white",
           "landcolor": "#E5ECF6",
           "showlakes": true,
           "showland": true,
           "subunitcolor": "white"
          },
          "hoverlabel": {
           "align": "left"
          },
          "hovermode": "closest",
          "mapbox": {
           "style": "light"
          },
          "paper_bgcolor": "white",
          "plot_bgcolor": "#E5ECF6",
          "polar": {
           "angularaxis": {
            "gridcolor": "white",
            "linecolor": "white",
            "ticks": ""
           },
           "bgcolor": "#E5ECF6",
           "radialaxis": {
            "gridcolor": "white",
            "linecolor": "white",
            "ticks": ""
           }
          },
          "scene": {
           "xaxis": {
            "backgroundcolor": "#E5ECF6",
            "gridcolor": "white",
            "gridwidth": 2,
            "linecolor": "white",
            "showbackground": true,
            "ticks": "",
            "zerolinecolor": "white"
           },
           "yaxis": {
            "backgroundcolor": "#E5ECF6",
            "gridcolor": "white",
            "gridwidth": 2,
            "linecolor": "white",
            "showbackground": true,
            "ticks": "",
            "zerolinecolor": "white"
           },
           "zaxis": {
            "backgroundcolor": "#E5ECF6",
            "gridcolor": "white",
            "gridwidth": 2,
            "linecolor": "white",
            "showbackground": true,
            "ticks": "",
            "zerolinecolor": "white"
           }
          },
          "shapedefaults": {
           "line": {
            "color": "#2a3f5f"
           }
          },
          "ternary": {
           "aaxis": {
            "gridcolor": "white",
            "linecolor": "white",
            "ticks": ""
           },
           "baxis": {
            "gridcolor": "white",
            "linecolor": "white",
            "ticks": ""
           },
           "bgcolor": "#E5ECF6",
           "caxis": {
            "gridcolor": "white",
            "linecolor": "white",
            "ticks": ""
           }
          },
          "title": {
           "x": 0.05
          },
          "xaxis": {
           "automargin": true,
           "gridcolor": "white",
           "linecolor": "white",
           "ticks": "",
           "title": {
            "standoff": 15
           },
           "zerolinecolor": "white",
           "zerolinewidth": 2
          },
          "yaxis": {
           "automargin": true,
           "gridcolor": "white",
           "linecolor": "white",
           "ticks": "",
           "title": {
            "standoff": 15
           },
           "zerolinecolor": "white",
           "zerolinewidth": 2
          }
         }
        },
        "title": {
         "font": {
          "size": 20
         },
         "text": "Данные",
         "x": 0.5
        },
        "xaxis": {
         "tickangle": -45,
         "tickfont": {
          "size": 14
         },
         "title": {
          "font": {
           "size": 16
          },
          "text": "X Axis"
         }
        },
        "yaxis": {
         "tickfont": {
          "size": 14
         },
         "title": {
          "font": {
           "size": 16
          },
          "text": "Y Axis"
         }
        }
       }
      }
     },
     "metadata": {},
     "output_type": "display_data"
    }
   ],
   "source": [
    "colors = ['red', 'orange', 'yellow', 'green', 'cyan', 'blue', 'violet']\n",
    "fig = go.Figure(data=[\n",
    "    go.Bar(name='Bar', x = data['district'], y=data['empl_total'])\n",
    "])\n",
    "fig.update_traces(marker=dict(color=colors, coloraxis='coloraxis'), marker_line_color='black',\n",
    "marker_line_width=2)\n",
    "fig.update_layout(width=None, height=700,\n",
    "                title=dict(\n",
    "                    text=\"Данные\",\n",
    "                    font_size=20,\n",
    "                    x=0.5\n",
    "                ),\n",
    "                xaxis=dict(\n",
    "                    title=\"X Axis\",\n",
    "                    title_font_size=16,\n",
    "                    tickangle=315,\n",
    "                    tickfont_size=14,\n",
    "                ),\n",
    "                yaxis=dict(\n",
    "                    title=\"Y Axis\",\n",
    "                    title_font_size=16,\n",
    "                    tickfont_size=14,\n",
    "                )\n",
    ")\n",
    "fig.show()"
   ]
  },
  {
   "cell_type": "markdown",
   "metadata": {},
   "source": [
    "# Пункт 4"
   ]
  },
  {
   "cell_type": "code",
   "execution_count": 39,
   "metadata": {},
   "outputs": [
    {
     "data": {
      "application/vnd.plotly.v1+json": {
       "config": {
        "plotlyServerURL": "https://plot.ly"
       },
       "data": [
        {
         "labels": [
          "Алексеевский муниципальный район и город Алексеевка",
          "Корочанский муниципальный район",
          "Новооскольский муниципальный район",
          "Шебекинский муниципальный район и город Шебекино",
          "Яковлевский муниципальный район",
          "город Калуга"
         ],
         "marker": {
          "colors": [
           "red",
           "orange",
           "yellow",
           "green",
           "cyan",
           "blue",
           "violet"
          ],
          "line": {
           "color": "black",
           "width": 2
          }
         },
         "name": "Pie",
         "type": "pie",
         "values": [
          19027,
          9547,
          13647,
          17482,
          14175,
          116345
         ]
        }
       ],
       "layout": {
        "height": 700,
        "template": {
         "data": {
          "bar": [
           {
            "error_x": {
             "color": "#2a3f5f"
            },
            "error_y": {
             "color": "#2a3f5f"
            },
            "marker": {
             "line": {
              "color": "#E5ECF6",
              "width": 0.5
             },
             "pattern": {
              "fillmode": "overlay",
              "size": 10,
              "solidity": 0.2
             }
            },
            "type": "bar"
           }
          ],
          "barpolar": [
           {
            "marker": {
             "line": {
              "color": "#E5ECF6",
              "width": 0.5
             },
             "pattern": {
              "fillmode": "overlay",
              "size": 10,
              "solidity": 0.2
             }
            },
            "type": "barpolar"
           }
          ],
          "carpet": [
           {
            "aaxis": {
             "endlinecolor": "#2a3f5f",
             "gridcolor": "white",
             "linecolor": "white",
             "minorgridcolor": "white",
             "startlinecolor": "#2a3f5f"
            },
            "baxis": {
             "endlinecolor": "#2a3f5f",
             "gridcolor": "white",
             "linecolor": "white",
             "minorgridcolor": "white",
             "startlinecolor": "#2a3f5f"
            },
            "type": "carpet"
           }
          ],
          "choropleth": [
           {
            "colorbar": {
             "outlinewidth": 0,
             "ticks": ""
            },
            "type": "choropleth"
           }
          ],
          "contour": [
           {
            "colorbar": {
             "outlinewidth": 0,
             "ticks": ""
            },
            "colorscale": [
             [
              0,
              "#0d0887"
             ],
             [
              0.1111111111111111,
              "#46039f"
             ],
             [
              0.2222222222222222,
              "#7201a8"
             ],
             [
              0.3333333333333333,
              "#9c179e"
             ],
             [
              0.4444444444444444,
              "#bd3786"
             ],
             [
              0.5555555555555556,
              "#d8576b"
             ],
             [
              0.6666666666666666,
              "#ed7953"
             ],
             [
              0.7777777777777778,
              "#fb9f3a"
             ],
             [
              0.8888888888888888,
              "#fdca26"
             ],
             [
              1,
              "#f0f921"
             ]
            ],
            "type": "contour"
           }
          ],
          "contourcarpet": [
           {
            "colorbar": {
             "outlinewidth": 0,
             "ticks": ""
            },
            "type": "contourcarpet"
           }
          ],
          "heatmap": [
           {
            "colorbar": {
             "outlinewidth": 0,
             "ticks": ""
            },
            "colorscale": [
             [
              0,
              "#0d0887"
             ],
             [
              0.1111111111111111,
              "#46039f"
             ],
             [
              0.2222222222222222,
              "#7201a8"
             ],
             [
              0.3333333333333333,
              "#9c179e"
             ],
             [
              0.4444444444444444,
              "#bd3786"
             ],
             [
              0.5555555555555556,
              "#d8576b"
             ],
             [
              0.6666666666666666,
              "#ed7953"
             ],
             [
              0.7777777777777778,
              "#fb9f3a"
             ],
             [
              0.8888888888888888,
              "#fdca26"
             ],
             [
              1,
              "#f0f921"
             ]
            ],
            "type": "heatmap"
           }
          ],
          "heatmapgl": [
           {
            "colorbar": {
             "outlinewidth": 0,
             "ticks": ""
            },
            "colorscale": [
             [
              0,
              "#0d0887"
             ],
             [
              0.1111111111111111,
              "#46039f"
             ],
             [
              0.2222222222222222,
              "#7201a8"
             ],
             [
              0.3333333333333333,
              "#9c179e"
             ],
             [
              0.4444444444444444,
              "#bd3786"
             ],
             [
              0.5555555555555556,
              "#d8576b"
             ],
             [
              0.6666666666666666,
              "#ed7953"
             ],
             [
              0.7777777777777778,
              "#fb9f3a"
             ],
             [
              0.8888888888888888,
              "#fdca26"
             ],
             [
              1,
              "#f0f921"
             ]
            ],
            "type": "heatmapgl"
           }
          ],
          "histogram": [
           {
            "marker": {
             "pattern": {
              "fillmode": "overlay",
              "size": 10,
              "solidity": 0.2
             }
            },
            "type": "histogram"
           }
          ],
          "histogram2d": [
           {
            "colorbar": {
             "outlinewidth": 0,
             "ticks": ""
            },
            "colorscale": [
             [
              0,
              "#0d0887"
             ],
             [
              0.1111111111111111,
              "#46039f"
             ],
             [
              0.2222222222222222,
              "#7201a8"
             ],
             [
              0.3333333333333333,
              "#9c179e"
             ],
             [
              0.4444444444444444,
              "#bd3786"
             ],
             [
              0.5555555555555556,
              "#d8576b"
             ],
             [
              0.6666666666666666,
              "#ed7953"
             ],
             [
              0.7777777777777778,
              "#fb9f3a"
             ],
             [
              0.8888888888888888,
              "#fdca26"
             ],
             [
              1,
              "#f0f921"
             ]
            ],
            "type": "histogram2d"
           }
          ],
          "histogram2dcontour": [
           {
            "colorbar": {
             "outlinewidth": 0,
             "ticks": ""
            },
            "colorscale": [
             [
              0,
              "#0d0887"
             ],
             [
              0.1111111111111111,
              "#46039f"
             ],
             [
              0.2222222222222222,
              "#7201a8"
             ],
             [
              0.3333333333333333,
              "#9c179e"
             ],
             [
              0.4444444444444444,
              "#bd3786"
             ],
             [
              0.5555555555555556,
              "#d8576b"
             ],
             [
              0.6666666666666666,
              "#ed7953"
             ],
             [
              0.7777777777777778,
              "#fb9f3a"
             ],
             [
              0.8888888888888888,
              "#fdca26"
             ],
             [
              1,
              "#f0f921"
             ]
            ],
            "type": "histogram2dcontour"
           }
          ],
          "mesh3d": [
           {
            "colorbar": {
             "outlinewidth": 0,
             "ticks": ""
            },
            "type": "mesh3d"
           }
          ],
          "parcoords": [
           {
            "line": {
             "colorbar": {
              "outlinewidth": 0,
              "ticks": ""
             }
            },
            "type": "parcoords"
           }
          ],
          "pie": [
           {
            "automargin": true,
            "type": "pie"
           }
          ],
          "scatter": [
           {
            "fillpattern": {
             "fillmode": "overlay",
             "size": 10,
             "solidity": 0.2
            },
            "type": "scatter"
           }
          ],
          "scatter3d": [
           {
            "line": {
             "colorbar": {
              "outlinewidth": 0,
              "ticks": ""
             }
            },
            "marker": {
             "colorbar": {
              "outlinewidth": 0,
              "ticks": ""
             }
            },
            "type": "scatter3d"
           }
          ],
          "scattercarpet": [
           {
            "marker": {
             "colorbar": {
              "outlinewidth": 0,
              "ticks": ""
             }
            },
            "type": "scattercarpet"
           }
          ],
          "scattergeo": [
           {
            "marker": {
             "colorbar": {
              "outlinewidth": 0,
              "ticks": ""
             }
            },
            "type": "scattergeo"
           }
          ],
          "scattergl": [
           {
            "marker": {
             "colorbar": {
              "outlinewidth": 0,
              "ticks": ""
             }
            },
            "type": "scattergl"
           }
          ],
          "scattermapbox": [
           {
            "marker": {
             "colorbar": {
              "outlinewidth": 0,
              "ticks": ""
             }
            },
            "type": "scattermapbox"
           }
          ],
          "scatterpolar": [
           {
            "marker": {
             "colorbar": {
              "outlinewidth": 0,
              "ticks": ""
             }
            },
            "type": "scatterpolar"
           }
          ],
          "scatterpolargl": [
           {
            "marker": {
             "colorbar": {
              "outlinewidth": 0,
              "ticks": ""
             }
            },
            "type": "scatterpolargl"
           }
          ],
          "scatterternary": [
           {
            "marker": {
             "colorbar": {
              "outlinewidth": 0,
              "ticks": ""
             }
            },
            "type": "scatterternary"
           }
          ],
          "surface": [
           {
            "colorbar": {
             "outlinewidth": 0,
             "ticks": ""
            },
            "colorscale": [
             [
              0,
              "#0d0887"
             ],
             [
              0.1111111111111111,
              "#46039f"
             ],
             [
              0.2222222222222222,
              "#7201a8"
             ],
             [
              0.3333333333333333,
              "#9c179e"
             ],
             [
              0.4444444444444444,
              "#bd3786"
             ],
             [
              0.5555555555555556,
              "#d8576b"
             ],
             [
              0.6666666666666666,
              "#ed7953"
             ],
             [
              0.7777777777777778,
              "#fb9f3a"
             ],
             [
              0.8888888888888888,
              "#fdca26"
             ],
             [
              1,
              "#f0f921"
             ]
            ],
            "type": "surface"
           }
          ],
          "table": [
           {
            "cells": {
             "fill": {
              "color": "#EBF0F8"
             },
             "line": {
              "color": "white"
             }
            },
            "header": {
             "fill": {
              "color": "#C8D4E3"
             },
             "line": {
              "color": "white"
             }
            },
            "type": "table"
           }
          ]
         },
         "layout": {
          "annotationdefaults": {
           "arrowcolor": "#2a3f5f",
           "arrowhead": 0,
           "arrowwidth": 1
          },
          "autotypenumbers": "strict",
          "coloraxis": {
           "colorbar": {
            "outlinewidth": 0,
            "ticks": ""
           }
          },
          "colorscale": {
           "diverging": [
            [
             0,
             "#8e0152"
            ],
            [
             0.1,
             "#c51b7d"
            ],
            [
             0.2,
             "#de77ae"
            ],
            [
             0.3,
             "#f1b6da"
            ],
            [
             0.4,
             "#fde0ef"
            ],
            [
             0.5,
             "#f7f7f7"
            ],
            [
             0.6,
             "#e6f5d0"
            ],
            [
             0.7,
             "#b8e186"
            ],
            [
             0.8,
             "#7fbc41"
            ],
            [
             0.9,
             "#4d9221"
            ],
            [
             1,
             "#276419"
            ]
           ],
           "sequential": [
            [
             0,
             "#0d0887"
            ],
            [
             0.1111111111111111,
             "#46039f"
            ],
            [
             0.2222222222222222,
             "#7201a8"
            ],
            [
             0.3333333333333333,
             "#9c179e"
            ],
            [
             0.4444444444444444,
             "#bd3786"
            ],
            [
             0.5555555555555556,
             "#d8576b"
            ],
            [
             0.6666666666666666,
             "#ed7953"
            ],
            [
             0.7777777777777778,
             "#fb9f3a"
            ],
            [
             0.8888888888888888,
             "#fdca26"
            ],
            [
             1,
             "#f0f921"
            ]
           ],
           "sequentialminus": [
            [
             0,
             "#0d0887"
            ],
            [
             0.1111111111111111,
             "#46039f"
            ],
            [
             0.2222222222222222,
             "#7201a8"
            ],
            [
             0.3333333333333333,
             "#9c179e"
            ],
            [
             0.4444444444444444,
             "#bd3786"
            ],
            [
             0.5555555555555556,
             "#d8576b"
            ],
            [
             0.6666666666666666,
             "#ed7953"
            ],
            [
             0.7777777777777778,
             "#fb9f3a"
            ],
            [
             0.8888888888888888,
             "#fdca26"
            ],
            [
             1,
             "#f0f921"
            ]
           ]
          },
          "colorway": [
           "#636efa",
           "#EF553B",
           "#00cc96",
           "#ab63fa",
           "#FFA15A",
           "#19d3f3",
           "#FF6692",
           "#B6E880",
           "#FF97FF",
           "#FECB52"
          ],
          "font": {
           "color": "#2a3f5f"
          },
          "geo": {
           "bgcolor": "white",
           "lakecolor": "white",
           "landcolor": "#E5ECF6",
           "showlakes": true,
           "showland": true,
           "subunitcolor": "white"
          },
          "hoverlabel": {
           "align": "left"
          },
          "hovermode": "closest",
          "mapbox": {
           "style": "light"
          },
          "paper_bgcolor": "white",
          "plot_bgcolor": "#E5ECF6",
          "polar": {
           "angularaxis": {
            "gridcolor": "white",
            "linecolor": "white",
            "ticks": ""
           },
           "bgcolor": "#E5ECF6",
           "radialaxis": {
            "gridcolor": "white",
            "linecolor": "white",
            "ticks": ""
           }
          },
          "scene": {
           "xaxis": {
            "backgroundcolor": "#E5ECF6",
            "gridcolor": "white",
            "gridwidth": 2,
            "linecolor": "white",
            "showbackground": true,
            "ticks": "",
            "zerolinecolor": "white"
           },
           "yaxis": {
            "backgroundcolor": "#E5ECF6",
            "gridcolor": "white",
            "gridwidth": 2,
            "linecolor": "white",
            "showbackground": true,
            "ticks": "",
            "zerolinecolor": "white"
           },
           "zaxis": {
            "backgroundcolor": "#E5ECF6",
            "gridcolor": "white",
            "gridwidth": 2,
            "linecolor": "white",
            "showbackground": true,
            "ticks": "",
            "zerolinecolor": "white"
           }
          },
          "shapedefaults": {
           "line": {
            "color": "#2a3f5f"
           }
          },
          "ternary": {
           "aaxis": {
            "gridcolor": "white",
            "linecolor": "white",
            "ticks": ""
           },
           "baxis": {
            "gridcolor": "white",
            "linecolor": "white",
            "ticks": ""
           },
           "bgcolor": "#E5ECF6",
           "caxis": {
            "gridcolor": "white",
            "linecolor": "white",
            "ticks": ""
           }
          },
          "title": {
           "x": 0.05
          },
          "xaxis": {
           "automargin": true,
           "gridcolor": "white",
           "linecolor": "white",
           "ticks": "",
           "title": {
            "standoff": 15
           },
           "zerolinecolor": "white",
           "zerolinewidth": 2
          },
          "yaxis": {
           "automargin": true,
           "gridcolor": "white",
           "linecolor": "white",
           "ticks": "",
           "title": {
            "standoff": 15
           },
           "zerolinecolor": "white",
           "zerolinewidth": 2
          }
         }
        },
        "title": {
         "font": {
          "size": 20
         },
         "text": "Данные",
         "x": 0.5
        }
       }
      }
     },
     "metadata": {},
     "output_type": "display_data"
    }
   ],
   "source": [
    "colors = ['red', 'orange', 'yellow', 'green', 'cyan', 'blue', 'violet']\n",
    "\n",
    "fig = go.Figure(data=[\n",
    "    go.Pie(name='Pie', labels = data['district'], values=data['empl_total'])\n",
    "])\n",
    "fig.update_traces(\n",
    "    marker=dict(\n",
    "        colors=colors,\n",
    "        line=dict(\n",
    "            color=\"black\",\n",
    "            width=2\n",
    "        )\n",
    "    )\n",
    ")\n",
    "fig.update_layout(width=None, height=700,\n",
    "                title=dict(\n",
    "                    text=\"Данные\",\n",
    "                    font_size=20,\n",
    "                    x=0.5\n",
    "                ),\n",
    ")\n",
    "fig.show()"
   ]
  },
  {
   "cell_type": "markdown",
   "metadata": {},
   "source": [
    "# Пункт 5"
   ]
  },
  {
   "cell_type": "code",
   "execution_count": 40,
   "metadata": {},
   "outputs": [
    {
     "data": {
      "application/vnd.plotly.v1+json": {
       "config": {
        "plotlyServerURL": "https://plot.ly"
       },
       "data": [
        {
         "line": {
          "color": "crimson",
          "width": 2
         },
         "marker": {
          "color": "white",
          "coloraxis": "coloraxis",
          "line": {
           "color": "black",
           "width": 2
          }
         },
         "name": "Scatter",
         "type": "scatter",
         "x": [
          19027,
          28574,
          42221,
          59703,
          73878,
          190223
         ],
         "y": [
          0,
          1,
          2,
          3,
          4,
          5
         ]
        }
       ],
       "layout": {
        "height": 700,
        "template": {
         "data": {
          "bar": [
           {
            "error_x": {
             "color": "#2a3f5f"
            },
            "error_y": {
             "color": "#2a3f5f"
            },
            "marker": {
             "line": {
              "color": "#E5ECF6",
              "width": 0.5
             },
             "pattern": {
              "fillmode": "overlay",
              "size": 10,
              "solidity": 0.2
             }
            },
            "type": "bar"
           }
          ],
          "barpolar": [
           {
            "marker": {
             "line": {
              "color": "#E5ECF6",
              "width": 0.5
             },
             "pattern": {
              "fillmode": "overlay",
              "size": 10,
              "solidity": 0.2
             }
            },
            "type": "barpolar"
           }
          ],
          "carpet": [
           {
            "aaxis": {
             "endlinecolor": "#2a3f5f",
             "gridcolor": "white",
             "linecolor": "white",
             "minorgridcolor": "white",
             "startlinecolor": "#2a3f5f"
            },
            "baxis": {
             "endlinecolor": "#2a3f5f",
             "gridcolor": "white",
             "linecolor": "white",
             "minorgridcolor": "white",
             "startlinecolor": "#2a3f5f"
            },
            "type": "carpet"
           }
          ],
          "choropleth": [
           {
            "colorbar": {
             "outlinewidth": 0,
             "ticks": ""
            },
            "type": "choropleth"
           }
          ],
          "contour": [
           {
            "colorbar": {
             "outlinewidth": 0,
             "ticks": ""
            },
            "colorscale": [
             [
              0,
              "#0d0887"
             ],
             [
              0.1111111111111111,
              "#46039f"
             ],
             [
              0.2222222222222222,
              "#7201a8"
             ],
             [
              0.3333333333333333,
              "#9c179e"
             ],
             [
              0.4444444444444444,
              "#bd3786"
             ],
             [
              0.5555555555555556,
              "#d8576b"
             ],
             [
              0.6666666666666666,
              "#ed7953"
             ],
             [
              0.7777777777777778,
              "#fb9f3a"
             ],
             [
              0.8888888888888888,
              "#fdca26"
             ],
             [
              1,
              "#f0f921"
             ]
            ],
            "type": "contour"
           }
          ],
          "contourcarpet": [
           {
            "colorbar": {
             "outlinewidth": 0,
             "ticks": ""
            },
            "type": "contourcarpet"
           }
          ],
          "heatmap": [
           {
            "colorbar": {
             "outlinewidth": 0,
             "ticks": ""
            },
            "colorscale": [
             [
              0,
              "#0d0887"
             ],
             [
              0.1111111111111111,
              "#46039f"
             ],
             [
              0.2222222222222222,
              "#7201a8"
             ],
             [
              0.3333333333333333,
              "#9c179e"
             ],
             [
              0.4444444444444444,
              "#bd3786"
             ],
             [
              0.5555555555555556,
              "#d8576b"
             ],
             [
              0.6666666666666666,
              "#ed7953"
             ],
             [
              0.7777777777777778,
              "#fb9f3a"
             ],
             [
              0.8888888888888888,
              "#fdca26"
             ],
             [
              1,
              "#f0f921"
             ]
            ],
            "type": "heatmap"
           }
          ],
          "heatmapgl": [
           {
            "colorbar": {
             "outlinewidth": 0,
             "ticks": ""
            },
            "colorscale": [
             [
              0,
              "#0d0887"
             ],
             [
              0.1111111111111111,
              "#46039f"
             ],
             [
              0.2222222222222222,
              "#7201a8"
             ],
             [
              0.3333333333333333,
              "#9c179e"
             ],
             [
              0.4444444444444444,
              "#bd3786"
             ],
             [
              0.5555555555555556,
              "#d8576b"
             ],
             [
              0.6666666666666666,
              "#ed7953"
             ],
             [
              0.7777777777777778,
              "#fb9f3a"
             ],
             [
              0.8888888888888888,
              "#fdca26"
             ],
             [
              1,
              "#f0f921"
             ]
            ],
            "type": "heatmapgl"
           }
          ],
          "histogram": [
           {
            "marker": {
             "pattern": {
              "fillmode": "overlay",
              "size": 10,
              "solidity": 0.2
             }
            },
            "type": "histogram"
           }
          ],
          "histogram2d": [
           {
            "colorbar": {
             "outlinewidth": 0,
             "ticks": ""
            },
            "colorscale": [
             [
              0,
              "#0d0887"
             ],
             [
              0.1111111111111111,
              "#46039f"
             ],
             [
              0.2222222222222222,
              "#7201a8"
             ],
             [
              0.3333333333333333,
              "#9c179e"
             ],
             [
              0.4444444444444444,
              "#bd3786"
             ],
             [
              0.5555555555555556,
              "#d8576b"
             ],
             [
              0.6666666666666666,
              "#ed7953"
             ],
             [
              0.7777777777777778,
              "#fb9f3a"
             ],
             [
              0.8888888888888888,
              "#fdca26"
             ],
             [
              1,
              "#f0f921"
             ]
            ],
            "type": "histogram2d"
           }
          ],
          "histogram2dcontour": [
           {
            "colorbar": {
             "outlinewidth": 0,
             "ticks": ""
            },
            "colorscale": [
             [
              0,
              "#0d0887"
             ],
             [
              0.1111111111111111,
              "#46039f"
             ],
             [
              0.2222222222222222,
              "#7201a8"
             ],
             [
              0.3333333333333333,
              "#9c179e"
             ],
             [
              0.4444444444444444,
              "#bd3786"
             ],
             [
              0.5555555555555556,
              "#d8576b"
             ],
             [
              0.6666666666666666,
              "#ed7953"
             ],
             [
              0.7777777777777778,
              "#fb9f3a"
             ],
             [
              0.8888888888888888,
              "#fdca26"
             ],
             [
              1,
              "#f0f921"
             ]
            ],
            "type": "histogram2dcontour"
           }
          ],
          "mesh3d": [
           {
            "colorbar": {
             "outlinewidth": 0,
             "ticks": ""
            },
            "type": "mesh3d"
           }
          ],
          "parcoords": [
           {
            "line": {
             "colorbar": {
              "outlinewidth": 0,
              "ticks": ""
             }
            },
            "type": "parcoords"
           }
          ],
          "pie": [
           {
            "automargin": true,
            "type": "pie"
           }
          ],
          "scatter": [
           {
            "fillpattern": {
             "fillmode": "overlay",
             "size": 10,
             "solidity": 0.2
            },
            "type": "scatter"
           }
          ],
          "scatter3d": [
           {
            "line": {
             "colorbar": {
              "outlinewidth": 0,
              "ticks": ""
             }
            },
            "marker": {
             "colorbar": {
              "outlinewidth": 0,
              "ticks": ""
             }
            },
            "type": "scatter3d"
           }
          ],
          "scattercarpet": [
           {
            "marker": {
             "colorbar": {
              "outlinewidth": 0,
              "ticks": ""
             }
            },
            "type": "scattercarpet"
           }
          ],
          "scattergeo": [
           {
            "marker": {
             "colorbar": {
              "outlinewidth": 0,
              "ticks": ""
             }
            },
            "type": "scattergeo"
           }
          ],
          "scattergl": [
           {
            "marker": {
             "colorbar": {
              "outlinewidth": 0,
              "ticks": ""
             }
            },
            "type": "scattergl"
           }
          ],
          "scattermapbox": [
           {
            "marker": {
             "colorbar": {
              "outlinewidth": 0,
              "ticks": ""
             }
            },
            "type": "scattermapbox"
           }
          ],
          "scatterpolar": [
           {
            "marker": {
             "colorbar": {
              "outlinewidth": 0,
              "ticks": ""
             }
            },
            "type": "scatterpolar"
           }
          ],
          "scatterpolargl": [
           {
            "marker": {
             "colorbar": {
              "outlinewidth": 0,
              "ticks": ""
             }
            },
            "type": "scatterpolargl"
           }
          ],
          "scatterternary": [
           {
            "marker": {
             "colorbar": {
              "outlinewidth": 0,
              "ticks": ""
             }
            },
            "type": "scatterternary"
           }
          ],
          "surface": [
           {
            "colorbar": {
             "outlinewidth": 0,
             "ticks": ""
            },
            "colorscale": [
             [
              0,
              "#0d0887"
             ],
             [
              0.1111111111111111,
              "#46039f"
             ],
             [
              0.2222222222222222,
              "#7201a8"
             ],
             [
              0.3333333333333333,
              "#9c179e"
             ],
             [
              0.4444444444444444,
              "#bd3786"
             ],
             [
              0.5555555555555556,
              "#d8576b"
             ],
             [
              0.6666666666666666,
              "#ed7953"
             ],
             [
              0.7777777777777778,
              "#fb9f3a"
             ],
             [
              0.8888888888888888,
              "#fdca26"
             ],
             [
              1,
              "#f0f921"
             ]
            ],
            "type": "surface"
           }
          ],
          "table": [
           {
            "cells": {
             "fill": {
              "color": "#EBF0F8"
             },
             "line": {
              "color": "white"
             }
            },
            "header": {
             "fill": {
              "color": "#C8D4E3"
             },
             "line": {
              "color": "white"
             }
            },
            "type": "table"
           }
          ]
         },
         "layout": {
          "annotationdefaults": {
           "arrowcolor": "#2a3f5f",
           "arrowhead": 0,
           "arrowwidth": 1
          },
          "autotypenumbers": "strict",
          "coloraxis": {
           "colorbar": {
            "outlinewidth": 0,
            "ticks": ""
           }
          },
          "colorscale": {
           "diverging": [
            [
             0,
             "#8e0152"
            ],
            [
             0.1,
             "#c51b7d"
            ],
            [
             0.2,
             "#de77ae"
            ],
            [
             0.3,
             "#f1b6da"
            ],
            [
             0.4,
             "#fde0ef"
            ],
            [
             0.5,
             "#f7f7f7"
            ],
            [
             0.6,
             "#e6f5d0"
            ],
            [
             0.7,
             "#b8e186"
            ],
            [
             0.8,
             "#7fbc41"
            ],
            [
             0.9,
             "#4d9221"
            ],
            [
             1,
             "#276419"
            ]
           ],
           "sequential": [
            [
             0,
             "#0d0887"
            ],
            [
             0.1111111111111111,
             "#46039f"
            ],
            [
             0.2222222222222222,
             "#7201a8"
            ],
            [
             0.3333333333333333,
             "#9c179e"
            ],
            [
             0.4444444444444444,
             "#bd3786"
            ],
            [
             0.5555555555555556,
             "#d8576b"
            ],
            [
             0.6666666666666666,
             "#ed7953"
            ],
            [
             0.7777777777777778,
             "#fb9f3a"
            ],
            [
             0.8888888888888888,
             "#fdca26"
            ],
            [
             1,
             "#f0f921"
            ]
           ],
           "sequentialminus": [
            [
             0,
             "#0d0887"
            ],
            [
             0.1111111111111111,
             "#46039f"
            ],
            [
             0.2222222222222222,
             "#7201a8"
            ],
            [
             0.3333333333333333,
             "#9c179e"
            ],
            [
             0.4444444444444444,
             "#bd3786"
            ],
            [
             0.5555555555555556,
             "#d8576b"
            ],
            [
             0.6666666666666666,
             "#ed7953"
            ],
            [
             0.7777777777777778,
             "#fb9f3a"
            ],
            [
             0.8888888888888888,
             "#fdca26"
            ],
            [
             1,
             "#f0f921"
            ]
           ]
          },
          "colorway": [
           "#636efa",
           "#EF553B",
           "#00cc96",
           "#ab63fa",
           "#FFA15A",
           "#19d3f3",
           "#FF6692",
           "#B6E880",
           "#FF97FF",
           "#FECB52"
          ],
          "font": {
           "color": "#2a3f5f"
          },
          "geo": {
           "bgcolor": "white",
           "lakecolor": "white",
           "landcolor": "#E5ECF6",
           "showlakes": true,
           "showland": true,
           "subunitcolor": "white"
          },
          "hoverlabel": {
           "align": "left"
          },
          "hovermode": "closest",
          "mapbox": {
           "style": "light"
          },
          "paper_bgcolor": "white",
          "plot_bgcolor": "#E5ECF6",
          "polar": {
           "angularaxis": {
            "gridcolor": "white",
            "linecolor": "white",
            "ticks": ""
           },
           "bgcolor": "#E5ECF6",
           "radialaxis": {
            "gridcolor": "white",
            "linecolor": "white",
            "ticks": ""
           }
          },
          "scene": {
           "xaxis": {
            "backgroundcolor": "#E5ECF6",
            "gridcolor": "white",
            "gridwidth": 2,
            "linecolor": "white",
            "showbackground": true,
            "ticks": "",
            "zerolinecolor": "white"
           },
           "yaxis": {
            "backgroundcolor": "#E5ECF6",
            "gridcolor": "white",
            "gridwidth": 2,
            "linecolor": "white",
            "showbackground": true,
            "ticks": "",
            "zerolinecolor": "white"
           },
           "zaxis": {
            "backgroundcolor": "#E5ECF6",
            "gridcolor": "white",
            "gridwidth": 2,
            "linecolor": "white",
            "showbackground": true,
            "ticks": "",
            "zerolinecolor": "white"
           }
          },
          "shapedefaults": {
           "line": {
            "color": "#2a3f5f"
           }
          },
          "ternary": {
           "aaxis": {
            "gridcolor": "white",
            "linecolor": "white",
            "ticks": ""
           },
           "baxis": {
            "gridcolor": "white",
            "linecolor": "white",
            "ticks": ""
           },
           "bgcolor": "#E5ECF6",
           "caxis": {
            "gridcolor": "white",
            "linecolor": "white",
            "ticks": ""
           }
          },
          "title": {
           "x": 0.05
          },
          "xaxis": {
           "automargin": true,
           "gridcolor": "white",
           "linecolor": "white",
           "ticks": "",
           "title": {
            "standoff": 15
           },
           "zerolinecolor": "white",
           "zerolinewidth": 2
          },
          "yaxis": {
           "automargin": true,
           "gridcolor": "white",
           "linecolor": "white",
           "ticks": "",
           "title": {
            "standoff": 15
           },
           "zerolinecolor": "white",
           "zerolinewidth": 2
          }
         }
        },
        "title": {
         "font": {
          "size": 20
         },
         "text": "Данные",
         "x": 0.5
        },
        "xaxis": {
         "gridcolor": "ivory",
         "gridwidth": 2,
         "tickangle": -45,
         "tickfont": {
          "size": 14
         },
         "title": {
          "font": {
           "size": 16
          },
          "text": "Ось X"
         }
        },
        "yaxis": {
         "gridcolor": "ivory",
         "gridwidth": 2,
         "tickfont": {
          "size": 14
         },
         "title": {
          "font": {
           "size": 16
          },
          "text": "Ось y"
         }
        }
       }
      }
     },
     "metadata": {},
     "output_type": "display_data"
    }
   ],
   "source": [
    "import numpy as np\n",
    "\n",
    "x = np.cumsum(data['empl_total'])\n",
    "y = list(range(0, len(x)))\n",
    "\n",
    "fig = go.Figure(data=[go.Scatter(name='Scatter', x=x, y=y)])\n",
    "fig.update_traces(\n",
    "    marker=dict(color='white', coloraxis='coloraxis', line_color='black', line_width=2),\n",
    "    line=dict(color='crimson', width=2),\n",
    ")\n",
    "fig.update_layout(width=None, height=700,\n",
    "                title=dict(\n",
    "                    text='Данные',\n",
    "                    font_size=20,\n",
    "                    x=0.5\n",
    "                ),\n",
    "                xaxis=dict(\n",
    "                    title='Ось X',\n",
    "                    title_font_size=16,\n",
    "                    tickangle=315,\n",
    "                    tickfont_size=14,\n",
    "                    gridwidth=2,\n",
    "                    gridcolor='ivory',\n",
    "                ),\n",
    "                yaxis=dict(\n",
    "                    title=\"Ось y\",\n",
    "                    title_font_size=16,\n",
    "                    tickfont_size=14,\n",
    "                    gridwidth=2,\n",
    "                    gridcolor='ivory',\n",
    "                ))\n",
    "fig.show()"
   ]
  },
  {
   "cell_type": "markdown",
   "metadata": {},
   "source": [
    "# Пункт 6"
   ]
  },
  {
   "cell_type": "code",
   "execution_count": 43,
   "metadata": {},
   "outputs": [
    {
     "data": {
      "image/png": "[encoded data removed]",
      "text/plain": [
       "<Figure size 432x288 with 1 Axes>"
      ]
     },
     "metadata": {
      "needs_background": "light"
     },
     "output_type": "display_data"
    }
   ],
   "source": [
    "colors = ['red', 'orange', 'yellow', 'green', 'cyan', 'blue', 'violet']\n",
    "\n",
    "fig = plt.figure()\n",
    "plt.bar(data['district'], data['empl_total'], color=colors, edgecolor='black', linewidth=2)\n",
    "plt.xticks(data['district'], data['empl_total'])\n",
    "plt.title('Bar', fontsize=20)\n",
    "plt.grid(True)\n",
    "plt.xlabel(\"Ось X\", fontsize=16)\n",
    "plt.ylabel(\"Ось y\", fontsize=16)\n",
    "plt.xticks(fontsize=14, rotation=315)\n",
    "\n",
    "plt.show()"
   ]
  },
  {
   "cell_type": "code",
   "execution_count": 45,
   "metadata": {},
   "outputs": [
    {
     "data": {
      "image/png": "[encoded data removed]",
      "text/plain": [
       "<Figure size 432x288 with 1 Axes>"
      ]
     },
     "metadata": {},
     "output_type": "display_data"
    }
   ],
   "source": [
    "colors = ['red', 'orange', 'yellow', 'green', 'cyan', 'blue', 'violet']\n",
    "\n",
    "fig = plt.figure()\n",
    "\n",
    "plt.pie(data['empl_total'], colors=colors, labels=data['district'])\n",
    "plt.title('Pie', fontsize=20)\n",
    "\n",
    "plt.show()"
   ]
  },
  {
   "cell_type": "code",
   "execution_count": 46,
   "metadata": {},
   "outputs": [
    {
     "data": {
      "image/png": "[encoded data removed]",
      "text/plain": [
       "<Figure size 432x288 with 1 Axes>"
      ]
     },
     "metadata": {
      "needs_background": "light"
     },
     "output_type": "display_data"
    }
   ],
   "source": [
    "import numpy as np\n",
    "\n",
    "x = np.cumsum(data['empl_total'])\n",
    "y = list(range(0, len(x)))\n",
    "\n",
    "fig = plt.figure()\n",
    "\n",
    "plt.scatter(x, y, linewidths=2, edgecolors='black', color='white')\n",
    "plt.plot(x, y, color='crimson')\n",
    "plt.grid(True, color='ivory')\n",
    "plt.xlabel('Ось X', fontsize=16)\n",
    "plt.ylabel(\"Ось Y\", fontsize=16)\n",
    "plt.title('Scatter', fontsize=20)\n",
    "plt.xticks(fontsize=14, rotation=315)\n",
    "\n",
    "plt.show()"
   ]
  },
  {
   "cell_type": "code",
   "execution_count": null,
   "metadata": {},
   "outputs": [],
   "source": []
  }
 ],
 "metadata": {
  "kernelspec": {
   "display_name": "Python 3.9.7 64-bit",
   "language": "python",
   "name": "python3"
  },
  "language_info": {
   "codemirror_mode": {
    "name": "ipython",
    "version": 3
   },
   "file_extension": ".py",
   "mimetype": "text/x-python",
   "name": "python",
   "nbconvert_exporter": "python",
   "pygments_lexer": "ipython3",
   "version": "3.9.7"
  },
  "orig_nbformat": 4,
  "vscode": {
   "interpreter": {
    "hash": "255417fa617810b1dea393034f54cac072576b50ef51973681f390f5eeb58175"
   }
  }
 },
 "nbformat": 4,
 "nbformat_minor": 2
}
