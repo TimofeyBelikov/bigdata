{
 "cells": [
  {
   "attachments": {},
   "cell_type": "markdown",
   "metadata": {},
   "source": [
    "# Дисперсионный анализ"
   ]
  },
  {
   "cell_type": "code",
   "execution_count": 1,
   "metadata": {},
   "outputs": [],
   "source": [
    "import pandas as pd\n",
    "import numpy as np\n",
    "import matplotlib.pyplot as plt\n",
    "import scipy.stats as sts\n",
    "import statsmodels.api as sm\n",
    "from statsmodels.formula.api import ols\n",
    "from statsmodels.stats.multicomp import pairwise_tukeyhsd"
   ]
  },
  {
   "attachments": {},
   "cell_type": "markdown",
   "metadata": {},
   "source": [
    "### Загрузка данных"
   ]
  },
  {
   "cell_type": "code",
   "execution_count": 2,
   "metadata": {},
   "outputs": [
    {
     "name": "stdout",
     "output_type": "stream",
     "text": [
      "Описание:\n"
     ]
    },
    {
     "data": {
      "text/html": [
       "<div>\n",
       "<style scoped>\n",
       "    .dataframe tbody tr th:only-of-type {\n",
       "        vertical-align: middle;\n",
       "    }\n",
       "\n",
       "    .dataframe tbody tr th {\n",
       "        vertical-align: top;\n",
       "    }\n",
       "\n",
       "    .dataframe thead th {\n",
       "        text-align: right;\n",
       "    }\n",
       "</style>\n",
       "<table border=\"1\" class=\"dataframe\">\n",
       "  <thead>\n",
       "    <tr style=\"text-align: right;\">\n",
       "      <th></th>\n",
       "      <th>age</th>\n",
       "      <th>bmi</th>\n",
       "      <th>children</th>\n",
       "      <th>charges</th>\n",
       "    </tr>\n",
       "  </thead>\n",
       "  <tbody>\n",
       "    <tr>\n",
       "      <th>count</th>\n",
       "      <td>1338.000000</td>\n",
       "      <td>1338.000000</td>\n",
       "      <td>1338.000000</td>\n",
       "      <td>1338.000000</td>\n",
       "    </tr>\n",
       "    <tr>\n",
       "      <th>mean</th>\n",
       "      <td>39.207025</td>\n",
       "      <td>30.663397</td>\n",
       "      <td>1.094918</td>\n",
       "      <td>13270.422265</td>\n",
       "    </tr>\n",
       "    <tr>\n",
       "      <th>std</th>\n",
       "      <td>14.049960</td>\n",
       "      <td>6.098187</td>\n",
       "      <td>1.205493</td>\n",
       "      <td>12110.011237</td>\n",
       "    </tr>\n",
       "    <tr>\n",
       "      <th>min</th>\n",
       "      <td>18.000000</td>\n",
       "      <td>15.960000</td>\n",
       "      <td>0.000000</td>\n",
       "      <td>1121.873900</td>\n",
       "    </tr>\n",
       "    <tr>\n",
       "      <th>25%</th>\n",
       "      <td>27.000000</td>\n",
       "      <td>26.296250</td>\n",
       "      <td>0.000000</td>\n",
       "      <td>4740.287150</td>\n",
       "    </tr>\n",
       "    <tr>\n",
       "      <th>50%</th>\n",
       "      <td>39.000000</td>\n",
       "      <td>30.400000</td>\n",
       "      <td>1.000000</td>\n",
       "      <td>9382.033000</td>\n",
       "    </tr>\n",
       "    <tr>\n",
       "      <th>75%</th>\n",
       "      <td>51.000000</td>\n",
       "      <td>34.693750</td>\n",
       "      <td>2.000000</td>\n",
       "      <td>16639.912515</td>\n",
       "    </tr>\n",
       "    <tr>\n",
       "      <th>max</th>\n",
       "      <td>64.000000</td>\n",
       "      <td>53.130000</td>\n",
       "      <td>5.000000</td>\n",
       "      <td>63770.428010</td>\n",
       "    </tr>\n",
       "  </tbody>\n",
       "</table>\n",
       "</div>"
      ],
      "text/plain": [
       "               age          bmi     children       charges\n",
       "count  1338.000000  1338.000000  1338.000000   1338.000000\n",
       "mean     39.207025    30.663397     1.094918  13270.422265\n",
       "std      14.049960     6.098187     1.205493  12110.011237\n",
       "min      18.000000    15.960000     0.000000   1121.873900\n",
       "25%      27.000000    26.296250     0.000000   4740.287150\n",
       "50%      39.000000    30.400000     1.000000   9382.033000\n",
       "75%      51.000000    34.693750     2.000000  16639.912515\n",
       "max      64.000000    53.130000     5.000000  63770.428010"
      ]
     },
     "metadata": {},
     "output_type": "display_data"
    },
    {
     "name": "stdout",
     "output_type": "stream",
     "text": [
      "Пропуски:\n",
      "age         0\n",
      "sex         0\n",
      "bmi         0\n",
      "children    0\n",
      "smoker      0\n",
      "region      0\n",
      "charges     0\n",
      "dtype: int64\n",
      "Количество дублированных записей: 1\n",
      "Количество дублированных записей после очистки: 0\n"
     ]
    },
    {
     "data": {
      "text/html": [
       "<div>\n",
       "<style scoped>\n",
       "    .dataframe tbody tr th:only-of-type {\n",
       "        vertical-align: middle;\n",
       "    }\n",
       "\n",
       "    .dataframe tbody tr th {\n",
       "        vertical-align: top;\n",
       "    }\n",
       "\n",
       "    .dataframe thead th {\n",
       "        text-align: right;\n",
       "    }\n",
       "</style>\n",
       "<table border=\"1\" class=\"dataframe\">\n",
       "  <thead>\n",
       "    <tr style=\"text-align: right;\">\n",
       "      <th></th>\n",
       "      <th>age</th>\n",
       "      <th>sex</th>\n",
       "      <th>bmi</th>\n",
       "      <th>children</th>\n",
       "      <th>smoker</th>\n",
       "      <th>region</th>\n",
       "      <th>charges</th>\n",
       "    </tr>\n",
       "  </thead>\n",
       "  <tbody>\n",
       "    <tr>\n",
       "      <th>0</th>\n",
       "      <td>19</td>\n",
       "      <td>0</td>\n",
       "      <td>27.900</td>\n",
       "      <td>0</td>\n",
       "      <td>1</td>\n",
       "      <td>southwest</td>\n",
       "      <td>16884.92400</td>\n",
       "    </tr>\n",
       "    <tr>\n",
       "      <th>1</th>\n",
       "      <td>18</td>\n",
       "      <td>1</td>\n",
       "      <td>33.770</td>\n",
       "      <td>1</td>\n",
       "      <td>0</td>\n",
       "      <td>southeast</td>\n",
       "      <td>1725.55230</td>\n",
       "    </tr>\n",
       "    <tr>\n",
       "      <th>2</th>\n",
       "      <td>28</td>\n",
       "      <td>1</td>\n",
       "      <td>33.000</td>\n",
       "      <td>3</td>\n",
       "      <td>0</td>\n",
       "      <td>southeast</td>\n",
       "      <td>4449.46200</td>\n",
       "    </tr>\n",
       "    <tr>\n",
       "      <th>3</th>\n",
       "      <td>33</td>\n",
       "      <td>1</td>\n",
       "      <td>22.705</td>\n",
       "      <td>0</td>\n",
       "      <td>0</td>\n",
       "      <td>northwest</td>\n",
       "      <td>21984.47061</td>\n",
       "    </tr>\n",
       "    <tr>\n",
       "      <th>4</th>\n",
       "      <td>32</td>\n",
       "      <td>1</td>\n",
       "      <td>28.880</td>\n",
       "      <td>0</td>\n",
       "      <td>0</td>\n",
       "      <td>northwest</td>\n",
       "      <td>3866.85520</td>\n",
       "    </tr>\n",
       "  </tbody>\n",
       "</table>\n",
       "</div>"
      ],
      "text/plain": [
       "   age  sex     bmi  children  smoker     region      charges\n",
       "0   19    0  27.900         0       1  southwest  16884.92400\n",
       "1   18    1  33.770         1       0  southeast   1725.55230\n",
       "2   28    1  33.000         3       0  southeast   4449.46200\n",
       "3   33    1  22.705         0       0  northwest  21984.47061\n",
       "4   32    1  28.880         0       0  northwest   3866.85520"
      ]
     },
     "execution_count": 2,
     "metadata": {},
     "output_type": "execute_result"
    }
   ],
   "source": [
    "df = pd.read_csv('insurance.csv')\n",
    "\n",
    "print(\"Описание:\")\n",
    "display(df.describe())\n",
    "\n",
    "print(f'Пропуски:\\n{df.isna().sum()}')\n",
    "data = df.dropna()\n",
    "data['sex'] = data['sex'].map({'female':0, 'male':1})\n",
    "data['smoker'] = data['smoker'].map({'no':0, 'yes':1})\n",
    "\n",
    "print(\"Количество дублированных записей:\", data.duplicated().sum())\n",
    "data.drop_duplicates(inplace=True)\n",
    "print(\"Количество дублированных записей после очистки:\", data.duplicated().sum())\n",
    "\n",
    "data.head()"
   ]
  },
  {
   "attachments": {},
   "cell_type": "markdown",
   "metadata": {},
   "source": [
    "### Однофакторный ANOVA тест для проверки влияния региона на индекс массы тела (scipy)"
   ]
  },
  {
   "cell_type": "code",
   "execution_count": 3,
   "metadata": {},
   "outputs": [
    {
     "name": "stdout",
     "output_type": "stream",
     "text": [
      "F_onewayResult(statistic=39.48593864487439, pvalue=1.9087293927440606e-24)\n",
      "p-значение меньше уровня значимости, мы можем отклонить нулевую гипотезу и сделать вывод, что у нас есть достаточно доказательств, чтобы сказать, что по крайней мере одно из средних групп отличается от других (не все средние значения групп равны)\n",
      "Значит фактор регион оказывает статистически значимое влияние на индекс массы тела\n"
     ]
    }
   ],
   "source": [
    "# Сгруппируем данные bmi по регионам\n",
    "groups = data.groupby('region').groups\n",
    "northeast = data['bmi'][groups['northeast']]\n",
    "northwest = data['bmi'][groups['northwest']]\n",
    "southeast = data['bmi'][groups['southeast']]\n",
    "southwest = data['bmi'][groups['southwest']]\n",
    "\n",
    "# выполняем ANOVA\n",
    "print(sts.f_oneway(northeast, northwest, southeast, southwest))\n",
    "print(\"p-значение меньше уровня значимости, мы можем отклонить нулевую гипотезу и сделать вывод, \\\n",
    "что у нас есть достаточно доказательств, чтобы сказать, что по крайней мере одно из средних групп отличается от других (не все средние значения групп равны)\")\n",
    "print(\"Значит фактор регион оказывает статистически значимое влияние на индекс массы тела\")\n"
   ]
  },
  {
   "attachments": {},
   "cell_type": "markdown",
   "metadata": {},
   "source": [
    "### Однофакторный ANOVA тест для проверки влияния региона на индекс массы тела (statsmodels)"
   ]
  },
  {
   "cell_type": "code",
   "execution_count": 4,
   "metadata": {},
   "outputs": [
    {
     "name": "stdout",
     "output_type": "stream",
     "text": [
      "                sum_sq      df          F        PR(>F)\n",
      "region     4057.813904     3.0  39.485939  1.908729e-24\n",
      "Residual  45662.381091  1333.0        NaN           NaN\n",
      "Результат аналогичный (см. region - PR(>F)\n"
     ]
    }
   ],
   "source": [
    "model = ols('bmi ~ region', data=data).fit()\n",
    "anova_result = sm.stats.anova_lm(model, typ=2)\n",
    "print(anova_result)\n",
    "print(\"Результат аналогичный (см. region - PR(>F)\")"
   ]
  },
  {
   "attachments": {},
   "cell_type": "markdown",
   "metadata": {},
   "source": [
    "### t-критерий Стьюдента и поправвка Бонферрони\n",
    "Используем их для определения того, в каких группах есть влияние на показатель 'bmi'. Так как мы имеем 6 сравнений, поэтому m = 6. Значит необходимо pvalue уменьшить в 6 раз. То есть можно сказать, что критическое значение ɑ, она же поправка Бонферрони, становится 0.008(3)"
   ]
  },
  {
   "cell_type": "code",
   "execution_count": 5,
   "metadata": {},
   "outputs": [
    {
     "name": "stdout",
     "output_type": "stream",
     "text": [
      "Пара northeast, northwest:\n",
      "Ttest_indResult(statistic=-0.05038637314068614, pvalue=0.9598300701853016)\n",
      "Нулевая гипотеза принимается. Различий в значениях 'bmi' НЕ наблюдается\n",
      "\n",
      "Пара northeast, southeast:\n",
      "Ttest_indResult(statistic=-8.790905562598699, pvalue=1.186014937424813e-17)\n",
      "Нулевая гипотеза отвергается. Наблюдается различия в значениях 'bmi'\n",
      "\n",
      "Пара northeast, southwest:\n",
      "Ttest_indResult(statistic=-3.1169000930045923, pvalue=0.0019086161671573074)\n",
      "Нулевая гипотеза отвергается. Наблюдается различия в значениях 'bmi'\n",
      "\n",
      "Пара northwest, southeast:\n",
      "Ttest_indResult(statistic=-9.252137489219615, pvalue=2.7504255547794223e-19)\n",
      "Нулевая гипотеза отвергается. Наблюдается различия в значениях 'bmi'\n",
      "\n",
      "Пара northwest, southwest:\n",
      "Ttest_indResult(statistic=-3.289593460501664, pvalue=0.0010577505931067947)\n",
      "Нулевая гипотеза отвергается. Наблюдается различия в значениях 'bmi'\n",
      "\n",
      "Пара southeast, southwest:\n",
      "Ttest_indResult(statistic=5.908373821545118, pvalue=5.4374009639680636e-09)\n",
      "Нулевая гипотеза отвергается. Наблюдается различия в значениях 'bmi'\n",
      "\n"
     ]
    }
   ],
   "source": [
    "region_pairs = []\n",
    "regions = ['northeast', 'northwest', 'southeast', 'southwest']\n",
    "\n",
    "for region1 in range(3):\n",
    "    for region2 in range(region1 + 1, 4):\n",
    "        region_pairs.append((regions[region1], regions[region2]))\n",
    "\n",
    "# t-тест\n",
    "for region1, region2 in region_pairs:\n",
    "    print(f\"Пара {region1}, {region2}:\")\n",
    "    result = sts.ttest_ind(data['bmi'][groups[region1]], data['bmi'][groups[region2]])\n",
    "    print(result)\n",
    "    if result[1] < 0.0083:\n",
    "        print(\"Нулевая гипотеза отвергается. Наблюдается различия в значениях 'bmi'\")\n",
    "    else:\n",
    "        print(\"Нулевая гипотеза принимается. Различий в значениях 'bmi' НЕ наблюдается\")\n",
    "    print()"
   ]
  },
  {
   "attachments": {},
   "cell_type": "markdown",
   "metadata": {},
   "source": [
    "### Пост-хок тесты Тьюки\n",
    "Тесты позволяют дать ответ на вопрос: благодаря каким различиям влияние фактора на данные оказалось значимым? Заметим, что, как и в прошлом случае различие в значениях 'bmi' есть у всех пар за исключением northwest-northeast. Можно сделать аналогичные выводы. В данной части работы выодится график со среднимми значениями и их доверительными интервалами.\n",
    "\n",
    "И мы можем наблюдать, что доверительные интервалы у первой пары (см. таблицу) перекрываются, поэтому пост-хок тесты показали, что различия между ними не существенные"
   ]
  },
  {
   "cell_type": "code",
   "execution_count": 6,
   "metadata": {},
   "outputs": [
    {
     "data": {
      "text/html": [
       "<table class=\"simpletable\">\n",
       "<caption>Multiple Comparison of Means - Tukey HSD, FWER=0.05</caption>\n",
       "<tr>\n",
       "   <th>group1</th>    <th>group2</th>   <th>meandiff</th>  <th>p-adj</th>  <th>lower</th>   <th>upper</th>  <th>reject</th>\n",
       "</tr>\n",
       "<tr>\n",
       "  <td>northeast</td> <td>northwest</td>   <td>0.022</td>    <td>0.9</td>  <td>-1.1609</td> <td>1.2048</td>   <td>False</td>\n",
       "</tr>\n",
       "<tr>\n",
       "  <td>northeast</td> <td>southeast</td>  <td>4.1825</td>   <td>0.001</td> <td>3.0326</td>  <td>5.3324</td>   <td>True</td> \n",
       "</tr>\n",
       "<tr>\n",
       "  <td>northeast</td> <td>southwest</td>  <td>1.4231</td>  <td>0.0107</td> <td>0.2412</td>   <td>2.605</td>   <td>True</td> \n",
       "</tr>\n",
       "<tr>\n",
       "  <td>northwest</td> <td>southeast</td>  <td>4.1605</td>   <td>0.001</td> <td>3.0106</td>  <td>5.3104</td>   <td>True</td> \n",
       "</tr>\n",
       "<tr>\n",
       "  <td>northwest</td> <td>southwest</td>  <td>1.4011</td>  <td>0.0125</td> <td>0.2192</td>  <td>2.5831</td>   <td>True</td> \n",
       "</tr>\n",
       "<tr>\n",
       "  <td>southeast</td> <td>southwest</td>  <td>-2.7594</td>  <td>0.001</td> <td>-3.9083</td> <td>-1.6104</td>  <td>True</td> \n",
       "</tr>\n",
       "</table>"
      ],
      "text/plain": [
       "<class 'statsmodels.iolib.table.SimpleTable'>"
      ]
     },
     "execution_count": 6,
     "metadata": {},
     "output_type": "execute_result"
    },
    {
     "data": {
      "image/png": "[encoded data removed]",
      "text/plain": [
       "<Figure size 720x432 with 1 Axes>"
      ]
     },
     "metadata": {
      "needs_background": "light"
     },
     "output_type": "display_data"
    }
   ],
   "source": [
    "tukey = pairwise_tukeyhsd(endog = data['bmi'], groups=data['region'], alpha = 0.05)\n",
    "tukey.plot_simultaneous()\n",
    "plt.vlines(x = data['bmi'][groups['northwest']].mean() + 0.55, ymin=-0.5, ymax = 4.5, color='red')\n",
    "tukey.summary()\n"
   ]
  },
  {
   "attachments": {},
   "cell_type": "markdown",
   "metadata": {},
   "source": [
    "### Двухфакторный ANOVA тест\n",
    "Выполним для проверки влияния региона и пола на индекс массы тела (BMI), используя функцию anova_lm() из библиотеки statsmodels"
   ]
  },
  {
   "cell_type": "code",
   "execution_count": 7,
   "metadata": {},
   "outputs": [
    {
     "data": {
      "text/html": [
       "<div>\n",
       "<style scoped>\n",
       "    .dataframe tbody tr th:only-of-type {\n",
       "        vertical-align: middle;\n",
       "    }\n",
       "\n",
       "    .dataframe tbody tr th {\n",
       "        vertical-align: top;\n",
       "    }\n",
       "\n",
       "    .dataframe thead th {\n",
       "        text-align: right;\n",
       "    }\n",
       "</style>\n",
       "<table border=\"1\" class=\"dataframe\">\n",
       "  <thead>\n",
       "    <tr style=\"text-align: right;\">\n",
       "      <th></th>\n",
       "      <th>df</th>\n",
       "      <th>sum_sq</th>\n",
       "      <th>mean_sq</th>\n",
       "      <th>F</th>\n",
       "      <th>PR(&gt;F)</th>\n",
       "    </tr>\n",
       "  </thead>\n",
       "  <tbody>\n",
       "    <tr>\n",
       "      <th>C(region)</th>\n",
       "      <td>3.0</td>\n",
       "      <td>4057.813904</td>\n",
       "      <td>1352.604635</td>\n",
       "      <td>39.593241</td>\n",
       "      <td>1.660041e-24</td>\n",
       "    </tr>\n",
       "    <tr>\n",
       "      <th>C(sex)</th>\n",
       "      <td>1.0</td>\n",
       "      <td>85.359929</td>\n",
       "      <td>85.359929</td>\n",
       "      <td>2.498643</td>\n",
       "      <td>1.141824e-01</td>\n",
       "    </tr>\n",
       "    <tr>\n",
       "      <th>C(region):C(sex)</th>\n",
       "      <td>3.0</td>\n",
       "      <td>175.040197</td>\n",
       "      <td>58.346732</td>\n",
       "      <td>1.707917</td>\n",
       "      <td>1.635099e-01</td>\n",
       "    </tr>\n",
       "    <tr>\n",
       "      <th>Residual</th>\n",
       "      <td>1329.0</td>\n",
       "      <td>45401.980965</td>\n",
       "      <td>34.162514</td>\n",
       "      <td>NaN</td>\n",
       "      <td>NaN</td>\n",
       "    </tr>\n",
       "  </tbody>\n",
       "</table>\n",
       "</div>"
      ],
      "text/plain": [
       "                      df        sum_sq      mean_sq          F        PR(>F)\n",
       "C(region)            3.0   4057.813904  1352.604635  39.593241  1.660041e-24\n",
       "C(sex)               1.0     85.359929    85.359929   2.498643  1.141824e-01\n",
       "C(region):C(sex)     3.0    175.040197    58.346732   1.707917  1.635099e-01\n",
       "Residual          1329.0  45401.980965    34.162514        NaN           NaN"
      ]
     },
     "execution_count": 7,
     "metadata": {},
     "output_type": "execute_result"
    }
   ],
   "source": [
    "# выполняем ANOVA\n",
    "model = ols('bmi ~ C(region) + C(sex) + C(region):C(sex)', data=data).fit()\n",
    "sm.stats.anova_lm(model, type=2)"
   ]
  },
  {
   "attachments": {},
   "cell_type": "markdown",
   "metadata": {},
   "source": [
    "Поскольку p-значение для региона меньше 0.05, это означает, что данный фактор оказывает статистически значимое влияение на значение индекса массы тела.\n",
    "\n",
    "Однако p-значения для пола и эффекта взаимодействия двух факторов составляет не менее 0.05, что говорит нам об отсутствии значительного эффекта пол на индекс массы тела, а также эффекта взаимодействия между полом и регионом"
   ]
  },
  {
   "attachments": {},
   "cell_type": "markdown",
   "metadata": {},
   "source": [
    "### Пост-хок тесты Тьюки для двухфакторного анализа"
   ]
  },
  {
   "cell_type": "code",
   "execution_count": 8,
   "metadata": {},
   "outputs": [
    {
     "data": {
      "text/html": [
       "<table class=\"simpletable\">\n",
       "<caption>Multiple Comparison of Means - Tukey HSD, FWER=0.05</caption>\n",
       "<tr>\n",
       "     <th>group1</th>        <th>group2</th>     <th>meandiff</th>  <th>p-adj</th>  <th>lower</th>   <th>upper</th>  <th>reject</th>\n",
       "</tr>\n",
       "<tr>\n",
       "  <td>northeast / 0</td> <td>northeast / 1</td>  <td>-0.2998</td>   <td>0.9</td>  <td>-2.2713</td> <td>1.6717</td>   <td>False</td>\n",
       "</tr>\n",
       "<tr>\n",
       "  <td>northeast / 0</td> <td>northwest / 0</td>  <td>-0.0464</td>   <td>0.9</td>  <td>-2.0149</td> <td>1.9222</td>   <td>False</td>\n",
       "</tr>\n",
       "<tr>\n",
       "  <td>northeast / 0</td> <td>northwest / 1</td>  <td>-0.2133</td>   <td>0.9</td>  <td>-2.194</td>  <td>1.7673</td>   <td>False</td>\n",
       "</tr>\n",
       "<tr>\n",
       "  <td>northeast / 0</td> <td>southeast / 0</td>  <td>3.3469</td>   <td>0.001</td> <td>1.4093</td>  <td>5.2846</td>   <td>True</td> \n",
       "</tr>\n",
       "<tr>\n",
       "  <td>northeast / 0</td> <td>southeast / 1</td>  <td>4.6657</td>   <td>0.001</td> <td>2.7627</td>  <td>6.5686</td>   <td>True</td> \n",
       "</tr>\n",
       "<tr>\n",
       "  <td>northeast / 0</td> <td>southwest / 0</td>  <td>0.7362</td>    <td>0.9</td>  <td>-1.2384</td> <td>2.7107</td>   <td>False</td>\n",
       "</tr>\n",
       "<tr>\n",
       "  <td>northeast / 0</td> <td>southwest / 1</td>  <td>1.8051</td>   <td>0.101</td> <td>-0.1664</td> <td>3.7767</td>   <td>False</td>\n",
       "</tr>\n",
       "<tr>\n",
       "  <td>northeast / 1</td> <td>northwest / 0</td>  <td>0.2534</td>    <td>0.9</td>  <td>-1.709</td>  <td>2.2158</td>   <td>False</td>\n",
       "</tr>\n",
       "<tr>\n",
       "  <td>northeast / 1</td> <td>northwest / 1</td>  <td>0.0864</td>    <td>0.9</td>  <td>-1.8882</td>  <td>2.061</td>   <td>False</td>\n",
       "</tr>\n",
       "<tr>\n",
       "  <td>northeast / 1</td> <td>southeast / 0</td>  <td>3.6467</td>   <td>0.001</td> <td>1.7153</td>  <td>5.5782</td>   <td>True</td> \n",
       "</tr>\n",
       "<tr>\n",
       "  <td>northeast / 1</td> <td>southeast / 1</td>  <td>4.9655</td>   <td>0.001</td> <td>3.0688</td>  <td>6.8621</td>   <td>True</td> \n",
       "</tr>\n",
       "<tr>\n",
       "  <td>northeast / 1</td> <td>southwest / 0</td>   <td>1.036</td>  <td>0.7242</td> <td>-0.9325</td> <td>3.0044</td>   <td>False</td>\n",
       "</tr>\n",
       "<tr>\n",
       "  <td>northeast / 1</td> <td>southwest / 1</td>  <td>2.1049</td>  <td>0.0259</td> <td>0.1395</td>  <td>4.0703</td>   <td>True</td> \n",
       "</tr>\n",
       "<tr>\n",
       "  <td>northwest / 0</td> <td>northwest / 1</td>  <td>-0.167</td>    <td>0.9</td>  <td>-2.1386</td> <td>1.8046</td>   <td>False</td>\n",
       "</tr>\n",
       "<tr>\n",
       "  <td>northwest / 0</td> <td>southeast / 0</td>  <td>3.3933</td>   <td>0.001</td> <td>1.4649</td>  <td>5.3217</td>   <td>True</td> \n",
       "</tr>\n",
       "<tr>\n",
       "  <td>northwest / 0</td> <td>southeast / 1</td>   <td>4.712</td>   <td>0.001</td> <td>2.8185</td>  <td>6.6056</td>   <td>True</td> \n",
       "</tr>\n",
       "<tr>\n",
       "  <td>northwest / 0</td> <td>southwest / 0</td>  <td>0.7825</td>    <td>0.9</td>  <td>-1.1829</td>  <td>2.748</td>   <td>False</td>\n",
       "</tr>\n",
       "<tr>\n",
       "  <td>northwest / 0</td> <td>southwest / 1</td>  <td>1.8515</td>  <td>0.0812</td> <td>-0.1109</td> <td>3.8139</td>   <td>False</td>\n",
       "</tr>\n",
       "<tr>\n",
       "  <td>northwest / 1</td> <td>southeast / 0</td>  <td>3.5603</td>   <td>0.001</td> <td>1.6195</td>  <td>5.5011</td>   <td>True</td> \n",
       "</tr>\n",
       "<tr>\n",
       "  <td>northwest / 1</td> <td>southeast / 1</td>   <td>4.879</td>   <td>0.001</td> <td>2.9729</td>  <td>6.7852</td>   <td>True</td> \n",
       "</tr>\n",
       "<tr>\n",
       "  <td>northwest / 1</td> <td>southwest / 0</td>  <td>0.9495</td>  <td>0.8078</td> <td>-1.0281</td> <td>2.9272</td>   <td>False</td>\n",
       "</tr>\n",
       "<tr>\n",
       "  <td>northwest / 1</td> <td>southwest / 1</td>  <td>2.0185</td>   <td>0.041</td> <td>0.0439</td>  <td>3.9931</td>   <td>True</td> \n",
       "</tr>\n",
       "<tr>\n",
       "  <td>southeast / 0</td> <td>southeast / 1</td>  <td>1.3187</td>  <td>0.3846</td> <td>-0.5426</td> <td>3.1801</td>   <td>False</td>\n",
       "</tr>\n",
       "<tr>\n",
       "  <td>southeast / 0</td> <td>southwest / 0</td>  <td>-2.6108</td> <td>0.0012</td> <td>-4.5453</td> <td>-0.6762</td>  <td>True</td> \n",
       "</tr>\n",
       "<tr>\n",
       "  <td>southeast / 0</td> <td>southwest / 1</td>  <td>-1.5418</td> <td>0.2308</td> <td>-3.4732</td> <td>0.3896</td>   <td>False</td>\n",
       "</tr>\n",
       "<tr>\n",
       "  <td>southeast / 1</td> <td>southwest / 0</td>  <td>-3.9295</td>  <td>0.001</td> <td>-5.8293</td> <td>-2.0297</td>  <td>True</td> \n",
       "</tr>\n",
       "<tr>\n",
       "  <td>southeast / 1</td> <td>southwest / 1</td>  <td>-2.8606</td>  <td>0.001</td> <td>-4.7572</td> <td>-0.9639</td>  <td>True</td> \n",
       "</tr>\n",
       "<tr>\n",
       "  <td>southwest / 0</td> <td>southwest / 1</td>   <td>1.069</td>  <td>0.6938</td> <td>-0.8995</td> <td>3.0374</td>   <td>False</td>\n",
       "</tr>\n",
       "</table>"
      ],
      "text/plain": [
       "<class 'statsmodels.iolib.table.SimpleTable'>"
      ]
     },
     "execution_count": 8,
     "metadata": {},
     "output_type": "execute_result"
    },
    {
     "data": {
      "image/png": "[encoded data removed]",
      "text/plain": [
       "<Figure size 720x432 with 1 Axes>"
      ]
     },
     "metadata": {
      "needs_background": "light"
     },
     "output_type": "display_data"
    }
   ],
   "source": [
    "data ['combination'] = data.region + ' / ' + data.sex.astype('str')\n",
    "tukey = pairwise_tukeyhsd(endog = data['bmi'], groups = data['combination'], alpha = 0.05)\n",
    "tukey.plot_simultaneous()\n",
    "plt.vlines(x = 30 , ymin=-0.5, ymax = 7.5, color='red')\n",
    "plt.vlines(x = 31 , ymin=4.5, ymax = 7.5, color='red')\n",
    "plt.vlines(x = 32 , ymin=2.5, ymax = 7.5, color='red')\n",
    "plt.vlines(x = 33.5 , ymin=2.5, ymax = 6.5, color='red')\n",
    "tukey.summary()"
   ]
  }
 ],
 "metadata": {
  "kernelspec": {
   "display_name": "Python 3",
   "language": "python",
   "name": "python3"
  },
  "language_info": {
   "codemirror_mode": {
    "name": "ipython",
    "version": 3
   },
   "file_extension": ".py",
   "mimetype": "text/x-python",
   "name": "python",
   "nbconvert_exporter": "python",
   "pygments_lexer": "ipython3",
   "version": "3.9.1 (tags/v3.9.1:1e5d33e, Dec  7 2020, 17:08:21) [MSC v.1927 64 bit (AMD64)]"
  },
  "orig_nbformat": 4,
  "vscode": {
   "interpreter": {
    "hash": "209e2221d5784afa19b1a6893543d283ea1b8176a0bf30809ca866ebea5ec310"
   }
  }
 },
 "nbformat": 4,
 "nbformat_minor": 2
}
