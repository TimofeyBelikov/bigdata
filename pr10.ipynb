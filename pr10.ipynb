{
 "cells": [
  {
   "cell_type": "markdown",
   "metadata": {},
   "source": [
    "### Подключение библиотек и данных"
   ]
  },
  {
   "cell_type": "code",
   "execution_count": 1,
   "metadata": {},
   "outputs": [],
   "source": [
    "import numpy as np\n",
    "import pandas as pd\n",
    "import matplotlib.pyplot as plt\n",
    "from sklearn import preprocessing\n",
    "import plotly.graph_objects as go\n",
    "from sklearn.metrics import silhouette_score"
   ]
  },
  {
   "cell_type": "code",
   "execution_count": 2,
   "metadata": {},
   "outputs": [
    {
     "data": {
      "text/html": [
       "<div>\n",
       "<style scoped>\n",
       "    .dataframe tbody tr th:only-of-type {\n",
       "        vertical-align: middle;\n",
       "    }\n",
       "\n",
       "    .dataframe tbody tr th {\n",
       "        vertical-align: top;\n",
       "    }\n",
       "\n",
       "    .dataframe thead th {\n",
       "        text-align: right;\n",
       "    }\n",
       "</style>\n",
       "<table border=\"1\" class=\"dataframe\">\n",
       "  <thead>\n",
       "    <tr style=\"text-align: right;\">\n",
       "      <th></th>\n",
       "      <th>Pollution Index</th>\n",
       "      <th>Exp Pollution Index</th>\n",
       "    </tr>\n",
       "  </thead>\n",
       "  <tbody>\n",
       "    <tr>\n",
       "      <th>0</th>\n",
       "      <td>43.65</td>\n",
       "      <td>72.77</td>\n",
       "    </tr>\n",
       "    <tr>\n",
       "      <th>1</th>\n",
       "      <td>92.70</td>\n",
       "      <td>167.07</td>\n",
       "    </tr>\n",
       "    <tr>\n",
       "      <th>2</th>\n",
       "      <td>78.69</td>\n",
       "      <td>138.70</td>\n",
       "    </tr>\n",
       "    <tr>\n",
       "      <th>3</th>\n",
       "      <td>19.00</td>\n",
       "      <td>30.42</td>\n",
       "    </tr>\n",
       "    <tr>\n",
       "      <th>4</th>\n",
       "      <td>72.61</td>\n",
       "      <td>127.22</td>\n",
       "    </tr>\n",
       "  </tbody>\n",
       "</table>\n",
       "</div>"
      ],
      "text/plain": [
       "   Pollution Index  Exp Pollution Index\n",
       "0            43.65                72.77\n",
       "1            92.70               167.07\n",
       "2            78.69               138.70\n",
       "3            19.00                30.42\n",
       "4            72.61               127.22"
      ]
     },
     "execution_count": 2,
     "metadata": {},
     "output_type": "execute_result"
    }
   ],
   "source": [
    "#df = pd.read_csv('archive/cost_of_living_index.csv')\n",
    "#data = df.drop(['City', 'Cost of Living Index', 'Rent Index', 'Restaurant Price Index'], axis=1)\n",
    "\n",
    "df = pd.read_csv('archive/pollution_index.csv')\n",
    "data = df.drop(['City'], axis=1)\n",
    "data.head()"
   ]
  },
  {
   "cell_type": "code",
   "execution_count": 3,
   "metadata": {},
   "outputs": [
    {
     "data": {
      "text/html": [
       "<div>\n",
       "<style scoped>\n",
       "    .dataframe tbody tr th:only-of-type {\n",
       "        vertical-align: middle;\n",
       "    }\n",
       "\n",
       "    .dataframe tbody tr th {\n",
       "        vertical-align: top;\n",
       "    }\n",
       "\n",
       "    .dataframe thead th {\n",
       "        text-align: right;\n",
       "    }\n",
       "</style>\n",
       "<table border=\"1\" class=\"dataframe\">\n",
       "  <thead>\n",
       "    <tr style=\"text-align: right;\">\n",
       "      <th></th>\n",
       "      <th>Population</th>\n",
       "      <th>Tot Cases//1M pop</th>\n",
       "      <th>Tot Deaths/1M pop</th>\n",
       "    </tr>\n",
       "  </thead>\n",
       "  <tbody>\n",
       "    <tr>\n",
       "      <th>0</th>\n",
       "      <td>0.028111</td>\n",
       "      <td>0.006301</td>\n",
       "      <td>0.030226</td>\n",
       "    </tr>\n",
       "    <tr>\n",
       "      <th>1</th>\n",
       "      <td>0.001995</td>\n",
       "      <td>0.136976</td>\n",
       "      <td>0.193446</td>\n",
       "    </tr>\n",
       "    <tr>\n",
       "      <th>2</th>\n",
       "      <td>0.031429</td>\n",
       "      <td>0.008425</td>\n",
       "      <td>0.024181</td>\n",
       "    </tr>\n",
       "    <tr>\n",
       "      <th>3</th>\n",
       "      <td>0.000053</td>\n",
       "      <td>0.742141</td>\n",
       "      <td>0.314190</td>\n",
       "    </tr>\n",
       "    <tr>\n",
       "      <th>4</th>\n",
       "      <td>0.024076</td>\n",
       "      <td>0.004099</td>\n",
       "      <td>0.008750</td>\n",
       "    </tr>\n",
       "  </tbody>\n",
       "</table>\n",
       "</div>"
      ],
      "text/plain": [
       "   Population  Tot Cases//1M pop  Tot Deaths/1M pop\n",
       "0    0.028111           0.006301           0.030226\n",
       "1    0.001995           0.136976           0.193446\n",
       "2    0.031429           0.008425           0.024181\n",
       "3    0.000053           0.742141           0.314190\n",
       "4    0.024076           0.004099           0.008750"
      ]
     },
     "execution_count": 3,
     "metadata": {},
     "output_type": "execute_result"
    }
   ],
   "source": [
    "df = pd.read_csv('covid/COVID-19 Coronavirus.csv')\n",
    "df.Continent.replace({'Asia':0, 'Europe':1, 'Africa':2, 'Latin America and the Caribbean':3,'Oceania':4, 'Northern America':5}, inplace=True)\n",
    "data = df\n",
    "data = df.drop(['Continent', 'Country', 'Other names', 'ISO 3166-1 alpha-3 CODE', 'Total Cases', 'Total Deaths', 'Death percentage'], axis=1)\n",
    "#data = df.drop(['Country', 'Other names', 'ISO 3166-1 alpha-3 CODE'], axis=1)\n",
    "\n",
    "scaler = preprocessing.MinMaxScaler()\n",
    "\n",
    "data[['Population', 'Tot Cases//1M pop', 'Tot Deaths/1M pop']] = scaler.fit_transform(data)\n",
    "data.head()"
   ]
  },
  {
   "cell_type": "markdown",
   "metadata": {},
   "source": [
    "### K-means"
   ]
  },
  {
   "cell_type": "code",
   "execution_count": 4,
   "metadata": {},
   "outputs": [],
   "source": [
    "from sklearn.cluster import KMeans\n",
    "models = []\n",
    "score1 = []\n",
    "score2 = []\n",
    "for i in range(2, 10):\n",
    "    model = KMeans(n_clusters=i, random_state=123, init='k-means++').fit(data)\n",
    "    models.append(model)\n",
    "    score1.append(model.inertia_)\n",
    "    score2.append(silhouette_score(data, model.labels_))"
   ]
  },
  {
   "cell_type": "code",
   "execution_count": 5,
   "metadata": {},
   "outputs": [
    {
     "data": {
      "image/png": "[encoded data removed]",
      "text/plain": [
       "<Figure size 432x288 with 1 Axes>"
      ]
     },
     "metadata": {
      "needs_background": "light"
     },
     "output_type": "display_data"
    },
    {
     "data": {
      "image/png": "[encoded data removed]",
      "text/plain": [
       "<Figure size 432x288 with 1 Axes>"
      ]
     },
     "metadata": {
      "needs_background": "light"
     },
     "output_type": "display_data"
    }
   ],
   "source": [
    "plt.grid()\n",
    "plt.plot(np.arange(2, 10), score1, marker='o')\n",
    "plt.show()\n",
    "\n",
    "plt.grid()\n",
    "plt.plot(np.arange(2, 10), score2, marker='o')\n",
    "plt.show()"
   ]
  },
  {
   "cell_type": "code",
   "execution_count": 6,
   "metadata": {},
   "outputs": [
    {
     "name": "stdout",
     "output_type": "stream",
     "text": [
      "0    127\n",
      "1     49\n",
      "2     47\n",
      "3      2\n",
      "Name: Cluster, dtype: int64\n"
     ]
    },
    {
     "data": {
      "text/plain": [
       "array([[0.01693037, 0.06166879, 0.05325545],\n",
       "       [0.02211374, 0.22899558, 0.40015714],\n",
       "       [0.00582175, 0.53520346, 0.27287251],\n",
       "       [0.98764371, 0.02208438, 0.02974865]])"
      ]
     },
     "execution_count": 6,
     "metadata": {},
     "output_type": "execute_result"
    }
   ],
   "source": [
    "model1 = KMeans(n_clusters=4, random_state=123, init='k-means++')\n",
    "model1.fit(data)\n",
    "labels = model1.labels_\n",
    "data['Cluster'] = labels\n",
    "print(data['Cluster'].value_counts())\n",
    "model1.cluster_centers_"
   ]
  },
  {
   "cell_type": "code",
   "execution_count": 7,
   "metadata": {},
   "outputs": [
    {
     "data": {
      "application/vnd.plotly.v1+json": {
       "config": {
        "plotlyServerURL": "https://plot.ly"
       },
       "data": [
        {
         "marker": {
          "color": [
           0,
           0,
           0,
           2,
           0,
           0,
           0,
           1,
           1,
           2,
           0,
           2,
           0,
           1,
           2,
           0,
           1,
           0,
           2,
           1,
           0,
           1,
           0,
           1,
           1,
           0,
           1,
           1,
           2,
           1,
           0,
           0,
           0,
           0,
           0,
           0,
           0,
           2,
           2,
           0,
           2,
           1,
           3,
           1,
           0,
           0,
           0,
           1,
           1,
           0,
           2,
           2,
           2,
           2,
           0,
           0,
           0,
           0,
           1,
           0,
           0,
           0,
           0,
           2,
           0,
           0,
           2,
           0,
           0,
           0,
           2,
           2,
           1,
           0,
           0,
           2,
           2,
           0,
           2,
           2,
           0,
           1,
           2,
           0,
           0,
           0,
           1,
           0,
           0,
           0,
           1,
           2,
           3,
           0,
           1,
           0,
           2,
           2,
           2,
           1,
           0,
           0,
           0,
           1,
           0,
           0,
           0,
           0,
           0,
           0,
           2,
           1,
           0,
           0,
           0,
           2,
           2,
           2,
           0,
           0,
           0,
           0,
           2,
           0,
           1,
           0,
           2,
           0,
           0,
           0,
           1,
           0,
           1,
           2,
           0,
           2,
           0,
           0,
           0,
           0,
           0,
           0,
           2,
           1,
           0,
           0,
           0,
           0,
           0,
           1,
           2,
           0,
           0,
           0,
           0,
           1,
           0,
           1,
           1,
           0,
           1,
           2,
           0,
           2,
           1,
           1,
           0,
           2,
           0,
           0,
           1,
           2,
           2,
           0,
           2,
           0,
           0,
           0,
           1,
           2,
           0,
           0,
           1,
           1,
           2,
           0,
           0,
           1,
           0,
           1,
           0,
           2,
           0,
           0,
           1,
           1,
           2,
           0,
           0,
           0,
           0,
           0,
           0,
           0,
           0,
           1,
           1,
           1,
           0,
           0,
           0,
           2,
           1,
           1,
           1,
           0,
           0,
           0,
           0,
           0,
           0,
           0,
           0,
           0,
           0
          ],
          "size": 4
         },
         "mode": "markers",
         "type": "scatter3d",
         "x": [
          0.028111398077589635,
          0.001995028953095198,
          0.031428591713902415,
          0.00005327226866026305,
          0.024076185608240392,
          0.000010026936476927805,
          0.000068464828245974,
          0.0319045529913939,
          0.0020649528006456033,
          0.0000741702884973966,
          0.018075833238403866,
          0.006319328728340014,
          0.007154996625145921,
          0.0002772254789505475,
          0.0012534990661244717,
          0.11641632932710279,
          0.00019952853236301197,
          0.006560776969632621,
          0.00811292478149437,
          0.000284477499664667,
          0.008808199587888048,
          0.00004242967091504857,
          0.0005458642819089699,
          0.008303146160237305,
          0.0022540403129576677,
          0.001691005458148837,
          0.1495173080232873,
          0.000020688893736831774,
          0.0003084832306202386,
          0.004763406919877471,
          0.015218990762567355,
          0.008691134826611477,
          0.00039306813786688327,
          0.011896659988760785,
          0.019245854167639766,
          0.02662406615617059,
          0.0034571212300897824,
          0.00001795635901096169,
          0.000046041091079064004,
          0.011984413052211339,
          0.00012218452949292922,
          0.013480397652876758,
          1.0000000000000002,
          0.03601097671913693,
          0.0006261318815566934,
          0.0039983270717910335,
          0.000011663122411182585,
          0.0035952611778333108,
          0.002820872091813506,
          0.007860437322235998,
          0.00011426413898316087,
          0.0008489685946935395,
          0.007463896023653472,
          0.004048504829983708,
          0.0007033452674604746,
          0.00004967196483380518,
          0.007668555440570399,
          0.06553257392568912,
          0.012583088274771932,
          0.07344497456783798,
          0.004545674689992841,
          0.0010301947720391105,
          0.002523077914525968,
          0.0009221641193413566,
          0.0008200980765143364,
          0.08333386211203601,
          0.00003361511000299321,
          0.000001981487169636786,
          0.0006301657225478964,
          0.0038594416346600506,
          0.045525268004633274,
          0.0002163649203650485,
          0.000196582702910256,
          0.0016096505417337638,
          0.0017609758553627645,
          0.0027616852368015188,
          0.0585359531512681,
          0.022376497595687994,
          0.000022835736427637408,
          0.007179156595285104,
          0.00003900236509183039,
          0.00007825276346541405,
          0.0002775186723536284,
          0.01284957467687077,
          0.00955662924662654,
          0.0014232865321233035,
          0.0005505303645987597,
          0.00809062888220937,
          0.007072418216828418,
          0.005282101483253546,
          0.006681338513842145,
          0.00023922011038341167,
          0.975287412403842,
          0.19355329457880238,
          0.059662677335259456,
          0.02904200158145048,
          0.0034971497720923963,
          0.00005906665961214622,
          0.006478875963135032,
          0.04189843503859427,
          0.019120203425142167,
          0.002072494540907317,
          0.08740072001532727,
          0.0072114717885649595,
          0.013318086618656489,
          0.03879793425460449,
          0.00008465855298296355,
          0.0030433079220271823,
          0.004663139639421485,
          0.005182667928114378,
          0.001284557418489224,
          0.004704388199471042,
          0.0015084682477425702,
          0.003657860053704375,
          0.004887038657566177,
          0.00002606433771701404,
          0.0018446214320857943,
          0.00044673503651044004,
          0.00046134398837437856,
          0.02010353519189405,
          0.013891148409942248,
          0.022990688446394566,
          0.00038656994379338645,
          0.014777920889584692,
          0.0003076425575924474,
          0.00004104985551571524,
          0.00025981034662442,
          0.003378420339266579,
          0.0008855955374035367,
          0.00019698497537562056,
          0.09122563361076241,
          0.00008082202698340734,
          0.0027907183314175013,
          0.000027043270193177516,
          0.002341293141218129,
          0.00043589938647619903,
          0.0000029124804400832424,
          0.02617587418466901,
          0.02277893680611591,
          0.03824543629825804,
          0.0018207338122167719,
          0.020879998864410537,
          0.011950368573670184,
          0.00020113414836898342,
          0.003474755215311575,
          0.004697837897565244,
          0.017881955279375583,
          0.1494289685730306,
          5.836077217724056e-7,
          0.0014468045337685369,
          0.0038175198414171635,
          0.0037052212098684003,
          0.15868343631125165,
          0.000012116807937750896,
          0.0036878991768693175,
          0.0030798049425419752,
          0.006421619877002575,
          0.005061467889266391,
          0.023465852126666298,
          0.07790681122951383,
          0.026243755405193213,
          0.0070476586592322235,
          0.0019502224702561217,
          0.0006292486246993969,
          0.013209157626929863,
          0.10146659779808379,
          0.009388494641068298,
          0.03567345553050303,
          0.0000036850659003343316,
          0.00003685969102760884,
          0.00012804006030137902,
          0.000027106494363036192,
          0.000003431474449802275,
          0.00013889655346854045,
          0.000023101833757921734,
          0.0001566542079456606,
          0.02484636299186807,
          0.012168877557641648,
          0.006027109394337597,
          0.00006850998836730162,
          0.005738821075203976,
          0.004120049578504226,
          0.000029821659811472574,
          0.0037958589629151418,
          0.001444174130393977,
          0.0004971406796230448,
          0.011580427976091824,
          0.04211474993544031,
          0.007936115958785737,
          0.03250533614946385,
          0.014985950641094856,
          0.000006339786263301428,
          0.00007694728857349697,
          0.03170906107910648,
          0.00041340825651284627,
          0.0070927110910397615,
          0.006089401181383633,
          0.012675109317073493,
          0.016599079206941942,
          0.006886315441150561,
          0.04356860361676254,
          0.048707480817382166,
          0.0009459871254983257,
          0.00598709752684132,
          0.00007433147539198137,
          0.000977276836638495,
          0.008361074784791995,
          0.059699484223683666,
          0.000026977266938929446,
          0.007016327956597311,
          0.03353411080937998,
          0.04759841701991429,
          0.03006484775959294,
          0.002427530908905365,
          0.23233131044081698,
          0.023842703612349976,
          0.00022155972385992027,
          0,
          0.01965791595776595,
          0.06869264855219212,
          0.000007009545601144999,
          0.00043230464081851994,
          0.021520154700567205,
          0.013397741430196352,
          0.01058886456137856
         ],
         "y": [
          0.006301407256818982,
          0.13697587046628404,
          0.008424863692199388,
          0.7421408406186472,
          0.004098931806590186,
          0.25457196836365986,
          0.10834656303203144,
          0.282847845295136,
          0.20420093817121268,
          0.45481620895500946,
          0.2584625773129225,
          0.6139691251158348,
          0.11047720301421625,
          0.11962904164302082,
          0.44273491993937086,
          0.016721860251280467,
          0.29900220534886895,
          0.1468431903568068,
          0.4737735889718189,
          0.20061060147837395,
          0.003041513716982623,
          0.29171808888920814,
          0.05741521618884108,
          0.1084701200370671,
          0.1663192224528939,
          0.18027685389384157,
          0.2002657912317628,
          0.28913344874898533,
          0.43917331743374977,
          0.238990855344918,
          0.00135481692730969,
          0.004410697737901112,
          0.14189372660857574,
          0.011375864719446582,
          0.006186470507948595,
          0.13117587477641213,
          0.004216741974182333,
          0.46221382545417977,
          0.441370046046535,
          0.0005962343847651339,
          0.5614056764386849,
          0.2581522480909724,
          0.00014223422672710425,
          0.16867973593281949,
          0.012877226001566015,
          0.005995388162951576,
          0.1729611298282414,
          0.2329925937632447,
          0.39011831301586847,
          0.13871859892103128,
          0.353548312944033,
          0.5169395217194538,
          0.512238608690655,
          0.7196908201455388,
          0.02209515326097107,
          0.23628265819965952,
          0.07523472239183375,
          0.001308842227761535,
          0.0681962832328834,
          0.006854540360757721,
          0.03546229715459711,
          0.015387157255023097,
          0.0038345772841882953,
          0.6043848369694054,
          0.08494831438074235,
          0.005614660182318418,
          1,
          0.048309352259584645,
          0.1019417127012291,
          0.2300415927359975,
          0.5700072553822725,
          0.3638538291896241,
          0.36615256416703185,
          0.029485586213336974,
          0.006779831473991969,
          0.5959614099865669,
          0.36910787532236167,
          0.0071677430014295265,
          0.724421904070916,
          0.42787647172915155,
          0.3020279152628819,
          0.17760601119196595,
          0.4691631886327555,
          0.06451830726903102,
          0.0037943494220836595,
          0.0057008627439712085,
          0.11459050191441522,
          0.003755558269339904,
          0.0594093687817423,
          0.2213322605903439,
          0.27697888755594186,
          0.7569317634889051,
          0.044026521654801844,
          0.031032922195004562,
          0.11990345313094888,
          0.07973305940074853,
          0.41984382969247236,
          0.47569303267795443,
          0.6074464646174402,
          0.35368480033331656,
          0.004255533126926088,
          0.06200981272493481,
          0.0759789378407695,
          0.2337971510053374,
          0.09780686316061693,
          0.008308490233968121,
          0.035911987184552505,
          0.2064292743899373,
          0.04300071117113364,
          0.035337303440200564,
          0.6233364701487714,
          0.2318733971711193,
          0.02175608985180343,
          0.002005646267788258,
          0.10245605465242409,
          0.6159503473244881,
          0.5577075865437802,
          0.48419835209436307,
          0.00016378486714030188,
          0.003166507431379169,
          0.00614193251776132,
          0.18435136164129678,
          0.45635061455242915,
          0.0020473108392537733,
          0.26425538945599,
          0.00015516461097502283,
          0.5421322203624819,
          0.0173180946360456,
          0.041245052332138474,
          0.18639579906182882,
          0.06197676840963458,
          0,
          0.18386862729604117,
          0.3920636174904998,
          0.19972558851207198,
          0.53360535030566,
          0.05030206814312499,
          0.04435552809844333,
          0.00985869963435747,
          0.01595609416193151,
          0.08638646045098307,
          0.04676201627791706,
          0.6605501160142809,
          0.29838298361432974,
          0.19909487310264573,
          0.0039035393335105275,
          0.000478424217172987,
          0.0016938803364773324,
          0.006100267946295804,
          0.2114836179215126,
          0.36827458389305134,
          0.10462404907799178,
          0.00958285143706854,
          0.318275661425072,
          0.15728375728232058,
          0.24795304833808646,
          0.006547084557529435,
          0.1278355255123665,
          0.15093062848850994,
          0.0471298138743023,
          0.22703743346239774,
          0.5104096776742549,
          0.18512431127745016,
          0.5340119390547889,
          0.2161083853541848,
          0.17604718153541132,
          0.013779479480198555,
          0.3881974326003721,
          0.0004568735767597894,
          0.1480112350672021,
          0.17823241647330956,
          0.36464832946619063,
          0.4894782589955965,
          0.016342568980008187,
          0.6404232545777153,
          0.037733734654148136,
          0.030160839612950498,
          0.007034129030867701,
          0.32799500025142414,
          0.5841487856214128,
          0.0013217726120094535,
          0.26881406825806176,
          0.32085455472785135,
          0.4536654047569447,
          0.6728612785276603,
          0.022991659902160094,
          0.0022628172433857494,
          0.08822544843290926,
          0.0021608108787632804,
          0.3547106108169848,
          0.0440796799011544,
          0.6004238292614597,
          0.08686632137751694,
          0.0019366842184660254,
          0.1910363702974707,
          0.35008440667495166,
          0.5721637561329531,
          0.004374780003879116,
          0.0014482030357668796,
          0.002507057834735322,
          0.0007614559612663156,
          0.07604933659945262,
          0.024064881794737335,
          0.00614624264584396,
          0.0949794191384054,
          0.14129318209572797,
          0.12364751772540175,
          0.2490262702306637,
          0.21422054925398867,
          0.1269016644277946,
          0.004866134605300021,
          0.4449201548772691,
          0.16495578526941895,
          0.3656640829843327,
          0.351598698341319,
          0.009944902196010259,
          0.018443038065614516,
          0.05174452434144835,
          0.026434015530828192,
          0.14265805598856382,
          0.05986049552105857,
          0.000010056965526158886,
          0.0005344558822473008,
          0.023609444927338425,
          0.023224406818622628
         ],
         "z": [
          0.030225898822780782,
          0.193445752465797,
          0.024180719058224626,
          0.3141902640789055,
          0.008749602290804964,
          0.0940184537066497,
          0.21619471842188992,
          0.44368437798281896,
          0.4610244988864142,
          0.31355392936684695,
          0.03897550111358575,
          0.2795100222717149,
          0.14985682468978684,
          0.31355392936684695,
          0.1296531975819281,
          0.02768055997454661,
          0.20712694877505566,
          0.11533566656061088,
          0.41998090995863824,
          0.25437480114540245,
          0.002068087814190264,
          0.32914412981228125,
          0.0023862551702195354,
          0.2914412981228126,
          0.7706013363028953,
          0.17546929685014317,
          0.4880687241489023,
          0.32246261533566656,
          0.0762010817690105,
          0.8483932548520522,
          0.002704422526248807,
          0.00047725103404390706,
          0.11263124403436207,
          0.028316894686605153,
          0.011135857461024499,
          0.15653833916640153,
          0.003658924594336621,
          0.19694559338211898,
          0.056951956729239576,
          0.0017499204581609927,
          0.1404708876869233,
          0.4653197581928094,
          0.00047725103404390706,
          0.42857142857142855,
          0.02815781100859052,
          0.01065860642698059,
          0,
          0.2553293032134903,
          0.6111994909322304,
          0.11963092586700605,
          0.25707922367165126,
          0.12313076678332803,
          0.5881323576201082,
          0.1573337575564747,
          0.029748647788736874,
          0.1385618835507477,
          0.06299713649379574,
          0.0022271714922048997,
          0.31116767419662744,
          0.036748329621380846,
          0.10022271714922049,
          0.01956729239580019,
          0.004454342984409799,
          0.29557747375119314,
          0.18771874005727013,
          0.01002227171492205,
          0.0905186127903277,
          0,
          0.1461979000954502,
          0.09099586382437162,
          0.3460069996818326,
          0.20076360165447024,
          0.36223353483932547,
          0.020839961819917277,
          0.02290804963410754,
          0.6705377028316895,
          0.24657970092268533,
          0.007158765510658607,
          0.47709195036589247,
          0.42618517340120904,
          0.058701877187400574,
          0.30575882914412983,
          0.33503022589882275,
          0.14906140629971365,
          0.005090677696468342,
          0.013203945275214762,
          0.2459433662106268,
          0.01145402481705377,
          0.17006045179764556,
          0.17101495386573337,
          0.7527839643652561,
          0.046611517658288255,
          0.05902004454342984,
          0.08860960865415209,
          0.2599427298759147,
          0.09576837416481068,
          0.21444479796372892,
          0.15574292077632834,
          0.1796054724785237,
          0.4215717467387846,
          0.004613426662424435,
          0.15431116767419661,
          0.03579382755329303,
          0.21460388164174354,
          0.11342666242443525,
          0.016067451479478204,
          0.016862869869551385,
          0.0927457842825326,
          0.07095132039452752,
          0.014476614699331848,
          0.4853643016226535,
          0.24228444161629017,
          0.05106586064269806,
          0.008908685968819599,
          0.14508431434934776,
          0.34871142220808143,
          0.5335666560610881,
          0.2562838052815781,
          0,
          0.007636016544702513,
          0.020839961819917277,
          0.16878778237352848,
          0.08510976773783009,
          0.005408845052497614,
          0.22987591473114857,
          0,
          0.3859370028635062,
          0.03213490295895641,
          0.1207445116131085,
          0.10467706013363029,
          0.3916640152720331,
          0,
          0.4532293986636971,
          0.21619471842188992,
          0.10276805599745466,
          0.6850143175310213,
          0.06363347120585428,
          0.06776964683423481,
          0.01065860642698059,
          0.0561565383391664,
          0.24387527839643652,
          0.063315303849825,
          0.2036271078587337,
          0.17037861915367483,
          0.011135857461024499,
          0.005249761374482978,
          0.0019090041361756282,
          0.0023862551702195354,
          0,
          0.7047406936048362,
          0.07286032453070315,
          0.12678969137766466,
          0.021158129175946547,
          0.052338530066815145,
          0.1603563474387528,
          0.2931912185809736,
          0.010976773783009862,
          0.40900413617562836,
          1,
          0.08415526566974228,
          0.48584155265669743,
          0.3401209035952911,
          0.0383391664015272,
          0.12440343620744511,
          0.544543429844098,
          0.40264078905504297,
          0.017181037225580655,
          0.053452115812917596,
          0,
          0.12694877505567928,
          0.3137130130448616,
          0.25167037861915365,
          0.02768055997454661,
          0.0007954183900731785,
          0.5278396436525612,
          0.05138402799872733,
          0.04024817053770283,
          0.017817371937639197,
          0.29016862869869553,
          0.26248806872414887,
          0.0023862551702195354,
          0.034202990773146674,
          0.3129175946547884,
          0.5652243079860007,
          0.4972955774737512,
          0.02958956411072224,
          0.012885777919185491,
          0.2626471524021635,
          0.0019090041361756282,
          0.34871142220808143,
          0.12153993000318167,
          0.09608654152083997,
          0.15112949411390392,
          0.017181037225580655,
          0.3538020999045498,
          0.28555520203627105,
          0.24896595609290487,
          0.02736239261851734,
          0.005727012408526885,
          0.002068087814190264,
          0.002068087814190264,
          0.05774737511931276,
          0.015112949411390391,
          0.005090677696468342,
          0.013203945275214762,
          0.42459433662106266,
          0.37432389436843777,
          0.18167356029271398,
          0.1444479796372892,
          0.03627107858733694,
          0.011772192173083042,
          0.38450524976137446,
          0.39691377664651606,
          0.3261215399300032,
          0.4796372892141266,
          0.007636016544702513,
          0.0009545020680878141,
          0,
          0.03197581928094177,
          0.06856506522430798,
          0.10229080496341075,
          0.0003181673560292714,
          0.010976773783009862,
          0.032771237671014954,
          0.05679287305122494
         ]
        }
       ],
       "layout": {
        "template": {
         "data": {
          "bar": [
           {
            "error_x": {
             "color": "#2a3f5f"
            },
            "error_y": {
             "color": "#2a3f5f"
            },
            "marker": {
             "line": {
              "color": "#E5ECF6",
              "width": 0.5
             },
             "pattern": {
              "fillmode": "overlay",
              "size": 10,
              "solidity": 0.2
             }
            },
            "type": "bar"
           }
          ],
          "barpolar": [
           {
            "marker": {
             "line": {
              "color": "#E5ECF6",
              "width": 0.5
             },
             "pattern": {
              "fillmode": "overlay",
              "size": 10,
              "solidity": 0.2
             }
            },
            "type": "barpolar"
           }
          ],
          "carpet": [
           {
            "aaxis": {
             "endlinecolor": "#2a3f5f",
             "gridcolor": "white",
             "linecolor": "white",
             "minorgridcolor": "white",
             "startlinecolor": "#2a3f5f"
            },
            "baxis": {
             "endlinecolor": "#2a3f5f",
             "gridcolor": "white",
             "linecolor": "white",
             "minorgridcolor": "white",
             "startlinecolor": "#2a3f5f"
            },
            "type": "carpet"
           }
          ],
          "choropleth": [
           {
            "colorbar": {
             "outlinewidth": 0,
             "ticks": ""
            },
            "type": "choropleth"
           }
          ],
          "contour": [
           {
            "colorbar": {
             "outlinewidth": 0,
             "ticks": ""
            },
            "colorscale": [
             [
              0,
              "#0d0887"
             ],
             [
              0.1111111111111111,
              "#46039f"
             ],
             [
              0.2222222222222222,
              "#7201a8"
             ],
             [
              0.3333333333333333,
              "#9c179e"
             ],
             [
              0.4444444444444444,
              "#bd3786"
             ],
             [
              0.5555555555555556,
              "#d8576b"
             ],
             [
              0.6666666666666666,
              "#ed7953"
             ],
             [
              0.7777777777777778,
              "#fb9f3a"
             ],
             [
              0.8888888888888888,
              "#fdca26"
             ],
             [
              1,
              "#f0f921"
             ]
            ],
            "type": "contour"
           }
          ],
          "contourcarpet": [
           {
            "colorbar": {
             "outlinewidth": 0,
             "ticks": ""
            },
            "type": "contourcarpet"
           }
          ],
          "heatmap": [
           {
            "colorbar": {
             "outlinewidth": 0,
             "ticks": ""
            },
            "colorscale": [
             [
              0,
              "#0d0887"
             ],
             [
              0.1111111111111111,
              "#46039f"
             ],
             [
              0.2222222222222222,
              "#7201a8"
             ],
             [
              0.3333333333333333,
              "#9c179e"
             ],
             [
              0.4444444444444444,
              "#bd3786"
             ],
             [
              0.5555555555555556,
              "#d8576b"
             ],
             [
              0.6666666666666666,
              "#ed7953"
             ],
             [
              0.7777777777777778,
              "#fb9f3a"
             ],
             [
              0.8888888888888888,
              "#fdca26"
             ],
             [
              1,
              "#f0f921"
             ]
            ],
            "type": "heatmap"
           }
          ],
          "heatmapgl": [
           {
            "colorbar": {
             "outlinewidth": 0,
             "ticks": ""
            },
            "colorscale": [
             [
              0,
              "#0d0887"
             ],
             [
              0.1111111111111111,
              "#46039f"
             ],
             [
              0.2222222222222222,
              "#7201a8"
             ],
             [
              0.3333333333333333,
              "#9c179e"
             ],
             [
              0.4444444444444444,
              "#bd3786"
             ],
             [
              0.5555555555555556,
              "#d8576b"
             ],
             [
              0.6666666666666666,
              "#ed7953"
             ],
             [
              0.7777777777777778,
              "#fb9f3a"
             ],
             [
              0.8888888888888888,
              "#fdca26"
             ],
             [
              1,
              "#f0f921"
             ]
            ],
            "type": "heatmapgl"
           }
          ],
          "histogram": [
           {
            "marker": {
             "pattern": {
              "fillmode": "overlay",
              "size": 10,
              "solidity": 0.2
             }
            },
            "type": "histogram"
           }
          ],
          "histogram2d": [
           {
            "colorbar": {
             "outlinewidth": 0,
             "ticks": ""
            },
            "colorscale": [
             [
              0,
              "#0d0887"
             ],
             [
              0.1111111111111111,
              "#46039f"
             ],
             [
              0.2222222222222222,
              "#7201a8"
             ],
             [
              0.3333333333333333,
              "#9c179e"
             ],
             [
              0.4444444444444444,
              "#bd3786"
             ],
             [
              0.5555555555555556,
              "#d8576b"
             ],
             [
              0.6666666666666666,
              "#ed7953"
             ],
             [
              0.7777777777777778,
              "#fb9f3a"
             ],
             [
              0.8888888888888888,
              "#fdca26"
             ],
             [
              1,
              "#f0f921"
             ]
            ],
            "type": "histogram2d"
           }
          ],
          "histogram2dcontour": [
           {
            "colorbar": {
             "outlinewidth": 0,
             "ticks": ""
            },
            "colorscale": [
             [
              0,
              "#0d0887"
             ],
             [
              0.1111111111111111,
              "#46039f"
             ],
             [
              0.2222222222222222,
              "#7201a8"
             ],
             [
              0.3333333333333333,
              "#9c179e"
             ],
             [
              0.4444444444444444,
              "#bd3786"
             ],
             [
              0.5555555555555556,
              "#d8576b"
             ],
             [
              0.6666666666666666,
              "#ed7953"
             ],
             [
              0.7777777777777778,
              "#fb9f3a"
             ],
             [
              0.8888888888888888,
              "#fdca26"
             ],
             [
              1,
              "#f0f921"
             ]
            ],
            "type": "histogram2dcontour"
           }
          ],
          "mesh3d": [
           {
            "colorbar": {
             "outlinewidth": 0,
             "ticks": ""
            },
            "type": "mesh3d"
           }
          ],
          "parcoords": [
           {
            "line": {
             "colorbar": {
              "outlinewidth": 0,
              "ticks": ""
             }
            },
            "type": "parcoords"
           }
          ],
          "pie": [
           {
            "automargin": true,
            "type": "pie"
           }
          ],
          "scatter": [
           {
            "marker": {
             "colorbar": {
              "outlinewidth": 0,
              "ticks": ""
             }
            },
            "type": "scatter"
           }
          ],
          "scatter3d": [
           {
            "line": {
             "colorbar": {
              "outlinewidth": 0,
              "ticks": ""
             }
            },
            "marker": {
             "colorbar": {
              "outlinewidth": 0,
              "ticks": ""
             }
            },
            "type": "scatter3d"
           }
          ],
          "scattercarpet": [
           {
            "marker": {
             "colorbar": {
              "outlinewidth": 0,
              "ticks": ""
             }
            },
            "type": "scattercarpet"
           }
          ],
          "scattergeo": [
           {
            "marker": {
             "colorbar": {
              "outlinewidth": 0,
              "ticks": ""
             }
            },
            "type": "scattergeo"
           }
          ],
          "scattergl": [
           {
            "marker": {
             "colorbar": {
              "outlinewidth": 0,
              "ticks": ""
             }
            },
            "type": "scattergl"
           }
          ],
          "scattermapbox": [
           {
            "marker": {
             "colorbar": {
              "outlinewidth": 0,
              "ticks": ""
             }
            },
            "type": "scattermapbox"
           }
          ],
          "scatterpolar": [
           {
            "marker": {
             "colorbar": {
              "outlinewidth": 0,
              "ticks": ""
             }
            },
            "type": "scatterpolar"
           }
          ],
          "scatterpolargl": [
           {
            "marker": {
             "colorbar": {
              "outlinewidth": 0,
              "ticks": ""
             }
            },
            "type": "scatterpolargl"
           }
          ],
          "scatterternary": [
           {
            "marker": {
             "colorbar": {
              "outlinewidth": 0,
              "ticks": ""
             }
            },
            "type": "scatterternary"
           }
          ],
          "surface": [
           {
            "colorbar": {
             "outlinewidth": 0,
             "ticks": ""
            },
            "colorscale": [
             [
              0,
              "#0d0887"
             ],
             [
              0.1111111111111111,
              "#46039f"
             ],
             [
              0.2222222222222222,
              "#7201a8"
             ],
             [
              0.3333333333333333,
              "#9c179e"
             ],
             [
              0.4444444444444444,
              "#bd3786"
             ],
             [
              0.5555555555555556,
              "#d8576b"
             ],
             [
              0.6666666666666666,
              "#ed7953"
             ],
             [
              0.7777777777777778,
              "#fb9f3a"
             ],
             [
              0.8888888888888888,
              "#fdca26"
             ],
             [
              1,
              "#f0f921"
             ]
            ],
            "type": "surface"
           }
          ],
          "table": [
           {
            "cells": {
             "fill": {
              "color": "#EBF0F8"
             },
             "line": {
              "color": "white"
             }
            },
            "header": {
             "fill": {
              "color": "#C8D4E3"
             },
             "line": {
              "color": "white"
             }
            },
            "type": "table"
           }
          ]
         },
         "layout": {
          "annotationdefaults": {
           "arrowcolor": "#2a3f5f",
           "arrowhead": 0,
           "arrowwidth": 1
          },
          "autotypenumbers": "strict",
          "coloraxis": {
           "colorbar": {
            "outlinewidth": 0,
            "ticks": ""
           }
          },
          "colorscale": {
           "diverging": [
            [
             0,
             "#8e0152"
            ],
            [
             0.1,
             "#c51b7d"
            ],
            [
             0.2,
             "#de77ae"
            ],
            [
             0.3,
             "#f1b6da"
            ],
            [
             0.4,
             "#fde0ef"
            ],
            [
             0.5,
             "#f7f7f7"
            ],
            [
             0.6,
             "#e6f5d0"
            ],
            [
             0.7,
             "#b8e186"
            ],
            [
             0.8,
             "#7fbc41"
            ],
            [
             0.9,
             "#4d9221"
            ],
            [
             1,
             "#276419"
            ]
           ],
           "sequential": [
            [
             0,
             "#0d0887"
            ],
            [
             0.1111111111111111,
             "#46039f"
            ],
            [
             0.2222222222222222,
             "#7201a8"
            ],
            [
             0.3333333333333333,
             "#9c179e"
            ],
            [
             0.4444444444444444,
             "#bd3786"
            ],
            [
             0.5555555555555556,
             "#d8576b"
            ],
            [
             0.6666666666666666,
             "#ed7953"
            ],
            [
             0.7777777777777778,
             "#fb9f3a"
            ],
            [
             0.8888888888888888,
             "#fdca26"
            ],
            [
             1,
             "#f0f921"
            ]
           ],
           "sequentialminus": [
            [
             0,
             "#0d0887"
            ],
            [
             0.1111111111111111,
             "#46039f"
            ],
            [
             0.2222222222222222,
             "#7201a8"
            ],
            [
             0.3333333333333333,
             "#9c179e"
            ],
            [
             0.4444444444444444,
             "#bd3786"
            ],
            [
             0.5555555555555556,
             "#d8576b"
            ],
            [
             0.6666666666666666,
             "#ed7953"
            ],
            [
             0.7777777777777778,
             "#fb9f3a"
            ],
            [
             0.8888888888888888,
             "#fdca26"
            ],
            [
             1,
             "#f0f921"
            ]
           ]
          },
          "colorway": [
           "#636efa",
           "#EF553B",
           "#00cc96",
           "#ab63fa",
           "#FFA15A",
           "#19d3f3",
           "#FF6692",
           "#B6E880",
           "#FF97FF",
           "#FECB52"
          ],
          "font": {
           "color": "#2a3f5f"
          },
          "geo": {
           "bgcolor": "white",
           "lakecolor": "white",
           "landcolor": "#E5ECF6",
           "showlakes": true,
           "showland": true,
           "subunitcolor": "white"
          },
          "hoverlabel": {
           "align": "left"
          },
          "hovermode": "closest",
          "mapbox": {
           "style": "light"
          },
          "paper_bgcolor": "white",
          "plot_bgcolor": "#E5ECF6",
          "polar": {
           "angularaxis": {
            "gridcolor": "white",
            "linecolor": "white",
            "ticks": ""
           },
           "bgcolor": "#E5ECF6",
           "radialaxis": {
            "gridcolor": "white",
            "linecolor": "white",
            "ticks": ""
           }
          },
          "scene": {
           "xaxis": {
            "backgroundcolor": "#E5ECF6",
            "gridcolor": "white",
            "gridwidth": 2,
            "linecolor": "white",
            "showbackground": true,
            "ticks": "",
            "zerolinecolor": "white"
           },
           "yaxis": {
            "backgroundcolor": "#E5ECF6",
            "gridcolor": "white",
            "gridwidth": 2,
            "linecolor": "white",
            "showbackground": true,
            "ticks": "",
            "zerolinecolor": "white"
           },
           "zaxis": {
            "backgroundcolor": "#E5ECF6",
            "gridcolor": "white",
            "gridwidth": 2,
            "linecolor": "white",
            "showbackground": true,
            "ticks": "",
            "zerolinecolor": "white"
           }
          },
          "shapedefaults": {
           "line": {
            "color": "#2a3f5f"
           }
          },
          "ternary": {
           "aaxis": {
            "gridcolor": "white",
            "linecolor": "white",
            "ticks": ""
           },
           "baxis": {
            "gridcolor": "white",
            "linecolor": "white",
            "ticks": ""
           },
           "bgcolor": "#E5ECF6",
           "caxis": {
            "gridcolor": "white",
            "linecolor": "white",
            "ticks": ""
           }
          },
          "title": {
           "x": 0.05
          },
          "xaxis": {
           "automargin": true,
           "gridcolor": "white",
           "linecolor": "white",
           "ticks": "",
           "title": {
            "standoff": 15
           },
           "zerolinecolor": "white",
           "zerolinewidth": 2
          },
          "yaxis": {
           "automargin": true,
           "gridcolor": "white",
           "linecolor": "white",
           "ticks": "",
           "title": {
            "standoff": 15
           },
           "zerolinecolor": "white",
           "zerolinewidth": 2
          }
         }
        }
       }
      }
     },
     "metadata": {},
     "output_type": "display_data"
    }
   ],
   "source": [
    "fig = go.Figure(data=[go.Scatter3d(x=data['Population'], y=data['Tot Cases//1M pop'], z=data['Tot Deaths/1M pop'],\n",
    "mode='markers', marker_color=data['Cluster'], marker_size = 4)])\n",
    "fig.show()"
   ]
  },
  {
   "cell_type": "markdown",
   "metadata": {},
   "source": [
    "### Иерархическая агломеративная кластеризация"
   ]
  },
  {
   "cell_type": "code",
   "execution_count": 8,
   "metadata": {},
   "outputs": [],
   "source": [
    "from sklearn.cluster import AgglomerativeClustering\n",
    "model2 = AgglomerativeClustering(6, compute_distances=True)\n",
    "data.drop('Cluster', axis=1, inplace=True)\n",
    "agglo = model2.fit(data)\n",
    "data['Cluster'] = agglo.labels_"
   ]
  },
  {
   "cell_type": "code",
   "execution_count": 9,
   "metadata": {},
   "outputs": [
    {
     "data": {
      "application/vnd.plotly.v1+json": {
       "config": {
        "plotlyServerURL": "https://plot.ly"
       },
       "data": [
        {
         "marker": {
          "color": [
           0,
           0,
           0,
           5,
           0,
           0,
           2,
           2,
           2,
           1,
           0,
           1,
           0,
           2,
           5,
           0,
           2,
           0,
           1,
           2,
           0,
           2,
           0,
           2,
           4,
           0,
           2,
           2,
           5,
           4,
           0,
           0,
           0,
           0,
           0,
           0,
           0,
           5,
           5,
           0,
           5,
           2,
           3,
           2,
           0,
           0,
           0,
           2,
           1,
           0,
           2,
           5,
           1,
           5,
           0,
           2,
           0,
           0,
           2,
           0,
           0,
           0,
           0,
           1,
           0,
           0,
           5,
           0,
           0,
           0,
           1,
           2,
           2,
           0,
           0,
           1,
           2,
           0,
           1,
           1,
           0,
           2,
           1,
           0,
           0,
           0,
           2,
           0,
           0,
           2,
           4,
           5,
           3,
           0,
           2,
           0,
           2,
           5,
           5,
           2,
           0,
           0,
           0,
           2,
           0,
           0,
           0,
           0,
           0,
           0,
           1,
           2,
           0,
           0,
           0,
           1,
           1,
           1,
           0,
           0,
           0,
           0,
           5,
           0,
           2,
           0,
           1,
           0,
           0,
           0,
           2,
           0,
           2,
           2,
           0,
           1,
           0,
           0,
           0,
           0,
           2,
           0,
           5,
           2,
           0,
           0,
           0,
           0,
           0,
           4,
           5,
           0,
           0,
           0,
           0,
           2,
           0,
           2,
           4,
           0,
           2,
           1,
           0,
           5,
           2,
           2,
           0,
           5,
           0,
           0,
           2,
           2,
           5,
           0,
           1,
           0,
           0,
           0,
           2,
           1,
           0,
           0,
           2,
           1,
           1,
           0,
           0,
           2,
           0,
           2,
           0,
           5,
           0,
           0,
           2,
           2,
           1,
           0,
           0,
           0,
           0,
           0,
           0,
           0,
           0,
           2,
           2,
           2,
           2,
           0,
           0,
           1,
           2,
           2,
           2,
           0,
           0,
           0,
           0,
           0,
           0,
           0,
           0,
           0,
           0
          ],
          "size": 4
         },
         "mode": "markers",
         "type": "scatter3d",
         "x": [
          0.028111398077589635,
          0.001995028953095198,
          0.031428591713902415,
          0.00005327226866026305,
          0.024076185608240392,
          0.000010026936476927805,
          0.000068464828245974,
          0.0319045529913939,
          0.0020649528006456033,
          0.0000741702884973966,
          0.018075833238403866,
          0.006319328728340014,
          0.007154996625145921,
          0.0002772254789505475,
          0.0012534990661244717,
          0.11641632932710279,
          0.00019952853236301197,
          0.006560776969632621,
          0.00811292478149437,
          0.000284477499664667,
          0.008808199587888048,
          0.00004242967091504857,
          0.0005458642819089699,
          0.008303146160237305,
          0.0022540403129576677,
          0.001691005458148837,
          0.1495173080232873,
          0.000020688893736831774,
          0.0003084832306202386,
          0.004763406919877471,
          0.015218990762567355,
          0.008691134826611477,
          0.00039306813786688327,
          0.011896659988760785,
          0.019245854167639766,
          0.02662406615617059,
          0.0034571212300897824,
          0.00001795635901096169,
          0.000046041091079064004,
          0.011984413052211339,
          0.00012218452949292922,
          0.013480397652876758,
          1.0000000000000002,
          0.03601097671913693,
          0.0006261318815566934,
          0.0039983270717910335,
          0.000011663122411182585,
          0.0035952611778333108,
          0.002820872091813506,
          0.007860437322235998,
          0.00011426413898316087,
          0.0008489685946935395,
          0.007463896023653472,
          0.004048504829983708,
          0.0007033452674604746,
          0.00004967196483380518,
          0.007668555440570399,
          0.06553257392568912,
          0.012583088274771932,
          0.07344497456783798,
          0.004545674689992841,
          0.0010301947720391105,
          0.002523077914525968,
          0.0009221641193413566,
          0.0008200980765143364,
          0.08333386211203601,
          0.00003361511000299321,
          0.000001981487169636786,
          0.0006301657225478964,
          0.0038594416346600506,
          0.045525268004633274,
          0.0002163649203650485,
          0.000196582702910256,
          0.0016096505417337638,
          0.0017609758553627645,
          0.0027616852368015188,
          0.0585359531512681,
          0.022376497595687994,
          0.000022835736427637408,
          0.007179156595285104,
          0.00003900236509183039,
          0.00007825276346541405,
          0.0002775186723536284,
          0.01284957467687077,
          0.00955662924662654,
          0.0014232865321233035,
          0.0005505303645987597,
          0.00809062888220937,
          0.007072418216828418,
          0.005282101483253546,
          0.006681338513842145,
          0.00023922011038341167,
          0.975287412403842,
          0.19355329457880238,
          0.059662677335259456,
          0.02904200158145048,
          0.0034971497720923963,
          0.00005906665961214622,
          0.006478875963135032,
          0.04189843503859427,
          0.019120203425142167,
          0.002072494540907317,
          0.08740072001532727,
          0.0072114717885649595,
          0.013318086618656489,
          0.03879793425460449,
          0.00008465855298296355,
          0.0030433079220271823,
          0.004663139639421485,
          0.005182667928114378,
          0.001284557418489224,
          0.004704388199471042,
          0.0015084682477425702,
          0.003657860053704375,
          0.004887038657566177,
          0.00002606433771701404,
          0.0018446214320857943,
          0.00044673503651044004,
          0.00046134398837437856,
          0.02010353519189405,
          0.013891148409942248,
          0.022990688446394566,
          0.00038656994379338645,
          0.014777920889584692,
          0.0003076425575924474,
          0.00004104985551571524,
          0.00025981034662442,
          0.003378420339266579,
          0.0008855955374035367,
          0.00019698497537562056,
          0.09122563361076241,
          0.00008082202698340734,
          0.0027907183314175013,
          0.000027043270193177516,
          0.002341293141218129,
          0.00043589938647619903,
          0.0000029124804400832424,
          0.02617587418466901,
          0.02277893680611591,
          0.03824543629825804,
          0.0018207338122167719,
          0.020879998864410537,
          0.011950368573670184,
          0.00020113414836898342,
          0.003474755215311575,
          0.004697837897565244,
          0.017881955279375583,
          0.1494289685730306,
          5.836077217724056e-7,
          0.0014468045337685369,
          0.0038175198414171635,
          0.0037052212098684003,
          0.15868343631125165,
          0.000012116807937750896,
          0.0036878991768693175,
          0.0030798049425419752,
          0.006421619877002575,
          0.005061467889266391,
          0.023465852126666298,
          0.07790681122951383,
          0.026243755405193213,
          0.0070476586592322235,
          0.0019502224702561217,
          0.0006292486246993969,
          0.013209157626929863,
          0.10146659779808379,
          0.009388494641068298,
          0.03567345553050303,
          0.0000036850659003343316,
          0.00003685969102760884,
          0.00012804006030137902,
          0.000027106494363036192,
          0.000003431474449802275,
          0.00013889655346854045,
          0.000023101833757921734,
          0.0001566542079456606,
          0.02484636299186807,
          0.012168877557641648,
          0.006027109394337597,
          0.00006850998836730162,
          0.005738821075203976,
          0.004120049578504226,
          0.000029821659811472574,
          0.0037958589629151418,
          0.001444174130393977,
          0.0004971406796230448,
          0.011580427976091824,
          0.04211474993544031,
          0.007936115958785737,
          0.03250533614946385,
          0.014985950641094856,
          0.000006339786263301428,
          0.00007694728857349697,
          0.03170906107910648,
          0.00041340825651284627,
          0.0070927110910397615,
          0.006089401181383633,
          0.012675109317073493,
          0.016599079206941942,
          0.006886315441150561,
          0.04356860361676254,
          0.048707480817382166,
          0.0009459871254983257,
          0.00598709752684132,
          0.00007433147539198137,
          0.000977276836638495,
          0.008361074784791995,
          0.059699484223683666,
          0.000026977266938929446,
          0.007016327956597311,
          0.03353411080937998,
          0.04759841701991429,
          0.03006484775959294,
          0.002427530908905365,
          0.23233131044081698,
          0.023842703612349976,
          0.00022155972385992027,
          0,
          0.01965791595776595,
          0.06869264855219212,
          0.000007009545601144999,
          0.00043230464081851994,
          0.021520154700567205,
          0.013397741430196352,
          0.01058886456137856
         ],
         "y": [
          0.006301407256818982,
          0.13697587046628404,
          0.008424863692199388,
          0.7421408406186472,
          0.004098931806590186,
          0.25457196836365986,
          0.10834656303203144,
          0.282847845295136,
          0.20420093817121268,
          0.45481620895500946,
          0.2584625773129225,
          0.6139691251158348,
          0.11047720301421625,
          0.11962904164302082,
          0.44273491993937086,
          0.016721860251280467,
          0.29900220534886895,
          0.1468431903568068,
          0.4737735889718189,
          0.20061060147837395,
          0.003041513716982623,
          0.29171808888920814,
          0.05741521618884108,
          0.1084701200370671,
          0.1663192224528939,
          0.18027685389384157,
          0.2002657912317628,
          0.28913344874898533,
          0.43917331743374977,
          0.238990855344918,
          0.00135481692730969,
          0.004410697737901112,
          0.14189372660857574,
          0.011375864719446582,
          0.006186470507948595,
          0.13117587477641213,
          0.004216741974182333,
          0.46221382545417977,
          0.441370046046535,
          0.0005962343847651339,
          0.5614056764386849,
          0.2581522480909724,
          0.00014223422672710425,
          0.16867973593281949,
          0.012877226001566015,
          0.005995388162951576,
          0.1729611298282414,
          0.2329925937632447,
          0.39011831301586847,
          0.13871859892103128,
          0.353548312944033,
          0.5169395217194538,
          0.512238608690655,
          0.7196908201455388,
          0.02209515326097107,
          0.23628265819965952,
          0.07523472239183375,
          0.001308842227761535,
          0.0681962832328834,
          0.006854540360757721,
          0.03546229715459711,
          0.015387157255023097,
          0.0038345772841882953,
          0.6043848369694054,
          0.08494831438074235,
          0.005614660182318418,
          1,
          0.048309352259584645,
          0.1019417127012291,
          0.2300415927359975,
          0.5700072553822725,
          0.3638538291896241,
          0.36615256416703185,
          0.029485586213336974,
          0.006779831473991969,
          0.5959614099865669,
          0.36910787532236167,
          0.0071677430014295265,
          0.724421904070916,
          0.42787647172915155,
          0.3020279152628819,
          0.17760601119196595,
          0.4691631886327555,
          0.06451830726903102,
          0.0037943494220836595,
          0.0057008627439712085,
          0.11459050191441522,
          0.003755558269339904,
          0.0594093687817423,
          0.2213322605903439,
          0.27697888755594186,
          0.7569317634889051,
          0.044026521654801844,
          0.031032922195004562,
          0.11990345313094888,
          0.07973305940074853,
          0.41984382969247236,
          0.47569303267795443,
          0.6074464646174402,
          0.35368480033331656,
          0.004255533126926088,
          0.06200981272493481,
          0.0759789378407695,
          0.2337971510053374,
          0.09780686316061693,
          0.008308490233968121,
          0.035911987184552505,
          0.2064292743899373,
          0.04300071117113364,
          0.035337303440200564,
          0.6233364701487714,
          0.2318733971711193,
          0.02175608985180343,
          0.002005646267788258,
          0.10245605465242409,
          0.6159503473244881,
          0.5577075865437802,
          0.48419835209436307,
          0.00016378486714030188,
          0.003166507431379169,
          0.00614193251776132,
          0.18435136164129678,
          0.45635061455242915,
          0.0020473108392537733,
          0.26425538945599,
          0.00015516461097502283,
          0.5421322203624819,
          0.0173180946360456,
          0.041245052332138474,
          0.18639579906182882,
          0.06197676840963458,
          0,
          0.18386862729604117,
          0.3920636174904998,
          0.19972558851207198,
          0.53360535030566,
          0.05030206814312499,
          0.04435552809844333,
          0.00985869963435747,
          0.01595609416193151,
          0.08638646045098307,
          0.04676201627791706,
          0.6605501160142809,
          0.29838298361432974,
          0.19909487310264573,
          0.0039035393335105275,
          0.000478424217172987,
          0.0016938803364773324,
          0.006100267946295804,
          0.2114836179215126,
          0.36827458389305134,
          0.10462404907799178,
          0.00958285143706854,
          0.318275661425072,
          0.15728375728232058,
          0.24795304833808646,
          0.006547084557529435,
          0.1278355255123665,
          0.15093062848850994,
          0.0471298138743023,
          0.22703743346239774,
          0.5104096776742549,
          0.18512431127745016,
          0.5340119390547889,
          0.2161083853541848,
          0.17604718153541132,
          0.013779479480198555,
          0.3881974326003721,
          0.0004568735767597894,
          0.1480112350672021,
          0.17823241647330956,
          0.36464832946619063,
          0.4894782589955965,
          0.016342568980008187,
          0.6404232545777153,
          0.037733734654148136,
          0.030160839612950498,
          0.007034129030867701,
          0.32799500025142414,
          0.5841487856214128,
          0.0013217726120094535,
          0.26881406825806176,
          0.32085455472785135,
          0.4536654047569447,
          0.6728612785276603,
          0.022991659902160094,
          0.0022628172433857494,
          0.08822544843290926,
          0.0021608108787632804,
          0.3547106108169848,
          0.0440796799011544,
          0.6004238292614597,
          0.08686632137751694,
          0.0019366842184660254,
          0.1910363702974707,
          0.35008440667495166,
          0.5721637561329531,
          0.004374780003879116,
          0.0014482030357668796,
          0.002507057834735322,
          0.0007614559612663156,
          0.07604933659945262,
          0.024064881794737335,
          0.00614624264584396,
          0.0949794191384054,
          0.14129318209572797,
          0.12364751772540175,
          0.2490262702306637,
          0.21422054925398867,
          0.1269016644277946,
          0.004866134605300021,
          0.4449201548772691,
          0.16495578526941895,
          0.3656640829843327,
          0.351598698341319,
          0.009944902196010259,
          0.018443038065614516,
          0.05174452434144835,
          0.026434015530828192,
          0.14265805598856382,
          0.05986049552105857,
          0.000010056965526158886,
          0.0005344558822473008,
          0.023609444927338425,
          0.023224406818622628
         ],
         "z": [
          0.030225898822780782,
          0.193445752465797,
          0.024180719058224626,
          0.3141902640789055,
          0.008749602290804964,
          0.0940184537066497,
          0.21619471842188992,
          0.44368437798281896,
          0.4610244988864142,
          0.31355392936684695,
          0.03897550111358575,
          0.2795100222717149,
          0.14985682468978684,
          0.31355392936684695,
          0.1296531975819281,
          0.02768055997454661,
          0.20712694877505566,
          0.11533566656061088,
          0.41998090995863824,
          0.25437480114540245,
          0.002068087814190264,
          0.32914412981228125,
          0.0023862551702195354,
          0.2914412981228126,
          0.7706013363028953,
          0.17546929685014317,
          0.4880687241489023,
          0.32246261533566656,
          0.0762010817690105,
          0.8483932548520522,
          0.002704422526248807,
          0.00047725103404390706,
          0.11263124403436207,
          0.028316894686605153,
          0.011135857461024499,
          0.15653833916640153,
          0.003658924594336621,
          0.19694559338211898,
          0.056951956729239576,
          0.0017499204581609927,
          0.1404708876869233,
          0.4653197581928094,
          0.00047725103404390706,
          0.42857142857142855,
          0.02815781100859052,
          0.01065860642698059,
          0,
          0.2553293032134903,
          0.6111994909322304,
          0.11963092586700605,
          0.25707922367165126,
          0.12313076678332803,
          0.5881323576201082,
          0.1573337575564747,
          0.029748647788736874,
          0.1385618835507477,
          0.06299713649379574,
          0.0022271714922048997,
          0.31116767419662744,
          0.036748329621380846,
          0.10022271714922049,
          0.01956729239580019,
          0.004454342984409799,
          0.29557747375119314,
          0.18771874005727013,
          0.01002227171492205,
          0.0905186127903277,
          0,
          0.1461979000954502,
          0.09099586382437162,
          0.3460069996818326,
          0.20076360165447024,
          0.36223353483932547,
          0.020839961819917277,
          0.02290804963410754,
          0.6705377028316895,
          0.24657970092268533,
          0.007158765510658607,
          0.47709195036589247,
          0.42618517340120904,
          0.058701877187400574,
          0.30575882914412983,
          0.33503022589882275,
          0.14906140629971365,
          0.005090677696468342,
          0.013203945275214762,
          0.2459433662106268,
          0.01145402481705377,
          0.17006045179764556,
          0.17101495386573337,
          0.7527839643652561,
          0.046611517658288255,
          0.05902004454342984,
          0.08860960865415209,
          0.2599427298759147,
          0.09576837416481068,
          0.21444479796372892,
          0.15574292077632834,
          0.1796054724785237,
          0.4215717467387846,
          0.004613426662424435,
          0.15431116767419661,
          0.03579382755329303,
          0.21460388164174354,
          0.11342666242443525,
          0.016067451479478204,
          0.016862869869551385,
          0.0927457842825326,
          0.07095132039452752,
          0.014476614699331848,
          0.4853643016226535,
          0.24228444161629017,
          0.05106586064269806,
          0.008908685968819599,
          0.14508431434934776,
          0.34871142220808143,
          0.5335666560610881,
          0.2562838052815781,
          0,
          0.007636016544702513,
          0.020839961819917277,
          0.16878778237352848,
          0.08510976773783009,
          0.005408845052497614,
          0.22987591473114857,
          0,
          0.3859370028635062,
          0.03213490295895641,
          0.1207445116131085,
          0.10467706013363029,
          0.3916640152720331,
          0,
          0.4532293986636971,
          0.21619471842188992,
          0.10276805599745466,
          0.6850143175310213,
          0.06363347120585428,
          0.06776964683423481,
          0.01065860642698059,
          0.0561565383391664,
          0.24387527839643652,
          0.063315303849825,
          0.2036271078587337,
          0.17037861915367483,
          0.011135857461024499,
          0.005249761374482978,
          0.0019090041361756282,
          0.0023862551702195354,
          0,
          0.7047406936048362,
          0.07286032453070315,
          0.12678969137766466,
          0.021158129175946547,
          0.052338530066815145,
          0.1603563474387528,
          0.2931912185809736,
          0.010976773783009862,
          0.40900413617562836,
          1,
          0.08415526566974228,
          0.48584155265669743,
          0.3401209035952911,
          0.0383391664015272,
          0.12440343620744511,
          0.544543429844098,
          0.40264078905504297,
          0.017181037225580655,
          0.053452115812917596,
          0,
          0.12694877505567928,
          0.3137130130448616,
          0.25167037861915365,
          0.02768055997454661,
          0.0007954183900731785,
          0.5278396436525612,
          0.05138402799872733,
          0.04024817053770283,
          0.017817371937639197,
          0.29016862869869553,
          0.26248806872414887,
          0.0023862551702195354,
          0.034202990773146674,
          0.3129175946547884,
          0.5652243079860007,
          0.4972955774737512,
          0.02958956411072224,
          0.012885777919185491,
          0.2626471524021635,
          0.0019090041361756282,
          0.34871142220808143,
          0.12153993000318167,
          0.09608654152083997,
          0.15112949411390392,
          0.017181037225580655,
          0.3538020999045498,
          0.28555520203627105,
          0.24896595609290487,
          0.02736239261851734,
          0.005727012408526885,
          0.002068087814190264,
          0.002068087814190264,
          0.05774737511931276,
          0.015112949411390391,
          0.005090677696468342,
          0.013203945275214762,
          0.42459433662106266,
          0.37432389436843777,
          0.18167356029271398,
          0.1444479796372892,
          0.03627107858733694,
          0.011772192173083042,
          0.38450524976137446,
          0.39691377664651606,
          0.3261215399300032,
          0.4796372892141266,
          0.007636016544702513,
          0.0009545020680878141,
          0,
          0.03197581928094177,
          0.06856506522430798,
          0.10229080496341075,
          0.0003181673560292714,
          0.010976773783009862,
          0.032771237671014954,
          0.05679287305122494
         ]
        }
       ],
       "layout": {
        "template": {
         "data": {
          "bar": [
           {
            "error_x": {
             "color": "#2a3f5f"
            },
            "error_y": {
             "color": "#2a3f5f"
            },
            "marker": {
             "line": {
              "color": "#E5ECF6",
              "width": 0.5
             },
             "pattern": {
              "fillmode": "overlay",
              "size": 10,
              "solidity": 0.2
             }
            },
            "type": "bar"
           }
          ],
          "barpolar": [
           {
            "marker": {
             "line": {
              "color": "#E5ECF6",
              "width": 0.5
             },
             "pattern": {
              "fillmode": "overlay",
              "size": 10,
              "solidity": 0.2
             }
            },
            "type": "barpolar"
           }
          ],
          "carpet": [
           {
            "aaxis": {
             "endlinecolor": "#2a3f5f",
             "gridcolor": "white",
             "linecolor": "white",
             "minorgridcolor": "white",
             "startlinecolor": "#2a3f5f"
            },
            "baxis": {
             "endlinecolor": "#2a3f5f",
             "gridcolor": "white",
             "linecolor": "white",
             "minorgridcolor": "white",
             "startlinecolor": "#2a3f5f"
            },
            "type": "carpet"
           }
          ],
          "choropleth": [
           {
            "colorbar": {
             "outlinewidth": 0,
             "ticks": ""
            },
            "type": "choropleth"
           }
          ],
          "contour": [
           {
            "colorbar": {
             "outlinewidth": 0,
             "ticks": ""
            },
            "colorscale": [
             [
              0,
              "#0d0887"
             ],
             [
              0.1111111111111111,
              "#46039f"
             ],
             [
              0.2222222222222222,
              "#7201a8"
             ],
             [
              0.3333333333333333,
              "#9c179e"
             ],
             [
              0.4444444444444444,
              "#bd3786"
             ],
             [
              0.5555555555555556,
              "#d8576b"
             ],
             [
              0.6666666666666666,
              "#ed7953"
             ],
             [
              0.7777777777777778,
              "#fb9f3a"
             ],
             [
              0.8888888888888888,
              "#fdca26"
             ],
             [
              1,
              "#f0f921"
             ]
            ],
            "type": "contour"
           }
          ],
          "contourcarpet": [
           {
            "colorbar": {
             "outlinewidth": 0,
             "ticks": ""
            },
            "type": "contourcarpet"
           }
          ],
          "heatmap": [
           {
            "colorbar": {
             "outlinewidth": 0,
             "ticks": ""
            },
            "colorscale": [
             [
              0,
              "#0d0887"
             ],
             [
              0.1111111111111111,
              "#46039f"
             ],
             [
              0.2222222222222222,
              "#7201a8"
             ],
             [
              0.3333333333333333,
              "#9c179e"
             ],
             [
              0.4444444444444444,
              "#bd3786"
             ],
             [
              0.5555555555555556,
              "#d8576b"
             ],
             [
              0.6666666666666666,
              "#ed7953"
             ],
             [
              0.7777777777777778,
              "#fb9f3a"
             ],
             [
              0.8888888888888888,
              "#fdca26"
             ],
             [
              1,
              "#f0f921"
             ]
            ],
            "type": "heatmap"
           }
          ],
          "heatmapgl": [
           {
            "colorbar": {
             "outlinewidth": 0,
             "ticks": ""
            },
            "colorscale": [
             [
              0,
              "#0d0887"
             ],
             [
              0.1111111111111111,
              "#46039f"
             ],
             [
              0.2222222222222222,
              "#7201a8"
             ],
             [
              0.3333333333333333,
              "#9c179e"
             ],
             [
              0.4444444444444444,
              "#bd3786"
             ],
             [
              0.5555555555555556,
              "#d8576b"
             ],
             [
              0.6666666666666666,
              "#ed7953"
             ],
             [
              0.7777777777777778,
              "#fb9f3a"
             ],
             [
              0.8888888888888888,
              "#fdca26"
             ],
             [
              1,
              "#f0f921"
             ]
            ],
            "type": "heatmapgl"
           }
          ],
          "histogram": [
           {
            "marker": {
             "pattern": {
              "fillmode": "overlay",
              "size": 10,
              "solidity": 0.2
             }
            },
            "type": "histogram"
           }
          ],
          "histogram2d": [
           {
            "colorbar": {
             "outlinewidth": 0,
             "ticks": ""
            },
            "colorscale": [
             [
              0,
              "#0d0887"
             ],
             [
              0.1111111111111111,
              "#46039f"
             ],
             [
              0.2222222222222222,
              "#7201a8"
             ],
             [
              0.3333333333333333,
              "#9c179e"
             ],
             [
              0.4444444444444444,
              "#bd3786"
             ],
             [
              0.5555555555555556,
              "#d8576b"
             ],
             [
              0.6666666666666666,
              "#ed7953"
             ],
             [
              0.7777777777777778,
              "#fb9f3a"
             ],
             [
              0.8888888888888888,
              "#fdca26"
             ],
             [
              1,
              "#f0f921"
             ]
            ],
            "type": "histogram2d"
           }
          ],
          "histogram2dcontour": [
           {
            "colorbar": {
             "outlinewidth": 0,
             "ticks": ""
            },
            "colorscale": [
             [
              0,
              "#0d0887"
             ],
             [
              0.1111111111111111,
              "#46039f"
             ],
             [
              0.2222222222222222,
              "#7201a8"
             ],
             [
              0.3333333333333333,
              "#9c179e"
             ],
             [
              0.4444444444444444,
              "#bd3786"
             ],
             [
              0.5555555555555556,
              "#d8576b"
             ],
             [
              0.6666666666666666,
              "#ed7953"
             ],
             [
              0.7777777777777778,
              "#fb9f3a"
             ],
             [
              0.8888888888888888,
              "#fdca26"
             ],
             [
              1,
              "#f0f921"
             ]
            ],
            "type": "histogram2dcontour"
           }
          ],
          "mesh3d": [
           {
            "colorbar": {
             "outlinewidth": 0,
             "ticks": ""
            },
            "type": "mesh3d"
           }
          ],
          "parcoords": [
           {
            "line": {
             "colorbar": {
              "outlinewidth": 0,
              "ticks": ""
             }
            },
            "type": "parcoords"
           }
          ],
          "pie": [
           {
            "automargin": true,
            "type": "pie"
           }
          ],
          "scatter": [
           {
            "marker": {
             "colorbar": {
              "outlinewidth": 0,
              "ticks": ""
             }
            },
            "type": "scatter"
           }
          ],
          "scatter3d": [
           {
            "line": {
             "colorbar": {
              "outlinewidth": 0,
              "ticks": ""
             }
            },
            "marker": {
             "colorbar": {
              "outlinewidth": 0,
              "ticks": ""
             }
            },
            "type": "scatter3d"
           }
          ],
          "scattercarpet": [
           {
            "marker": {
             "colorbar": {
              "outlinewidth": 0,
              "ticks": ""
             }
            },
            "type": "scattercarpet"
           }
          ],
          "scattergeo": [
           {
            "marker": {
             "colorbar": {
              "outlinewidth": 0,
              "ticks": ""
             }
            },
            "type": "scattergeo"
           }
          ],
          "scattergl": [
           {
            "marker": {
             "colorbar": {
              "outlinewidth": 0,
              "ticks": ""
             }
            },
            "type": "scattergl"
           }
          ],
          "scattermapbox": [
           {
            "marker": {
             "colorbar": {
              "outlinewidth": 0,
              "ticks": ""
             }
            },
            "type": "scattermapbox"
           }
          ],
          "scatterpolar": [
           {
            "marker": {
             "colorbar": {
              "outlinewidth": 0,
              "ticks": ""
             }
            },
            "type": "scatterpolar"
           }
          ],
          "scatterpolargl": [
           {
            "marker": {
             "colorbar": {
              "outlinewidth": 0,
              "ticks": ""
             }
            },
            "type": "scatterpolargl"
           }
          ],
          "scatterternary": [
           {
            "marker": {
             "colorbar": {
              "outlinewidth": 0,
              "ticks": ""
             }
            },
            "type": "scatterternary"
           }
          ],
          "surface": [
           {
            "colorbar": {
             "outlinewidth": 0,
             "ticks": ""
            },
            "colorscale": [
             [
              0,
              "#0d0887"
             ],
             [
              0.1111111111111111,
              "#46039f"
             ],
             [
              0.2222222222222222,
              "#7201a8"
             ],
             [
              0.3333333333333333,
              "#9c179e"
             ],
             [
              0.4444444444444444,
              "#bd3786"
             ],
             [
              0.5555555555555556,
              "#d8576b"
             ],
             [
              0.6666666666666666,
              "#ed7953"
             ],
             [
              0.7777777777777778,
              "#fb9f3a"
             ],
             [
              0.8888888888888888,
              "#fdca26"
             ],
             [
              1,
              "#f0f921"
             ]
            ],
            "type": "surface"
           }
          ],
          "table": [
           {
            "cells": {
             "fill": {
              "color": "#EBF0F8"
             },
             "line": {
              "color": "white"
             }
            },
            "header": {
             "fill": {
              "color": "#C8D4E3"
             },
             "line": {
              "color": "white"
             }
            },
            "type": "table"
           }
          ]
         },
         "layout": {
          "annotationdefaults": {
           "arrowcolor": "#2a3f5f",
           "arrowhead": 0,
           "arrowwidth": 1
          },
          "autotypenumbers": "strict",
          "coloraxis": {
           "colorbar": {
            "outlinewidth": 0,
            "ticks": ""
           }
          },
          "colorscale": {
           "diverging": [
            [
             0,
             "#8e0152"
            ],
            [
             0.1,
             "#c51b7d"
            ],
            [
             0.2,
             "#de77ae"
            ],
            [
             0.3,
             "#f1b6da"
            ],
            [
             0.4,
             "#fde0ef"
            ],
            [
             0.5,
             "#f7f7f7"
            ],
            [
             0.6,
             "#e6f5d0"
            ],
            [
             0.7,
             "#b8e186"
            ],
            [
             0.8,
             "#7fbc41"
            ],
            [
             0.9,
             "#4d9221"
            ],
            [
             1,
             "#276419"
            ]
           ],
           "sequential": [
            [
             0,
             "#0d0887"
            ],
            [
             0.1111111111111111,
             "#46039f"
            ],
            [
             0.2222222222222222,
             "#7201a8"
            ],
            [
             0.3333333333333333,
             "#9c179e"
            ],
            [
             0.4444444444444444,
             "#bd3786"
            ],
            [
             0.5555555555555556,
             "#d8576b"
            ],
            [
             0.6666666666666666,
             "#ed7953"
            ],
            [
             0.7777777777777778,
             "#fb9f3a"
            ],
            [
             0.8888888888888888,
             "#fdca26"
            ],
            [
             1,
             "#f0f921"
            ]
           ],
           "sequentialminus": [
            [
             0,
             "#0d0887"
            ],
            [
             0.1111111111111111,
             "#46039f"
            ],
            [
             0.2222222222222222,
             "#7201a8"
            ],
            [
             0.3333333333333333,
             "#9c179e"
            ],
            [
             0.4444444444444444,
             "#bd3786"
            ],
            [
             0.5555555555555556,
             "#d8576b"
            ],
            [
             0.6666666666666666,
             "#ed7953"
            ],
            [
             0.7777777777777778,
             "#fb9f3a"
            ],
            [
             0.8888888888888888,
             "#fdca26"
            ],
            [
             1,
             "#f0f921"
            ]
           ]
          },
          "colorway": [
           "#636efa",
           "#EF553B",
           "#00cc96",
           "#ab63fa",
           "#FFA15A",
           "#19d3f3",
           "#FF6692",
           "#B6E880",
           "#FF97FF",
           "#FECB52"
          ],
          "font": {
           "color": "#2a3f5f"
          },
          "geo": {
           "bgcolor": "white",
           "lakecolor": "white",
           "landcolor": "#E5ECF6",
           "showlakes": true,
           "showland": true,
           "subunitcolor": "white"
          },
          "hoverlabel": {
           "align": "left"
          },
          "hovermode": "closest",
          "mapbox": {
           "style": "light"
          },
          "paper_bgcolor": "white",
          "plot_bgcolor": "#E5ECF6",
          "polar": {
           "angularaxis": {
            "gridcolor": "white",
            "linecolor": "white",
            "ticks": ""
           },
           "bgcolor": "#E5ECF6",
           "radialaxis": {
            "gridcolor": "white",
            "linecolor": "white",
            "ticks": ""
           }
          },
          "scene": {
           "xaxis": {
            "backgroundcolor": "#E5ECF6",
            "gridcolor": "white",
            "gridwidth": 2,
            "linecolor": "white",
            "showbackground": true,
            "ticks": "",
            "zerolinecolor": "white"
           },
           "yaxis": {
            "backgroundcolor": "#E5ECF6",
            "gridcolor": "white",
            "gridwidth": 2,
            "linecolor": "white",
            "showbackground": true,
            "ticks": "",
            "zerolinecolor": "white"
           },
           "zaxis": {
            "backgroundcolor": "#E5ECF6",
            "gridcolor": "white",
            "gridwidth": 2,
            "linecolor": "white",
            "showbackground": true,
            "ticks": "",
            "zerolinecolor": "white"
           }
          },
          "shapedefaults": {
           "line": {
            "color": "#2a3f5f"
           }
          },
          "ternary": {
           "aaxis": {
            "gridcolor": "white",
            "linecolor": "white",
            "ticks": ""
           },
           "baxis": {
            "gridcolor": "white",
            "linecolor": "white",
            "ticks": ""
           },
           "bgcolor": "#E5ECF6",
           "caxis": {
            "gridcolor": "white",
            "linecolor": "white",
            "ticks": ""
           }
          },
          "title": {
           "x": 0.05
          },
          "xaxis": {
           "automargin": true,
           "gridcolor": "white",
           "linecolor": "white",
           "ticks": "",
           "title": {
            "standoff": 15
           },
           "zerolinecolor": "white",
           "zerolinewidth": 2
          },
          "yaxis": {
           "automargin": true,
           "gridcolor": "white",
           "linecolor": "white",
           "ticks": "",
           "title": {
            "standoff": 15
           },
           "zerolinecolor": "white",
           "zerolinewidth": 2
          }
         }
        }
       }
      }
     },
     "metadata": {},
     "output_type": "display_data"
    }
   ],
   "source": [
    "fig = go.Figure(data=[go.Scatter3d(x=data['Population'], y=data['Tot Cases//1M pop'], z=data['Tot Deaths/1M pop'],\n",
    "mode='markers', marker_color=data['Cluster'], marker_size = 4)])\n",
    "fig.show()"
   ]
  },
  {
   "cell_type": "markdown",
   "metadata": {},
   "source": [
    "### DBSCAN"
   ]
  },
  {
   "cell_type": "code",
   "execution_count": 10,
   "metadata": {},
   "outputs": [],
   "source": [
    "from sklearn.cluster import DBSCAN\n",
    "data.drop('Cluster', axis=1, inplace=True)\n",
    "model3 = DBSCAN(eps=11, min_samples=5).fit(data)\n",
    "data['Cluster'] = model3.labels_"
   ]
  },
  {
   "cell_type": "code",
   "execution_count": 11,
   "metadata": {},
   "outputs": [
    {
     "data": {
      "application/vnd.plotly.v1+json": {
       "config": {
        "plotlyServerURL": "https://plot.ly"
       },
       "data": [
        {
         "marker": {
          "color": [
           0,
           0,
           0,
           0,
           0,
           0,
           0,
           0,
           0,
           0,
           0,
           0,
           0,
           0,
           0,
           0,
           0,
           0,
           0,
           0,
           0,
           0,
           0,
           0,
           0,
           0,
           0,
           0,
           0,
           0,
           0,
           0,
           0,
           0,
           0,
           0,
           0,
           0,
           0,
           0,
           0,
           0,
           0,
           0,
           0,
           0,
           0,
           0,
           0,
           0,
           0,
           0,
           0,
           0,
           0,
           0,
           0,
           0,
           0,
           0,
           0,
           0,
           0,
           0,
           0,
           0,
           0,
           0,
           0,
           0,
           0,
           0,
           0,
           0,
           0,
           0,
           0,
           0,
           0,
           0,
           0,
           0,
           0,
           0,
           0,
           0,
           0,
           0,
           0,
           0,
           0,
           0,
           0,
           0,
           0,
           0,
           0,
           0,
           0,
           0,
           0,
           0,
           0,
           0,
           0,
           0,
           0,
           0,
           0,
           0,
           0,
           0,
           0,
           0,
           0,
           0,
           0,
           0,
           0,
           0,
           0,
           0,
           0,
           0,
           0,
           0,
           0,
           0,
           0,
           0,
           0,
           0,
           0,
           0,
           0,
           0,
           0,
           0,
           0,
           0,
           0,
           0,
           0,
           0,
           0,
           0,
           0,
           0,
           0,
           0,
           0,
           0,
           0,
           0,
           0,
           0,
           0,
           0,
           0,
           0,
           0,
           0,
           0,
           0,
           0,
           0,
           0,
           0,
           0,
           0,
           0,
           0,
           0,
           0,
           0,
           0,
           0,
           0,
           0,
           0,
           0,
           0,
           0,
           0,
           0,
           0,
           0,
           0,
           0,
           0,
           0,
           0,
           0,
           0,
           0,
           0,
           0,
           0,
           0,
           0,
           0,
           0,
           0,
           0,
           0,
           0,
           0,
           0,
           0,
           0,
           0,
           0,
           0,
           0,
           0,
           0,
           0,
           0,
           0,
           0,
           0,
           0,
           0,
           0,
           0
          ],
          "size": 4
         },
         "mode": "markers",
         "type": "scatter3d",
         "x": [
          0.028111398077589635,
          0.001995028953095198,
          0.031428591713902415,
          0.00005327226866026305,
          0.024076185608240392,
          0.000010026936476927805,
          0.000068464828245974,
          0.0319045529913939,
          0.0020649528006456033,
          0.0000741702884973966,
          0.018075833238403866,
          0.006319328728340014,
          0.007154996625145921,
          0.0002772254789505475,
          0.0012534990661244717,
          0.11641632932710279,
          0.00019952853236301197,
          0.006560776969632621,
          0.00811292478149437,
          0.000284477499664667,
          0.008808199587888048,
          0.00004242967091504857,
          0.0005458642819089699,
          0.008303146160237305,
          0.0022540403129576677,
          0.001691005458148837,
          0.1495173080232873,
          0.000020688893736831774,
          0.0003084832306202386,
          0.004763406919877471,
          0.015218990762567355,
          0.008691134826611477,
          0.00039306813786688327,
          0.011896659988760785,
          0.019245854167639766,
          0.02662406615617059,
          0.0034571212300897824,
          0.00001795635901096169,
          0.000046041091079064004,
          0.011984413052211339,
          0.00012218452949292922,
          0.013480397652876758,
          1.0000000000000002,
          0.03601097671913693,
          0.0006261318815566934,
          0.0039983270717910335,
          0.000011663122411182585,
          0.0035952611778333108,
          0.002820872091813506,
          0.007860437322235998,
          0.00011426413898316087,
          0.0008489685946935395,
          0.007463896023653472,
          0.004048504829983708,
          0.0007033452674604746,
          0.00004967196483380518,
          0.007668555440570399,
          0.06553257392568912,
          0.012583088274771932,
          0.07344497456783798,
          0.004545674689992841,
          0.0010301947720391105,
          0.002523077914525968,
          0.0009221641193413566,
          0.0008200980765143364,
          0.08333386211203601,
          0.00003361511000299321,
          0.000001981487169636786,
          0.0006301657225478964,
          0.0038594416346600506,
          0.045525268004633274,
          0.0002163649203650485,
          0.000196582702910256,
          0.0016096505417337638,
          0.0017609758553627645,
          0.0027616852368015188,
          0.0585359531512681,
          0.022376497595687994,
          0.000022835736427637408,
          0.007179156595285104,
          0.00003900236509183039,
          0.00007825276346541405,
          0.0002775186723536284,
          0.01284957467687077,
          0.00955662924662654,
          0.0014232865321233035,
          0.0005505303645987597,
          0.00809062888220937,
          0.007072418216828418,
          0.005282101483253546,
          0.006681338513842145,
          0.00023922011038341167,
          0.975287412403842,
          0.19355329457880238,
          0.059662677335259456,
          0.02904200158145048,
          0.0034971497720923963,
          0.00005906665961214622,
          0.006478875963135032,
          0.04189843503859427,
          0.019120203425142167,
          0.002072494540907317,
          0.08740072001532727,
          0.0072114717885649595,
          0.013318086618656489,
          0.03879793425460449,
          0.00008465855298296355,
          0.0030433079220271823,
          0.004663139639421485,
          0.005182667928114378,
          0.001284557418489224,
          0.004704388199471042,
          0.0015084682477425702,
          0.003657860053704375,
          0.004887038657566177,
          0.00002606433771701404,
          0.0018446214320857943,
          0.00044673503651044004,
          0.00046134398837437856,
          0.02010353519189405,
          0.013891148409942248,
          0.022990688446394566,
          0.00038656994379338645,
          0.014777920889584692,
          0.0003076425575924474,
          0.00004104985551571524,
          0.00025981034662442,
          0.003378420339266579,
          0.0008855955374035367,
          0.00019698497537562056,
          0.09122563361076241,
          0.00008082202698340734,
          0.0027907183314175013,
          0.000027043270193177516,
          0.002341293141218129,
          0.00043589938647619903,
          0.0000029124804400832424,
          0.02617587418466901,
          0.02277893680611591,
          0.03824543629825804,
          0.0018207338122167719,
          0.020879998864410537,
          0.011950368573670184,
          0.00020113414836898342,
          0.003474755215311575,
          0.004697837897565244,
          0.017881955279375583,
          0.1494289685730306,
          5.836077217724056e-7,
          0.0014468045337685369,
          0.0038175198414171635,
          0.0037052212098684003,
          0.15868343631125165,
          0.000012116807937750896,
          0.0036878991768693175,
          0.0030798049425419752,
          0.006421619877002575,
          0.005061467889266391,
          0.023465852126666298,
          0.07790681122951383,
          0.026243755405193213,
          0.0070476586592322235,
          0.0019502224702561217,
          0.0006292486246993969,
          0.013209157626929863,
          0.10146659779808379,
          0.009388494641068298,
          0.03567345553050303,
          0.0000036850659003343316,
          0.00003685969102760884,
          0.00012804006030137902,
          0.000027106494363036192,
          0.000003431474449802275,
          0.00013889655346854045,
          0.000023101833757921734,
          0.0001566542079456606,
          0.02484636299186807,
          0.012168877557641648,
          0.006027109394337597,
          0.00006850998836730162,
          0.005738821075203976,
          0.004120049578504226,
          0.000029821659811472574,
          0.0037958589629151418,
          0.001444174130393977,
          0.0004971406796230448,
          0.011580427976091824,
          0.04211474993544031,
          0.007936115958785737,
          0.03250533614946385,
          0.014985950641094856,
          0.000006339786263301428,
          0.00007694728857349697,
          0.03170906107910648,
          0.00041340825651284627,
          0.0070927110910397615,
          0.006089401181383633,
          0.012675109317073493,
          0.016599079206941942,
          0.006886315441150561,
          0.04356860361676254,
          0.048707480817382166,
          0.0009459871254983257,
          0.00598709752684132,
          0.00007433147539198137,
          0.000977276836638495,
          0.008361074784791995,
          0.059699484223683666,
          0.000026977266938929446,
          0.007016327956597311,
          0.03353411080937998,
          0.04759841701991429,
          0.03006484775959294,
          0.002427530908905365,
          0.23233131044081698,
          0.023842703612349976,
          0.00022155972385992027,
          0,
          0.01965791595776595,
          0.06869264855219212,
          0.000007009545601144999,
          0.00043230464081851994,
          0.021520154700567205,
          0.013397741430196352,
          0.01058886456137856
         ],
         "y": [
          0.006301407256818982,
          0.13697587046628404,
          0.008424863692199388,
          0.7421408406186472,
          0.004098931806590186,
          0.25457196836365986,
          0.10834656303203144,
          0.282847845295136,
          0.20420093817121268,
          0.45481620895500946,
          0.2584625773129225,
          0.6139691251158348,
          0.11047720301421625,
          0.11962904164302082,
          0.44273491993937086,
          0.016721860251280467,
          0.29900220534886895,
          0.1468431903568068,
          0.4737735889718189,
          0.20061060147837395,
          0.003041513716982623,
          0.29171808888920814,
          0.05741521618884108,
          0.1084701200370671,
          0.1663192224528939,
          0.18027685389384157,
          0.2002657912317628,
          0.28913344874898533,
          0.43917331743374977,
          0.238990855344918,
          0.00135481692730969,
          0.004410697737901112,
          0.14189372660857574,
          0.011375864719446582,
          0.006186470507948595,
          0.13117587477641213,
          0.004216741974182333,
          0.46221382545417977,
          0.441370046046535,
          0.0005962343847651339,
          0.5614056764386849,
          0.2581522480909724,
          0.00014223422672710425,
          0.16867973593281949,
          0.012877226001566015,
          0.005995388162951576,
          0.1729611298282414,
          0.2329925937632447,
          0.39011831301586847,
          0.13871859892103128,
          0.353548312944033,
          0.5169395217194538,
          0.512238608690655,
          0.7196908201455388,
          0.02209515326097107,
          0.23628265819965952,
          0.07523472239183375,
          0.001308842227761535,
          0.0681962832328834,
          0.006854540360757721,
          0.03546229715459711,
          0.015387157255023097,
          0.0038345772841882953,
          0.6043848369694054,
          0.08494831438074235,
          0.005614660182318418,
          1,
          0.048309352259584645,
          0.1019417127012291,
          0.2300415927359975,
          0.5700072553822725,
          0.3638538291896241,
          0.36615256416703185,
          0.029485586213336974,
          0.006779831473991969,
          0.5959614099865669,
          0.36910787532236167,
          0.0071677430014295265,
          0.724421904070916,
          0.42787647172915155,
          0.3020279152628819,
          0.17760601119196595,
          0.4691631886327555,
          0.06451830726903102,
          0.0037943494220836595,
          0.0057008627439712085,
          0.11459050191441522,
          0.003755558269339904,
          0.0594093687817423,
          0.2213322605903439,
          0.27697888755594186,
          0.7569317634889051,
          0.044026521654801844,
          0.031032922195004562,
          0.11990345313094888,
          0.07973305940074853,
          0.41984382969247236,
          0.47569303267795443,
          0.6074464646174402,
          0.35368480033331656,
          0.004255533126926088,
          0.06200981272493481,
          0.0759789378407695,
          0.2337971510053374,
          0.09780686316061693,
          0.008308490233968121,
          0.035911987184552505,
          0.2064292743899373,
          0.04300071117113364,
          0.035337303440200564,
          0.6233364701487714,
          0.2318733971711193,
          0.02175608985180343,
          0.002005646267788258,
          0.10245605465242409,
          0.6159503473244881,
          0.5577075865437802,
          0.48419835209436307,
          0.00016378486714030188,
          0.003166507431379169,
          0.00614193251776132,
          0.18435136164129678,
          0.45635061455242915,
          0.0020473108392537733,
          0.26425538945599,
          0.00015516461097502283,
          0.5421322203624819,
          0.0173180946360456,
          0.041245052332138474,
          0.18639579906182882,
          0.06197676840963458,
          0,
          0.18386862729604117,
          0.3920636174904998,
          0.19972558851207198,
          0.53360535030566,
          0.05030206814312499,
          0.04435552809844333,
          0.00985869963435747,
          0.01595609416193151,
          0.08638646045098307,
          0.04676201627791706,
          0.6605501160142809,
          0.29838298361432974,
          0.19909487310264573,
          0.0039035393335105275,
          0.000478424217172987,
          0.0016938803364773324,
          0.006100267946295804,
          0.2114836179215126,
          0.36827458389305134,
          0.10462404907799178,
          0.00958285143706854,
          0.318275661425072,
          0.15728375728232058,
          0.24795304833808646,
          0.006547084557529435,
          0.1278355255123665,
          0.15093062848850994,
          0.0471298138743023,
          0.22703743346239774,
          0.5104096776742549,
          0.18512431127745016,
          0.5340119390547889,
          0.2161083853541848,
          0.17604718153541132,
          0.013779479480198555,
          0.3881974326003721,
          0.0004568735767597894,
          0.1480112350672021,
          0.17823241647330956,
          0.36464832946619063,
          0.4894782589955965,
          0.016342568980008187,
          0.6404232545777153,
          0.037733734654148136,
          0.030160839612950498,
          0.007034129030867701,
          0.32799500025142414,
          0.5841487856214128,
          0.0013217726120094535,
          0.26881406825806176,
          0.32085455472785135,
          0.4536654047569447,
          0.6728612785276603,
          0.022991659902160094,
          0.0022628172433857494,
          0.08822544843290926,
          0.0021608108787632804,
          0.3547106108169848,
          0.0440796799011544,
          0.6004238292614597,
          0.08686632137751694,
          0.0019366842184660254,
          0.1910363702974707,
          0.35008440667495166,
          0.5721637561329531,
          0.004374780003879116,
          0.0014482030357668796,
          0.002507057834735322,
          0.0007614559612663156,
          0.07604933659945262,
          0.024064881794737335,
          0.00614624264584396,
          0.0949794191384054,
          0.14129318209572797,
          0.12364751772540175,
          0.2490262702306637,
          0.21422054925398867,
          0.1269016644277946,
          0.004866134605300021,
          0.4449201548772691,
          0.16495578526941895,
          0.3656640829843327,
          0.351598698341319,
          0.009944902196010259,
          0.018443038065614516,
          0.05174452434144835,
          0.026434015530828192,
          0.14265805598856382,
          0.05986049552105857,
          0.000010056965526158886,
          0.0005344558822473008,
          0.023609444927338425,
          0.023224406818622628
         ],
         "z": [
          0.030225898822780782,
          0.193445752465797,
          0.024180719058224626,
          0.3141902640789055,
          0.008749602290804964,
          0.0940184537066497,
          0.21619471842188992,
          0.44368437798281896,
          0.4610244988864142,
          0.31355392936684695,
          0.03897550111358575,
          0.2795100222717149,
          0.14985682468978684,
          0.31355392936684695,
          0.1296531975819281,
          0.02768055997454661,
          0.20712694877505566,
          0.11533566656061088,
          0.41998090995863824,
          0.25437480114540245,
          0.002068087814190264,
          0.32914412981228125,
          0.0023862551702195354,
          0.2914412981228126,
          0.7706013363028953,
          0.17546929685014317,
          0.4880687241489023,
          0.32246261533566656,
          0.0762010817690105,
          0.8483932548520522,
          0.002704422526248807,
          0.00047725103404390706,
          0.11263124403436207,
          0.028316894686605153,
          0.011135857461024499,
          0.15653833916640153,
          0.003658924594336621,
          0.19694559338211898,
          0.056951956729239576,
          0.0017499204581609927,
          0.1404708876869233,
          0.4653197581928094,
          0.00047725103404390706,
          0.42857142857142855,
          0.02815781100859052,
          0.01065860642698059,
          0,
          0.2553293032134903,
          0.6111994909322304,
          0.11963092586700605,
          0.25707922367165126,
          0.12313076678332803,
          0.5881323576201082,
          0.1573337575564747,
          0.029748647788736874,
          0.1385618835507477,
          0.06299713649379574,
          0.0022271714922048997,
          0.31116767419662744,
          0.036748329621380846,
          0.10022271714922049,
          0.01956729239580019,
          0.004454342984409799,
          0.29557747375119314,
          0.18771874005727013,
          0.01002227171492205,
          0.0905186127903277,
          0,
          0.1461979000954502,
          0.09099586382437162,
          0.3460069996818326,
          0.20076360165447024,
          0.36223353483932547,
          0.020839961819917277,
          0.02290804963410754,
          0.6705377028316895,
          0.24657970092268533,
          0.007158765510658607,
          0.47709195036589247,
          0.42618517340120904,
          0.058701877187400574,
          0.30575882914412983,
          0.33503022589882275,
          0.14906140629971365,
          0.005090677696468342,
          0.013203945275214762,
          0.2459433662106268,
          0.01145402481705377,
          0.17006045179764556,
          0.17101495386573337,
          0.7527839643652561,
          0.046611517658288255,
          0.05902004454342984,
          0.08860960865415209,
          0.2599427298759147,
          0.09576837416481068,
          0.21444479796372892,
          0.15574292077632834,
          0.1796054724785237,
          0.4215717467387846,
          0.004613426662424435,
          0.15431116767419661,
          0.03579382755329303,
          0.21460388164174354,
          0.11342666242443525,
          0.016067451479478204,
          0.016862869869551385,
          0.0927457842825326,
          0.07095132039452752,
          0.014476614699331848,
          0.4853643016226535,
          0.24228444161629017,
          0.05106586064269806,
          0.008908685968819599,
          0.14508431434934776,
          0.34871142220808143,
          0.5335666560610881,
          0.2562838052815781,
          0,
          0.007636016544702513,
          0.020839961819917277,
          0.16878778237352848,
          0.08510976773783009,
          0.005408845052497614,
          0.22987591473114857,
          0,
          0.3859370028635062,
          0.03213490295895641,
          0.1207445116131085,
          0.10467706013363029,
          0.3916640152720331,
          0,
          0.4532293986636971,
          0.21619471842188992,
          0.10276805599745466,
          0.6850143175310213,
          0.06363347120585428,
          0.06776964683423481,
          0.01065860642698059,
          0.0561565383391664,
          0.24387527839643652,
          0.063315303849825,
          0.2036271078587337,
          0.17037861915367483,
          0.011135857461024499,
          0.005249761374482978,
          0.0019090041361756282,
          0.0023862551702195354,
          0,
          0.7047406936048362,
          0.07286032453070315,
          0.12678969137766466,
          0.021158129175946547,
          0.052338530066815145,
          0.1603563474387528,
          0.2931912185809736,
          0.010976773783009862,
          0.40900413617562836,
          1,
          0.08415526566974228,
          0.48584155265669743,
          0.3401209035952911,
          0.0383391664015272,
          0.12440343620744511,
          0.544543429844098,
          0.40264078905504297,
          0.017181037225580655,
          0.053452115812917596,
          0,
          0.12694877505567928,
          0.3137130130448616,
          0.25167037861915365,
          0.02768055997454661,
          0.0007954183900731785,
          0.5278396436525612,
          0.05138402799872733,
          0.04024817053770283,
          0.017817371937639197,
          0.29016862869869553,
          0.26248806872414887,
          0.0023862551702195354,
          0.034202990773146674,
          0.3129175946547884,
          0.5652243079860007,
          0.4972955774737512,
          0.02958956411072224,
          0.012885777919185491,
          0.2626471524021635,
          0.0019090041361756282,
          0.34871142220808143,
          0.12153993000318167,
          0.09608654152083997,
          0.15112949411390392,
          0.017181037225580655,
          0.3538020999045498,
          0.28555520203627105,
          0.24896595609290487,
          0.02736239261851734,
          0.005727012408526885,
          0.002068087814190264,
          0.002068087814190264,
          0.05774737511931276,
          0.015112949411390391,
          0.005090677696468342,
          0.013203945275214762,
          0.42459433662106266,
          0.37432389436843777,
          0.18167356029271398,
          0.1444479796372892,
          0.03627107858733694,
          0.011772192173083042,
          0.38450524976137446,
          0.39691377664651606,
          0.3261215399300032,
          0.4796372892141266,
          0.007636016544702513,
          0.0009545020680878141,
          0,
          0.03197581928094177,
          0.06856506522430798,
          0.10229080496341075,
          0.0003181673560292714,
          0.010976773783009862,
          0.032771237671014954,
          0.05679287305122494
         ]
        }
       ],
       "layout": {
        "template": {
         "data": {
          "bar": [
           {
            "error_x": {
             "color": "#2a3f5f"
            },
            "error_y": {
             "color": "#2a3f5f"
            },
            "marker": {
             "line": {
              "color": "#E5ECF6",
              "width": 0.5
             },
             "pattern": {
              "fillmode": "overlay",
              "size": 10,
              "solidity": 0.2
             }
            },
            "type": "bar"
           }
          ],
          "barpolar": [
           {
            "marker": {
             "line": {
              "color": "#E5ECF6",
              "width": 0.5
             },
             "pattern": {
              "fillmode": "overlay",
              "size": 10,
              "solidity": 0.2
             }
            },
            "type": "barpolar"
           }
          ],
          "carpet": [
           {
            "aaxis": {
             "endlinecolor": "#2a3f5f",
             "gridcolor": "white",
             "linecolor": "white",
             "minorgridcolor": "white",
             "startlinecolor": "#2a3f5f"
            },
            "baxis": {
             "endlinecolor": "#2a3f5f",
             "gridcolor": "white",
             "linecolor": "white",
             "minorgridcolor": "white",
             "startlinecolor": "#2a3f5f"
            },
            "type": "carpet"
           }
          ],
          "choropleth": [
           {
            "colorbar": {
             "outlinewidth": 0,
             "ticks": ""
            },
            "type": "choropleth"
           }
          ],
          "contour": [
           {
            "colorbar": {
             "outlinewidth": 0,
             "ticks": ""
            },
            "colorscale": [
             [
              0,
              "#0d0887"
             ],
             [
              0.1111111111111111,
              "#46039f"
             ],
             [
              0.2222222222222222,
              "#7201a8"
             ],
             [
              0.3333333333333333,
              "#9c179e"
             ],
             [
              0.4444444444444444,
              "#bd3786"
             ],
             [
              0.5555555555555556,
              "#d8576b"
             ],
             [
              0.6666666666666666,
              "#ed7953"
             ],
             [
              0.7777777777777778,
              "#fb9f3a"
             ],
             [
              0.8888888888888888,
              "#fdca26"
             ],
             [
              1,
              "#f0f921"
             ]
            ],
            "type": "contour"
           }
          ],
          "contourcarpet": [
           {
            "colorbar": {
             "outlinewidth": 0,
             "ticks": ""
            },
            "type": "contourcarpet"
           }
          ],
          "heatmap": [
           {
            "colorbar": {
             "outlinewidth": 0,
             "ticks": ""
            },
            "colorscale": [
             [
              0,
              "#0d0887"
             ],
             [
              0.1111111111111111,
              "#46039f"
             ],
             [
              0.2222222222222222,
              "#7201a8"
             ],
             [
              0.3333333333333333,
              "#9c179e"
             ],
             [
              0.4444444444444444,
              "#bd3786"
             ],
             [
              0.5555555555555556,
              "#d8576b"
             ],
             [
              0.6666666666666666,
              "#ed7953"
             ],
             [
              0.7777777777777778,
              "#fb9f3a"
             ],
             [
              0.8888888888888888,
              "#fdca26"
             ],
             [
              1,
              "#f0f921"
             ]
            ],
            "type": "heatmap"
           }
          ],
          "heatmapgl": [
           {
            "colorbar": {
             "outlinewidth": 0,
             "ticks": ""
            },
            "colorscale": [
             [
              0,
              "#0d0887"
             ],
             [
              0.1111111111111111,
              "#46039f"
             ],
             [
              0.2222222222222222,
              "#7201a8"
             ],
             [
              0.3333333333333333,
              "#9c179e"
             ],
             [
              0.4444444444444444,
              "#bd3786"
             ],
             [
              0.5555555555555556,
              "#d8576b"
             ],
             [
              0.6666666666666666,
              "#ed7953"
             ],
             [
              0.7777777777777778,
              "#fb9f3a"
             ],
             [
              0.8888888888888888,
              "#fdca26"
             ],
             [
              1,
              "#f0f921"
             ]
            ],
            "type": "heatmapgl"
           }
          ],
          "histogram": [
           {
            "marker": {
             "pattern": {
              "fillmode": "overlay",
              "size": 10,
              "solidity": 0.2
             }
            },
            "type": "histogram"
           }
          ],
          "histogram2d": [
           {
            "colorbar": {
             "outlinewidth": 0,
             "ticks": ""
            },
            "colorscale": [
             [
              0,
              "#0d0887"
             ],
             [
              0.1111111111111111,
              "#46039f"
             ],
             [
              0.2222222222222222,
              "#7201a8"
             ],
             [
              0.3333333333333333,
              "#9c179e"
             ],
             [
              0.4444444444444444,
              "#bd3786"
             ],
             [
              0.5555555555555556,
              "#d8576b"
             ],
             [
              0.6666666666666666,
              "#ed7953"
             ],
             [
              0.7777777777777778,
              "#fb9f3a"
             ],
             [
              0.8888888888888888,
              "#fdca26"
             ],
             [
              1,
              "#f0f921"
             ]
            ],
            "type": "histogram2d"
           }
          ],
          "histogram2dcontour": [
           {
            "colorbar": {
             "outlinewidth": 0,
             "ticks": ""
            },
            "colorscale": [
             [
              0,
              "#0d0887"
             ],
             [
              0.1111111111111111,
              "#46039f"
             ],
             [
              0.2222222222222222,
              "#7201a8"
             ],
             [
              0.3333333333333333,
              "#9c179e"
             ],
             [
              0.4444444444444444,
              "#bd3786"
             ],
             [
              0.5555555555555556,
              "#d8576b"
             ],
             [
              0.6666666666666666,
              "#ed7953"
             ],
             [
              0.7777777777777778,
              "#fb9f3a"
             ],
             [
              0.8888888888888888,
              "#fdca26"
             ],
             [
              1,
              "#f0f921"
             ]
            ],
            "type": "histogram2dcontour"
           }
          ],
          "mesh3d": [
           {
            "colorbar": {
             "outlinewidth": 0,
             "ticks": ""
            },
            "type": "mesh3d"
           }
          ],
          "parcoords": [
           {
            "line": {
             "colorbar": {
              "outlinewidth": 0,
              "ticks": ""
             }
            },
            "type": "parcoords"
           }
          ],
          "pie": [
           {
            "automargin": true,
            "type": "pie"
           }
          ],
          "scatter": [
           {
            "marker": {
             "colorbar": {
              "outlinewidth": 0,
              "ticks": ""
             }
            },
            "type": "scatter"
           }
          ],
          "scatter3d": [
           {
            "line": {
             "colorbar": {
              "outlinewidth": 0,
              "ticks": ""
             }
            },
            "marker": {
             "colorbar": {
              "outlinewidth": 0,
              "ticks": ""
             }
            },
            "type": "scatter3d"
           }
          ],
          "scattercarpet": [
           {
            "marker": {
             "colorbar": {
              "outlinewidth": 0,
              "ticks": ""
             }
            },
            "type": "scattercarpet"
           }
          ],
          "scattergeo": [
           {
            "marker": {
             "colorbar": {
              "outlinewidth": 0,
              "ticks": ""
             }
            },
            "type": "scattergeo"
           }
          ],
          "scattergl": [
           {
            "marker": {
             "colorbar": {
              "outlinewidth": 0,
              "ticks": ""
             }
            },
            "type": "scattergl"
           }
          ],
          "scattermapbox": [
           {
            "marker": {
             "colorbar": {
              "outlinewidth": 0,
              "ticks": ""
             }
            },
            "type": "scattermapbox"
           }
          ],
          "scatterpolar": [
           {
            "marker": {
             "colorbar": {
              "outlinewidth": 0,
              "ticks": ""
             }
            },
            "type": "scatterpolar"
           }
          ],
          "scatterpolargl": [
           {
            "marker": {
             "colorbar": {
              "outlinewidth": 0,
              "ticks": ""
             }
            },
            "type": "scatterpolargl"
           }
          ],
          "scatterternary": [
           {
            "marker": {
             "colorbar": {
              "outlinewidth": 0,
              "ticks": ""
             }
            },
            "type": "scatterternary"
           }
          ],
          "surface": [
           {
            "colorbar": {
             "outlinewidth": 0,
             "ticks": ""
            },
            "colorscale": [
             [
              0,
              "#0d0887"
             ],
             [
              0.1111111111111111,
              "#46039f"
             ],
             [
              0.2222222222222222,
              "#7201a8"
             ],
             [
              0.3333333333333333,
              "#9c179e"
             ],
             [
              0.4444444444444444,
              "#bd3786"
             ],
             [
              0.5555555555555556,
              "#d8576b"
             ],
             [
              0.6666666666666666,
              "#ed7953"
             ],
             [
              0.7777777777777778,
              "#fb9f3a"
             ],
             [
              0.8888888888888888,
              "#fdca26"
             ],
             [
              1,
              "#f0f921"
             ]
            ],
            "type": "surface"
           }
          ],
          "table": [
           {
            "cells": {
             "fill": {
              "color": "#EBF0F8"
             },
             "line": {
              "color": "white"
             }
            },
            "header": {
             "fill": {
              "color": "#C8D4E3"
             },
             "line": {
              "color": "white"
             }
            },
            "type": "table"
           }
          ]
         },
         "layout": {
          "annotationdefaults": {
           "arrowcolor": "#2a3f5f",
           "arrowhead": 0,
           "arrowwidth": 1
          },
          "autotypenumbers": "strict",
          "coloraxis": {
           "colorbar": {
            "outlinewidth": 0,
            "ticks": ""
           }
          },
          "colorscale": {
           "diverging": [
            [
             0,
             "#8e0152"
            ],
            [
             0.1,
             "#c51b7d"
            ],
            [
             0.2,
             "#de77ae"
            ],
            [
             0.3,
             "#f1b6da"
            ],
            [
             0.4,
             "#fde0ef"
            ],
            [
             0.5,
             "#f7f7f7"
            ],
            [
             0.6,
             "#e6f5d0"
            ],
            [
             0.7,
             "#b8e186"
            ],
            [
             0.8,
             "#7fbc41"
            ],
            [
             0.9,
             "#4d9221"
            ],
            [
             1,
             "#276419"
            ]
           ],
           "sequential": [
            [
             0,
             "#0d0887"
            ],
            [
             0.1111111111111111,
             "#46039f"
            ],
            [
             0.2222222222222222,
             "#7201a8"
            ],
            [
             0.3333333333333333,
             "#9c179e"
            ],
            [
             0.4444444444444444,
             "#bd3786"
            ],
            [
             0.5555555555555556,
             "#d8576b"
            ],
            [
             0.6666666666666666,
             "#ed7953"
            ],
            [
             0.7777777777777778,
             "#fb9f3a"
            ],
            [
             0.8888888888888888,
             "#fdca26"
            ],
            [
             1,
             "#f0f921"
            ]
           ],
           "sequentialminus": [
            [
             0,
             "#0d0887"
            ],
            [
             0.1111111111111111,
             "#46039f"
            ],
            [
             0.2222222222222222,
             "#7201a8"
            ],
            [
             0.3333333333333333,
             "#9c179e"
            ],
            [
             0.4444444444444444,
             "#bd3786"
            ],
            [
             0.5555555555555556,
             "#d8576b"
            ],
            [
             0.6666666666666666,
             "#ed7953"
            ],
            [
             0.7777777777777778,
             "#fb9f3a"
            ],
            [
             0.8888888888888888,
             "#fdca26"
            ],
            [
             1,
             "#f0f921"
            ]
           ]
          },
          "colorway": [
           "#636efa",
           "#EF553B",
           "#00cc96",
           "#ab63fa",
           "#FFA15A",
           "#19d3f3",
           "#FF6692",
           "#B6E880",
           "#FF97FF",
           "#FECB52"
          ],
          "font": {
           "color": "#2a3f5f"
          },
          "geo": {
           "bgcolor": "white",
           "lakecolor": "white",
           "landcolor": "#E5ECF6",
           "showlakes": true,
           "showland": true,
           "subunitcolor": "white"
          },
          "hoverlabel": {
           "align": "left"
          },
          "hovermode": "closest",
          "mapbox": {
           "style": "light"
          },
          "paper_bgcolor": "white",
          "plot_bgcolor": "#E5ECF6",
          "polar": {
           "angularaxis": {
            "gridcolor": "white",
            "linecolor": "white",
            "ticks": ""
           },
           "bgcolor": "#E5ECF6",
           "radialaxis": {
            "gridcolor": "white",
            "linecolor": "white",
            "ticks": ""
           }
          },
          "scene": {
           "xaxis": {
            "backgroundcolor": "#E5ECF6",
            "gridcolor": "white",
            "gridwidth": 2,
            "linecolor": "white",
            "showbackground": true,
            "ticks": "",
            "zerolinecolor": "white"
           },
           "yaxis": {
            "backgroundcolor": "#E5ECF6",
            "gridcolor": "white",
            "gridwidth": 2,
            "linecolor": "white",
            "showbackground": true,
            "ticks": "",
            "zerolinecolor": "white"
           },
           "zaxis": {
            "backgroundcolor": "#E5ECF6",
            "gridcolor": "white",
            "gridwidth": 2,
            "linecolor": "white",
            "showbackground": true,
            "ticks": "",
            "zerolinecolor": "white"
           }
          },
          "shapedefaults": {
           "line": {
            "color": "#2a3f5f"
           }
          },
          "ternary": {
           "aaxis": {
            "gridcolor": "white",
            "linecolor": "white",
            "ticks": ""
           },
           "baxis": {
            "gridcolor": "white",
            "linecolor": "white",
            "ticks": ""
           },
           "bgcolor": "#E5ECF6",
           "caxis": {
            "gridcolor": "white",
            "linecolor": "white",
            "ticks": ""
           }
          },
          "title": {
           "x": 0.05
          },
          "xaxis": {
           "automargin": true,
           "gridcolor": "white",
           "linecolor": "white",
           "ticks": "",
           "title": {
            "standoff": 15
           },
           "zerolinecolor": "white",
           "zerolinewidth": 2
          },
          "yaxis": {
           "automargin": true,
           "gridcolor": "white",
           "linecolor": "white",
           "ticks": "",
           "title": {
            "standoff": 15
           },
           "zerolinecolor": "white",
           "zerolinewidth": 2
          }
         }
        }
       }
      }
     },
     "metadata": {},
     "output_type": "display_data"
    }
   ],
   "source": [
    "fig = go.Figure(data=[go.Scatter3d(x=data['Population'], y=data['Tot Cases//1M pop'], z=data['Tot Deaths/1M pop'],\n",
    "mode='markers', marker_color=data['Cluster'], marker_size = 4)])\n",
    "fig.show()"
   ]
  }
 ],
 "metadata": {
  "kernelspec": {
   "display_name": "Python 3",
   "language": "python",
   "name": "python3"
  },
  "language_info": {
   "codemirror_mode": {
    "name": "ipython",
    "version": 3
   },
   "file_extension": ".py",
   "mimetype": "text/x-python",
   "name": "python",
   "nbconvert_exporter": "python",
   "pygments_lexer": "ipython3",
   "version": "3.9.1 (tags/v3.9.1:1e5d33e, Dec  7 2020, 17:08:21) [MSC v.1927 64 bit (AMD64)]"
  },
  "orig_nbformat": 4,
  "vscode": {
   "interpreter": {
    "hash": "209e2221d5784afa19b1a6893543d283ea1b8176a0bf30809ca866ebea5ec310"
   }
  }
 },
 "nbformat": 4,
 "nbformat_minor": 2
}
