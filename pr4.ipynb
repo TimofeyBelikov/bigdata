{
 "cells": [
  {
   "cell_type": "markdown",
   "metadata": {},
   "source": [
    "### Подключение библиотек"
   ]
  },
  {
   "cell_type": "code",
   "execution_count": 1,
   "metadata": {},
   "outputs": [],
   "source": [
    "import pandas as pd\n",
    "import matplotlib.pyplot as plt\n",
    "import scipy.stats as sts\n",
    "import statsmodels.api as sm\n",
    "import numpy as np"
   ]
  },
  {
   "cell_type": "markdown",
   "metadata": {},
   "source": [
    "### Загрузка данных"
   ]
  },
  {
   "cell_type": "code",
   "execution_count": 2,
   "metadata": {},
   "outputs": [
    {
     "data": {
      "text/html": [
       "<div>\n",
       "<style scoped>\n",
       "    .dataframe tbody tr th:only-of-type {\n",
       "        vertical-align: middle;\n",
       "    }\n",
       "\n",
       "    .dataframe tbody tr th {\n",
       "        vertical-align: top;\n",
       "    }\n",
       "\n",
       "    .dataframe thead th {\n",
       "        text-align: right;\n",
       "    }\n",
       "</style>\n",
       "<table border=\"1\" class=\"dataframe\">\n",
       "  <thead>\n",
       "    <tr style=\"text-align: right;\">\n",
       "      <th></th>\n",
       "      <th>age</th>\n",
       "      <th>sex</th>\n",
       "      <th>bmi</th>\n",
       "      <th>children</th>\n",
       "      <th>smoker</th>\n",
       "      <th>region</th>\n",
       "      <th>charges</th>\n",
       "    </tr>\n",
       "  </thead>\n",
       "  <tbody>\n",
       "    <tr>\n",
       "      <th>0</th>\n",
       "      <td>19</td>\n",
       "      <td>female</td>\n",
       "      <td>27.900</td>\n",
       "      <td>0</td>\n",
       "      <td>yes</td>\n",
       "      <td>southwest</td>\n",
       "      <td>16884.92400</td>\n",
       "    </tr>\n",
       "    <tr>\n",
       "      <th>1</th>\n",
       "      <td>18</td>\n",
       "      <td>male</td>\n",
       "      <td>33.770</td>\n",
       "      <td>1</td>\n",
       "      <td>no</td>\n",
       "      <td>southeast</td>\n",
       "      <td>1725.55230</td>\n",
       "    </tr>\n",
       "    <tr>\n",
       "      <th>2</th>\n",
       "      <td>28</td>\n",
       "      <td>male</td>\n",
       "      <td>33.000</td>\n",
       "      <td>3</td>\n",
       "      <td>no</td>\n",
       "      <td>southeast</td>\n",
       "      <td>4449.46200</td>\n",
       "    </tr>\n",
       "    <tr>\n",
       "      <th>3</th>\n",
       "      <td>33</td>\n",
       "      <td>male</td>\n",
       "      <td>22.705</td>\n",
       "      <td>0</td>\n",
       "      <td>no</td>\n",
       "      <td>northwest</td>\n",
       "      <td>21984.47061</td>\n",
       "    </tr>\n",
       "    <tr>\n",
       "      <th>4</th>\n",
       "      <td>32</td>\n",
       "      <td>male</td>\n",
       "      <td>28.880</td>\n",
       "      <td>0</td>\n",
       "      <td>no</td>\n",
       "      <td>northwest</td>\n",
       "      <td>3866.85520</td>\n",
       "    </tr>\n",
       "  </tbody>\n",
       "</table>\n",
       "</div>"
      ],
      "text/plain": [
       "   age     sex     bmi  children smoker     region      charges\n",
       "0   19  female  27.900         0    yes  southwest  16884.92400\n",
       "1   18    male  33.770         1     no  southeast   1725.55230\n",
       "2   28    male  33.000         3     no  southeast   4449.46200\n",
       "3   33    male  22.705         0     no  northwest  21984.47061\n",
       "4   32    male  28.880         0     no  northwest   3866.85520"
      ]
     },
     "execution_count": 2,
     "metadata": {},
     "output_type": "execute_result"
    }
   ],
   "source": [
    "data = pd.read_csv('insurance.csv')\n",
    "data.head()"
   ]
  },
  {
   "cell_type": "markdown",
   "metadata": {},
   "source": [
    "### Описание данных"
   ]
  },
  {
   "cell_type": "code",
   "execution_count": 3,
   "metadata": {},
   "outputs": [
    {
     "data": {
      "text/html": [
       "<div>\n",
       "<style scoped>\n",
       "    .dataframe tbody tr th:only-of-type {\n",
       "        vertical-align: middle;\n",
       "    }\n",
       "\n",
       "    .dataframe tbody tr th {\n",
       "        vertical-align: top;\n",
       "    }\n",
       "\n",
       "    .dataframe thead th {\n",
       "        text-align: right;\n",
       "    }\n",
       "</style>\n",
       "<table border=\"1\" class=\"dataframe\">\n",
       "  <thead>\n",
       "    <tr style=\"text-align: right;\">\n",
       "      <th></th>\n",
       "      <th>age</th>\n",
       "      <th>bmi</th>\n",
       "      <th>children</th>\n",
       "      <th>charges</th>\n",
       "    </tr>\n",
       "  </thead>\n",
       "  <tbody>\n",
       "    <tr>\n",
       "      <th>count</th>\n",
       "      <td>1338.000000</td>\n",
       "      <td>1338.000000</td>\n",
       "      <td>1338.000000</td>\n",
       "      <td>1338.000000</td>\n",
       "    </tr>\n",
       "    <tr>\n",
       "      <th>mean</th>\n",
       "      <td>39.207025</td>\n",
       "      <td>30.663397</td>\n",
       "      <td>1.094918</td>\n",
       "      <td>13270.422265</td>\n",
       "    </tr>\n",
       "    <tr>\n",
       "      <th>std</th>\n",
       "      <td>14.049960</td>\n",
       "      <td>6.098187</td>\n",
       "      <td>1.205493</td>\n",
       "      <td>12110.011237</td>\n",
       "    </tr>\n",
       "    <tr>\n",
       "      <th>min</th>\n",
       "      <td>18.000000</td>\n",
       "      <td>15.960000</td>\n",
       "      <td>0.000000</td>\n",
       "      <td>1121.873900</td>\n",
       "    </tr>\n",
       "    <tr>\n",
       "      <th>25%</th>\n",
       "      <td>27.000000</td>\n",
       "      <td>26.296250</td>\n",
       "      <td>0.000000</td>\n",
       "      <td>4740.287150</td>\n",
       "    </tr>\n",
       "    <tr>\n",
       "      <th>50%</th>\n",
       "      <td>39.000000</td>\n",
       "      <td>30.400000</td>\n",
       "      <td>1.000000</td>\n",
       "      <td>9382.033000</td>\n",
       "    </tr>\n",
       "    <tr>\n",
       "      <th>75%</th>\n",
       "      <td>51.000000</td>\n",
       "      <td>34.693750</td>\n",
       "      <td>2.000000</td>\n",
       "      <td>16639.912515</td>\n",
       "    </tr>\n",
       "    <tr>\n",
       "      <th>max</th>\n",
       "      <td>64.000000</td>\n",
       "      <td>53.130000</td>\n",
       "      <td>5.000000</td>\n",
       "      <td>63770.428010</td>\n",
       "    </tr>\n",
       "  </tbody>\n",
       "</table>\n",
       "</div>"
      ],
      "text/plain": [
       "               age          bmi     children       charges\n",
       "count  1338.000000  1338.000000  1338.000000   1338.000000\n",
       "mean     39.207025    30.663397     1.094918  13270.422265\n",
       "std      14.049960     6.098187     1.205493  12110.011237\n",
       "min      18.000000    15.960000     0.000000   1121.873900\n",
       "25%      27.000000    26.296250     0.000000   4740.287150\n",
       "50%      39.000000    30.400000     1.000000   9382.033000\n",
       "75%      51.000000    34.693750     2.000000  16639.912515\n",
       "max      64.000000    53.130000     5.000000  63770.428010"
      ]
     },
     "execution_count": 3,
     "metadata": {},
     "output_type": "execute_result"
    }
   ],
   "source": [
    "data.describe()"
   ]
  },
  {
   "cell_type": "markdown",
   "metadata": {},
   "source": [
    "### Гистограммы"
   ]
  },
  {
   "cell_type": "code",
   "execution_count": 4,
   "metadata": {},
   "outputs": [
    {
     "data": {
      "image/png": "[encoded data removed]",
      "text/plain": [
       "<Figure size 432x288 with 4 Axes>"
      ]
     },
     "metadata": {
      "needs_background": "light"
     },
     "output_type": "display_data"
    }
   ],
   "source": [
    "data.hist(edgecolor='black', color='green')\n",
    "plt.show()"
   ]
  },
  {
   "cell_type": "markdown",
   "metadata": {},
   "source": [
    "### Меры центральной тенденции и меры разброса для столбцов charges и charges"
   ]
  },
  {
   "cell_type": "code",
   "execution_count": 5,
   "metadata": {},
   "outputs": [
    {
     "name": "stdout",
     "output_type": "stream",
     "text": [
      "Для индека массы тела:\n",
      "Среднее: 30.66, мода: 32.3, медиана: 30.4\n",
      "Стандартное отклонение: 6.1, размах: 37.17,\n",
      "межквартальный размах Q1-Q3: 8.38 (scipy: 8.38)\n",
      "\n",
      "Для расходов:\n",
      "Среднее: 13270.42, мода: 1639.56, медиана: 9382.03\n",
      "Стандартное отклонение: 12110.01, размах: 62648.55,\n",
      "межквартальный размах Q1-Q3: 11879.8 (scipy: 11879.8)\n"
     ]
    }
   ],
   "source": [
    "# bmi\n",
    "bmi_mean = np.mean(data['bmi'])\n",
    "bmi_moda = sts.mode(data['bmi'])[0][0]\n",
    "bmi_med = np.median(data['bmi'])\n",
    "\n",
    "bmi_std = data['bmi'].std()\n",
    "bmi_raz = data['bmi'].max() - data['bmi'].min()\n",
    "bmi_q1 = np.percentile(data['bmi'], 25, interpolation='midpoint')\n",
    "bmi_q3 = np.percentile(data['bmi'], 75, interpolation='midpoint')\n",
    "bmi_iqr1 = bmi_q3 - bmi_q1\n",
    "bmi_iqr2 = sts.iqr(data['bmi'], interpolation='midpoint')\n",
    "\n",
    "# charges\n",
    "charges_mean = np.mean(data['charges'])\n",
    "charges_moda = sts.mode(data['charges'])[0][0]\n",
    "charges_med = np.median(data['charges'])\n",
    "\n",
    "charges_std = data['charges'].std()\n",
    "charges_raz = data['charges'].max() - data['charges'].min()\n",
    "charges_q1 = np.percentile(data['charges'], 25, interpolation='midpoint')\n",
    "charges_q3 = np.percentile(data['charges'], 75, interpolation='midpoint')\n",
    "charges_iqr1 = charges_q3 - charges_q1\n",
    "charges_iqr2 = sts.iqr(data['charges'], interpolation='midpoint')\n",
    "\n",
    "print('Для индека массы тела:')\n",
    "print(f'Среднее: {round(bmi_mean, 2)}, мода: {round(bmi_moda, 2)}, медиана: {round(bmi_med, 2)}')\n",
    "print(f'Стандартное отклонение: {round(bmi_std, 2)}, размах: {round(bmi_raz, 2)},\\nмежквартальный размах Q1-Q3: {round(bmi_iqr1, 2)} (scipy: {round(bmi_iqr2, 2)})')\n",
    "\n",
    "print('\\nДля расходов:')\n",
    "print(f'Среднее: {round(charges_mean, 2)}, мода: {round(charges_moda, 2)}, медиана: {round(charges_med, 2)}')\n",
    "print(f'Стандартное отклонение: {round(charges_std, 2)}, размах: {round(charges_raz, 2)},\\nмежквартальный размах Q1-Q3: {round(charges_iqr1, 2)} (scipy: {round(charges_iqr2, 2)})')"
   ]
  },
  {
   "cell_type": "code",
   "execution_count": 6,
   "metadata": {},
   "outputs": [
    {
     "data": {
      "image/png": "[encoded data removed]",
      "text/plain": [
       "<Figure size 864x576 with 2 Axes>"
      ]
     },
     "metadata": {
      "needs_background": "light"
     },
     "output_type": "display_data"
    }
   ],
   "source": [
    "fig, ax = plt.subplots(1, 2, figsize=(12, 8))\n",
    "labels = ['Среднее', 'Медиана', 'Мода']\n",
    "LINEWIDTH = 4\n",
    "ax[0].hist(data['bmi'], edgecolor='black')\n",
    "ax[0].vlines(bmi_mean, 0, 350, colors='red', label=labels[0], linewidth=LINEWIDTH)\n",
    "ax[0].vlines(bmi_med, 0, 350, colors='orange', label=labels[1], linewidth=LINEWIDTH)\n",
    "ax[0].vlines(bmi_moda, 0, 350, colors='purple', label=labels[1], linewidth=LINEWIDTH)\n",
    "ax[0].set_title('BMI')\n",
    "ax[0].legend(labels)\n",
    "\n",
    "ax[1].hist(data['charges'], edgecolor='black')\n",
    "ax[1].vlines(charges_mean, 0, 550, colors='red', label=labels[0], linewidth=LINEWIDTH)\n",
    "ax[1].vlines(charges_med, 0, 550, colors='orange', label=labels[1], linewidth=LINEWIDTH)\n",
    "ax[1].vlines(charges_moda, 0, 550, colors='purple', label=labels[1], linewidth=LINEWIDTH)\n",
    "ax[1].set_title('Charges')\n",
    "ax[1].legend(labels)\n",
    "plt.show()"
   ]
  },
  {
   "cell_type": "markdown",
   "metadata": {},
   "source": [
    "### Построение боксплотов"
   ]
  },
  {
   "cell_type": "code",
   "execution_count": 7,
   "metadata": {},
   "outputs": [
    {
     "data": {
      "image/png": "[encoded data removed]",
      "text/plain": [
       "<Figure size 576x576 with 4 Axes>"
      ]
     },
     "metadata": {
      "needs_background": "light"
     },
     "output_type": "display_data"
    }
   ],
   "source": [
    "fig, ax = plt.subplots(2, 2, figsize=(8, 8))\n",
    "ax[0][0].boxplot(data['age'])\n",
    "ax[0][0].set_title('Age')\n",
    "ax[0][0].grid()\n",
    "ax[0][1].boxplot(data['bmi'])\n",
    "ax[0][1].set_title('BMI')\n",
    "ax[0][1].grid()\n",
    "ax[1][0].boxplot(data['children'])\n",
    "ax[1][0].set_title('Children')\n",
    "ax[1][0].grid()\n",
    "ax[1][1].boxplot(data['charges'])\n",
    "ax[1][1].set_title('Charges')\n",
    "ax[1][1].grid()\n",
    "plt.show()"
   ]
  },
  {
   "cell_type": "markdown",
   "metadata": {},
   "source": [
    "### Центральная предельная теорема"
   ]
  },
  {
   "cell_type": "code",
   "execution_count": 8,
   "metadata": {},
   "outputs": [
    {
     "data": {
      "image/png": "[encoded data removed]",
      "text/plain": [
       "<Figure size 720x432 with 2 Axes>"
      ]
     },
     "metadata": {
      "needs_background": "light"
     },
     "output_type": "display_data"
    }
   ],
   "source": [
    "stds = list()  # массив std\n",
    "means = list()  # массив mean\n",
    "for i in range(300):\n",
    "    v = np.random.choice(a=data['bmi'], size=np.random.randint(10, 100, 1))\n",
    "    stds.append(v.std())\n",
    "    means.append(v.mean())\n",
    "\n",
    "result_mean = np.asarray(means).mean()\n",
    "result_std = np.asarray(stds).std()\n",
    "sample = sts.norm(loc=result_mean, scale=result_std).rvs(size=1000)\n",
    "\n",
    "fig = plt.figure(figsize=(10, 6))\n",
    "\n",
    "ax = fig.add_subplot(121)\n",
    "ax.set_title('BMI')\n",
    "ax.hist(data['bmi'], edgecolor='black')\n",
    "ax.axvline(x=data['bmi'].mean(), color='red', linewidth=2, label='MEAN')\n",
    "ax.axvline(x=data['bmi'].std(), color='blue', linewidth=2, label='STD')\n",
    "ax.legend()\n",
    "\n",
    "ax = fig.add_subplot(122)\n",
    "ax.set_title('RANDOM')\n",
    "ax.hist(sample, edgecolor='black')\n",
    "ax.axvline(x=result_mean, color='red', linewidth=2, label='MEAN')\n",
    "ax.axvline(x=result_std, color='blue', linewidth=2, label='STD')\n",
    "ax.legend()\n",
    "\n",
    "plt.show()"
   ]
  },
  {
   "cell_type": "markdown",
   "metadata": {},
   "source": [
    "### Доверительные интервалы"
   ]
  },
  {
   "cell_type": "code",
   "execution_count": 9,
   "metadata": {},
   "outputs": [
    {
     "name": "stdout",
     "output_type": "stream",
     "text": [
      "BMI\n",
      "Доверительный интервал: 0.95\n",
      "\tc использованием scipy:  (30.336642971534822, 30.990150750438275)\n",
      "\t(30.336636967245095 <= 30.66339686098655 <= 30.990156754728)\n",
      "Доверительный интервал: 0.99\n",
      "\tc использованием scipy:  (30.233969458168303, 31.092824263804793)\n",
      "\t(30.233274143714635 <= 30.66339686098655 <= 31.093519578258462)\n",
      "CHARGES\n",
      "Доверительный интервал: 0.95\n",
      "\tc использованием scipy:  (12621.54197822916, 13919.302552053354)\n",
      "\t(12621.530054682518 <= 13270.422265141257 <= 13919.314475599995)\n",
      "Доверительный интервал: 0.99\n",
      "\tc использованием scipy:  (12417.649014863586, 14123.195515418927)\n",
      "\t(12416.268233006796 <= 13270.422265141257 <= 14124.576297275717)\n"
     ]
    }
   ],
   "source": [
    "def get_interval(d, title):\n",
    "    mean = d.mean()\n",
    "    se = d.std() / (len(d))**0.5\n",
    "    i_l_95 = mean - 1.96 * se\n",
    "    i_r_95 = mean + 1.96 * se\n",
    "    i_l_99 = mean - 2.58 * se\n",
    "    i_r_99 = mean + 2.58 * se\n",
    "\n",
    "    print(title)\n",
    "    print(\"Доверительный интервал: 0.95\\n\\tc использованием scipy: \", sts.norm.interval(alpha=0.95, loc=mean, scale=sts.sem(d)))\n",
    "    print(f\"\\t({i_l_95} <= {mean} <= {i_r_95})\")\n",
    "    print(\"Доверительный интервал: 0.99\\n\\tc использованием scipy: \", sts.norm.interval(alpha=0.99, loc=mean, scale=sts.sem(d)))\n",
    "    print(f\"\\t({i_l_99} <= {mean} <= {i_r_99})\")\n",
    "\n",
    "\n",
    "\n",
    "get_interval(data['bmi'], 'BMI')\n",
    "get_interval(data['charges'], 'CHARGES')"
   ]
  },
  {
   "cell_type": "markdown",
   "metadata": {},
   "source": [
    "### Проверка распределения признаков на нормальность"
   ]
  },
  {
   "cell_type": "code",
   "execution_count": 10,
   "metadata": {},
   "outputs": [
    {
     "name": "stdout",
     "output_type": "stream",
     "text": [
      "KS-тесты\n",
      "BMI\n",
      "KstestResult(statistic=0.02613962682509635, pvalue=0.31453976932347394)\n",
      "p-значение больше 0.05, следовательно нулевая гипотеза принимается и выборка имеет нормальное распредееление\n",
      "\n",
      "CHARGES\n",
      "KstestResult(statistic=0.18846204110424236, pvalue=4.39305730768502e-42)\n",
      "p-значение намного меньше 0.05, следовательно нулевая гипотеза отвергается и выборка НЕ имеет нормального распредееления\n"
     ]
    },
    {
     "data": {
      "image/png": "[encoded data removed]",
      "text/plain": [
       "<Figure size 720x432 with 2 Axes>"
      ]
     },
     "metadata": {
      "needs_background": "light"
     },
     "output_type": "display_data"
    }
   ],
   "source": [
    "print(\"KS-тесты\")\n",
    "print(\"BMI\")\n",
    "bmi_ks_test = sts.kstest((data['bmi'] - np.mean(data['bmi'])) / np.std(data['bmi']), 'norm')\n",
    "print(bmi_ks_test)\n",
    "print(\"p-значение больше 0.05, следовательно нулевая гипотеза принимается и выборка имеет нормальное распредееление\")\n",
    "print(\"\\nCHARGES\")\n",
    "charges_ks_test = sts.kstest((data['charges'] - np.mean(data['charges'])) / np.std(data['charges']), 'norm')\n",
    "print(charges_ks_test)\n",
    "print(\"p-значение намного меньше 0.05, следовательно нулевая гипотеза отвергается и выборка НЕ имеет нормального распредееления\")\n",
    "\n",
    "\n",
    "# Вывод результатов на графики\n",
    "fig = plt.figure(figsize=(10, 6))\n",
    "\n",
    "ax = fig.add_subplot(121)\n",
    "ax.set_title(f'QQ-plot for BMI')\n",
    "sm.qqplot(data['bmi'], line='s', ax=ax)\n",
    "\n",
    "ax = fig.add_subplot(122)\n",
    "ax.set_title(f'QQ-plot for CHARGES')\n",
    "sm.qqplot(data['charges'], line='s', ax=ax)\n",
    "\n",
    "plt.show()"
   ]
  }
 ],
 "metadata": {
  "kernelspec": {
   "display_name": "Python 3 (ipykernel)",
   "language": "python",
   "name": "python3"
  },
  "language_info": {
   "codemirror_mode": {
    "name": "ipython",
    "version": 3
   },
   "file_extension": ".py",
   "mimetype": "text/x-python",
   "name": "python",
   "nbconvert_exporter": "python",
   "pygments_lexer": "ipython3",
   "version": "3.9.12"
  },
  "vscode": {
   "interpreter": {
    "hash": "209e2221d5784afa19b1a6893543d283ea1b8176a0bf30809ca866ebea5ec310"
   }
  }
 },
 "nbformat": 4,
 "nbformat_minor": 2
}
