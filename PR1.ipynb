{
 "cells": [
  {
   "cell_type": "markdown",
   "metadata": {},
   "source": [
    "### Задание 2 (Вычисление площади фигуры)\n",
    "\n",
    "Ввод параметров осуществляется следующим способом: для расчёта площади круга вводится один параметр - радиус, а остальные параметры <= 0; для расчёта площади прямоугольника вводится два положительных параметра; для треугольника соответственно три положительных параметра."
   ]
  },
  {
   "cell_type": "markdown",
   "metadata": {},
   "source": [
    "Произведём подключения модуля math"
   ]
  },
  {
   "cell_type": "code",
   "execution_count": 2,
   "metadata": {},
   "outputs": [],
   "source": [
    "import math"
   ]
  },
  {
   "cell_type": "markdown",
   "metadata": {},
   "source": [
    "Определим словарь фигур"
   ]
  },
  {
   "cell_type": "code",
   "execution_count": 3,
   "metadata": {},
   "outputs": [],
   "source": [
    "shapes = {'triangle':0, 'rectangle':0, 'circle':0}"
   ]
  },
  {
   "cell_type": "markdown",
   "metadata": {
    "tags": []
   },
   "source": [
    "##### Функция расчёта площади"
   ]
  },
  {
   "cell_type": "code",
   "execution_count": 4,
   "metadata": {},
   "outputs": [],
   "source": [
    "def square(a, b=None, c=None):\n",
    "    if a!=None and b!=None and c!=None:\n",
    "        p = (a+b+c)/2\n",
    "        shapes['triangle']=math.sqrt(p*(p-a)*(p-b)*(p-c))\n",
    "    elif a!=None and b!=None:\n",
    "        shapes['rectangle']=a*b\n",
    "    elif a!=None:\n",
    "        shapes['circle']=math.pi*a*a"
   ]
  },
  {
   "cell_type": "markdown",
   "metadata": {},
   "source": [
    "##### Реализация ввода данных с клавиатуры"
   ]
  },
  {
   "cell_type": "code",
   "execution_count": 5,
   "metadata": {
    "scrolled": true
   },
   "outputs": [
    {
     "name": "stdin",
     "output_type": "stream",
     "text": [
      "Введите сторону 'a' треугольника:  3\n",
      "Введите сторону 'b' треугольника:  4\n",
      "Введите сторону 'c' треугольника:  5\n",
      "Введите сторону 'a' прямоугольника:  4\n",
      "Введите сторону 'b' прямоугольника:  5\n",
      "Введите радиус 'r' круга:  10\n"
     ]
    }
   ],
   "source": [
    "while True:\n",
    "    a = float(input(\"Введите сторону 'a' треугольника: \"))\n",
    "    if a <= 0:\n",
    "        print(\"Ошибка, повторите ввод\")\n",
    "    else:\n",
    "        break\n",
    "while True:\n",
    "    b = float(input(\"Введите сторону 'b' треугольника: \"))\n",
    "    if b <= 0:\n",
    "        print(\"Ошибка, повторите ввод\")\n",
    "    else:\n",
    "        break\n",
    "while True:\n",
    "    c = float(input(\"Введите сторону 'c' треугольника: \"))\n",
    "    if c <= 0 or a+b <= c:\n",
    "        print(\"Ошибка, повторите ввод\")\n",
    "    else:\n",
    "        break\n",
    "square(a, b, c)\n",
    "\n",
    "while True:\n",
    "    a = float(input(\"Введите сторону 'a' прямоугольника: \"))\n",
    "    if a <= 0:\n",
    "        print(\"Ошибка, повторите ввод\")\n",
    "    else:\n",
    "        break\n",
    "while True:\n",
    "    b = float(input(\"Введите сторону 'b' прямоугольника: \"))\n",
    "    if b <= 0:\n",
    "        print(\"Ошибка, повторите ввод\")\n",
    "    else:\n",
    "        break\n",
    "square(a, b, c=None)\n",
    "\n",
    "while True:\n",
    "    a = float(input(\"Введите радиус 'r' круга: \"))\n",
    "    if a <= 0:\n",
    "        print(\"Ошибка, повторите ввод\")\n",
    "    else:\n",
    "        break\n",
    "square(a, b=None, c=None)"
   ]
  },
  {
   "cell_type": "markdown",
   "metadata": {},
   "source": [
    "##### Вывод результата вычислений"
   ]
  },
  {
   "cell_type": "code",
   "execution_count": 6,
   "metadata": {},
   "outputs": [
    {
     "name": "stdout",
     "output_type": "stream",
     "text": [
      "{'triangle': 6.0, 'rectangle': 20.0, 'circle': 314.1592653589793}\n"
     ]
    }
   ],
   "source": [
    "print(shapes)"
   ]
  },
  {
   "cell_type": "markdown",
   "metadata": {},
   "source": [
    "### Задание 3"
   ]
  },
  {
   "cell_type": "code",
   "execution_count": 8,
   "metadata": {},
   "outputs": [],
   "source": [
    "def oper(a, b, operation):\n",
    "    if operation==\"+\":\n",
    "        return a+b\n",
    "    elif operation==\"-\":\n",
    "        return a-b\n",
    "    elif operation==\"/\":\n",
    "        return a/b\n",
    "    elif operation==\"%\":\n",
    "        return a%b\n",
    "    elif operation==\"//\":\n",
    "        return a//b\n",
    "    elif operation==\"abs\":\n",
    "        return abs(a)\n",
    "    elif operation==\"pow\":\n",
    "        return pow(a, b)\n",
    "    elif operation==\"**\":\n",
    "        return a**b\n",
    "    else:\n",
    "        return None"
   ]
  },
  {
   "cell_type": "code",
   "execution_count": 9,
   "metadata": {},
   "outputs": [
    {
     "name": "stdout",
     "output_type": "stream",
     "text": [
      "5 + 2 = 7\n",
      "10 - 8 = 2\n",
      "23 / 4 = 5.75\n",
      "26 % 11 = 4\n",
      "19 // 7 = 2\n",
      "abs(-15) = 15\n",
      "2 pow 10 = 1024\n",
      "3 ** 2 = 9\n"
     ]
    }
   ],
   "source": [
    "print('5 + 2 =', oper(5, 2, '+'))\n",
    "print('10 - 8 =', oper(10, 8, '-'))\n",
    "print('23 / 4 =', oper(23, 4, '/'))\n",
    "print('26 % 11 =', oper(26, 11, '%'))\n",
    "print('19 // 7 =', oper(19, 7, '//'))\n",
    "print('abs(-15) =', oper(-15, None, 'abs'))\n",
    "print('2 pow 10 =', oper(2, 10, 'pow'))\n",
    "print('3 ** 2 =', oper(3, 2, '**'))"
   ]
  },
  {
   "cell_type": "markdown",
   "metadata": {},
   "source": [
    "### Задание 4"
   ]
  },
  {
   "cell_type": "code",
   "execution_count": 22,
   "metadata": {},
   "outputs": [],
   "source": [
    "def Geron(a, b, c):\n",
    "    p = (a+b+c)/2\n",
    "    shapes['triangle']=math.sqrt(p*(p-a)*(p-b)*(p-c))"
   ]
  },
  {
   "cell_type": "code",
   "execution_count": 23,
   "metadata": {},
   "outputs": [
    {
     "name": "stdout",
     "output_type": "stream",
     "text": [
      "a=2; b=3; c=4;\n",
      "2.9047375096555625\n"
     ]
    }
   ],
   "source": [
    "Geron(2, 3, 4)\n",
    "print('a=2; b=3; c=4;')\n",
    "print(shapes['triangle'])"
   ]
  }
 ],
 "metadata": {
  "kernelspec": {
   "display_name": "Python 3 (ipykernel)",
   "language": "python",
   "name": "python3"
  },
  "language_info": {
   "codemirror_mode": {
    "name": "ipython",
    "version": 3
   },
   "file_extension": ".py",
   "mimetype": "text/x-python",
   "name": "python",
   "nbconvert_exporter": "python",
   "pygments_lexer": "ipython3",
   "version": "3.9.1"
  }
 },
 "nbformat": 4,
 "nbformat_minor": 4
}
