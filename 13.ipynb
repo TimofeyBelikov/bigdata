{
  "cells": [
    {
      "cell_type": "code",
      "execution_count": 1,
      "metadata": {
        "colab": {
          "base_uri": "https://localhost:8080/"
        },
        "id": "YBbjUofzVOqv",
        "outputId": "1d50042f-9159-40cd-8ea9-e879b488719d"
      },
      "outputs": [
        {
          "name": "stdout",
          "output_type": "stream",
          "text": [
            "Collecting deap\n",
            "  Downloading deap-1.3.3-cp39-cp39-win_amd64.whl (114 kB)\n",
            "Requirement already satisfied: numpy in c:\\users\\ven\\appdata\\local\\programs\\python\\python39\\lib\\site-packages (from deap) (1.19.5)\n",
            "Installing collected packages: deap\n",
            "Successfully installed deap-1.3.3\n",
            "Note: you may need to restart the kernel to use updated packages.\n"
          ]
        },
        {
          "name": "stderr",
          "output_type": "stream",
          "text": [
            "WARNING: You are using pip version 21.2.4; however, version 22.3.1 is available.\n",
            "You should consider upgrading via the 'c:\\Users\\Ven\\AppData\\Local\\Programs\\Python\\Python39\\python.exe -m pip install --upgrade pip' command.\n"
          ]
        }
      ],
      "source": [
        "%pip install deap"
      ]
    },
    {
      "attachments": {},
      "cell_type": "markdown",
      "metadata": {},
      "source": [
        "### Задача\n",
        "Задача состоит в том, чтобы при помощи генетического алгоритма реализовать выделение признаков для классификации набора данных. Реализуемый в ходе выполнения данной работы класс выполняет обучение классификации на основе выделенных признаков, перечисляющихся ему извне. Генетический алгоритм совершает подбор признаков, необходимых для более успешной работы классификатора"
      ]
    },
    {
      "attachments": {},
      "cell_type": "markdown",
      "metadata": {},
      "source": [
        "### Подключение библиотек"
      ]
    },
    {
      "cell_type": "code",
      "execution_count": 2,
      "metadata": {},
      "outputs": [],
      "source": [
        "import deap\n",
        "from deap import tools\n",
        "from deap import algorithms\n",
        "from deap import base\n",
        "from deap import creator\n",
        "\n",
        "import random\n",
        "import numpy as np\n",
        "import matplotlib.pyplot as plt\n",
        "import seaborn as sns\n",
        "from sklearn import model_selection\n",
        "from sklearn.tree import DecisionTreeClassifier\n",
        "import pandas as pd\n",
        "\n",
        "import warnings\n",
        "warnings.filterwarnings('ignore')"
      ]
    },
    {
      "attachments": {},
      "cell_type": "markdown",
      "metadata": {},
      "source": [
        "### Определение констант"
      ]
    },
    {
      "cell_type": "code",
      "execution_count": 3,
      "metadata": {},
      "outputs": [],
      "source": [
        "POPULATION_SIZE = 50\n",
        "P_CROSSOVER = 0.9 # вероятность скрещивания\n",
        "P_MUTATION = 0.3 # вероятность мутации\n",
        "MAX_GENERATIONS = 50\n",
        "HALL_OF_FAME_SIZE = 5\n",
        "FEATURE_PENALTY_FACTOR = 0.001\n",
        "# установление сида для генератора случайных чисел\n",
        "RANDOM_SEED = 42\n",
        "random.seed(RANDOM_SEED)"
      ]
    },
    {
      "attachments": {},
      "cell_type": "markdown",
      "metadata": {},
      "source": [
        "### Модификация функции eaSimple"
      ]
    },
    {
      "cell_type": "code",
      "execution_count": 4,
      "metadata": {
        "id": "MNcZ6oqRVCMu"
      },
      "outputs": [],
      "source": [
        "def eaSimpleWithElitism(population, toolbox, cxpb, mutpb, ngen, stats=None,\n",
        "             halloffame=None, verbose=__debug__):\n",
        "    \"\"\"This algorithm is similar to DEAP eaSimple() algorithm, with the modification that\n",
        "    halloffame is used to implement an elitism mechanism. The individuals contained in the\n",
        "    halloffame are directly injected into the next generation and are not subject to the\n",
        "    genetic operators of selection, crossover and mutation.\n",
        "    \"\"\"\n",
        "    logbook = tools.Logbook()\n",
        "    logbook.header = ['gen', 'nevals'] + (stats.fields if stats else [])\n",
        "\n",
        "    # Evaluate the individuals with an invalid fitness\n",
        "    invalid_ind = [ind for ind in population if not ind.fitness.valid]\n",
        "    fitnesses = toolbox.map(toolbox.evaluate, invalid_ind)\n",
        "    for ind, fit in zip(invalid_ind, fitnesses):\n",
        "        ind.fitness.values = fit\n",
        "\n",
        "    if halloffame is None:\n",
        "        raise ValueError(\"halloffame parameter must not be empty!\")\n",
        "\n",
        "    halloffame.update(population)\n",
        "    hof_size = len(halloffame.items) if halloffame.items else 0\n",
        "\n",
        "    record = stats.compile(population) if stats else {}\n",
        "    logbook.record(gen=0, nevals=len(invalid_ind), **record)\n",
        "    if verbose:\n",
        "        print(logbook.stream)\n",
        "\n",
        "    # Begin the generational process\n",
        "    for gen in range(1, ngen + 1):\n",
        "\n",
        "        # Select the next generation individuals\n",
        "        offspring = toolbox.select(population, len(population) - hof_size)\n",
        "\n",
        "        # Vary the pool of individuals\n",
        "        offspring = algorithms.varAnd(offspring, toolbox, cxpb, mutpb)\n",
        "\n",
        "        # Evaluate the individuals with an invalid fitness\n",
        "        invalid_ind = [ind for ind in offspring if not ind.fitness.valid]\n",
        "        fitnesses = toolbox.map(toolbox.evaluate, invalid_ind)\n",
        "        for ind, fit in zip(invalid_ind, fitnesses):\n",
        "            ind.fitness.values = fit\n",
        "\n",
        "        # add the best back to population:\n",
        "        offspring.extend(halloffame.items)\n",
        "\n",
        "        # Update the hall of fame with the generated individuals\n",
        "        halloffame.update(offspring)\n",
        "\n",
        "        # Replace the current population by the offspring\n",
        "        population[:] = offspring\n",
        "\n",
        "        # Append the current generation statistics to the logbook\n",
        "        record = stats.compile(population) if stats else {}\n",
        "        logbook.record(gen=gen, nevals=len(invalid_ind), **record)\n",
        "        if verbose:\n",
        "            print(logbook.stream)\n",
        "\n",
        "    return population, logbook"
      ]
    },
    {
      "attachments": {},
      "cell_type": "markdown",
      "metadata": {},
      "source": [
        "### Описание класса классификатора\n",
        "Вместо того чтобы разбивать данные на обучающий и тестовый наборы,\n",
        "в данном случае воспользовались k-групповым перекрестным\n",
        "контролем.\n",
        "\n",
        "Метод getMeanAccuracy() вычисляет качество классификатора для\n",
        "множества отобранных признаков. Для оценки классификатора применяется метрика, называемая верностью, – доля правильно классифицированных примеров. Например, верность 0.85 означает, что 85% всех примеров были классифицированы правильно. Поскольку мы обучаем и оцениваем классификатор k раз, то используем верность, усредненную по этим k вычислениям."
      ]
    },
    {
      "cell_type": "code",
      "execution_count": 5,
      "metadata": {},
      "outputs": [],
      "source": [
        "class Medic:\n",
        "    NUM_FOLDS = 3\n",
        "\n",
        "    def __init__(self, randomSeed):\n",
        "        self.randomSeed = randomSeed\n",
        "        self.data = pd.read_csv('breast-cancer-wisconsin1.data', header=None, usecols=range(1,11))\n",
        "        self.X = self.data.iloc[:, 0:9]\n",
        "        self.y = self.data.iloc[:, 9]\n",
        "        # k-групповой перекрёстный контроль для формирования обучающих и тестовых выборок\n",
        "        self.kfold = model_selection.KFold(n_splits=self.NUM_FOLDS,\n",
        "                                            random_state=self.randomSeed,\n",
        "                                            shuffle=True)\n",
        "        # Классификатор дерево решений\n",
        "        self.classifier = DecisionTreeClassifier(random_state=self.randomSeed)\n",
        "\n",
        "    def __len__(self):\n",
        "        return self.X.shape[1]\n",
        "\n",
        "    def getMeanAccuracy(self, zeroOneList):\n",
        "        zeroIndices = [i for i, n in enumerate(zeroOneList) if n == 0]\n",
        "        currentX = self.X.drop(self.X.columns[zeroIndices], axis=1)\n",
        "        cv_results = model_selection.cross_val_score(self.classifier,\n",
        "                                                    currentX, self.y,\n",
        "                                                    cv=self.kfold,\n",
        "                                                    scoring='accuracy')\n",
        "        return cv_results.mean()"
      ]
    },
    {
      "attachments": {},
      "cell_type": "markdown",
      "metadata": {},
      "source": [
        "### Функция test\n",
        "Cоздает экземпляр класса Medic и оценивает классификатор, обученный на всех 9 признаках, присутствующих в представлении, содержащем все единицы\n",
        "\n",
        "Результат выполнения метода test показывает, что при обучении\n",
        "классификатора методом 3-группового перекрестного контроля на всех\n",
        "9 признаках достигается верность 94%\n",
        "\n",
        "Далее мы попробуем улучшить верность классификатора, выделив\n",
        "только часть признаков"
      ]
    },
    {
      "cell_type": "code",
      "execution_count": 6,
      "metadata": {},
      "outputs": [
        {
          "name": "stdout",
          "output_type": "stream",
          "text": [
            "-- Выделены все признаки: [1, 1, 1, 1, 1, 1, 1, 1, 1] , верность = 0.9427753934191703\n"
          ]
        }
      ],
      "source": [
        "def test():\n",
        "    medic = Medic(randomSeed=RANDOM_SEED)\n",
        "\n",
        "    allOnes = [1] * len(medic)\n",
        "    print(\"-- Выделены все признаки:\", allOnes, \", верность =\", medic.getMeanAccuracy(allOnes))\n",
        "\n",
        "test()"
      ]
    },
    {
      "attachments": {},
      "cell_type": "markdown",
      "metadata": {},
      "source": [
        "### Решение с помощью генетического алгоритма\n",
        "Поскольку мы стремимся максимизировать верность модели\n",
        "классификации, определим единственную цель – максимизирующую\n",
        "стратегию приспособления"
      ]
    },
    {
      "cell_type": "code",
      "execution_count": 7,
      "metadata": {},
      "outputs": [],
      "source": [
        "medic = Medic(RANDOM_SEED)\n",
        "toolbox = base.Toolbox()\n",
        "\n",
        "creator.create(\"FitnessMax\", base.Fitness, weights=(1.0,))\n",
        "creator.create(\"Individual\", list, fitness=creator.FitnessMax)\n",
        "# Создание начальной популяции индивидуумов\n",
        "toolbox.register(\"zeroOrOne\", random.randint, 0, 1)\n",
        "toolbox.register(\"individualCreator\", tools.initRepeat, creator.Individual,\n",
        "                toolbox.zeroOrOne, len(medic))\n",
        "toolbox.register(\"populationCreator\", tools.initRepeat, list, toolbox.individualCreator)\n"
      ]
    },
    {
      "attachments": {},
      "cell_type": "markdown",
      "metadata": {},
      "source": [
        "### Функция расчёта приспособленности\n",
        "Здесь вызывается метод getMeanAccuracy() объекта класса Medic для вычисления приспособленности индивидуума с некоторыми изменениями:\n",
        "1. мы запретили алгоритму не выбирать ни одного признака (создавать\n",
        "индивидуума, представленного только нулями), поскольку в таком\n",
        "случае классификатор возбудил бы исключение;\n",
        "2. мы добавили небольшой штраф за каждый отобранный признак,\n",
        "чтобы побудить алгоритм выделять меньше признаков. Штраф\n",
        "совсем невелик (0.001), поэтому будет использоваться, только чтобы\n",
        "разрешить неоднозначность в случае, когда качество двух\n",
        "классификаторов одинаково – тогда предпочтение будет отдано\n",
        "тому, который обошелся меньшим числом признаков."
      ]
    },
    {
      "cell_type": "code",
      "execution_count": 8,
      "metadata": {},
      "outputs": [],
      "source": [
        "def medicClassificationAccuracy(individual):\n",
        "    numFeaturesUsed = sum(individual)\n",
        "    if numFeaturesUsed == 0:\n",
        "        return 0.0,\n",
        "    else:\n",
        "        accuracy = medic.getMeanAccuracy(individual)\n",
        "        return accuracy - FEATURE_PENALTY_FACTOR * numFeaturesUsed,\n",
        "\n",
        "toolbox.register(\"evaluate\", medicClassificationAccuracy)"
      ]
    },
    {
      "attachments": {},
      "cell_type": "markdown",
      "metadata": {},
      "source": [
        "### Основной алгоритм: отбор, скрещивание и мутации"
      ]
    },
    {
      "cell_type": "code",
      "execution_count": 9,
      "metadata": {},
      "outputs": [],
      "source": [
        "toolbox.register(\"select\", tools.selTournament, tournsize=2)\n",
        "toolbox.register(\"mate\", tools.cxTwoPoint)\n",
        "toolbox.register(\"mutate\", tools.mutFlipBit, indpb=1.0/len(medic))"
      ]
    },
    {
      "attachments": {},
      "cell_type": "markdown",
      "metadata": {},
      "source": [
        "### Финальная функция main()"
      ]
    },
    {
      "cell_type": "code",
      "execution_count": 10,
      "metadata": {},
      "outputs": [
        {
          "name": "stdout",
          "output_type": "stream",
          "text": [
            "gen\tnevals\tmax     \tavg     \n",
            "0  \t50    \t0.940637\t0.906309\n",
            "1  \t41    \t0.954082\t0.930244\n",
            "2  \t40    \t0.954082\t0.936376\n",
            "3  \t43    \t0.955082\t0.93944 \n",
            "4  \t42    \t0.955082\t0.940378\n",
            "5  \t38    \t0.955082\t0.942275\n",
            "6  \t43    \t0.955082\t0.9441  \n",
            "7  \t41    \t0.955082\t0.946334\n",
            "8  \t44    \t0.955082\t0.946729\n",
            "9  \t44    \t0.955082\t0.945332\n",
            "10 \t42    \t0.955082\t0.94809 \n",
            "11 \t42    \t0.955082\t0.949758\n",
            "12 \t41    \t0.955082\t0.95001 \n",
            "13 \t39    \t0.955082\t0.949237\n",
            "14 \t44    \t0.955082\t0.948602\n",
            "15 \t44    \t0.955082\t0.948708\n",
            "16 \t43    \t0.955082\t0.95055 \n",
            "17 \t41    \t0.955082\t0.950885\n",
            "18 \t42    \t0.955082\t0.932839\n",
            "19 \t44    \t0.955082\t0.948962\n",
            "20 \t44    \t0.955082\t0.951039\n",
            "21 \t38    \t0.955082\t0.949692\n",
            "22 \t43    \t0.955082\t0.94829 \n",
            "23 \t45    \t0.955082\t0.947981\n",
            "24 \t41    \t0.955082\t0.945675\n",
            "25 \t39    \t0.955082\t0.949995\n",
            "26 \t44    \t0.955082\t0.948974\n",
            "27 \t43    \t0.955082\t0.949394\n",
            "28 \t41    \t0.955082\t0.949983\n",
            "29 \t42    \t0.955082\t0.946759\n",
            "30 \t45    \t0.955082\t0.946902\n",
            "31 \t41    \t0.955082\t0.948768\n",
            "32 \t39    \t0.955082\t0.948574\n",
            "33 \t41    \t0.955082\t0.931998\n",
            "34 \t40    \t0.955082\t0.948404\n",
            "35 \t39    \t0.955082\t0.950636\n",
            "36 \t40    \t0.955082\t0.950373\n",
            "37 \t42    \t0.955082\t0.948204\n",
            "38 \t41    \t0.955082\t0.950808\n",
            "39 \t37    \t0.955082\t0.949809\n",
            "40 \t43    \t0.955082\t0.950911\n",
            "41 \t41    \t0.955082\t0.95144 \n",
            "42 \t35    \t0.955082\t0.951938\n",
            "43 \t44    \t0.955082\t0.948599\n",
            "44 \t37    \t0.955082\t0.948871\n",
            "45 \t42    \t0.955082\t0.951143\n",
            "46 \t41    \t0.955082\t0.951403\n",
            "47 \t43    \t0.955082\t0.931557\n",
            "48 \t40    \t0.955082\t0.947617\n",
            "49 \t39    \t0.955082\t0.947474\n",
            "50 \t42    \t0.955082\t0.948616\n",
            "- Лучшие решения:\n",
            "0 : [0, 0, 1, 0, 0, 1, 0, 0, 0] , приспособленность = 0.9550815450643777 , верность = 0.9570815450643777 , признаков = 2\n",
            "1 : [0, 1, 1, 0, 0, 1, 0, 0, 0] , приспособленность = 0.9540815450643777 , верность = 0.9570815450643777 , признаков = 3\n",
            "2 : [0, 1, 1, 0, 0, 1, 0, 1, 1] , приспособленность = 0.950650929899857 , верность = 0.955650929899857 , признаков = 5\n",
            "3 : [1, 1, 0, 0, 0, 1, 0, 0, 1] , приспособленность = 0.9502203147353362 , верность = 0.9542203147353362 , признаков = 4\n",
            "4 : [0, 1, 1, 0, 1, 1, 1, 0, 0] , приспособленность = 0.9492203147353362 , верность = 0.9542203147353362 , признаков = 5\n"
          ]
        },
        {
          "data": {
            "image/png": "[encoded data removed]",
            "text/plain": [
              "<Figure size 432x288 with 1 Axes>"
            ]
          },
          "metadata": {},
          "output_type": "display_data"
        }
      ],
      "source": [
        "def main():\n",
        "    # создание начальной популяции\n",
        "    population = toolbox.populationCreator(n=POPULATION_SIZE)\n",
        "    # Определение статистик\n",
        "    stats = tools.Statistics(lambda ind: ind.fitness.values)\n",
        "    stats.register(\"max\", np.max)\n",
        "    stats.register(\"avg\", np.mean)\n",
        "    # Определение зала славы\n",
        "    hof = tools.HallOfFame(HALL_OF_FAME_SIZE)\n",
        "    # Выполнение основного алгоритма\n",
        "    population, logbook = eaSimpleWithElitism(population, toolbox,\n",
        "            cxpb=P_CROSSOVER, mutpb=P_MUTATION, ngen=MAX_GENERATIONS,\n",
        "            stats=stats, halloffame=hof, verbose=True)\n",
        "\n",
        "    # Вывод лучших решений\n",
        "    print(\"- Лучшие решения:\")\n",
        "    for i in range(HALL_OF_FAME_SIZE):\n",
        "        print(i, \":\", hof.items[i], \", приспособленность =\", hof.items[i].fitness.values[0],\n",
        "                \", верность =\", medic.getMeanAccuracy(hof.items[i]),\n",
        "                \", признаков =\", sum(hof.items[i]))\n",
        "\n",
        "    # извлечение статистик\n",
        "    maxFitnessValues, meanFitnessValues = logbook.select(\"max\", \"avg\")\n",
        "    # отображение статистик на графики\n",
        "    sns.set_style(\"whitegrid\")\n",
        "    labels = ['max', 'avg']\n",
        "    plt.plot(maxFitnessValues, color='red', label=labels[0])\n",
        "    plt.plot(meanFitnessValues, color='green', label=labels[1])\n",
        "    plt.xlabel('Generation')\n",
        "    plt.ylabel('Max / Average Fitness')\n",
        "    plt.title('Max and Average fitness over Generations')\n",
        "    plt.legend(labels)\n",
        "    plt.show()\n",
        "\n",
        "if __name__==\"__main__\":\n",
        "    main()"
      ]
    }
  ],
  "metadata": {
    "colab": {
      "provenance": []
    },
    "kernelspec": {
      "display_name": "Python 3",
      "language": "python",
      "name": "python3"
    },
    "language_info": {
      "codemirror_mode": {
        "name": "ipython",
        "version": 3
      },
      "file_extension": ".py",
      "mimetype": "text/x-python",
      "name": "python",
      "nbconvert_exporter": "python",
      "pygments_lexer": "ipython3",
      "version": "3.9.1"
    },
    "vscode": {
      "interpreter": {
        "hash": "209e2221d5784afa19b1a6893543d283ea1b8176a0bf30809ca866ebea5ec310"
      }
    }
  },
  "nbformat": 4,
  "nbformat_minor": 0
}
